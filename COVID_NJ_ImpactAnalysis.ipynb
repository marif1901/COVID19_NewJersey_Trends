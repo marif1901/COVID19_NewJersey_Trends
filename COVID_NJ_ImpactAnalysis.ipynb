{
  "nbformat": 4,
  "nbformat_minor": 0,
  "metadata": {
    "kernelspec": {
      "display_name": "Python 3",
      "language": "python",
      "name": "python3"
    },
    "language_info": {
      "codemirror_mode": {
        "name": "ipython",
        "version": 3
      },
      "file_extension": ".py",
      "mimetype": "text/x-python",
      "name": "python",
      "nbconvert_exporter": "python",
      "pygments_lexer": "ipython3",
      "version": "3.7.3"
    },
    "colab": {
      "name": "COVID_NJ_ImpactAnalysis.ipynb",
      "provenance": [],
      "collapsed_sections": [
        "H6ey6MR-rDtW",
        "YRsp45nWrDvO",
        "qxgW-yXprDvP",
        "Qlzl8snmrDvf",
        "k12RJGk_rDvv",
        "yOlMoV8IrDwC",
        "Qe7f2O4TrDxH",
        "NaAmF1KZrDxJ",
        "xp83Y3sfrDxa",
        "5Q9h560VrDxp",
        "ZFBPou-MrDxs",
        "mOT2sRBErDxv",
        "T8L6nSOrrDxy",
        "Ifd2csUyrDx2",
        "xNfcfn8qrDx2",
        "43zTivwOrDyB",
        "b9-ltziqrDyN",
        "KxuDIz_arDye",
        "EVtoGJOtrDyv",
        "P7dqF243rDy-",
        "PUbEsLaSrDy_",
        "W5ULCgWXrDzA",
        "n30iAnqMrDzP",
        "FxXe0BlHrDzQ",
        "czkPPFYVrDzU",
        "ec-UyHCxrDzX",
        "TaiJbKIlrDzj",
        "7wdVm8PlrDzm",
        "bwopce1BrDz5",
        "AaGAB_a8rD0E",
        "EOvgT0ncrD0X",
        "QO38BBNprD0i"
      ]
    }
  },
  "cells": [
    {
      "cell_type": "markdown",
      "metadata": {
        "id": "lkCXogLYrDpq",
        "colab_type": "text"
      },
      "source": [
        "# Project - COVID-19 New Jersey Trends & Impact on RideSharing Platform"
      ]
    },
    {
      "cell_type": "code",
      "metadata": {
        "id": "g7Mz8glVrDpv",
        "colab_type": "code",
        "colab": {}
      },
      "source": [
        "import pandas as pd\n",
        "# import the seaborn module\n",
        "import seaborn as sns\n",
        "import matplotlib.pyplot as plt\n",
        "import datetime  as dt\n",
        "import numpy as np\n",
        "from matplotlib.ticker import PercentFormatter\n",
        "import os\n",
        "import missingno as msno # visualize the distribution of NaN values\n",
        "import warnings\n",
        "warnings.filterwarnings('ignore')\n",
        "%matplotlib inline\n",
        "import plotly\n",
        "from datetime import datetime\n",
        "import dexplot as dxp\n",
        "import plotly.graph_objects as go\n",
        "from plotly.subplots import make_subplots\n",
        "import plotly.express as px\n",
        "\n",
        "# import plotly.graph_objects\n",
        "# from plotly.subplots import make_subplots"
      ],
      "execution_count": 0,
      "outputs": []
    },
    {
      "cell_type": "markdown",
      "metadata": {
        "id": "RyZrtIgQrDp_",
        "colab_type": "text"
      },
      "source": [
        "#### COVID-19 Dataset --> We have taken New Jersey covid19 data\n",
        "source --> \n",
        "https://covidtracking.com/api/v1/states/daily.csv\n",
        "\n",
        "#### X Dataset --> We are trying to observe the impact of COVID-19 on the stock prices of major Ridesharing Players (Uber + Lyft)\n",
        "Source -->\n",
        "https://finance.yahoo.com/quote/UBER/history?p=UBER\n",
        "\n",
        "https://finance.yahoo.com/quote/LYFT/history?p=LYFT\n",
        "\n",
        "Project Git Repository --> https://github.com/marif1901/COVID19_NJ_ImpactAnalysis"
      ]
    },
    {
      "cell_type": "markdown",
      "metadata": {
        "id": "XemmbJt3rDqC",
        "colab_type": "text"
      },
      "source": [
        "## Part 1: Data Pre Processing (10%)"
      ]
    },
    {
      "cell_type": "code",
      "metadata": {
        "id": "nTvVXQJqrDqE",
        "colab_type": "code",
        "colab": {}
      },
      "source": [
        "cov_url= 'https://raw.githubusercontent.com/marif1901/COVID19_NJ_ImpactAnalysis/master/COVID19_NJ_Data.csv'\n",
        "x_uber_url= \"https://raw.githubusercontent.com/marif1901/COVID19_NJ_ImpactAnalysis/master/UBER_1Y.csv\"\n",
        "x_lyft_url= \"https://raw.githubusercontent.com/marif1901/COVID19_NJ_ImpactAnalysis/master/LYFT_1Y.csv\"\n"
      ],
      "execution_count": 0,
      "outputs": []
    },
    {
      "cell_type": "markdown",
      "metadata": {
        "id": "RM_-TcKprDqN",
        "colab_type": "text"
      },
      "source": [
        "###### Reading Datasets"
      ]
    },
    {
      "cell_type": "code",
      "metadata": {
        "id": "Rq44owc2rDqQ",
        "colab_type": "code",
        "colab": {},
        "outputId": "011dc768-4d11-405b-89cf-46cf75321649"
      },
      "source": [
        "covid = pd.read_csv(cov_url,sep=',')# use sep=\",\" for coma separation. \n",
        "xuber = pd.read_csv(x_uber_url,sep=',')\n",
        "xlyft = pd.read_csv(x_lyft_url,sep=',')\n",
        "print(covid.columns)\n",
        "print(xuber.columns)\n",
        "print(xlyft.columns)"
      ],
      "execution_count": 0,
      "outputs": [
        {
          "output_type": "stream",
          "text": [
            "Index(['date', 'state', 'positive', 'negative', 'pending',\n",
            "       'hospitalizedCurrently', 'hospitalizedCumulative', 'inIcuCurrently',\n",
            "       'inIcuCumulative', 'onVentilatorCurrently', 'onVentilatorCumulative',\n",
            "       'recovered', 'dataQualityGrade', 'lastUpdateEt', 'hash', 'dateChecked',\n",
            "       'death', 'hospitalized', 'total', 'totalTestResults', 'posNeg', 'fips',\n",
            "       'deathIncrease', 'hospitalizedIncrease', 'negativeIncrease',\n",
            "       'positiveIncrease', 'totalTestResultsIncrease', 'dailypositvecases',\n",
            "       'dailynegativecases', 'dailytestingdone', 'dailydeath'],\n",
            "      dtype='object')\n",
            "Index(['Date', 'Open', 'High', 'Low', 'Close', 'Adj Close', 'Volume'], dtype='object')\n",
            "Index(['Date', 'Open', 'High', 'Low', 'Close', 'Adj Close', 'Volume'], dtype='object')\n"
          ],
          "name": "stdout"
        }
      ]
    },
    {
      "cell_type": "markdown",
      "metadata": {
        "id": "BGcjp231rDqh",
        "colab_type": "text"
      },
      "source": [
        "###### Preprocessing on COVID Data"
      ]
    },
    {
      "cell_type": "code",
      "metadata": {
        "id": "eFzuqu1-rDqj",
        "colab_type": "code",
        "colab": {}
      },
      "source": [
        "covid_cols= ['date','dailypositvecases','dailynegativecases','dailydeath','dailytestingdone',\n",
        "             'positiveIncrease','negativeIncrease', 'deathIncrease','totalTestResultsIncrease',\n",
        "            'positive', 'negative', 'death','totalTestResults']\n",
        "covid_sel= covid[covid_cols].copy()\n",
        "\n",
        "covid_cols= ['date','dailypositvecases','dailynegativecases','dailydeath','dailytestingdone',\n",
        "             'positiveIncrease','negativeIncrease', 'deathIncrease','totalTestResultsIncrease',\n",
        "            'cumpositive', 'cumnegative', 'cumdeath','cumtotalTestResults']\n",
        "\n",
        "covid_sel.columns=  covid_cols"
      ],
      "execution_count": 0,
      "outputs": []
    },
    {
      "cell_type": "markdown",
      "metadata": {
        "id": "6nc4Z9LdrDqt",
        "colab_type": "text"
      },
      "source": [
        "###### Dropping rows where data is NA"
      ]
    },
    {
      "cell_type": "code",
      "metadata": {
        "id": "wsDCj9jVrDqv",
        "colab_type": "code",
        "colab": {},
        "outputId": "3cd091e5-dfa7-48d9-d566-a7c70891da87"
      },
      "source": [
        "count_nulls= sum(pd.isna(covid_sel['date']))\n",
        "print('\\033[1m' + ' Total nulls found :' + str(count_nulls))\n",
        "index = covid_sel[pd.isna(covid_sel['date'])].index\n",
        "covid_sel.drop(index , inplace=True)"
      ],
      "execution_count": 0,
      "outputs": [
        {
          "output_type": "stream",
          "text": [
            "\u001b[1m Total nulls found :0\n"
          ],
          "name": "stdout"
        }
      ]
    },
    {
      "cell_type": "markdown",
      "metadata": {
        "id": "aE1fFEpvrDq-",
        "colab_type": "text"
      },
      "source": [
        "###### Converting date to proper %Y%m%d format"
      ]
    },
    {
      "cell_type": "code",
      "metadata": {
        "id": "grO7BX5trDq_",
        "colab_type": "code",
        "colab": {}
      },
      "source": [
        "covid_sel['date']= covid_sel['date'].astype(str)\n",
        "covid_sel['date'] = pd.to_datetime(covid_sel['date'], format='%Y%m%d').dt.strftime(\"%Y-%m-%d\");\n"
      ],
      "execution_count": 0,
      "outputs": []
    },
    {
      "cell_type": "code",
      "metadata": {
        "id": "wgisjTJsrDrK",
        "colab_type": "code",
        "colab": {},
        "outputId": "c9ac9e59-f551-4d21-9bac-448fdbb96bda"
      },
      "source": [
        "int_col= ['dailypositvecases','dailynegativecases','dailydeath','dailytestingdone',\n",
        "             'positiveIncrease','negativeIncrease', 'deathIncrease','totalTestResultsIncrease',\n",
        "            'cumpositive', 'cumnegative', 'cumdeath','cumtotalTestResults']\n",
        "covid_sel[int_col] = covid_sel[int_col].convert_objects(convert_numeric=True)\n",
        "covid_sel.head()"
      ],
      "execution_count": 0,
      "outputs": [
        {
          "output_type": "execute_result",
          "data": {
            "text/html": [
              "<div>\n",
              "<style scoped>\n",
              "    .dataframe tbody tr th:only-of-type {\n",
              "        vertical-align: middle;\n",
              "    }\n",
              "\n",
              "    .dataframe tbody tr th {\n",
              "        vertical-align: top;\n",
              "    }\n",
              "\n",
              "    .dataframe thead th {\n",
              "        text-align: right;\n",
              "    }\n",
              "</style>\n",
              "<table border=\"1\" class=\"dataframe\">\n",
              "  <thead>\n",
              "    <tr style=\"text-align: right;\">\n",
              "      <th></th>\n",
              "      <th>date</th>\n",
              "      <th>dailypositvecases</th>\n",
              "      <th>dailynegativecases</th>\n",
              "      <th>dailydeath</th>\n",
              "      <th>dailytestingdone</th>\n",
              "      <th>positiveIncrease</th>\n",
              "      <th>negativeIncrease</th>\n",
              "      <th>deathIncrease</th>\n",
              "      <th>totalTestResultsIncrease</th>\n",
              "      <th>cumpositive</th>\n",
              "      <th>cumnegative</th>\n",
              "      <th>cumdeath</th>\n",
              "      <th>cumtotalTestResults</th>\n",
              "    </tr>\n",
              "  </thead>\n",
              "  <tbody>\n",
              "    <tr>\n",
              "      <th>0</th>\n",
              "      <td>2020-05-07</td>\n",
              "      <td>68760</td>\n",
              "      <td>90580</td>\n",
              "      <td>4341</td>\n",
              "      <td>159340</td>\n",
              "      <td>1745</td>\n",
              "      <td>1993</td>\n",
              "      <td>252</td>\n",
              "      <td>3738</td>\n",
              "      <td>133635</td>\n",
              "      <td>159023</td>\n",
              "      <td>8801</td>\n",
              "      <td>292658</td>\n",
              "    </tr>\n",
              "    <tr>\n",
              "      <th>1</th>\n",
              "      <td>2020-05-06</td>\n",
              "      <td>64875</td>\n",
              "      <td>68443</td>\n",
              "      <td>4460</td>\n",
              "      <td>133318</td>\n",
              "      <td>1297</td>\n",
              "      <td>0</td>\n",
              "      <td>305</td>\n",
              "      <td>1297</td>\n",
              "      <td>131890</td>\n",
              "      <td>157030</td>\n",
              "      <td>8549</td>\n",
              "      <td>288920</td>\n",
              "    </tr>\n",
              "    <tr>\n",
              "      <th>2</th>\n",
              "      <td>2020-05-05</td>\n",
              "      <td>67015</td>\n",
              "      <td>88587</td>\n",
              "      <td>4089</td>\n",
              "      <td>155602</td>\n",
              "      <td>2324</td>\n",
              "      <td>8079</td>\n",
              "      <td>334</td>\n",
              "      <td>10403</td>\n",
              "      <td>130593</td>\n",
              "      <td>157030</td>\n",
              "      <td>8244</td>\n",
              "      <td>287623</td>\n",
              "    </tr>\n",
              "    <tr>\n",
              "      <th>3</th>\n",
              "      <td>2020-05-04</td>\n",
              "      <td>63578</td>\n",
              "      <td>68443</td>\n",
              "      <td>4155</td>\n",
              "      <td>132021</td>\n",
              "      <td>1525</td>\n",
              "      <td>629</td>\n",
              "      <td>39</td>\n",
              "      <td>2154</td>\n",
              "      <td>128269</td>\n",
              "      <td>148951</td>\n",
              "      <td>7910</td>\n",
              "      <td>277220</td>\n",
              "    </tr>\n",
              "    <tr>\n",
              "      <th>4</th>\n",
              "      <td>2020-05-03</td>\n",
              "      <td>64691</td>\n",
              "      <td>80508</td>\n",
              "      <td>3755</td>\n",
              "      <td>145199</td>\n",
              "      <td>3027</td>\n",
              "      <td>9727</td>\n",
              "      <td>129</td>\n",
              "      <td>12754</td>\n",
              "      <td>126744</td>\n",
              "      <td>148322</td>\n",
              "      <td>7871</td>\n",
              "      <td>275066</td>\n",
              "    </tr>\n",
              "  </tbody>\n",
              "</table>\n",
              "</div>"
            ],
            "text/plain": [
              "         date  dailypositvecases  dailynegativecases  dailydeath  \\\n",
              "0  2020-05-07              68760               90580        4341   \n",
              "1  2020-05-06              64875               68443        4460   \n",
              "2  2020-05-05              67015               88587        4089   \n",
              "3  2020-05-04              63578               68443        4155   \n",
              "4  2020-05-03              64691               80508        3755   \n",
              "\n",
              "   dailytestingdone  positiveIncrease  negativeIncrease  deathIncrease  \\\n",
              "0            159340              1745              1993            252   \n",
              "1            133318              1297                 0            305   \n",
              "2            155602              2324              8079            334   \n",
              "3            132021              1525               629             39   \n",
              "4            145199              3027              9727            129   \n",
              "\n",
              "   totalTestResultsIncrease  cumpositive  cumnegative  cumdeath  \\\n",
              "0                      3738       133635       159023      8801   \n",
              "1                      1297       131890       157030      8549   \n",
              "2                     10403       130593       157030      8244   \n",
              "3                      2154       128269       148951      7910   \n",
              "4                     12754       126744       148322      7871   \n",
              "\n",
              "   cumtotalTestResults  \n",
              "0               292658  \n",
              "1               288920  \n",
              "2               287623  \n",
              "3               277220  \n",
              "4               275066  "
            ]
          },
          "metadata": {
            "tags": []
          },
          "execution_count": 74
        }
      ]
    },
    {
      "cell_type": "code",
      "metadata": {
        "id": "gACACTMIrDrV",
        "colab_type": "code",
        "colab": {},
        "outputId": "9c59fbd2-4468-49b4-8354-6e9adbfc0a9b"
      },
      "source": [
        "print('\\033[1m' +'Min Date observed for COVID : ' + str(covid_sel['date'].min()))\n",
        "print('\\033[1m' + 'Max Date observed for COVID: ' + str(covid_sel['date'].max()))"
      ],
      "execution_count": 0,
      "outputs": [
        {
          "output_type": "stream",
          "text": [
            "\u001b[1mMin Date observed for COVID : 2020-03-05\n",
            "\u001b[1mMax Date observed for COVID: 2020-05-07\n"
          ],
          "name": "stdout"
        }
      ]
    },
    {
      "cell_type": "markdown",
      "metadata": {
        "id": "0AZSEuuDrDrd",
        "colab_type": "text"
      },
      "source": [
        "###### Preprocessing on X Data"
      ]
    },
    {
      "cell_type": "code",
      "metadata": {
        "id": "bDxsOiQerDrf",
        "colab_type": "code",
        "colab": {}
      },
      "source": [
        "x_cols= ['Date','Close','Volume']\n",
        "\n",
        "xuber_sel= xuber[x_cols].copy()\n",
        "xlyft_sel= xlyft[x_cols].copy()\n",
        "\n",
        "x_cols= ['date','UberClosingPrice','UberVolume']\n",
        "xuber_sel.columns= x_cols\n",
        "\n",
        "x_cols= ['date','LyftClosingPrice','LyftVolume']\n",
        "xlyft_sel.columns=x_cols"
      ],
      "execution_count": 0,
      "outputs": []
    },
    {
      "cell_type": "code",
      "metadata": {
        "id": "xOc-xS6crDrp",
        "colab_type": "code",
        "colab": {}
      },
      "source": [
        "xuber_sel.date= pd.to_datetime(xuber_sel['date']).dt.strftime('%Y-%m-%d')\n",
        "xlyft_sel.date=pd.to_datetime(xlyft_sel['date']).dt.strftime('%Y-%m-%d')"
      ],
      "execution_count": 0,
      "outputs": []
    },
    {
      "cell_type": "code",
      "metadata": {
        "id": "2-jdxKosrDr0",
        "colab_type": "code",
        "colab": {},
        "outputId": "0d74e2d1-9e7f-4e84-f41d-12b784f8a0cd"
      },
      "source": [
        "x_sel= pd.merge(xuber_sel, xlyft_sel,on='date')\n",
        "print('\\033[1m' + 'Min Date observed for X : ' + str(x_sel['date'].min()))\n",
        "print('\\033[1m' + 'Max Date observed for X: ' + str(x_sel['date'].max()))"
      ],
      "execution_count": 0,
      "outputs": [
        {
          "output_type": "stream",
          "text": [
            "\u001b[1mMin Date observed for X : 2019-05-10\n",
            "\u001b[1mMax Date observed for X: 2020-05-07\n"
          ],
          "name": "stdout"
        }
      ]
    },
    {
      "cell_type": "code",
      "metadata": {
        "id": "bcdNFonnrDsB",
        "colab_type": "code",
        "colab": {},
        "outputId": "2bf42e87-96e6-4d79-f6af-826ec9f5046e"
      },
      "source": [
        "x_sel.head()"
      ],
      "execution_count": 0,
      "outputs": [
        {
          "output_type": "execute_result",
          "data": {
            "text/html": [
              "<div>\n",
              "<style scoped>\n",
              "    .dataframe tbody tr th:only-of-type {\n",
              "        vertical-align: middle;\n",
              "    }\n",
              "\n",
              "    .dataframe tbody tr th {\n",
              "        vertical-align: top;\n",
              "    }\n",
              "\n",
              "    .dataframe thead th {\n",
              "        text-align: right;\n",
              "    }\n",
              "</style>\n",
              "<table border=\"1\" class=\"dataframe\">\n",
              "  <thead>\n",
              "    <tr style=\"text-align: right;\">\n",
              "      <th></th>\n",
              "      <th>date</th>\n",
              "      <th>UberClosingPrice</th>\n",
              "      <th>UberVolume</th>\n",
              "      <th>LyftClosingPrice</th>\n",
              "      <th>LyftVolume</th>\n",
              "    </tr>\n",
              "  </thead>\n",
              "  <tbody>\n",
              "    <tr>\n",
              "      <th>0</th>\n",
              "      <td>2019-05-10</td>\n",
              "      <td>41.570000</td>\n",
              "      <td>186322500</td>\n",
              "      <td>51.090000</td>\n",
              "      <td>23111200</td>\n",
              "    </tr>\n",
              "    <tr>\n",
              "      <th>1</th>\n",
              "      <td>2019-05-13</td>\n",
              "      <td>37.099998</td>\n",
              "      <td>79442400</td>\n",
              "      <td>48.150002</td>\n",
              "      <td>10007400</td>\n",
              "    </tr>\n",
              "    <tr>\n",
              "      <th>2</th>\n",
              "      <td>2019-05-14</td>\n",
              "      <td>39.959999</td>\n",
              "      <td>46661100</td>\n",
              "      <td>50.520000</td>\n",
              "      <td>7007400</td>\n",
              "    </tr>\n",
              "    <tr>\n",
              "      <th>3</th>\n",
              "      <td>2019-05-15</td>\n",
              "      <td>41.290001</td>\n",
              "      <td>36086100</td>\n",
              "      <td>54.040001</td>\n",
              "      <td>7909300</td>\n",
              "    </tr>\n",
              "    <tr>\n",
              "      <th>4</th>\n",
              "      <td>2019-05-16</td>\n",
              "      <td>43.000000</td>\n",
              "      <td>38115500</td>\n",
              "      <td>55.599998</td>\n",
              "      <td>7101700</td>\n",
              "    </tr>\n",
              "  </tbody>\n",
              "</table>\n",
              "</div>"
            ],
            "text/plain": [
              "         date  UberClosingPrice  UberVolume  LyftClosingPrice  LyftVolume\n",
              "0  2019-05-10         41.570000   186322500         51.090000    23111200\n",
              "1  2019-05-13         37.099998    79442400         48.150002    10007400\n",
              "2  2019-05-14         39.959999    46661100         50.520000     7007400\n",
              "3  2019-05-15         41.290001    36086100         54.040001     7909300\n",
              "4  2019-05-16         43.000000    38115500         55.599998     7101700"
            ]
          },
          "metadata": {
            "tags": []
          },
          "execution_count": 79
        }
      ]
    },
    {
      "cell_type": "markdown",
      "metadata": {
        "id": "VQjGotRwrDsL",
        "colab_type": "text"
      },
      "source": [
        "###### Merging COVID data with X Data for Analysing impact in the same time frame"
      ]
    },
    {
      "cell_type": "code",
      "metadata": {
        "id": "Dx1NcJUtrDsM",
        "colab_type": "code",
        "colab": {},
        "outputId": "afaf2c8b-a550-4ba7-f64e-b19e2e1bef19"
      },
      "source": [
        "comb_df= covid_sel.merge(x_sel, how='inner', on='date')\n",
        "comb_df=comb_df.drop_duplicates()\n",
        "print('\\033[1m' + 'Min Date observed for comb_df : ' + str(comb_df['date'].min()))\n",
        "print('\\033[1m' + 'Max Date observed for comb_df: ' + str(comb_df['date'].max()))"
      ],
      "execution_count": 0,
      "outputs": [
        {
          "output_type": "stream",
          "text": [
            "\u001b[1mMin Date observed for comb_df : 2020-03-05\n",
            "\u001b[1mMax Date observed for comb_df: 2020-05-07\n"
          ],
          "name": "stdout"
        }
      ]
    },
    {
      "cell_type": "markdown",
      "metadata": {
        "id": "HKzorpkhrDsc",
        "colab_type": "text"
      },
      "source": [
        "###### Filtering 8 weeks timeframe for Analysis, Starting Date from. Monday 9th March, End Date Sunday 3rd May"
      ]
    },
    {
      "cell_type": "code",
      "metadata": {
        "id": "OjGVxiH4rDse",
        "colab_type": "code",
        "colab": {},
        "outputId": "59f31a49-70be-4cb4-84a8-cd6b99556f76"
      },
      "source": [
        "st_dt= pd.to_datetime('2020-03-09').strftime('%Y-%m-%d')\n",
        "# print(st_dt)\n",
        "end_dt= pd.to_datetime('2020-05-04').strftime('%Y-%m-%d')\n",
        "# print(end_dt)\n",
        "\n",
        "comb_df = comb_df[ (comb_df['date']>=st_dt) & (comb_df['date']<= end_dt)] \n",
        "\n",
        "print('\\033[1m' + 'Min Date observed for comb_df : ' + str(comb_df['date'].min()))\n",
        "print('\\033[1m' + 'Max Date observed for comb_df: ' + str(comb_df['date'].max()))\n",
        "print('\\033[1m' + 'Total Rows * cols: ' + str(comb_df.shape))\n",
        "\n",
        "comb_df.head(3)"
      ],
      "execution_count": 0,
      "outputs": [
        {
          "output_type": "stream",
          "text": [
            "\u001b[1mMin Date observed for comb_df : 2020-03-09\n",
            "\u001b[1mMax Date observed for comb_df: 2020-05-04\n",
            "\u001b[1mTotal Rows * cols: (40, 17)\n"
          ],
          "name": "stdout"
        },
        {
          "output_type": "execute_result",
          "data": {
            "text/html": [
              "<div>\n",
              "<style scoped>\n",
              "    .dataframe tbody tr th:only-of-type {\n",
              "        vertical-align: middle;\n",
              "    }\n",
              "\n",
              "    .dataframe tbody tr th {\n",
              "        vertical-align: top;\n",
              "    }\n",
              "\n",
              "    .dataframe thead th {\n",
              "        text-align: right;\n",
              "    }\n",
              "</style>\n",
              "<table border=\"1\" class=\"dataframe\">\n",
              "  <thead>\n",
              "    <tr style=\"text-align: right;\">\n",
              "      <th></th>\n",
              "      <th>date</th>\n",
              "      <th>dailypositvecases</th>\n",
              "      <th>dailynegativecases</th>\n",
              "      <th>dailydeath</th>\n",
              "      <th>dailytestingdone</th>\n",
              "      <th>positiveIncrease</th>\n",
              "      <th>negativeIncrease</th>\n",
              "      <th>deathIncrease</th>\n",
              "      <th>totalTestResultsIncrease</th>\n",
              "      <th>cumpositive</th>\n",
              "      <th>cumnegative</th>\n",
              "      <th>cumdeath</th>\n",
              "      <th>cumtotalTestResults</th>\n",
              "      <th>UberClosingPrice</th>\n",
              "      <th>UberVolume</th>\n",
              "      <th>LyftClosingPrice</th>\n",
              "      <th>LyftVolume</th>\n",
              "    </tr>\n",
              "  </thead>\n",
              "  <tbody>\n",
              "    <tr>\n",
              "      <th>3</th>\n",
              "      <td>2020-05-04</td>\n",
              "      <td>63578</td>\n",
              "      <td>68443</td>\n",
              "      <td>4155</td>\n",
              "      <td>132021</td>\n",
              "      <td>1525</td>\n",
              "      <td>629</td>\n",
              "      <td>39</td>\n",
              "      <td>2154</td>\n",
              "      <td>128269</td>\n",
              "      <td>148951</td>\n",
              "      <td>7910</td>\n",
              "      <td>277220</td>\n",
              "      <td>27.420000</td>\n",
              "      <td>23428300</td>\n",
              "      <td>27.030001</td>\n",
              "      <td>13393000</td>\n",
              "    </tr>\n",
              "    <tr>\n",
              "      <th>4</th>\n",
              "      <td>2020-05-01</td>\n",
              "      <td>61664</td>\n",
              "      <td>70781</td>\n",
              "      <td>3626</td>\n",
              "      <td>132445</td>\n",
              "      <td>2538</td>\n",
              "      <td>6089</td>\n",
              "      <td>310</td>\n",
              "      <td>8627</td>\n",
              "      <td>121190</td>\n",
              "      <td>135355</td>\n",
              "      <td>7538</td>\n",
              "      <td>256545</td>\n",
              "      <td>28.389999</td>\n",
              "      <td>19290200</td>\n",
              "      <td>29.605000</td>\n",
              "      <td>7339100</td>\n",
              "    </tr>\n",
              "    <tr>\n",
              "      <th>5</th>\n",
              "      <td>2020-04-30</td>\n",
              "      <td>59526</td>\n",
              "      <td>64574</td>\n",
              "      <td>3912</td>\n",
              "      <td>124100</td>\n",
              "      <td>2388</td>\n",
              "      <td>4212</td>\n",
              "      <td>458</td>\n",
              "      <td>6600</td>\n",
              "      <td>118652</td>\n",
              "      <td>129266</td>\n",
              "      <td>7228</td>\n",
              "      <td>247918</td>\n",
              "      <td>30.270000</td>\n",
              "      <td>20095400</td>\n",
              "      <td>32.830002</td>\n",
              "      <td>4624500</td>\n",
              "    </tr>\n",
              "  </tbody>\n",
              "</table>\n",
              "</div>"
            ],
            "text/plain": [
              "         date  dailypositvecases  dailynegativecases  dailydeath  \\\n",
              "3  2020-05-04              63578               68443        4155   \n",
              "4  2020-05-01              61664               70781        3626   \n",
              "5  2020-04-30              59526               64574        3912   \n",
              "\n",
              "   dailytestingdone  positiveIncrease  negativeIncrease  deathIncrease  \\\n",
              "3            132021              1525               629             39   \n",
              "4            132445              2538              6089            310   \n",
              "5            124100              2388              4212            458   \n",
              "\n",
              "   totalTestResultsIncrease  cumpositive  cumnegative  cumdeath  \\\n",
              "3                      2154       128269       148951      7910   \n",
              "4                      8627       121190       135355      7538   \n",
              "5                      6600       118652       129266      7228   \n",
              "\n",
              "   cumtotalTestResults  UberClosingPrice  UberVolume  LyftClosingPrice  \\\n",
              "3               277220         27.420000    23428300         27.030001   \n",
              "4               256545         28.389999    19290200         29.605000   \n",
              "5               247918         30.270000    20095400         32.830002   \n",
              "\n",
              "   LyftVolume  \n",
              "3    13393000  \n",
              "4     7339100  \n",
              "5     4624500  "
            ]
          },
          "metadata": {
            "tags": []
          },
          "execution_count": 110
        }
      ]
    },
    {
      "cell_type": "markdown",
      "metadata": {
        "id": "xES4WfAGrDsp",
        "colab_type": "text"
      },
      "source": [
        "###### Assigning Week Number"
      ]
    },
    {
      "cell_type": "code",
      "metadata": {
        "id": "gpnXw7ukrDst",
        "colab_type": "code",
        "colab": {}
      },
      "source": [
        "comb_df['WeekNum'] = ((pd.to_datetime(comb_df['date']) - pd.to_datetime(st_dt)).dt.days)//7 +1\n",
        "# weeklycount=comb_df['WeekNum'].value_counts()\n",
        "# weeklycount"
      ],
      "execution_count": 0,
      "outputs": []
    },
    {
      "cell_type": "markdown",
      "metadata": {
        "id": "uUe9Hp-4rDs6",
        "colab_type": "text"
      },
      "source": [
        "###### Checking Nullity and Data Completeness"
      ]
    },
    {
      "cell_type": "code",
      "metadata": {
        "id": "9RdtgLITrDs8",
        "colab_type": "code",
        "colab": {},
        "outputId": "9e338c4a-a902-4e89-8793-3d8a3055c201"
      },
      "source": [
        "msno.matrix(comb_df)\n",
        "plt.title('Data Completenss Check for Combined data', size = 20)"
      ],
      "execution_count": 0,
      "outputs": [
        {
          "output_type": "execute_result",
          "data": {
            "text/plain": [
              "Text(0.5, 1.0, 'Data Completenss Check for Combined data')"
            ]
          },
          "metadata": {
            "tags": []
          },
          "execution_count": 112
        },
        {
          "output_type": "display_data",
          "data": {
            "image/png": "[encoded data removed]",
            "text/plain": [
              "<Figure size 1800x720 with 2 Axes>"
            ]
          },
          "metadata": {
            "tags": [],
            "needs_background": "light"
          }
        }
      ]
    },
    {
      "cell_type": "markdown",
      "metadata": {
        "id": "OipKA25trDtI",
        "colab_type": "text"
      },
      "source": [
        "###### No Nullity found above"
      ]
    },
    {
      "cell_type": "markdown",
      "metadata": {
        "id": "VkP7ZFLMrDtK",
        "colab_type": "raw"
      },
      "source": [
        "comb_df is the master data set that is preserved through out the exercise for analysis"
      ]
    },
    {
      "cell_type": "code",
      "metadata": {
        "id": "ctlAAtrVrDtM",
        "colab_type": "code",
        "colab": {},
        "outputId": "2b9f9856-7a52-4fd6-ba97-cdc6fdf86252"
      },
      "source": [
        "comb_df= comb_df.sort_values(by=\"date\")\n",
        "print(comb_df.shape)"
      ],
      "execution_count": 0,
      "outputs": [
        {
          "output_type": "stream",
          "text": [
            "(40, 18)\n"
          ],
          "name": "stdout"
        }
      ]
    },
    {
      "cell_type": "markdown",
      "metadata": {
        "id": "H6ey6MR-rDtW",
        "colab_type": "text"
      },
      "source": [
        "## Part 2: General Trends in Covid + X Data (10%)"
      ]
    },
    {
      "cell_type": "markdown",
      "metadata": {
        "id": "5-Mu7DHMrDtY",
        "colab_type": "text"
      },
      "source": [
        "###### Day on Day Trends | PDF  | CDF of COVID 19 Growth"
      ]
    },
    {
      "cell_type": "code",
      "metadata": {
        "id": "E7aPMX4rrDtb",
        "colab_type": "code",
        "colab": {},
        "outputId": "3c9cd2ee-257c-4955-a505-d18e27aba77a"
      },
      "source": [
        "fig = go.Figure()\n",
        "fig.add_trace(go.Scatter(x=comb_df['date'], y=comb_df['dailypositvecases'], \n",
        "                         mode='lines+markers', name='Confirmed'))\n",
        "fig.add_trace(go.Scatter(x=comb_df['date'], y=comb_df['dailydeath'], \n",
        "                         mode='lines+markers', name='Deaths'))\n",
        "fig.add_trace(go.Scatter(x=comb_df['date'], y=comb_df['dailynegativecases'], \n",
        "                         mode='lines+markers', name='Negative'))\n",
        "\n",
        "fig.update_layout(\n",
        "        xaxis_title=\"\",\n",
        "        yaxis_title=\"\",\n",
        "        title = '[Daily Cases] - Confirmed, Deaths & Negative'\n",
        "#         yaxis_type=\"log\"\n",
        "    )\n",
        "fig.show()"
      ],
      "execution_count": 0,
      "outputs": [
        {
          "output_type": "display_data",
          "data": {
            "application/vnd.plotly.v1+json": {
              "config": {
                "plotlyServerURL": "https://plot.ly"
              },
              "data": [
                {
                  "mode": "lines+markers",
                  "name": "Confirmed",
                  "type": "scatter",
                  "x": [
                    "2020-03-09",
                    "2020-03-10",
                    "2020-03-11",
                    "2020-03-12",
                    "2020-03-13",
                    "2020-03-16",
                    "2020-03-17",
                    "2020-03-18",
                    "2020-03-19",
                    "2020-03-20",
                    "2020-03-23",
                    "2020-03-24",
                    "2020-03-25",
                    "2020-03-26",
                    "2020-03-27",
                    "2020-03-30",
                    "2020-03-31",
                    "2020-04-01",
                    "2020-04-02",
                    "2020-04-03",
                    "2020-04-06",
                    "2020-04-07",
                    "2020-04-08",
                    "2020-04-09",
                    "2020-04-13",
                    "2020-04-14",
                    "2020-04-15",
                    "2020-04-16",
                    "2020-04-17",
                    "2020-04-20",
                    "2020-04-21",
                    "2020-04-22",
                    "2020-04-23",
                    "2020-04-24",
                    "2020-04-27",
                    "2020-04-28",
                    "2020-04-29",
                    "2020-04-30",
                    "2020-05-01",
                    "2020-05-04"
                  ],
                  "y": [
                    9,
                    6,
                    18,
                    12,
                    38,
                    92,
                    175,
                    252,
                    490,
                    400,
                    1857,
                    1818,
                    2584,
                    4292,
                    4533,
                    9841,
                    8855,
                    13400,
                    12190,
                    17705,
                    20004,
                    24412,
                    23025,
                    28002,
                    34299,
                    34525,
                    36505,
                    38812,
                    39655,
                    45270,
                    47117,
                    48748,
                    51241,
                    50955,
                    56718,
                    57138,
                    59126,
                    59526,
                    61664,
                    63578
                  ]
                },
                {
                  "mode": "lines+markers",
                  "name": "Deaths",
                  "type": "scatter",
                  "x": [
                    "2020-03-09",
                    "2020-03-10",
                    "2020-03-11",
                    "2020-03-12",
                    "2020-03-13",
                    "2020-03-16",
                    "2020-03-17",
                    "2020-03-18",
                    "2020-03-19",
                    "2020-03-20",
                    "2020-03-23",
                    "2020-03-24",
                    "2020-03-25",
                    "2020-03-26",
                    "2020-03-27",
                    "2020-03-30",
                    "2020-03-31",
                    "2020-04-01",
                    "2020-04-02",
                    "2020-04-03",
                    "2020-04-06",
                    "2020-04-07",
                    "2020-04-08",
                    "2020-04-09",
                    "2020-04-13",
                    "2020-04-14",
                    "2020-04-15",
                    "2020-04-16",
                    "2020-04-17",
                    "2020-04-20",
                    "2020-04-21",
                    "2020-04-22",
                    "2020-04-23",
                    "2020-04-24",
                    "2020-04-27",
                    "2020-04-28",
                    "2020-04-29",
                    "2020-04-30",
                    "2020-05-01",
                    "2020-05-04"
                  ],
                  "y": [
                    0,
                    0,
                    1,
                    0,
                    1,
                    0,
                    3,
                    2,
                    7,
                    4,
                    19,
                    25,
                    37,
                    44,
                    64,
                    113,
                    154,
                    201,
                    336,
                    310,
                    622,
                    610,
                    894,
                    806,
                    1150,
                    1655,
                    1501,
                    2017,
                    1823,
                    2422,
                    2331,
                    2732,
                    2636,
                    2981,
                    2988,
                    3454,
                    3316,
                    3912,
                    3626,
                    4155
                  ]
                },
                {
                  "mode": "lines+markers",
                  "name": "Negative",
                  "type": "scatter",
                  "x": [
                    "2020-03-09",
                    "2020-03-10",
                    "2020-03-11",
                    "2020-03-12",
                    "2020-03-13",
                    "2020-03-16",
                    "2020-03-17",
                    "2020-03-18",
                    "2020-03-19",
                    "2020-03-20",
                    "2020-03-23",
                    "2020-03-24",
                    "2020-03-25",
                    "2020-03-26",
                    "2020-03-27",
                    "2020-03-30",
                    "2020-03-31",
                    "2020-04-01",
                    "2020-04-02",
                    "2020-04-03",
                    "2020-04-06",
                    "2020-04-07",
                    "2020-04-08",
                    "2020-04-09",
                    "2020-04-13",
                    "2020-04-14",
                    "2020-04-15",
                    "2020-04-16",
                    "2020-04-17",
                    "2020-04-20",
                    "2020-04-21",
                    "2020-04-22",
                    "2020-04-23",
                    "2020-04-24",
                    "2020-04-27",
                    "2020-04-28",
                    "2020-04-29",
                    "2020-04-30",
                    "2020-05-01",
                    "2020-05-04"
                  ],
                  "y": [
                    4,
                    40,
                    17,
                    57,
                    40,
                    57,
                    106,
                    84,
                    126,
                    138,
                    188,
                    8137,
                    2315,
                    11346,
                    5201,
                    17193,
                    9884,
                    20503,
                    13017,
                    24591,
                    19922,
                    30636,
                    22343,
                    33822,
                    36929,
                    34021,
                    38970,
                    37543,
                    41439,
                    43541,
                    48898,
                    46896,
                    53263,
                    50503,
                    60141,
                    60362,
                    64692,
                    64574,
                    70781,
                    68443
                  ]
                }
              ],
              "layout": {
                "template": {
                  "data": {
                    "bar": [
                      {
                        "error_x": {
                          "color": "#2a3f5f"
                        },
                        "error_y": {
                          "color": "#2a3f5f"
                        },
                        "marker": {
                          "line": {
                            "color": "#E5ECF6",
                            "width": 0.5
                          }
                        },
                        "type": "bar"
                      }
                    ],
                    "barpolar": [
                      {
                        "marker": {
                          "line": {
                            "color": "#E5ECF6",
                            "width": 0.5
                          }
                        },
                        "type": "barpolar"
                      }
                    ],
                    "carpet": [
                      {
                        "aaxis": {
                          "endlinecolor": "#2a3f5f",
                          "gridcolor": "white",
                          "linecolor": "white",
                          "minorgridcolor": "white",
                          "startlinecolor": "#2a3f5f"
                        },
                        "baxis": {
                          "endlinecolor": "#2a3f5f",
                          "gridcolor": "white",
                          "linecolor": "white",
                          "minorgridcolor": "white",
                          "startlinecolor": "#2a3f5f"
                        },
                        "type": "carpet"
                      }
                    ],
                    "choropleth": [
                      {
                        "colorbar": {
                          "outlinewidth": 0,
                          "ticks": ""
                        },
                        "type": "choropleth"
                      }
                    ],
                    "contour": [
                      {
                        "colorbar": {
                          "outlinewidth": 0,
                          "ticks": ""
                        },
                        "colorscale": [
                          [
                            0,
                            "#0d0887"
                          ],
                          [
                            0.1111111111111111,
                            "#46039f"
                          ],
                          [
                            0.2222222222222222,
                            "#7201a8"
                          ],
                          [
                            0.3333333333333333,
                            "#9c179e"
                          ],
                          [
                            0.4444444444444444,
                            "#bd3786"
                          ],
                          [
                            0.5555555555555556,
                            "#d8576b"
                          ],
                          [
                            0.6666666666666666,
                            "#ed7953"
                          ],
                          [
                            0.7777777777777778,
                            "#fb9f3a"
                          ],
                          [
                            0.8888888888888888,
                            "#fdca26"
                          ],
                          [
                            1,
                            "#f0f921"
                          ]
                        ],
                        "type": "contour"
                      }
                    ],
                    "contourcarpet": [
                      {
                        "colorbar": {
                          "outlinewidth": 0,
                          "ticks": ""
                        },
                        "type": "contourcarpet"
                      }
                    ],
                    "heatmap": [
                      {
                        "colorbar": {
                          "outlinewidth": 0,
                          "ticks": ""
                        },
                        "colorscale": [
                          [
                            0,
                            "#0d0887"
                          ],
                          [
                            0.1111111111111111,
                            "#46039f"
                          ],
                          [
                            0.2222222222222222,
                            "#7201a8"
                          ],
                          [
                            0.3333333333333333,
                            "#9c179e"
                          ],
                          [
                            0.4444444444444444,
                            "#bd3786"
                          ],
                          [
                            0.5555555555555556,
                            "#d8576b"
                          ],
                          [
                            0.6666666666666666,
                            "#ed7953"
                          ],
                          [
                            0.7777777777777778,
                            "#fb9f3a"
                          ],
                          [
                            0.8888888888888888,
                            "#fdca26"
                          ],
                          [
                            1,
                            "#f0f921"
                          ]
                        ],
                        "type": "heatmap"
                      }
                    ],
                    "heatmapgl": [
                      {
                        "colorbar": {
                          "outlinewidth": 0,
                          "ticks": ""
                        },
                        "colorscale": [
                          [
                            0,
                            "#0d0887"
                          ],
                          [
                            0.1111111111111111,
                            "#46039f"
                          ],
                          [
                            0.2222222222222222,
                            "#7201a8"
                          ],
                          [
                            0.3333333333333333,
                            "#9c179e"
                          ],
                          [
                            0.4444444444444444,
                            "#bd3786"
                          ],
                          [
                            0.5555555555555556,
                            "#d8576b"
                          ],
                          [
                            0.6666666666666666,
                            "#ed7953"
                          ],
                          [
                            0.7777777777777778,
                            "#fb9f3a"
                          ],
                          [
                            0.8888888888888888,
                            "#fdca26"
                          ],
                          [
                            1,
                            "#f0f921"
                          ]
                        ],
                        "type": "heatmapgl"
                      }
                    ],
                    "histogram": [
                      {
                        "marker": {
                          "colorbar": {
                            "outlinewidth": 0,
                            "ticks": ""
                          }
                        },
                        "type": "histogram"
                      }
                    ],
                    "histogram2d": [
                      {
                        "colorbar": {
                          "outlinewidth": 0,
                          "ticks": ""
                        },
                        "colorscale": [
                          [
                            0,
                            "#0d0887"
                          ],
                          [
                            0.1111111111111111,
                            "#46039f"
                          ],
                          [
                            0.2222222222222222,
                            "#7201a8"
                          ],
                          [
                            0.3333333333333333,
                            "#9c179e"
                          ],
                          [
                            0.4444444444444444,
                            "#bd3786"
                          ],
                          [
                            0.5555555555555556,
                            "#d8576b"
                          ],
                          [
                            0.6666666666666666,
                            "#ed7953"
                          ],
                          [
                            0.7777777777777778,
                            "#fb9f3a"
                          ],
                          [
                            0.8888888888888888,
                            "#fdca26"
                          ],
                          [
                            1,
                            "#f0f921"
                          ]
                        ],
                        "type": "histogram2d"
                      }
                    ],
                    "histogram2dcontour": [
                      {
                        "colorbar": {
                          "outlinewidth": 0,
                          "ticks": ""
                        },
                        "colorscale": [
                          [
                            0,
                            "#0d0887"
                          ],
                          [
                            0.1111111111111111,
                            "#46039f"
                          ],
                          [
                            0.2222222222222222,
                            "#7201a8"
                          ],
                          [
                            0.3333333333333333,
                            "#9c179e"
                          ],
                          [
                            0.4444444444444444,
                            "#bd3786"
                          ],
                          [
                            0.5555555555555556,
                            "#d8576b"
                          ],
                          [
                            0.6666666666666666,
                            "#ed7953"
                          ],
                          [
                            0.7777777777777778,
                            "#fb9f3a"
                          ],
                          [
                            0.8888888888888888,
                            "#fdca26"
                          ],
                          [
                            1,
                            "#f0f921"
                          ]
                        ],
                        "type": "histogram2dcontour"
                      }
                    ],
                    "mesh3d": [
                      {
                        "colorbar": {
                          "outlinewidth": 0,
                          "ticks": ""
                        },
                        "type": "mesh3d"
                      }
                    ],
                    "parcoords": [
                      {
                        "line": {
                          "colorbar": {
                            "outlinewidth": 0,
                            "ticks": ""
                          }
                        },
                        "type": "parcoords"
                      }
                    ],
                    "scatter": [
                      {
                        "marker": {
                          "colorbar": {
                            "outlinewidth": 0,
                            "ticks": ""
                          }
                        },
                        "type": "scatter"
                      }
                    ],
                    "scatter3d": [
                      {
                        "line": {
                          "colorbar": {
                            "outlinewidth": 0,
                            "ticks": ""
                          }
                        },
                        "marker": {
                          "colorbar": {
                            "outlinewidth": 0,
                            "ticks": ""
                          }
                        },
                        "type": "scatter3d"
                      }
                    ],
                    "scattercarpet": [
                      {
                        "marker": {
                          "colorbar": {
                            "outlinewidth": 0,
                            "ticks": ""
                          }
                        },
                        "type": "scattercarpet"
                      }
                    ],
                    "scattergeo": [
                      {
                        "marker": {
                          "colorbar": {
                            "outlinewidth": 0,
                            "ticks": ""
                          }
                        },
                        "type": "scattergeo"
                      }
                    ],
                    "scattergl": [
                      {
                        "marker": {
                          "colorbar": {
                            "outlinewidth": 0,
                            "ticks": ""
                          }
                        },
                        "type": "scattergl"
                      }
                    ],
                    "scattermapbox": [
                      {
                        "marker": {
                          "colorbar": {
                            "outlinewidth": 0,
                            "ticks": ""
                          }
                        },
                        "type": "scattermapbox"
                      }
                    ],
                    "scatterpolar": [
                      {
                        "marker": {
                          "colorbar": {
                            "outlinewidth": 0,
                            "ticks": ""
                          }
                        },
                        "type": "scatterpolar"
                      }
                    ],
                    "scatterpolargl": [
                      {
                        "marker": {
                          "colorbar": {
                            "outlinewidth": 0,
                            "ticks": ""
                          }
                        },
                        "type": "scatterpolargl"
                      }
                    ],
                    "scatterternary": [
                      {
                        "marker": {
                          "colorbar": {
                            "outlinewidth": 0,
                            "ticks": ""
                          }
                        },
                        "type": "scatterternary"
                      }
                    ],
                    "surface": [
                      {
                        "colorbar": {
                          "outlinewidth": 0,
                          "ticks": ""
                        },
                        "colorscale": [
                          [
                            0,
                            "#0d0887"
                          ],
                          [
                            0.1111111111111111,
                            "#46039f"
                          ],
                          [
                            0.2222222222222222,
                            "#7201a8"
                          ],
                          [
                            0.3333333333333333,
                            "#9c179e"
                          ],
                          [
                            0.4444444444444444,
                            "#bd3786"
                          ],
                          [
                            0.5555555555555556,
                            "#d8576b"
                          ],
                          [
                            0.6666666666666666,
                            "#ed7953"
                          ],
                          [
                            0.7777777777777778,
                            "#fb9f3a"
                          ],
                          [
                            0.8888888888888888,
                            "#fdca26"
                          ],
                          [
                            1,
                            "#f0f921"
                          ]
                        ],
                        "type": "surface"
                      }
                    ],
                    "table": [
                      {
                        "cells": {
                          "fill": {
                            "color": "#EBF0F8"
                          },
                          "line": {
                            "color": "white"
                          }
                        },
                        "header": {
                          "fill": {
                            "color": "#C8D4E3"
                          },
                          "line": {
                            "color": "white"
                          }
                        },
                        "type": "table"
                      }
                    ]
                  },
                  "layout": {
                    "annotationdefaults": {
                      "arrowcolor": "#2a3f5f",
                      "arrowhead": 0,
                      "arrowwidth": 1
                    },
                    "colorscale": {
                      "diverging": [
                        [
                          0,
                          "#8e0152"
                        ],
                        [
                          0.1,
                          "#c51b7d"
                        ],
                        [
                          0.2,
                          "#de77ae"
                        ],
                        [
                          0.3,
                          "#f1b6da"
                        ],
                        [
                          0.4,
                          "#fde0ef"
                        ],
                        [
                          0.5,
                          "#f7f7f7"
                        ],
                        [
                          0.6,
                          "#e6f5d0"
                        ],
                        [
                          0.7,
                          "#b8e186"
                        ],
                        [
                          0.8,
                          "#7fbc41"
                        ],
                        [
                          0.9,
                          "#4d9221"
                        ],
                        [
                          1,
                          "#276419"
                        ]
                      ],
                      "sequential": [
                        [
                          0,
                          "#0d0887"
                        ],
                        [
                          0.1111111111111111,
                          "#46039f"
                        ],
                        [
                          0.2222222222222222,
                          "#7201a8"
                        ],
                        [
                          0.3333333333333333,
                          "#9c179e"
                        ],
                        [
                          0.4444444444444444,
                          "#bd3786"
                        ],
                        [
                          0.5555555555555556,
                          "#d8576b"
                        ],
                        [
                          0.6666666666666666,
                          "#ed7953"
                        ],
                        [
                          0.7777777777777778,
                          "#fb9f3a"
                        ],
                        [
                          0.8888888888888888,
                          "#fdca26"
                        ],
                        [
                          1,
                          "#f0f921"
                        ]
                      ],
                      "sequentialminus": [
                        [
                          0,
                          "#0d0887"
                        ],
                        [
                          0.1111111111111111,
                          "#46039f"
                        ],
                        [
                          0.2222222222222222,
                          "#7201a8"
                        ],
                        [
                          0.3333333333333333,
                          "#9c179e"
                        ],
                        [
                          0.4444444444444444,
                          "#bd3786"
                        ],
                        [
                          0.5555555555555556,
                          "#d8576b"
                        ],
                        [
                          0.6666666666666666,
                          "#ed7953"
                        ],
                        [
                          0.7777777777777778,
                          "#fb9f3a"
                        ],
                        [
                          0.8888888888888888,
                          "#fdca26"
                        ],
                        [
                          1,
                          "#f0f921"
                        ]
                      ]
                    },
                    "colorway": [
                      "#636efa",
                      "#EF553B",
                      "#00cc96",
                      "#ab63fa",
                      "#FFA15A",
                      "#19d3f3",
                      "#FF6692",
                      "#B6E880",
                      "#FF97FF",
                      "#FECB52"
                    ],
                    "font": {
                      "color": "#2a3f5f"
                    },
                    "geo": {
                      "bgcolor": "white",
                      "lakecolor": "white",
                      "landcolor": "#E5ECF6",
                      "showlakes": true,
                      "showland": true,
                      "subunitcolor": "white"
                    },
                    "hoverlabel": {
                      "align": "left"
                    },
                    "hovermode": "closest",
                    "mapbox": {
                      "style": "light"
                    },
                    "paper_bgcolor": "white",
                    "plot_bgcolor": "#E5ECF6",
                    "polar": {
                      "angularaxis": {
                        "gridcolor": "white",
                        "linecolor": "white",
                        "ticks": ""
                      },
                      "bgcolor": "#E5ECF6",
                      "radialaxis": {
                        "gridcolor": "white",
                        "linecolor": "white",
                        "ticks": ""
                      }
                    },
                    "scene": {
                      "xaxis": {
                        "backgroundcolor": "#E5ECF6",
                        "gridcolor": "white",
                        "gridwidth": 2,
                        "linecolor": "white",
                        "showbackground": true,
                        "ticks": "",
                        "zerolinecolor": "white"
                      },
                      "yaxis": {
                        "backgroundcolor": "#E5ECF6",
                        "gridcolor": "white",
                        "gridwidth": 2,
                        "linecolor": "white",
                        "showbackground": true,
                        "ticks": "",
                        "zerolinecolor": "white"
                      },
                      "zaxis": {
                        "backgroundcolor": "#E5ECF6",
                        "gridcolor": "white",
                        "gridwidth": 2,
                        "linecolor": "white",
                        "showbackground": true,
                        "ticks": "",
                        "zerolinecolor": "white"
                      }
                    },
                    "shapedefaults": {
                      "line": {
                        "color": "#2a3f5f"
                      }
                    },
                    "ternary": {
                      "aaxis": {
                        "gridcolor": "white",
                        "linecolor": "white",
                        "ticks": ""
                      },
                      "baxis": {
                        "gridcolor": "white",
                        "linecolor": "white",
                        "ticks": ""
                      },
                      "bgcolor": "#E5ECF6",
                      "caxis": {
                        "gridcolor": "white",
                        "linecolor": "white",
                        "ticks": ""
                      }
                    },
                    "title": {
                      "x": 0.05
                    },
                    "xaxis": {
                      "automargin": true,
                      "gridcolor": "white",
                      "linecolor": "white",
                      "ticks": "",
                      "zerolinecolor": "white",
                      "zerolinewidth": 2
                    },
                    "yaxis": {
                      "automargin": true,
                      "gridcolor": "white",
                      "linecolor": "white",
                      "ticks": "",
                      "zerolinecolor": "white",
                      "zerolinewidth": 2
                    }
                  }
                },
                "title": {
                  "text": "[Daily Cases] - Confirmed, Deaths & Negative"
                },
                "xaxis": {
                  "title": {
                    "text": ""
                  }
                },
                "yaxis": {
                  "title": {
                    "text": ""
                  }
                }
              }
            },
            "text/html": [
              "<div>\n",
              "        \n",
              "        \n",
              "            <div id=\"532206f2-0bfc-438b-bb37-311a35662dbd\" class=\"plotly-graph-div\" style=\"height:525px; width:100%;\"></div>\n",
              "            <script type=\"text/javascript\">\n",
              "                require([\"plotly\"], function(Plotly) {\n",
              "                    window.PLOTLYENV=window.PLOTLYENV || {};\n",
              "                    \n",
              "                if (document.getElementById(\"532206f2-0bfc-438b-bb37-311a35662dbd\")) {\n",
              "                    Plotly.newPlot(\n",
              "                        '532206f2-0bfc-438b-bb37-311a35662dbd',\n",
              "                        [{\"mode\": \"lines+markers\", \"name\": \"Confirmed\", \"type\": \"scatter\", \"x\": [\"2020-03-09\", \"2020-03-10\", \"2020-03-11\", \"2020-03-12\", \"2020-03-13\", \"2020-03-16\", \"2020-03-17\", \"2020-03-18\", \"2020-03-19\", \"2020-03-20\", \"2020-03-23\", \"2020-03-24\", \"2020-03-25\", \"2020-03-26\", \"2020-03-27\", \"2020-03-30\", \"2020-03-31\", \"2020-04-01\", \"2020-04-02\", \"2020-04-03\", \"2020-04-06\", \"2020-04-07\", \"2020-04-08\", \"2020-04-09\", \"2020-04-13\", \"2020-04-14\", \"2020-04-15\", \"2020-04-16\", \"2020-04-17\", \"2020-04-20\", \"2020-04-21\", \"2020-04-22\", \"2020-04-23\", \"2020-04-24\", \"2020-04-27\", \"2020-04-28\", \"2020-04-29\", \"2020-04-30\", \"2020-05-01\", \"2020-05-04\"], \"y\": [9, 6, 18, 12, 38, 92, 175, 252, 490, 400, 1857, 1818, 2584, 4292, 4533, 9841, 8855, 13400, 12190, 17705, 20004, 24412, 23025, 28002, 34299, 34525, 36505, 38812, 39655, 45270, 47117, 48748, 51241, 50955, 56718, 57138, 59126, 59526, 61664, 63578]}, {\"mode\": \"lines+markers\", \"name\": \"Deaths\", \"type\": \"scatter\", \"x\": [\"2020-03-09\", \"2020-03-10\", \"2020-03-11\", \"2020-03-12\", \"2020-03-13\", \"2020-03-16\", \"2020-03-17\", \"2020-03-18\", \"2020-03-19\", \"2020-03-20\", \"2020-03-23\", \"2020-03-24\", \"2020-03-25\", \"2020-03-26\", \"2020-03-27\", \"2020-03-30\", \"2020-03-31\", \"2020-04-01\", \"2020-04-02\", \"2020-04-03\", \"2020-04-06\", \"2020-04-07\", \"2020-04-08\", \"2020-04-09\", \"2020-04-13\", \"2020-04-14\", \"2020-04-15\", \"2020-04-16\", \"2020-04-17\", \"2020-04-20\", \"2020-04-21\", \"2020-04-22\", \"2020-04-23\", \"2020-04-24\", \"2020-04-27\", \"2020-04-28\", \"2020-04-29\", \"2020-04-30\", \"2020-05-01\", \"2020-05-04\"], \"y\": [0, 0, 1, 0, 1, 0, 3, 2, 7, 4, 19, 25, 37, 44, 64, 113, 154, 201, 336, 310, 622, 610, 894, 806, 1150, 1655, 1501, 2017, 1823, 2422, 2331, 2732, 2636, 2981, 2988, 3454, 3316, 3912, 3626, 4155]}, {\"mode\": \"lines+markers\", \"name\": \"Negative\", \"type\": \"scatter\", \"x\": [\"2020-03-09\", \"2020-03-10\", \"2020-03-11\", \"2020-03-12\", \"2020-03-13\", \"2020-03-16\", \"2020-03-17\", \"2020-03-18\", \"2020-03-19\", \"2020-03-20\", \"2020-03-23\", \"2020-03-24\", \"2020-03-25\", \"2020-03-26\", \"2020-03-27\", \"2020-03-30\", \"2020-03-31\", \"2020-04-01\", \"2020-04-02\", \"2020-04-03\", \"2020-04-06\", \"2020-04-07\", \"2020-04-08\", \"2020-04-09\", \"2020-04-13\", \"2020-04-14\", \"2020-04-15\", \"2020-04-16\", \"2020-04-17\", \"2020-04-20\", \"2020-04-21\", \"2020-04-22\", \"2020-04-23\", \"2020-04-24\", \"2020-04-27\", \"2020-04-28\", \"2020-04-29\", \"2020-04-30\", \"2020-05-01\", \"2020-05-04\"], \"y\": [4, 40, 17, 57, 40, 57, 106, 84, 126, 138, 188, 8137, 2315, 11346, 5201, 17193, 9884, 20503, 13017, 24591, 19922, 30636, 22343, 33822, 36929, 34021, 38970, 37543, 41439, 43541, 48898, 46896, 53263, 50503, 60141, 60362, 64692, 64574, 70781, 68443]}],\n",
              "                        {\"template\": {\"data\": {\"bar\": [{\"error_x\": {\"color\": \"#2a3f5f\"}, \"error_y\": {\"color\": \"#2a3f5f\"}, \"marker\": {\"line\": {\"color\": \"#E5ECF6\", \"width\": 0.5}}, \"type\": \"bar\"}], \"barpolar\": [{\"marker\": {\"line\": {\"color\": \"#E5ECF6\", \"width\": 0.5}}, \"type\": \"barpolar\"}], \"carpet\": [{\"aaxis\": {\"endlinecolor\": \"#2a3f5f\", \"gridcolor\": \"white\", \"linecolor\": \"white\", \"minorgridcolor\": \"white\", \"startlinecolor\": \"#2a3f5f\"}, \"baxis\": {\"endlinecolor\": \"#2a3f5f\", \"gridcolor\": \"white\", \"linecolor\": \"white\", \"minorgridcolor\": \"white\", \"startlinecolor\": \"#2a3f5f\"}, \"type\": \"carpet\"}], \"choropleth\": [{\"colorbar\": {\"outlinewidth\": 0, \"ticks\": \"\"}, \"type\": \"choropleth\"}], \"contour\": [{\"colorbar\": {\"outlinewidth\": 0, \"ticks\": \"\"}, \"colorscale\": [[0.0, \"#0d0887\"], [0.1111111111111111, \"#46039f\"], [0.2222222222222222, \"#7201a8\"], [0.3333333333333333, \"#9c179e\"], [0.4444444444444444, \"#bd3786\"], [0.5555555555555556, \"#d8576b\"], [0.6666666666666666, \"#ed7953\"], [0.7777777777777778, \"#fb9f3a\"], [0.8888888888888888, \"#fdca26\"], [1.0, \"#f0f921\"]], \"type\": \"contour\"}], \"contourcarpet\": [{\"colorbar\": {\"outlinewidth\": 0, \"ticks\": \"\"}, \"type\": \"contourcarpet\"}], \"heatmap\": [{\"colorbar\": {\"outlinewidth\": 0, \"ticks\": \"\"}, \"colorscale\": [[0.0, \"#0d0887\"], [0.1111111111111111, \"#46039f\"], [0.2222222222222222, \"#7201a8\"], [0.3333333333333333, \"#9c179e\"], [0.4444444444444444, \"#bd3786\"], [0.5555555555555556, \"#d8576b\"], [0.6666666666666666, \"#ed7953\"], [0.7777777777777778, \"#fb9f3a\"], [0.8888888888888888, \"#fdca26\"], [1.0, \"#f0f921\"]], \"type\": \"heatmap\"}], \"heatmapgl\": [{\"colorbar\": {\"outlinewidth\": 0, \"ticks\": \"\"}, \"colorscale\": [[0.0, \"#0d0887\"], [0.1111111111111111, \"#46039f\"], [0.2222222222222222, \"#7201a8\"], [0.3333333333333333, \"#9c179e\"], [0.4444444444444444, \"#bd3786\"], [0.5555555555555556, \"#d8576b\"], [0.6666666666666666, \"#ed7953\"], [0.7777777777777778, \"#fb9f3a\"], [0.8888888888888888, \"#fdca26\"], [1.0, \"#f0f921\"]], \"type\": \"heatmapgl\"}], \"histogram\": [{\"marker\": {\"colorbar\": {\"outlinewidth\": 0, \"ticks\": \"\"}}, \"type\": \"histogram\"}], \"histogram2d\": [{\"colorbar\": {\"outlinewidth\": 0, \"ticks\": \"\"}, \"colorscale\": [[0.0, \"#0d0887\"], [0.1111111111111111, \"#46039f\"], [0.2222222222222222, \"#7201a8\"], [0.3333333333333333, \"#9c179e\"], [0.4444444444444444, \"#bd3786\"], [0.5555555555555556, \"#d8576b\"], [0.6666666666666666, \"#ed7953\"], [0.7777777777777778, \"#fb9f3a\"], [0.8888888888888888, \"#fdca26\"], [1.0, \"#f0f921\"]], \"type\": \"histogram2d\"}], \"histogram2dcontour\": [{\"colorbar\": {\"outlinewidth\": 0, \"ticks\": \"\"}, \"colorscale\": [[0.0, \"#0d0887\"], [0.1111111111111111, \"#46039f\"], [0.2222222222222222, \"#7201a8\"], [0.3333333333333333, \"#9c179e\"], [0.4444444444444444, \"#bd3786\"], [0.5555555555555556, \"#d8576b\"], [0.6666666666666666, \"#ed7953\"], [0.7777777777777778, \"#fb9f3a\"], [0.8888888888888888, \"#fdca26\"], [1.0, \"#f0f921\"]], \"type\": \"histogram2dcontour\"}], \"mesh3d\": [{\"colorbar\": {\"outlinewidth\": 0, \"ticks\": \"\"}, \"type\": \"mesh3d\"}], \"parcoords\": [{\"line\": {\"colorbar\": {\"outlinewidth\": 0, \"ticks\": \"\"}}, \"type\": \"parcoords\"}], \"scatter\": [{\"marker\": {\"colorbar\": {\"outlinewidth\": 0, \"ticks\": \"\"}}, \"type\": \"scatter\"}], \"scatter3d\": [{\"line\": {\"colorbar\": {\"outlinewidth\": 0, \"ticks\": \"\"}}, \"marker\": {\"colorbar\": {\"outlinewidth\": 0, \"ticks\": \"\"}}, \"type\": \"scatter3d\"}], \"scattercarpet\": [{\"marker\": {\"colorbar\": {\"outlinewidth\": 0, \"ticks\": \"\"}}, \"type\": \"scattercarpet\"}], \"scattergeo\": [{\"marker\": {\"colorbar\": {\"outlinewidth\": 0, \"ticks\": \"\"}}, \"type\": \"scattergeo\"}], \"scattergl\": [{\"marker\": {\"colorbar\": {\"outlinewidth\": 0, \"ticks\": \"\"}}, \"type\": \"scattergl\"}], \"scattermapbox\": [{\"marker\": {\"colorbar\": {\"outlinewidth\": 0, \"ticks\": \"\"}}, \"type\": \"scattermapbox\"}], \"scatterpolar\": [{\"marker\": {\"colorbar\": {\"outlinewidth\": 0, \"ticks\": \"\"}}, \"type\": \"scatterpolar\"}], \"scatterpolargl\": [{\"marker\": {\"colorbar\": {\"outlinewidth\": 0, \"ticks\": \"\"}}, \"type\": \"scatterpolargl\"}], \"scatterternary\": [{\"marker\": {\"colorbar\": {\"outlinewidth\": 0, \"ticks\": \"\"}}, \"type\": \"scatterternary\"}], \"surface\": [{\"colorbar\": {\"outlinewidth\": 0, \"ticks\": \"\"}, \"colorscale\": [[0.0, \"#0d0887\"], [0.1111111111111111, \"#46039f\"], [0.2222222222222222, \"#7201a8\"], [0.3333333333333333, \"#9c179e\"], [0.4444444444444444, \"#bd3786\"], [0.5555555555555556, \"#d8576b\"], [0.6666666666666666, \"#ed7953\"], [0.7777777777777778, \"#fb9f3a\"], [0.8888888888888888, \"#fdca26\"], [1.0, \"#f0f921\"]], \"type\": \"surface\"}], \"table\": [{\"cells\": {\"fill\": {\"color\": \"#EBF0F8\"}, \"line\": {\"color\": \"white\"}}, \"header\": {\"fill\": {\"color\": \"#C8D4E3\"}, \"line\": {\"color\": \"white\"}}, \"type\": \"table\"}]}, \"layout\": {\"annotationdefaults\": {\"arrowcolor\": \"#2a3f5f\", \"arrowhead\": 0, \"arrowwidth\": 1}, \"colorscale\": {\"diverging\": [[0, \"#8e0152\"], [0.1, \"#c51b7d\"], [0.2, \"#de77ae\"], [0.3, \"#f1b6da\"], [0.4, \"#fde0ef\"], [0.5, \"#f7f7f7\"], [0.6, \"#e6f5d0\"], [0.7, \"#b8e186\"], [0.8, \"#7fbc41\"], [0.9, \"#4d9221\"], [1, \"#276419\"]], \"sequential\": [[0.0, \"#0d0887\"], [0.1111111111111111, \"#46039f\"], [0.2222222222222222, \"#7201a8\"], [0.3333333333333333, \"#9c179e\"], [0.4444444444444444, \"#bd3786\"], [0.5555555555555556, \"#d8576b\"], [0.6666666666666666, \"#ed7953\"], [0.7777777777777778, \"#fb9f3a\"], [0.8888888888888888, \"#fdca26\"], [1.0, \"#f0f921\"]], \"sequentialminus\": [[0.0, \"#0d0887\"], [0.1111111111111111, \"#46039f\"], [0.2222222222222222, \"#7201a8\"], [0.3333333333333333, \"#9c179e\"], [0.4444444444444444, \"#bd3786\"], [0.5555555555555556, \"#d8576b\"], [0.6666666666666666, \"#ed7953\"], [0.7777777777777778, \"#fb9f3a\"], [0.8888888888888888, \"#fdca26\"], [1.0, \"#f0f921\"]]}, \"colorway\": [\"#636efa\", \"#EF553B\", \"#00cc96\", \"#ab63fa\", \"#FFA15A\", \"#19d3f3\", \"#FF6692\", \"#B6E880\", \"#FF97FF\", \"#FECB52\"], \"font\": {\"color\": \"#2a3f5f\"}, \"geo\": {\"bgcolor\": \"white\", \"lakecolor\": \"white\", \"landcolor\": \"#E5ECF6\", \"showlakes\": true, \"showland\": true, \"subunitcolor\": \"white\"}, \"hoverlabel\": {\"align\": \"left\"}, \"hovermode\": \"closest\", \"mapbox\": {\"style\": \"light\"}, \"paper_bgcolor\": \"white\", \"plot_bgcolor\": \"#E5ECF6\", \"polar\": {\"angularaxis\": {\"gridcolor\": \"white\", \"linecolor\": \"white\", \"ticks\": \"\"}, \"bgcolor\": \"#E5ECF6\", \"radialaxis\": {\"gridcolor\": \"white\", \"linecolor\": \"white\", \"ticks\": \"\"}}, \"scene\": {\"xaxis\": {\"backgroundcolor\": \"#E5ECF6\", \"gridcolor\": \"white\", \"gridwidth\": 2, \"linecolor\": \"white\", \"showbackground\": true, \"ticks\": \"\", \"zerolinecolor\": \"white\"}, \"yaxis\": {\"backgroundcolor\": \"#E5ECF6\", \"gridcolor\": \"white\", \"gridwidth\": 2, \"linecolor\": \"white\", \"showbackground\": true, \"ticks\": \"\", \"zerolinecolor\": \"white\"}, \"zaxis\": {\"backgroundcolor\": \"#E5ECF6\", \"gridcolor\": \"white\", \"gridwidth\": 2, \"linecolor\": \"white\", \"showbackground\": true, \"ticks\": \"\", \"zerolinecolor\": \"white\"}}, \"shapedefaults\": {\"line\": {\"color\": \"#2a3f5f\"}}, \"ternary\": {\"aaxis\": {\"gridcolor\": \"white\", \"linecolor\": \"white\", \"ticks\": \"\"}, \"baxis\": {\"gridcolor\": \"white\", \"linecolor\": \"white\", \"ticks\": \"\"}, \"bgcolor\": \"#E5ECF6\", \"caxis\": {\"gridcolor\": \"white\", \"linecolor\": \"white\", \"ticks\": \"\"}}, \"title\": {\"x\": 0.05}, \"xaxis\": {\"automargin\": true, \"gridcolor\": \"white\", \"linecolor\": \"white\", \"ticks\": \"\", \"zerolinecolor\": \"white\", \"zerolinewidth\": 2}, \"yaxis\": {\"automargin\": true, \"gridcolor\": \"white\", \"linecolor\": \"white\", \"ticks\": \"\", \"zerolinecolor\": \"white\", \"zerolinewidth\": 2}}}, \"title\": {\"text\": \"[Daily Cases] - Confirmed, Deaths & Negative\"}, \"xaxis\": {\"title\": {\"text\": \"\"}}, \"yaxis\": {\"title\": {\"text\": \"\"}}},\n",
              "                        {\"responsive\": true}\n",
              "                    ).then(function(){\n",
              "                            \n",
              "var gd = document.getElementById('532206f2-0bfc-438b-bb37-311a35662dbd');\n",
              "var x = new MutationObserver(function (mutations, observer) {{\n",
              "        var display = window.getComputedStyle(gd).display;\n",
              "        if (!display || display === 'none') {{\n",
              "            console.log([gd, 'removed!']);\n",
              "            Plotly.purge(gd);\n",
              "            observer.disconnect();\n",
              "        }}\n",
              "}});\n",
              "\n",
              "// Listen for the removal of the full notebook cells\n",
              "var notebookContainer = gd.closest('#notebook-container');\n",
              "if (notebookContainer) {{\n",
              "    x.observe(notebookContainer, {childList: true});\n",
              "}}\n",
              "\n",
              "// Listen for the clearing of the current output cell\n",
              "var outputEl = gd.closest('.output');\n",
              "if (outputEl) {{\n",
              "    x.observe(outputEl, {childList: true});\n",
              "}}\n",
              "\n",
              "                        })\n",
              "                };\n",
              "                });\n",
              "            </script>\n",
              "        </div>"
            ]
          },
          "metadata": {
            "tags": []
          }
        }
      ]
    },
    {
      "cell_type": "markdown",
      "metadata": {
        "id": "Pm0aZGnKrDtr",
        "colab_type": "text"
      },
      "source": [
        "###### Let's check the distribution of data for Confirmed Cases, Negative Cases and Deaths"
      ]
    },
    {
      "cell_type": "code",
      "metadata": {
        "id": "qKMMNGazrDtu",
        "colab_type": "code",
        "colab": {},
        "outputId": "37cc15c2-1a08-4347-8847-6fb182233e86"
      },
      "source": [
        "#histogram\n",
        "fig = plt.figure(figsize= (20,5))\n",
        "plt.subplot(1,3,1)\n",
        "sns.distplot(comb_df['dailypositvecases'])\n",
        "\n",
        "plt.subplot(1,3,2)\n",
        "sns.distplot(comb_df['dailynegativecases'])\n",
        "\n",
        "plt.subplot(1,3,3)\n",
        "sns.distplot(comb_df['dailydeath'])\n",
        "\n",
        "fig.suptitle(\"Distribution of Day on Day in Confirmed Cases | Negative Cases & Deaths\", fontsize=20)\n"
      ],
      "execution_count": 0,
      "outputs": [
        {
          "output_type": "execute_result",
          "data": {
            "text/plain": [
              "Text(0.5, 0.98, 'Distribution of Day on Day in Confirmed Cases | Negative Cases & Deaths')"
            ]
          },
          "metadata": {
            "tags": []
          },
          "execution_count": 117
        },
        {
          "output_type": "display_data",
          "data": {
            "image/png": "[encoded data removed]",
            "text/plain": [
              "<Figure size 1440x360 with 3 Axes>"
            ]
          },
          "metadata": {
            "tags": [],
            "needs_background": "light"
          }
        }
      ]
    },
    {
      "cell_type": "markdown",
      "metadata": {
        "id": "nao9uYAFrDt9",
        "colab_type": "text"
      },
      "source": [
        "###### Inference from above graph: we can clearly see that for confirmed and positive cases it follows a smooth curve with fluctuations while death is mostly uniform after certain number of days so its flat in nature "
      ]
    },
    {
      "cell_type": "code",
      "metadata": {
        "id": "lC6iD5YPrDuA",
        "colab_type": "code",
        "colab": {},
        "outputId": "6527ac23-941e-4379-c2be-27f9f2a6b9e6"
      },
      "source": [
        "fig = go.Figure()\n",
        "fig.add_trace(go.Scatter(x=comb_df['date'], y=comb_df['cumpositive'], \n",
        "                         mode='lines+markers', name='Confirmed'))\n",
        "fig.add_trace(go.Scatter(x=comb_df['date'], y=comb_df['cumdeath'], \n",
        "                         mode='lines+markers', name='Deaths'))\n",
        "fig.add_trace(go.Scatter(x=comb_df['date'], y=comb_df['cumnegative'], \n",
        "                         mode='lines+markers', name='Negative'))\n",
        "\n",
        "fig.update_layout(\n",
        "        xaxis_title=\"\",\n",
        "        yaxis_title=\"\",\n",
        "#         title = 'Cumulative -> Confirmed, Deaths & Negative Results'\n",
        "        title = 'CDF [Log Scale]-> Confirmed, Deaths & Negative Results',\n",
        "        yaxis_type=\"log\"\n",
        "    )\n",
        "fig.show()"
      ],
      "execution_count": 0,
      "outputs": [
        {
          "output_type": "display_data",
          "data": {
            "application/vnd.plotly.v1+json": {
              "config": {
                "plotlyServerURL": "https://plot.ly"
              },
              "data": [
                {
                  "mode": "lines+markers",
                  "name": "Confirmed",
                  "type": "scatter",
                  "x": [
                    "2020-03-09",
                    "2020-03-10",
                    "2020-03-11",
                    "2020-03-12",
                    "2020-03-13",
                    "2020-03-16",
                    "2020-03-17",
                    "2020-03-18",
                    "2020-03-19",
                    "2020-03-20",
                    "2020-03-23",
                    "2020-03-24",
                    "2020-03-25",
                    "2020-03-26",
                    "2020-03-27",
                    "2020-03-30",
                    "2020-03-31",
                    "2020-04-01",
                    "2020-04-02",
                    "2020-04-03",
                    "2020-04-06",
                    "2020-04-07",
                    "2020-04-08",
                    "2020-04-09",
                    "2020-04-13",
                    "2020-04-14",
                    "2020-04-15",
                    "2020-04-16",
                    "2020-04-17",
                    "2020-04-20",
                    "2020-04-21",
                    "2020-04-22",
                    "2020-04-23",
                    "2020-04-24",
                    "2020-04-27",
                    "2020-04-28",
                    "2020-04-29",
                    "2020-04-30",
                    "2020-05-01",
                    "2020-05-04"
                  ],
                  "y": [
                    11,
                    15,
                    24,
                    30,
                    50,
                    178,
                    267,
                    427,
                    742,
                    890,
                    2844,
                    3675,
                    4402,
                    6876,
                    8825,
                    16636,
                    18696,
                    22255,
                    25590,
                    29895,
                    41090,
                    44416,
                    47437,
                    51027,
                    64584,
                    68824,
                    71030,
                    75317,
                    78467,
                    88806,
                    92387,
                    95865,
                    99989,
                    102196,
                    111188,
                    113856,
                    116264,
                    118652,
                    121190,
                    128269
                  ]
                },
                {
                  "mode": "lines+markers",
                  "name": "Deaths",
                  "type": "scatter",
                  "x": [
                    "2020-03-09",
                    "2020-03-10",
                    "2020-03-11",
                    "2020-03-12",
                    "2020-03-13",
                    "2020-03-16",
                    "2020-03-17",
                    "2020-03-18",
                    "2020-03-19",
                    "2020-03-20",
                    "2020-03-23",
                    "2020-03-24",
                    "2020-03-25",
                    "2020-03-26",
                    "2020-03-27",
                    "2020-03-30",
                    "2020-03-31",
                    "2020-04-01",
                    "2020-04-02",
                    "2020-04-03",
                    "2020-04-06",
                    "2020-04-07",
                    "2020-04-08",
                    "2020-04-09",
                    "2020-04-13",
                    "2020-04-14",
                    "2020-04-15",
                    "2020-04-16",
                    "2020-04-17",
                    "2020-04-20",
                    "2020-04-21",
                    "2020-04-22",
                    "2020-04-23",
                    "2020-04-24",
                    "2020-04-27",
                    "2020-04-28",
                    "2020-04-29",
                    "2020-04-30",
                    "2020-05-01",
                    "2020-05-04"
                  ],
                  "y": [
                    0,
                    0,
                    1,
                    1,
                    1,
                    2,
                    3,
                    5,
                    9,
                    11,
                    27,
                    44,
                    62,
                    81,
                    108,
                    198,
                    267,
                    355,
                    537,
                    646,
                    1003,
                    1232,
                    1504,
                    1700,
                    2443,
                    2805,
                    3156,
                    3518,
                    3840,
                    4377,
                    4753,
                    5063,
                    5368,
                    5617,
                    6044,
                    6442,
                    6770,
                    7228,
                    7538,
                    7910
                  ]
                },
                {
                  "mode": "lines+markers",
                  "name": "Negative",
                  "type": "scatter",
                  "x": [
                    "2020-03-09",
                    "2020-03-10",
                    "2020-03-11",
                    "2020-03-12",
                    "2020-03-13",
                    "2020-03-16",
                    "2020-03-17",
                    "2020-03-18",
                    "2020-03-19",
                    "2020-03-20",
                    "2020-03-23",
                    "2020-03-24",
                    "2020-03-25",
                    "2020-03-26",
                    "2020-03-27",
                    "2020-03-30",
                    "2020-03-31",
                    "2020-04-01",
                    "2020-04-02",
                    "2020-04-03",
                    "2020-04-06",
                    "2020-04-07",
                    "2020-04-08",
                    "2020-04-09",
                    "2020-04-13",
                    "2020-04-14",
                    "2020-04-15",
                    "2020-04-16",
                    "2020-04-17",
                    "2020-04-20",
                    "2020-04-21",
                    "2020-04-22",
                    "2020-04-23",
                    "2020-04-24",
                    "2020-04-27",
                    "2020-04-28",
                    "2020-04-29",
                    "2020-04-30",
                    "2020-05-01",
                    "2020-05-04"
                  ],
                  "y": [
                    35,
                    44,
                    57,
                    74,
                    97,
                    120,
                    163,
                    190,
                    210,
                    264,
                    359,
                    8325,
                    10452,
                    13661,
                    16547,
                    25224,
                    27077,
                    30387,
                    33520,
                    37608,
                    47942,
                    50558,
                    52979,
                    56165,
                    64885,
                    70950,
                    72991,
                    76513,
                    78982,
                    89251,
                    92439,
                    95794,
                    100159,
                    103766,
                    116587,
                    120503,
                    125054,
                    129266,
                    135355,
                    148951
                  ]
                }
              ],
              "layout": {
                "template": {
                  "data": {
                    "bar": [
                      {
                        "error_x": {
                          "color": "#2a3f5f"
                        },
                        "error_y": {
                          "color": "#2a3f5f"
                        },
                        "marker": {
                          "line": {
                            "color": "#E5ECF6",
                            "width": 0.5
                          }
                        },
                        "type": "bar"
                      }
                    ],
                    "barpolar": [
                      {
                        "marker": {
                          "line": {
                            "color": "#E5ECF6",
                            "width": 0.5
                          }
                        },
                        "type": "barpolar"
                      }
                    ],
                    "carpet": [
                      {
                        "aaxis": {
                          "endlinecolor": "#2a3f5f",
                          "gridcolor": "white",
                          "linecolor": "white",
                          "minorgridcolor": "white",
                          "startlinecolor": "#2a3f5f"
                        },
                        "baxis": {
                          "endlinecolor": "#2a3f5f",
                          "gridcolor": "white",
                          "linecolor": "white",
                          "minorgridcolor": "white",
                          "startlinecolor": "#2a3f5f"
                        },
                        "type": "carpet"
                      }
                    ],
                    "choropleth": [
                      {
                        "colorbar": {
                          "outlinewidth": 0,
                          "ticks": ""
                        },
                        "type": "choropleth"
                      }
                    ],
                    "contour": [
                      {
                        "colorbar": {
                          "outlinewidth": 0,
                          "ticks": ""
                        },
                        "colorscale": [
                          [
                            0,
                            "#0d0887"
                          ],
                          [
                            0.1111111111111111,
                            "#46039f"
                          ],
                          [
                            0.2222222222222222,
                            "#7201a8"
                          ],
                          [
                            0.3333333333333333,
                            "#9c179e"
                          ],
                          [
                            0.4444444444444444,
                            "#bd3786"
                          ],
                          [
                            0.5555555555555556,
                            "#d8576b"
                          ],
                          [
                            0.6666666666666666,
                            "#ed7953"
                          ],
                          [
                            0.7777777777777778,
                            "#fb9f3a"
                          ],
                          [
                            0.8888888888888888,
                            "#fdca26"
                          ],
                          [
                            1,
                            "#f0f921"
                          ]
                        ],
                        "type": "contour"
                      }
                    ],
                    "contourcarpet": [
                      {
                        "colorbar": {
                          "outlinewidth": 0,
                          "ticks": ""
                        },
                        "type": "contourcarpet"
                      }
                    ],
                    "heatmap": [
                      {
                        "colorbar": {
                          "outlinewidth": 0,
                          "ticks": ""
                        },
                        "colorscale": [
                          [
                            0,
                            "#0d0887"
                          ],
                          [
                            0.1111111111111111,
                            "#46039f"
                          ],
                          [
                            0.2222222222222222,
                            "#7201a8"
                          ],
                          [
                            0.3333333333333333,
                            "#9c179e"
                          ],
                          [
                            0.4444444444444444,
                            "#bd3786"
                          ],
                          [
                            0.5555555555555556,
                            "#d8576b"
                          ],
                          [
                            0.6666666666666666,
                            "#ed7953"
                          ],
                          [
                            0.7777777777777778,
                            "#fb9f3a"
                          ],
                          [
                            0.8888888888888888,
                            "#fdca26"
                          ],
                          [
                            1,
                            "#f0f921"
                          ]
                        ],
                        "type": "heatmap"
                      }
                    ],
                    "heatmapgl": [
                      {
                        "colorbar": {
                          "outlinewidth": 0,
                          "ticks": ""
                        },
                        "colorscale": [
                          [
                            0,
                            "#0d0887"
                          ],
                          [
                            0.1111111111111111,
                            "#46039f"
                          ],
                          [
                            0.2222222222222222,
                            "#7201a8"
                          ],
                          [
                            0.3333333333333333,
                            "#9c179e"
                          ],
                          [
                            0.4444444444444444,
                            "#bd3786"
                          ],
                          [
                            0.5555555555555556,
                            "#d8576b"
                          ],
                          [
                            0.6666666666666666,
                            "#ed7953"
                          ],
                          [
                            0.7777777777777778,
                            "#fb9f3a"
                          ],
                          [
                            0.8888888888888888,
                            "#fdca26"
                          ],
                          [
                            1,
                            "#f0f921"
                          ]
                        ],
                        "type": "heatmapgl"
                      }
                    ],
                    "histogram": [
                      {
                        "marker": {
                          "colorbar": {
                            "outlinewidth": 0,
                            "ticks": ""
                          }
                        },
                        "type": "histogram"
                      }
                    ],
                    "histogram2d": [
                      {
                        "colorbar": {
                          "outlinewidth": 0,
                          "ticks": ""
                        },
                        "colorscale": [
                          [
                            0,
                            "#0d0887"
                          ],
                          [
                            0.1111111111111111,
                            "#46039f"
                          ],
                          [
                            0.2222222222222222,
                            "#7201a8"
                          ],
                          [
                            0.3333333333333333,
                            "#9c179e"
                          ],
                          [
                            0.4444444444444444,
                            "#bd3786"
                          ],
                          [
                            0.5555555555555556,
                            "#d8576b"
                          ],
                          [
                            0.6666666666666666,
                            "#ed7953"
                          ],
                          [
                            0.7777777777777778,
                            "#fb9f3a"
                          ],
                          [
                            0.8888888888888888,
                            "#fdca26"
                          ],
                          [
                            1,
                            "#f0f921"
                          ]
                        ],
                        "type": "histogram2d"
                      }
                    ],
                    "histogram2dcontour": [
                      {
                        "colorbar": {
                          "outlinewidth": 0,
                          "ticks": ""
                        },
                        "colorscale": [
                          [
                            0,
                            "#0d0887"
                          ],
                          [
                            0.1111111111111111,
                            "#46039f"
                          ],
                          [
                            0.2222222222222222,
                            "#7201a8"
                          ],
                          [
                            0.3333333333333333,
                            "#9c179e"
                          ],
                          [
                            0.4444444444444444,
                            "#bd3786"
                          ],
                          [
                            0.5555555555555556,
                            "#d8576b"
                          ],
                          [
                            0.6666666666666666,
                            "#ed7953"
                          ],
                          [
                            0.7777777777777778,
                            "#fb9f3a"
                          ],
                          [
                            0.8888888888888888,
                            "#fdca26"
                          ],
                          [
                            1,
                            "#f0f921"
                          ]
                        ],
                        "type": "histogram2dcontour"
                      }
                    ],
                    "mesh3d": [
                      {
                        "colorbar": {
                          "outlinewidth": 0,
                          "ticks": ""
                        },
                        "type": "mesh3d"
                      }
                    ],
                    "parcoords": [
                      {
                        "line": {
                          "colorbar": {
                            "outlinewidth": 0,
                            "ticks": ""
                          }
                        },
                        "type": "parcoords"
                      }
                    ],
                    "scatter": [
                      {
                        "marker": {
                          "colorbar": {
                            "outlinewidth": 0,
                            "ticks": ""
                          }
                        },
                        "type": "scatter"
                      }
                    ],
                    "scatter3d": [
                      {
                        "line": {
                          "colorbar": {
                            "outlinewidth": 0,
                            "ticks": ""
                          }
                        },
                        "marker": {
                          "colorbar": {
                            "outlinewidth": 0,
                            "ticks": ""
                          }
                        },
                        "type": "scatter3d"
                      }
                    ],
                    "scattercarpet": [
                      {
                        "marker": {
                          "colorbar": {
                            "outlinewidth": 0,
                            "ticks": ""
                          }
                        },
                        "type": "scattercarpet"
                      }
                    ],
                    "scattergeo": [
                      {
                        "marker": {
                          "colorbar": {
                            "outlinewidth": 0,
                            "ticks": ""
                          }
                        },
                        "type": "scattergeo"
                      }
                    ],
                    "scattergl": [
                      {
                        "marker": {
                          "colorbar": {
                            "outlinewidth": 0,
                            "ticks": ""
                          }
                        },
                        "type": "scattergl"
                      }
                    ],
                    "scattermapbox": [
                      {
                        "marker": {
                          "colorbar": {
                            "outlinewidth": 0,
                            "ticks": ""
                          }
                        },
                        "type": "scattermapbox"
                      }
                    ],
                    "scatterpolar": [
                      {
                        "marker": {
                          "colorbar": {
                            "outlinewidth": 0,
                            "ticks": ""
                          }
                        },
                        "type": "scatterpolar"
                      }
                    ],
                    "scatterpolargl": [
                      {
                        "marker": {
                          "colorbar": {
                            "outlinewidth": 0,
                            "ticks": ""
                          }
                        },
                        "type": "scatterpolargl"
                      }
                    ],
                    "scatterternary": [
                      {
                        "marker": {
                          "colorbar": {
                            "outlinewidth": 0,
                            "ticks": ""
                          }
                        },
                        "type": "scatterternary"
                      }
                    ],
                    "surface": [
                      {
                        "colorbar": {
                          "outlinewidth": 0,
                          "ticks": ""
                        },
                        "colorscale": [
                          [
                            0,
                            "#0d0887"
                          ],
                          [
                            0.1111111111111111,
                            "#46039f"
                          ],
                          [
                            0.2222222222222222,
                            "#7201a8"
                          ],
                          [
                            0.3333333333333333,
                            "#9c179e"
                          ],
                          [
                            0.4444444444444444,
                            "#bd3786"
                          ],
                          [
                            0.5555555555555556,
                            "#d8576b"
                          ],
                          [
                            0.6666666666666666,
                            "#ed7953"
                          ],
                          [
                            0.7777777777777778,
                            "#fb9f3a"
                          ],
                          [
                            0.8888888888888888,
                            "#fdca26"
                          ],
                          [
                            1,
                            "#f0f921"
                          ]
                        ],
                        "type": "surface"
                      }
                    ],
                    "table": [
                      {
                        "cells": {
                          "fill": {
                            "color": "#EBF0F8"
                          },
                          "line": {
                            "color": "white"
                          }
                        },
                        "header": {
                          "fill": {
                            "color": "#C8D4E3"
                          },
                          "line": {
                            "color": "white"
                          }
                        },
                        "type": "table"
                      }
                    ]
                  },
                  "layout": {
                    "annotationdefaults": {
                      "arrowcolor": "#2a3f5f",
                      "arrowhead": 0,
                      "arrowwidth": 1
                    },
                    "colorscale": {
                      "diverging": [
                        [
                          0,
                          "#8e0152"
                        ],
                        [
                          0.1,
                          "#c51b7d"
                        ],
                        [
                          0.2,
                          "#de77ae"
                        ],
                        [
                          0.3,
                          "#f1b6da"
                        ],
                        [
                          0.4,
                          "#fde0ef"
                        ],
                        [
                          0.5,
                          "#f7f7f7"
                        ],
                        [
                          0.6,
                          "#e6f5d0"
                        ],
                        [
                          0.7,
                          "#b8e186"
                        ],
                        [
                          0.8,
                          "#7fbc41"
                        ],
                        [
                          0.9,
                          "#4d9221"
                        ],
                        [
                          1,
                          "#276419"
                        ]
                      ],
                      "sequential": [
                        [
                          0,
                          "#0d0887"
                        ],
                        [
                          0.1111111111111111,
                          "#46039f"
                        ],
                        [
                          0.2222222222222222,
                          "#7201a8"
                        ],
                        [
                          0.3333333333333333,
                          "#9c179e"
                        ],
                        [
                          0.4444444444444444,
                          "#bd3786"
                        ],
                        [
                          0.5555555555555556,
                          "#d8576b"
                        ],
                        [
                          0.6666666666666666,
                          "#ed7953"
                        ],
                        [
                          0.7777777777777778,
                          "#fb9f3a"
                        ],
                        [
                          0.8888888888888888,
                          "#fdca26"
                        ],
                        [
                          1,
                          "#f0f921"
                        ]
                      ],
                      "sequentialminus": [
                        [
                          0,
                          "#0d0887"
                        ],
                        [
                          0.1111111111111111,
                          "#46039f"
                        ],
                        [
                          0.2222222222222222,
                          "#7201a8"
                        ],
                        [
                          0.3333333333333333,
                          "#9c179e"
                        ],
                        [
                          0.4444444444444444,
                          "#bd3786"
                        ],
                        [
                          0.5555555555555556,
                          "#d8576b"
                        ],
                        [
                          0.6666666666666666,
                          "#ed7953"
                        ],
                        [
                          0.7777777777777778,
                          "#fb9f3a"
                        ],
                        [
                          0.8888888888888888,
                          "#fdca26"
                        ],
                        [
                          1,
                          "#f0f921"
                        ]
                      ]
                    },
                    "colorway": [
                      "#636efa",
                      "#EF553B",
                      "#00cc96",
                      "#ab63fa",
                      "#FFA15A",
                      "#19d3f3",
                      "#FF6692",
                      "#B6E880",
                      "#FF97FF",
                      "#FECB52"
                    ],
                    "font": {
                      "color": "#2a3f5f"
                    },
                    "geo": {
                      "bgcolor": "white",
                      "lakecolor": "white",
                      "landcolor": "#E5ECF6",
                      "showlakes": true,
                      "showland": true,
                      "subunitcolor": "white"
                    },
                    "hoverlabel": {
                      "align": "left"
                    },
                    "hovermode": "closest",
                    "mapbox": {
                      "style": "light"
                    },
                    "paper_bgcolor": "white",
                    "plot_bgcolor": "#E5ECF6",
                    "polar": {
                      "angularaxis": {
                        "gridcolor": "white",
                        "linecolor": "white",
                        "ticks": ""
                      },
                      "bgcolor": "#E5ECF6",
                      "radialaxis": {
                        "gridcolor": "white",
                        "linecolor": "white",
                        "ticks": ""
                      }
                    },
                    "scene": {
                      "xaxis": {
                        "backgroundcolor": "#E5ECF6",
                        "gridcolor": "white",
                        "gridwidth": 2,
                        "linecolor": "white",
                        "showbackground": true,
                        "ticks": "",
                        "zerolinecolor": "white"
                      },
                      "yaxis": {
                        "backgroundcolor": "#E5ECF6",
                        "gridcolor": "white",
                        "gridwidth": 2,
                        "linecolor": "white",
                        "showbackground": true,
                        "ticks": "",
                        "zerolinecolor": "white"
                      },
                      "zaxis": {
                        "backgroundcolor": "#E5ECF6",
                        "gridcolor": "white",
                        "gridwidth": 2,
                        "linecolor": "white",
                        "showbackground": true,
                        "ticks": "",
                        "zerolinecolor": "white"
                      }
                    },
                    "shapedefaults": {
                      "line": {
                        "color": "#2a3f5f"
                      }
                    },
                    "ternary": {
                      "aaxis": {
                        "gridcolor": "white",
                        "linecolor": "white",
                        "ticks": ""
                      },
                      "baxis": {
                        "gridcolor": "white",
                        "linecolor": "white",
                        "ticks": ""
                      },
                      "bgcolor": "#E5ECF6",
                      "caxis": {
                        "gridcolor": "white",
                        "linecolor": "white",
                        "ticks": ""
                      }
                    },
                    "title": {
                      "x": 0.05
                    },
                    "xaxis": {
                      "automargin": true,
                      "gridcolor": "white",
                      "linecolor": "white",
                      "ticks": "",
                      "zerolinecolor": "white",
                      "zerolinewidth": 2
                    },
                    "yaxis": {
                      "automargin": true,
                      "gridcolor": "white",
                      "linecolor": "white",
                      "ticks": "",
                      "zerolinecolor": "white",
                      "zerolinewidth": 2
                    }
                  }
                },
                "title": {
                  "text": "CDF [Log Scale]-> Confirmed, Deaths & Negative Results"
                },
                "xaxis": {
                  "title": {
                    "text": ""
                  }
                },
                "yaxis": {
                  "title": {
                    "text": ""
                  },
                  "type": "log"
                }
              }
            },
            "text/html": [
              "<div>\n",
              "        \n",
              "        \n",
              "            <div id=\"fb850a4a-c8a8-4f00-99c7-b2f459face3b\" class=\"plotly-graph-div\" style=\"height:525px; width:100%;\"></div>\n",
              "            <script type=\"text/javascript\">\n",
              "                require([\"plotly\"], function(Plotly) {\n",
              "                    window.PLOTLYENV=window.PLOTLYENV || {};\n",
              "                    \n",
              "                if (document.getElementById(\"fb850a4a-c8a8-4f00-99c7-b2f459face3b\")) {\n",
              "                    Plotly.newPlot(\n",
              "                        'fb850a4a-c8a8-4f00-99c7-b2f459face3b',\n",
              "                        [{\"mode\": \"lines+markers\", \"name\": \"Confirmed\", \"type\": \"scatter\", \"x\": [\"2020-03-09\", \"2020-03-10\", \"2020-03-11\", \"2020-03-12\", \"2020-03-13\", \"2020-03-16\", \"2020-03-17\", \"2020-03-18\", \"2020-03-19\", \"2020-03-20\", \"2020-03-23\", \"2020-03-24\", \"2020-03-25\", \"2020-03-26\", \"2020-03-27\", \"2020-03-30\", \"2020-03-31\", \"2020-04-01\", \"2020-04-02\", \"2020-04-03\", \"2020-04-06\", \"2020-04-07\", \"2020-04-08\", \"2020-04-09\", \"2020-04-13\", \"2020-04-14\", \"2020-04-15\", \"2020-04-16\", \"2020-04-17\", \"2020-04-20\", \"2020-04-21\", \"2020-04-22\", \"2020-04-23\", \"2020-04-24\", \"2020-04-27\", \"2020-04-28\", \"2020-04-29\", \"2020-04-30\", \"2020-05-01\", \"2020-05-04\"], \"y\": [11, 15, 24, 30, 50, 178, 267, 427, 742, 890, 2844, 3675, 4402, 6876, 8825, 16636, 18696, 22255, 25590, 29895, 41090, 44416, 47437, 51027, 64584, 68824, 71030, 75317, 78467, 88806, 92387, 95865, 99989, 102196, 111188, 113856, 116264, 118652, 121190, 128269]}, {\"mode\": \"lines+markers\", \"name\": \"Deaths\", \"type\": \"scatter\", \"x\": [\"2020-03-09\", \"2020-03-10\", \"2020-03-11\", \"2020-03-12\", \"2020-03-13\", \"2020-03-16\", \"2020-03-17\", \"2020-03-18\", \"2020-03-19\", \"2020-03-20\", \"2020-03-23\", \"2020-03-24\", \"2020-03-25\", \"2020-03-26\", \"2020-03-27\", \"2020-03-30\", \"2020-03-31\", \"2020-04-01\", \"2020-04-02\", \"2020-04-03\", \"2020-04-06\", \"2020-04-07\", \"2020-04-08\", \"2020-04-09\", \"2020-04-13\", \"2020-04-14\", \"2020-04-15\", \"2020-04-16\", \"2020-04-17\", \"2020-04-20\", \"2020-04-21\", \"2020-04-22\", \"2020-04-23\", \"2020-04-24\", \"2020-04-27\", \"2020-04-28\", \"2020-04-29\", \"2020-04-30\", \"2020-05-01\", \"2020-05-04\"], \"y\": [0, 0, 1, 1, 1, 2, 3, 5, 9, 11, 27, 44, 62, 81, 108, 198, 267, 355, 537, 646, 1003, 1232, 1504, 1700, 2443, 2805, 3156, 3518, 3840, 4377, 4753, 5063, 5368, 5617, 6044, 6442, 6770, 7228, 7538, 7910]}, {\"mode\": \"lines+markers\", \"name\": \"Negative\", \"type\": \"scatter\", \"x\": [\"2020-03-09\", \"2020-03-10\", \"2020-03-11\", \"2020-03-12\", \"2020-03-13\", \"2020-03-16\", \"2020-03-17\", \"2020-03-18\", \"2020-03-19\", \"2020-03-20\", \"2020-03-23\", \"2020-03-24\", \"2020-03-25\", \"2020-03-26\", \"2020-03-27\", \"2020-03-30\", \"2020-03-31\", \"2020-04-01\", \"2020-04-02\", \"2020-04-03\", \"2020-04-06\", \"2020-04-07\", \"2020-04-08\", \"2020-04-09\", \"2020-04-13\", \"2020-04-14\", \"2020-04-15\", \"2020-04-16\", \"2020-04-17\", \"2020-04-20\", \"2020-04-21\", \"2020-04-22\", \"2020-04-23\", \"2020-04-24\", \"2020-04-27\", \"2020-04-28\", \"2020-04-29\", \"2020-04-30\", \"2020-05-01\", \"2020-05-04\"], \"y\": [35, 44, 57, 74, 97, 120, 163, 190, 210, 264, 359, 8325, 10452, 13661, 16547, 25224, 27077, 30387, 33520, 37608, 47942, 50558, 52979, 56165, 64885, 70950, 72991, 76513, 78982, 89251, 92439, 95794, 100159, 103766, 116587, 120503, 125054, 129266, 135355, 148951]}],\n",
              "                        {\"template\": {\"data\": {\"bar\": [{\"error_x\": {\"color\": \"#2a3f5f\"}, \"error_y\": {\"color\": \"#2a3f5f\"}, \"marker\": {\"line\": {\"color\": \"#E5ECF6\", \"width\": 0.5}}, \"type\": \"bar\"}], \"barpolar\": [{\"marker\": {\"line\": {\"color\": \"#E5ECF6\", \"width\": 0.5}}, \"type\": \"barpolar\"}], \"carpet\": [{\"aaxis\": {\"endlinecolor\": \"#2a3f5f\", \"gridcolor\": \"white\", \"linecolor\": \"white\", \"minorgridcolor\": \"white\", \"startlinecolor\": \"#2a3f5f\"}, \"baxis\": {\"endlinecolor\": \"#2a3f5f\", \"gridcolor\": \"white\", \"linecolor\": \"white\", \"minorgridcolor\": \"white\", \"startlinecolor\": \"#2a3f5f\"}, \"type\": \"carpet\"}], \"choropleth\": [{\"colorbar\": {\"outlinewidth\": 0, \"ticks\": \"\"}, \"type\": \"choropleth\"}], \"contour\": [{\"colorbar\": {\"outlinewidth\": 0, \"ticks\": \"\"}, \"colorscale\": [[0.0, \"#0d0887\"], [0.1111111111111111, \"#46039f\"], [0.2222222222222222, \"#7201a8\"], [0.3333333333333333, \"#9c179e\"], [0.4444444444444444, \"#bd3786\"], [0.5555555555555556, \"#d8576b\"], [0.6666666666666666, \"#ed7953\"], [0.7777777777777778, \"#fb9f3a\"], [0.8888888888888888, \"#fdca26\"], [1.0, \"#f0f921\"]], \"type\": \"contour\"}], \"contourcarpet\": [{\"colorbar\": {\"outlinewidth\": 0, \"ticks\": \"\"}, \"type\": \"contourcarpet\"}], \"heatmap\": [{\"colorbar\": {\"outlinewidth\": 0, \"ticks\": \"\"}, \"colorscale\": [[0.0, \"#0d0887\"], [0.1111111111111111, \"#46039f\"], [0.2222222222222222, \"#7201a8\"], [0.3333333333333333, \"#9c179e\"], [0.4444444444444444, \"#bd3786\"], [0.5555555555555556, \"#d8576b\"], [0.6666666666666666, \"#ed7953\"], [0.7777777777777778, \"#fb9f3a\"], [0.8888888888888888, \"#fdca26\"], [1.0, \"#f0f921\"]], \"type\": \"heatmap\"}], \"heatmapgl\": [{\"colorbar\": {\"outlinewidth\": 0, \"ticks\": \"\"}, \"colorscale\": [[0.0, \"#0d0887\"], [0.1111111111111111, \"#46039f\"], [0.2222222222222222, \"#7201a8\"], [0.3333333333333333, \"#9c179e\"], [0.4444444444444444, \"#bd3786\"], [0.5555555555555556, \"#d8576b\"], [0.6666666666666666, \"#ed7953\"], [0.7777777777777778, \"#fb9f3a\"], [0.8888888888888888, \"#fdca26\"], [1.0, \"#f0f921\"]], \"type\": \"heatmapgl\"}], \"histogram\": [{\"marker\": {\"colorbar\": {\"outlinewidth\": 0, \"ticks\": \"\"}}, \"type\": \"histogram\"}], \"histogram2d\": [{\"colorbar\": {\"outlinewidth\": 0, \"ticks\": \"\"}, \"colorscale\": [[0.0, \"#0d0887\"], [0.1111111111111111, \"#46039f\"], [0.2222222222222222, \"#7201a8\"], [0.3333333333333333, \"#9c179e\"], [0.4444444444444444, \"#bd3786\"], [0.5555555555555556, \"#d8576b\"], [0.6666666666666666, \"#ed7953\"], [0.7777777777777778, \"#fb9f3a\"], [0.8888888888888888, \"#fdca26\"], [1.0, \"#f0f921\"]], \"type\": \"histogram2d\"}], \"histogram2dcontour\": [{\"colorbar\": {\"outlinewidth\": 0, \"ticks\": \"\"}, \"colorscale\": [[0.0, \"#0d0887\"], [0.1111111111111111, \"#46039f\"], [0.2222222222222222, \"#7201a8\"], [0.3333333333333333, \"#9c179e\"], [0.4444444444444444, \"#bd3786\"], [0.5555555555555556, \"#d8576b\"], [0.6666666666666666, \"#ed7953\"], [0.7777777777777778, \"#fb9f3a\"], [0.8888888888888888, \"#fdca26\"], [1.0, \"#f0f921\"]], \"type\": \"histogram2dcontour\"}], \"mesh3d\": [{\"colorbar\": {\"outlinewidth\": 0, \"ticks\": \"\"}, \"type\": \"mesh3d\"}], \"parcoords\": [{\"line\": {\"colorbar\": {\"outlinewidth\": 0, \"ticks\": \"\"}}, \"type\": \"parcoords\"}], \"scatter\": [{\"marker\": {\"colorbar\": {\"outlinewidth\": 0, \"ticks\": \"\"}}, \"type\": \"scatter\"}], \"scatter3d\": [{\"line\": {\"colorbar\": {\"outlinewidth\": 0, \"ticks\": \"\"}}, \"marker\": {\"colorbar\": {\"outlinewidth\": 0, \"ticks\": \"\"}}, \"type\": \"scatter3d\"}], \"scattercarpet\": [{\"marker\": {\"colorbar\": {\"outlinewidth\": 0, \"ticks\": \"\"}}, \"type\": \"scattercarpet\"}], \"scattergeo\": [{\"marker\": {\"colorbar\": {\"outlinewidth\": 0, \"ticks\": \"\"}}, \"type\": \"scattergeo\"}], \"scattergl\": [{\"marker\": {\"colorbar\": {\"outlinewidth\": 0, \"ticks\": \"\"}}, \"type\": \"scattergl\"}], \"scattermapbox\": [{\"marker\": {\"colorbar\": {\"outlinewidth\": 0, \"ticks\": \"\"}}, \"type\": \"scattermapbox\"}], \"scatterpolar\": [{\"marker\": {\"colorbar\": {\"outlinewidth\": 0, \"ticks\": \"\"}}, \"type\": \"scatterpolar\"}], \"scatterpolargl\": [{\"marker\": {\"colorbar\": {\"outlinewidth\": 0, \"ticks\": \"\"}}, \"type\": \"scatterpolargl\"}], \"scatterternary\": [{\"marker\": {\"colorbar\": {\"outlinewidth\": 0, \"ticks\": \"\"}}, \"type\": \"scatterternary\"}], \"surface\": [{\"colorbar\": {\"outlinewidth\": 0, \"ticks\": \"\"}, \"colorscale\": [[0.0, \"#0d0887\"], [0.1111111111111111, \"#46039f\"], [0.2222222222222222, \"#7201a8\"], [0.3333333333333333, \"#9c179e\"], [0.4444444444444444, \"#bd3786\"], [0.5555555555555556, \"#d8576b\"], [0.6666666666666666, \"#ed7953\"], [0.7777777777777778, \"#fb9f3a\"], [0.8888888888888888, \"#fdca26\"], [1.0, \"#f0f921\"]], \"type\": \"surface\"}], \"table\": [{\"cells\": {\"fill\": {\"color\": \"#EBF0F8\"}, \"line\": {\"color\": \"white\"}}, \"header\": {\"fill\": {\"color\": \"#C8D4E3\"}, \"line\": {\"color\": \"white\"}}, \"type\": \"table\"}]}, \"layout\": {\"annotationdefaults\": {\"arrowcolor\": \"#2a3f5f\", \"arrowhead\": 0, \"arrowwidth\": 1}, \"colorscale\": {\"diverging\": [[0, \"#8e0152\"], [0.1, \"#c51b7d\"], [0.2, \"#de77ae\"], [0.3, \"#f1b6da\"], [0.4, \"#fde0ef\"], [0.5, \"#f7f7f7\"], [0.6, \"#e6f5d0\"], [0.7, \"#b8e186\"], [0.8, \"#7fbc41\"], [0.9, \"#4d9221\"], [1, \"#276419\"]], \"sequential\": [[0.0, \"#0d0887\"], [0.1111111111111111, \"#46039f\"], [0.2222222222222222, \"#7201a8\"], [0.3333333333333333, \"#9c179e\"], [0.4444444444444444, \"#bd3786\"], [0.5555555555555556, \"#d8576b\"], [0.6666666666666666, \"#ed7953\"], [0.7777777777777778, \"#fb9f3a\"], [0.8888888888888888, \"#fdca26\"], [1.0, \"#f0f921\"]], \"sequentialminus\": [[0.0, \"#0d0887\"], [0.1111111111111111, \"#46039f\"], [0.2222222222222222, \"#7201a8\"], [0.3333333333333333, \"#9c179e\"], [0.4444444444444444, \"#bd3786\"], [0.5555555555555556, \"#d8576b\"], [0.6666666666666666, \"#ed7953\"], [0.7777777777777778, \"#fb9f3a\"], [0.8888888888888888, \"#fdca26\"], [1.0, \"#f0f921\"]]}, \"colorway\": [\"#636efa\", \"#EF553B\", \"#00cc96\", \"#ab63fa\", \"#FFA15A\", \"#19d3f3\", \"#FF6692\", \"#B6E880\", \"#FF97FF\", \"#FECB52\"], \"font\": {\"color\": \"#2a3f5f\"}, \"geo\": {\"bgcolor\": \"white\", \"lakecolor\": \"white\", \"landcolor\": \"#E5ECF6\", \"showlakes\": true, \"showland\": true, \"subunitcolor\": \"white\"}, \"hoverlabel\": {\"align\": \"left\"}, \"hovermode\": \"closest\", \"mapbox\": {\"style\": \"light\"}, \"paper_bgcolor\": \"white\", \"plot_bgcolor\": \"#E5ECF6\", \"polar\": {\"angularaxis\": {\"gridcolor\": \"white\", \"linecolor\": \"white\", \"ticks\": \"\"}, \"bgcolor\": \"#E5ECF6\", \"radialaxis\": {\"gridcolor\": \"white\", \"linecolor\": \"white\", \"ticks\": \"\"}}, \"scene\": {\"xaxis\": {\"backgroundcolor\": \"#E5ECF6\", \"gridcolor\": \"white\", \"gridwidth\": 2, \"linecolor\": \"white\", \"showbackground\": true, \"ticks\": \"\", \"zerolinecolor\": \"white\"}, \"yaxis\": {\"backgroundcolor\": \"#E5ECF6\", \"gridcolor\": \"white\", \"gridwidth\": 2, \"linecolor\": \"white\", \"showbackground\": true, \"ticks\": \"\", \"zerolinecolor\": \"white\"}, \"zaxis\": {\"backgroundcolor\": \"#E5ECF6\", \"gridcolor\": \"white\", \"gridwidth\": 2, \"linecolor\": \"white\", \"showbackground\": true, \"ticks\": \"\", \"zerolinecolor\": \"white\"}}, \"shapedefaults\": {\"line\": {\"color\": \"#2a3f5f\"}}, \"ternary\": {\"aaxis\": {\"gridcolor\": \"white\", \"linecolor\": \"white\", \"ticks\": \"\"}, \"baxis\": {\"gridcolor\": \"white\", \"linecolor\": \"white\", \"ticks\": \"\"}, \"bgcolor\": \"#E5ECF6\", \"caxis\": {\"gridcolor\": \"white\", \"linecolor\": \"white\", \"ticks\": \"\"}}, \"title\": {\"x\": 0.05}, \"xaxis\": {\"automargin\": true, \"gridcolor\": \"white\", \"linecolor\": \"white\", \"ticks\": \"\", \"zerolinecolor\": \"white\", \"zerolinewidth\": 2}, \"yaxis\": {\"automargin\": true, \"gridcolor\": \"white\", \"linecolor\": \"white\", \"ticks\": \"\", \"zerolinecolor\": \"white\", \"zerolinewidth\": 2}}}, \"title\": {\"text\": \"CDF [Log Scale]-> Confirmed, Deaths & Negative Results\"}, \"xaxis\": {\"title\": {\"text\": \"\"}}, \"yaxis\": {\"title\": {\"text\": \"\"}, \"type\": \"log\"}},\n",
              "                        {\"responsive\": true}\n",
              "                    ).then(function(){\n",
              "                            \n",
              "var gd = document.getElementById('fb850a4a-c8a8-4f00-99c7-b2f459face3b');\n",
              "var x = new MutationObserver(function (mutations, observer) {{\n",
              "        var display = window.getComputedStyle(gd).display;\n",
              "        if (!display || display === 'none') {{\n",
              "            console.log([gd, 'removed!']);\n",
              "            Plotly.purge(gd);\n",
              "            observer.disconnect();\n",
              "        }}\n",
              "}});\n",
              "\n",
              "// Listen for the removal of the full notebook cells\n",
              "var notebookContainer = gd.closest('#notebook-container');\n",
              "if (notebookContainer) {{\n",
              "    x.observe(notebookContainer, {childList: true});\n",
              "}}\n",
              "\n",
              "// Listen for the clearing of the current output cell\n",
              "var outputEl = gd.closest('.output');\n",
              "if (outputEl) {{\n",
              "    x.observe(outputEl, {childList: true});\n",
              "}}\n",
              "\n",
              "                        })\n",
              "                };\n",
              "                });\n",
              "            </script>\n",
              "        </div>"
            ]
          },
          "metadata": {
            "tags": []
          }
        }
      ]
    },
    {
      "cell_type": "markdown",
      "metadata": {
        "id": "Ig3Fwe9srDuP",
        "colab_type": "text"
      },
      "source": [
        "###### Inference from above graph: It can be observed there was a steep increase in the confirm cases from Mar9 to Apr6 since then the rate of increase seems to be decreasing and curve looks to be flattening after Apr20 while death is observed to be increasing at constant pace"
      ]
    },
    {
      "cell_type": "code",
      "metadata": {
        "id": "HeFU9J6krDuR",
        "colab_type": "code",
        "colab": {},
        "outputId": "496339b8-3cfa-4f75-bdf5-56e65f5ad15d"
      },
      "source": [
        "df_t= comb_df.copy()\n",
        "df_t['Positive Rate'] = df_t['cumpositive']/df_t['cumtotalTestResults']\n",
        "df_t['Negative Rate'] = df_t['cumnegative']/df_t['cumtotalTestResults']\n",
        "\n",
        "df_t['Death Rate'] = df_t['cumdeath']/df_t['cumpositive']\n",
        "\n",
        "\n",
        "\n",
        "fig = go.Figure()\n",
        "fig.add_trace(go.Scatter(x=df_t['date'], y=df_t['Positive Rate'], \n",
        "                         mode='lines+markers', name='Positive Rate'))\n",
        "fig.add_trace(go.Scatter(x=df_t['date'], y=df_t['Negative Rate'], \n",
        "                         mode='lines+markers', name='Negative Rate'))\n",
        "fig.add_trace(go.Scatter(x=df_t['date'], y=df_t['Death Rate'], \n",
        "                         mode='lines+markers', name='Death Rate'))\n",
        "fig.update_layout(\n",
        "        xaxis_title=\"\",\n",
        "        yaxis_title=\"\",\n",
        "        title = 'Confirmed Rate, Negative Rate & Death Rate'\n",
        "#         yaxis_type=\"log\"\n",
        "    )\n",
        "fig.show()\n"
      ],
      "execution_count": 0,
      "outputs": [
        {
          "output_type": "display_data",
          "data": {
            "application/vnd.plotly.v1+json": {
              "config": {
                "plotlyServerURL": "https://plot.ly"
              },
              "data": [
                {
                  "mode": "lines+markers",
                  "name": "Positive Rate",
                  "type": "scatter",
                  "x": [
                    "2020-03-09",
                    "2020-03-10",
                    "2020-03-11",
                    "2020-03-12",
                    "2020-03-13",
                    "2020-03-16",
                    "2020-03-17",
                    "2020-03-18",
                    "2020-03-19",
                    "2020-03-20",
                    "2020-03-23",
                    "2020-03-24",
                    "2020-03-25",
                    "2020-03-26",
                    "2020-03-27",
                    "2020-03-30",
                    "2020-03-31",
                    "2020-04-01",
                    "2020-04-02",
                    "2020-04-03",
                    "2020-04-06",
                    "2020-04-07",
                    "2020-04-08",
                    "2020-04-09",
                    "2020-04-13",
                    "2020-04-14",
                    "2020-04-15",
                    "2020-04-16",
                    "2020-04-17",
                    "2020-04-20",
                    "2020-04-21",
                    "2020-04-22",
                    "2020-04-23",
                    "2020-04-24",
                    "2020-04-27",
                    "2020-04-28",
                    "2020-04-29",
                    "2020-04-30",
                    "2020-05-01",
                    "2020-05-04"
                  ],
                  "y": [
                    0.2391304347826087,
                    0.2542372881355932,
                    0.2962962962962963,
                    0.28846153846153844,
                    0.3401360544217687,
                    0.5973154362416108,
                    0.6209302325581395,
                    0.6920583468395461,
                    0.7794117647058824,
                    0.7712305025996534,
                    0.8879175772713082,
                    0.30625,
                    0.2963511512050626,
                    0.33481034230900325,
                    0.3478243733249251,
                    0.3974199713330148,
                    0.4084503965219671,
                    0.42276129326393375,
                    0.43292167145998983,
                    0.442869205813075,
                    0.46151945367957586,
                    0.4676648345863078,
                    0.4724047960484385,
                    0.4760336592283006,
                    0.4988375595702446,
                    0.49239486599796817,
                    0.4931919650606509,
                    0.4960613844431272,
                    0.49836454979072586,
                    0.49875040015276006,
                    0.49985932715094195,
                    0.5001852248002964,
                    0.4995753142674421,
                    0.49618861731775765,
                    0.48814839205356164,
                    0.48581876522770623,
                    0.481787516886432,
                    0.4785937285715438,
                    0.4723927576058781,
                    0.4626974965731188
                  ]
                },
                {
                  "mode": "lines+markers",
                  "name": "Negative Rate",
                  "type": "scatter",
                  "x": [
                    "2020-03-09",
                    "2020-03-10",
                    "2020-03-11",
                    "2020-03-12",
                    "2020-03-13",
                    "2020-03-16",
                    "2020-03-17",
                    "2020-03-18",
                    "2020-03-19",
                    "2020-03-20",
                    "2020-03-23",
                    "2020-03-24",
                    "2020-03-25",
                    "2020-03-26",
                    "2020-03-27",
                    "2020-03-30",
                    "2020-03-31",
                    "2020-04-01",
                    "2020-04-02",
                    "2020-04-03",
                    "2020-04-06",
                    "2020-04-07",
                    "2020-04-08",
                    "2020-04-09",
                    "2020-04-13",
                    "2020-04-14",
                    "2020-04-15",
                    "2020-04-16",
                    "2020-04-17",
                    "2020-04-20",
                    "2020-04-21",
                    "2020-04-22",
                    "2020-04-23",
                    "2020-04-24",
                    "2020-04-27",
                    "2020-04-28",
                    "2020-04-29",
                    "2020-04-30",
                    "2020-05-01",
                    "2020-05-04"
                  ],
                  "y": [
                    0.7608695652173914,
                    0.7457627118644068,
                    0.7037037037037037,
                    0.7115384615384616,
                    0.6598639455782312,
                    0.40268456375838924,
                    0.37906976744186044,
                    0.3079416531604538,
                    0.22058823529411764,
                    0.22876949740034663,
                    0.11208242272869186,
                    0.69375,
                    0.7036488487949374,
                    0.6651896576909967,
                    0.6521756266750749,
                    0.6025800286669852,
                    0.5915496034780329,
                    0.5772387067360663,
                    0.5670783285400102,
                    0.557130794186925,
                    0.5384805463204241,
                    0.5323351654136922,
                    0.5275952039515615,
                    0.5239663407716993,
                    0.5011624404297554,
                    0.5076051340020319,
                    0.5068080349393491,
                    0.5039386155568728,
                    0.5016354502092741,
                    0.5012495998472399,
                    0.500140672849058,
                    0.49981477519970363,
                    0.5004246857325579,
                    0.5038113826822423,
                    0.5118516079464384,
                    0.5141812347722938,
                    0.5182124831135679,
                    0.5214062714284562,
                    0.5276072423941219,
                    0.5373025034268811
                  ]
                },
                {
                  "mode": "lines+markers",
                  "name": "Death Rate",
                  "type": "scatter",
                  "x": [
                    "2020-03-09",
                    "2020-03-10",
                    "2020-03-11",
                    "2020-03-12",
                    "2020-03-13",
                    "2020-03-16",
                    "2020-03-17",
                    "2020-03-18",
                    "2020-03-19",
                    "2020-03-20",
                    "2020-03-23",
                    "2020-03-24",
                    "2020-03-25",
                    "2020-03-26",
                    "2020-03-27",
                    "2020-03-30",
                    "2020-03-31",
                    "2020-04-01",
                    "2020-04-02",
                    "2020-04-03",
                    "2020-04-06",
                    "2020-04-07",
                    "2020-04-08",
                    "2020-04-09",
                    "2020-04-13",
                    "2020-04-14",
                    "2020-04-15",
                    "2020-04-16",
                    "2020-04-17",
                    "2020-04-20",
                    "2020-04-21",
                    "2020-04-22",
                    "2020-04-23",
                    "2020-04-24",
                    "2020-04-27",
                    "2020-04-28",
                    "2020-04-29",
                    "2020-04-30",
                    "2020-05-01",
                    "2020-05-04"
                  ],
                  "y": [
                    0,
                    0,
                    0.041666666666666664,
                    0.03333333333333333,
                    0.02,
                    0.011235955056179775,
                    0.011235955056179775,
                    0.0117096018735363,
                    0.012129380053908356,
                    0.012359550561797753,
                    0.00949367088607595,
                    0.01197278911564626,
                    0.014084507042253521,
                    0.011780104712041885,
                    0.012237960339943343,
                    0.011901899495070931,
                    0.014281129653401798,
                    0.015951471579420354,
                    0.020984759671746775,
                    0.021608964709817696,
                    0.024409832075930882,
                    0.027737752161383286,
                    0.03170520901406076,
                    0.03331569561212691,
                    0.03782670630496717,
                    0.04075613158200628,
                    0.044431930170350555,
                    0.04670924226934158,
                    0.04893777001796934,
                    0.04928721032362678,
                    0.051446632101919104,
                    0.05281385281385281,
                    0.053685905449599454,
                    0.054963012250968724,
                    0.054358383998273196,
                    0.05658024170882518,
                    0.05822954654923278,
                    0.06091764150625358,
                    0.0621998514728938,
                    0.061667277362418046
                  ]
                }
              ],
              "layout": {
                "template": {
                  "data": {
                    "bar": [
                      {
                        "error_x": {
                          "color": "#2a3f5f"
                        },
                        "error_y": {
                          "color": "#2a3f5f"
                        },
                        "marker": {
                          "line": {
                            "color": "#E5ECF6",
                            "width": 0.5
                          }
                        },
                        "type": "bar"
                      }
                    ],
                    "barpolar": [
                      {
                        "marker": {
                          "line": {
                            "color": "#E5ECF6",
                            "width": 0.5
                          }
                        },
                        "type": "barpolar"
                      }
                    ],
                    "carpet": [
                      {
                        "aaxis": {
                          "endlinecolor": "#2a3f5f",
                          "gridcolor": "white",
                          "linecolor": "white",
                          "minorgridcolor": "white",
                          "startlinecolor": "#2a3f5f"
                        },
                        "baxis": {
                          "endlinecolor": "#2a3f5f",
                          "gridcolor": "white",
                          "linecolor": "white",
                          "minorgridcolor": "white",
                          "startlinecolor": "#2a3f5f"
                        },
                        "type": "carpet"
                      }
                    ],
                    "choropleth": [
                      {
                        "colorbar": {
                          "outlinewidth": 0,
                          "ticks": ""
                        },
                        "type": "choropleth"
                      }
                    ],
                    "contour": [
                      {
                        "colorbar": {
                          "outlinewidth": 0,
                          "ticks": ""
                        },
                        "colorscale": [
                          [
                            0,
                            "#0d0887"
                          ],
                          [
                            0.1111111111111111,
                            "#46039f"
                          ],
                          [
                            0.2222222222222222,
                            "#7201a8"
                          ],
                          [
                            0.3333333333333333,
                            "#9c179e"
                          ],
                          [
                            0.4444444444444444,
                            "#bd3786"
                          ],
                          [
                            0.5555555555555556,
                            "#d8576b"
                          ],
                          [
                            0.6666666666666666,
                            "#ed7953"
                          ],
                          [
                            0.7777777777777778,
                            "#fb9f3a"
                          ],
                          [
                            0.8888888888888888,
                            "#fdca26"
                          ],
                          [
                            1,
                            "#f0f921"
                          ]
                        ],
                        "type": "contour"
                      }
                    ],
                    "contourcarpet": [
                      {
                        "colorbar": {
                          "outlinewidth": 0,
                          "ticks": ""
                        },
                        "type": "contourcarpet"
                      }
                    ],
                    "heatmap": [
                      {
                        "colorbar": {
                          "outlinewidth": 0,
                          "ticks": ""
                        },
                        "colorscale": [
                          [
                            0,
                            "#0d0887"
                          ],
                          [
                            0.1111111111111111,
                            "#46039f"
                          ],
                          [
                            0.2222222222222222,
                            "#7201a8"
                          ],
                          [
                            0.3333333333333333,
                            "#9c179e"
                          ],
                          [
                            0.4444444444444444,
                            "#bd3786"
                          ],
                          [
                            0.5555555555555556,
                            "#d8576b"
                          ],
                          [
                            0.6666666666666666,
                            "#ed7953"
                          ],
                          [
                            0.7777777777777778,
                            "#fb9f3a"
                          ],
                          [
                            0.8888888888888888,
                            "#fdca26"
                          ],
                          [
                            1,
                            "#f0f921"
                          ]
                        ],
                        "type": "heatmap"
                      }
                    ],
                    "heatmapgl": [
                      {
                        "colorbar": {
                          "outlinewidth": 0,
                          "ticks": ""
                        },
                        "colorscale": [
                          [
                            0,
                            "#0d0887"
                          ],
                          [
                            0.1111111111111111,
                            "#46039f"
                          ],
                          [
                            0.2222222222222222,
                            "#7201a8"
                          ],
                          [
                            0.3333333333333333,
                            "#9c179e"
                          ],
                          [
                            0.4444444444444444,
                            "#bd3786"
                          ],
                          [
                            0.5555555555555556,
                            "#d8576b"
                          ],
                          [
                            0.6666666666666666,
                            "#ed7953"
                          ],
                          [
                            0.7777777777777778,
                            "#fb9f3a"
                          ],
                          [
                            0.8888888888888888,
                            "#fdca26"
                          ],
                          [
                            1,
                            "#f0f921"
                          ]
                        ],
                        "type": "heatmapgl"
                      }
                    ],
                    "histogram": [
                      {
                        "marker": {
                          "colorbar": {
                            "outlinewidth": 0,
                            "ticks": ""
                          }
                        },
                        "type": "histogram"
                      }
                    ],
                    "histogram2d": [
                      {
                        "colorbar": {
                          "outlinewidth": 0,
                          "ticks": ""
                        },
                        "colorscale": [
                          [
                            0,
                            "#0d0887"
                          ],
                          [
                            0.1111111111111111,
                            "#46039f"
                          ],
                          [
                            0.2222222222222222,
                            "#7201a8"
                          ],
                          [
                            0.3333333333333333,
                            "#9c179e"
                          ],
                          [
                            0.4444444444444444,
                            "#bd3786"
                          ],
                          [
                            0.5555555555555556,
                            "#d8576b"
                          ],
                          [
                            0.6666666666666666,
                            "#ed7953"
                          ],
                          [
                            0.7777777777777778,
                            "#fb9f3a"
                          ],
                          [
                            0.8888888888888888,
                            "#fdca26"
                          ],
                          [
                            1,
                            "#f0f921"
                          ]
                        ],
                        "type": "histogram2d"
                      }
                    ],
                    "histogram2dcontour": [
                      {
                        "colorbar": {
                          "outlinewidth": 0,
                          "ticks": ""
                        },
                        "colorscale": [
                          [
                            0,
                            "#0d0887"
                          ],
                          [
                            0.1111111111111111,
                            "#46039f"
                          ],
                          [
                            0.2222222222222222,
                            "#7201a8"
                          ],
                          [
                            0.3333333333333333,
                            "#9c179e"
                          ],
                          [
                            0.4444444444444444,
                            "#bd3786"
                          ],
                          [
                            0.5555555555555556,
                            "#d8576b"
                          ],
                          [
                            0.6666666666666666,
                            "#ed7953"
                          ],
                          [
                            0.7777777777777778,
                            "#fb9f3a"
                          ],
                          [
                            0.8888888888888888,
                            "#fdca26"
                          ],
                          [
                            1,
                            "#f0f921"
                          ]
                        ],
                        "type": "histogram2dcontour"
                      }
                    ],
                    "mesh3d": [
                      {
                        "colorbar": {
                          "outlinewidth": 0,
                          "ticks": ""
                        },
                        "type": "mesh3d"
                      }
                    ],
                    "parcoords": [
                      {
                        "line": {
                          "colorbar": {
                            "outlinewidth": 0,
                            "ticks": ""
                          }
                        },
                        "type": "parcoords"
                      }
                    ],
                    "scatter": [
                      {
                        "marker": {
                          "colorbar": {
                            "outlinewidth": 0,
                            "ticks": ""
                          }
                        },
                        "type": "scatter"
                      }
                    ],
                    "scatter3d": [
                      {
                        "line": {
                          "colorbar": {
                            "outlinewidth": 0,
                            "ticks": ""
                          }
                        },
                        "marker": {
                          "colorbar": {
                            "outlinewidth": 0,
                            "ticks": ""
                          }
                        },
                        "type": "scatter3d"
                      }
                    ],
                    "scattercarpet": [
                      {
                        "marker": {
                          "colorbar": {
                            "outlinewidth": 0,
                            "ticks": ""
                          }
                        },
                        "type": "scattercarpet"
                      }
                    ],
                    "scattergeo": [
                      {
                        "marker": {
                          "colorbar": {
                            "outlinewidth": 0,
                            "ticks": ""
                          }
                        },
                        "type": "scattergeo"
                      }
                    ],
                    "scattergl": [
                      {
                        "marker": {
                          "colorbar": {
                            "outlinewidth": 0,
                            "ticks": ""
                          }
                        },
                        "type": "scattergl"
                      }
                    ],
                    "scattermapbox": [
                      {
                        "marker": {
                          "colorbar": {
                            "outlinewidth": 0,
                            "ticks": ""
                          }
                        },
                        "type": "scattermapbox"
                      }
                    ],
                    "scatterpolar": [
                      {
                        "marker": {
                          "colorbar": {
                            "outlinewidth": 0,
                            "ticks": ""
                          }
                        },
                        "type": "scatterpolar"
                      }
                    ],
                    "scatterpolargl": [
                      {
                        "marker": {
                          "colorbar": {
                            "outlinewidth": 0,
                            "ticks": ""
                          }
                        },
                        "type": "scatterpolargl"
                      }
                    ],
                    "scatterternary": [
                      {
                        "marker": {
                          "colorbar": {
                            "outlinewidth": 0,
                            "ticks": ""
                          }
                        },
                        "type": "scatterternary"
                      }
                    ],
                    "surface": [
                      {
                        "colorbar": {
                          "outlinewidth": 0,
                          "ticks": ""
                        },
                        "colorscale": [
                          [
                            0,
                            "#0d0887"
                          ],
                          [
                            0.1111111111111111,
                            "#46039f"
                          ],
                          [
                            0.2222222222222222,
                            "#7201a8"
                          ],
                          [
                            0.3333333333333333,
                            "#9c179e"
                          ],
                          [
                            0.4444444444444444,
                            "#bd3786"
                          ],
                          [
                            0.5555555555555556,
                            "#d8576b"
                          ],
                          [
                            0.6666666666666666,
                            "#ed7953"
                          ],
                          [
                            0.7777777777777778,
                            "#fb9f3a"
                          ],
                          [
                            0.8888888888888888,
                            "#fdca26"
                          ],
                          [
                            1,
                            "#f0f921"
                          ]
                        ],
                        "type": "surface"
                      }
                    ],
                    "table": [
                      {
                        "cells": {
                          "fill": {
                            "color": "#EBF0F8"
                          },
                          "line": {
                            "color": "white"
                          }
                        },
                        "header": {
                          "fill": {
                            "color": "#C8D4E3"
                          },
                          "line": {
                            "color": "white"
                          }
                        },
                        "type": "table"
                      }
                    ]
                  },
                  "layout": {
                    "annotationdefaults": {
                      "arrowcolor": "#2a3f5f",
                      "arrowhead": 0,
                      "arrowwidth": 1
                    },
                    "colorscale": {
                      "diverging": [
                        [
                          0,
                          "#8e0152"
                        ],
                        [
                          0.1,
                          "#c51b7d"
                        ],
                        [
                          0.2,
                          "#de77ae"
                        ],
                        [
                          0.3,
                          "#f1b6da"
                        ],
                        [
                          0.4,
                          "#fde0ef"
                        ],
                        [
                          0.5,
                          "#f7f7f7"
                        ],
                        [
                          0.6,
                          "#e6f5d0"
                        ],
                        [
                          0.7,
                          "#b8e186"
                        ],
                        [
                          0.8,
                          "#7fbc41"
                        ],
                        [
                          0.9,
                          "#4d9221"
                        ],
                        [
                          1,
                          "#276419"
                        ]
                      ],
                      "sequential": [
                        [
                          0,
                          "#0d0887"
                        ],
                        [
                          0.1111111111111111,
                          "#46039f"
                        ],
                        [
                          0.2222222222222222,
                          "#7201a8"
                        ],
                        [
                          0.3333333333333333,
                          "#9c179e"
                        ],
                        [
                          0.4444444444444444,
                          "#bd3786"
                        ],
                        [
                          0.5555555555555556,
                          "#d8576b"
                        ],
                        [
                          0.6666666666666666,
                          "#ed7953"
                        ],
                        [
                          0.7777777777777778,
                          "#fb9f3a"
                        ],
                        [
                          0.8888888888888888,
                          "#fdca26"
                        ],
                        [
                          1,
                          "#f0f921"
                        ]
                      ],
                      "sequentialminus": [
                        [
                          0,
                          "#0d0887"
                        ],
                        [
                          0.1111111111111111,
                          "#46039f"
                        ],
                        [
                          0.2222222222222222,
                          "#7201a8"
                        ],
                        [
                          0.3333333333333333,
                          "#9c179e"
                        ],
                        [
                          0.4444444444444444,
                          "#bd3786"
                        ],
                        [
                          0.5555555555555556,
                          "#d8576b"
                        ],
                        [
                          0.6666666666666666,
                          "#ed7953"
                        ],
                        [
                          0.7777777777777778,
                          "#fb9f3a"
                        ],
                        [
                          0.8888888888888888,
                          "#fdca26"
                        ],
                        [
                          1,
                          "#f0f921"
                        ]
                      ]
                    },
                    "colorway": [
                      "#636efa",
                      "#EF553B",
                      "#00cc96",
                      "#ab63fa",
                      "#FFA15A",
                      "#19d3f3",
                      "#FF6692",
                      "#B6E880",
                      "#FF97FF",
                      "#FECB52"
                    ],
                    "font": {
                      "color": "#2a3f5f"
                    },
                    "geo": {
                      "bgcolor": "white",
                      "lakecolor": "white",
                      "landcolor": "#E5ECF6",
                      "showlakes": true,
                      "showland": true,
                      "subunitcolor": "white"
                    },
                    "hoverlabel": {
                      "align": "left"
                    },
                    "hovermode": "closest",
                    "mapbox": {
                      "style": "light"
                    },
                    "paper_bgcolor": "white",
                    "plot_bgcolor": "#E5ECF6",
                    "polar": {
                      "angularaxis": {
                        "gridcolor": "white",
                        "linecolor": "white",
                        "ticks": ""
                      },
                      "bgcolor": "#E5ECF6",
                      "radialaxis": {
                        "gridcolor": "white",
                        "linecolor": "white",
                        "ticks": ""
                      }
                    },
                    "scene": {
                      "xaxis": {
                        "backgroundcolor": "#E5ECF6",
                        "gridcolor": "white",
                        "gridwidth": 2,
                        "linecolor": "white",
                        "showbackground": true,
                        "ticks": "",
                        "zerolinecolor": "white"
                      },
                      "yaxis": {
                        "backgroundcolor": "#E5ECF6",
                        "gridcolor": "white",
                        "gridwidth": 2,
                        "linecolor": "white",
                        "showbackground": true,
                        "ticks": "",
                        "zerolinecolor": "white"
                      },
                      "zaxis": {
                        "backgroundcolor": "#E5ECF6",
                        "gridcolor": "white",
                        "gridwidth": 2,
                        "linecolor": "white",
                        "showbackground": true,
                        "ticks": "",
                        "zerolinecolor": "white"
                      }
                    },
                    "shapedefaults": {
                      "line": {
                        "color": "#2a3f5f"
                      }
                    },
                    "ternary": {
                      "aaxis": {
                        "gridcolor": "white",
                        "linecolor": "white",
                        "ticks": ""
                      },
                      "baxis": {
                        "gridcolor": "white",
                        "linecolor": "white",
                        "ticks": ""
                      },
                      "bgcolor": "#E5ECF6",
                      "caxis": {
                        "gridcolor": "white",
                        "linecolor": "white",
                        "ticks": ""
                      }
                    },
                    "title": {
                      "x": 0.05
                    },
                    "xaxis": {
                      "automargin": true,
                      "gridcolor": "white",
                      "linecolor": "white",
                      "ticks": "",
                      "zerolinecolor": "white",
                      "zerolinewidth": 2
                    },
                    "yaxis": {
                      "automargin": true,
                      "gridcolor": "white",
                      "linecolor": "white",
                      "ticks": "",
                      "zerolinecolor": "white",
                      "zerolinewidth": 2
                    }
                  }
                },
                "title": {
                  "text": "Confirmed Rate, Negative Rate & Death Rate"
                },
                "xaxis": {
                  "title": {
                    "text": ""
                  }
                },
                "yaxis": {
                  "title": {
                    "text": ""
                  }
                }
              }
            },
            "text/html": [
              "<div>\n",
              "        \n",
              "        \n",
              "            <div id=\"885af97c-df4b-4c19-a98e-ae47811a44fd\" class=\"plotly-graph-div\" style=\"height:525px; width:100%;\"></div>\n",
              "            <script type=\"text/javascript\">\n",
              "                require([\"plotly\"], function(Plotly) {\n",
              "                    window.PLOTLYENV=window.PLOTLYENV || {};\n",
              "                    \n",
              "                if (document.getElementById(\"885af97c-df4b-4c19-a98e-ae47811a44fd\")) {\n",
              "                    Plotly.newPlot(\n",
              "                        '885af97c-df4b-4c19-a98e-ae47811a44fd',\n",
              "                        [{\"mode\": \"lines+markers\", \"name\": \"Positive Rate\", \"type\": \"scatter\", \"x\": [\"2020-03-09\", \"2020-03-10\", \"2020-03-11\", \"2020-03-12\", \"2020-03-13\", \"2020-03-16\", \"2020-03-17\", \"2020-03-18\", \"2020-03-19\", \"2020-03-20\", \"2020-03-23\", \"2020-03-24\", \"2020-03-25\", \"2020-03-26\", \"2020-03-27\", \"2020-03-30\", \"2020-03-31\", \"2020-04-01\", \"2020-04-02\", \"2020-04-03\", \"2020-04-06\", \"2020-04-07\", \"2020-04-08\", \"2020-04-09\", \"2020-04-13\", \"2020-04-14\", \"2020-04-15\", \"2020-04-16\", \"2020-04-17\", \"2020-04-20\", \"2020-04-21\", \"2020-04-22\", \"2020-04-23\", \"2020-04-24\", \"2020-04-27\", \"2020-04-28\", \"2020-04-29\", \"2020-04-30\", \"2020-05-01\", \"2020-05-04\"], \"y\": [0.2391304347826087, 0.2542372881355932, 0.2962962962962963, 0.28846153846153844, 0.3401360544217687, 0.5973154362416108, 0.6209302325581395, 0.6920583468395461, 0.7794117647058824, 0.7712305025996534, 0.8879175772713082, 0.30625, 0.2963511512050626, 0.33481034230900325, 0.3478243733249251, 0.3974199713330148, 0.4084503965219671, 0.42276129326393375, 0.43292167145998983, 0.442869205813075, 0.46151945367957586, 0.4676648345863078, 0.4724047960484385, 0.4760336592283006, 0.4988375595702446, 0.49239486599796817, 0.4931919650606509, 0.4960613844431272, 0.49836454979072586, 0.49875040015276006, 0.49985932715094195, 0.5001852248002964, 0.4995753142674421, 0.49618861731775765, 0.48814839205356164, 0.48581876522770623, 0.481787516886432, 0.4785937285715438, 0.4723927576058781, 0.4626974965731188]}, {\"mode\": \"lines+markers\", \"name\": \"Negative Rate\", \"type\": \"scatter\", \"x\": [\"2020-03-09\", \"2020-03-10\", \"2020-03-11\", \"2020-03-12\", \"2020-03-13\", \"2020-03-16\", \"2020-03-17\", \"2020-03-18\", \"2020-03-19\", \"2020-03-20\", \"2020-03-23\", \"2020-03-24\", \"2020-03-25\", \"2020-03-26\", \"2020-03-27\", \"2020-03-30\", \"2020-03-31\", \"2020-04-01\", \"2020-04-02\", \"2020-04-03\", \"2020-04-06\", \"2020-04-07\", \"2020-04-08\", \"2020-04-09\", \"2020-04-13\", \"2020-04-14\", \"2020-04-15\", \"2020-04-16\", \"2020-04-17\", \"2020-04-20\", \"2020-04-21\", \"2020-04-22\", \"2020-04-23\", \"2020-04-24\", \"2020-04-27\", \"2020-04-28\", \"2020-04-29\", \"2020-04-30\", \"2020-05-01\", \"2020-05-04\"], \"y\": [0.7608695652173914, 0.7457627118644068, 0.7037037037037037, 0.7115384615384616, 0.6598639455782312, 0.40268456375838924, 0.37906976744186044, 0.3079416531604538, 0.22058823529411764, 0.22876949740034663, 0.11208242272869186, 0.69375, 0.7036488487949374, 0.6651896576909967, 0.6521756266750749, 0.6025800286669852, 0.5915496034780329, 0.5772387067360663, 0.5670783285400102, 0.557130794186925, 0.5384805463204241, 0.5323351654136922, 0.5275952039515615, 0.5239663407716993, 0.5011624404297554, 0.5076051340020319, 0.5068080349393491, 0.5039386155568728, 0.5016354502092741, 0.5012495998472399, 0.500140672849058, 0.49981477519970363, 0.5004246857325579, 0.5038113826822423, 0.5118516079464384, 0.5141812347722938, 0.5182124831135679, 0.5214062714284562, 0.5276072423941219, 0.5373025034268811]}, {\"mode\": \"lines+markers\", \"name\": \"Death Rate\", \"type\": \"scatter\", \"x\": [\"2020-03-09\", \"2020-03-10\", \"2020-03-11\", \"2020-03-12\", \"2020-03-13\", \"2020-03-16\", \"2020-03-17\", \"2020-03-18\", \"2020-03-19\", \"2020-03-20\", \"2020-03-23\", \"2020-03-24\", \"2020-03-25\", \"2020-03-26\", \"2020-03-27\", \"2020-03-30\", \"2020-03-31\", \"2020-04-01\", \"2020-04-02\", \"2020-04-03\", \"2020-04-06\", \"2020-04-07\", \"2020-04-08\", \"2020-04-09\", \"2020-04-13\", \"2020-04-14\", \"2020-04-15\", \"2020-04-16\", \"2020-04-17\", \"2020-04-20\", \"2020-04-21\", \"2020-04-22\", \"2020-04-23\", \"2020-04-24\", \"2020-04-27\", \"2020-04-28\", \"2020-04-29\", \"2020-04-30\", \"2020-05-01\", \"2020-05-04\"], \"y\": [0.0, 0.0, 0.041666666666666664, 0.03333333333333333, 0.02, 0.011235955056179775, 0.011235955056179775, 0.0117096018735363, 0.012129380053908356, 0.012359550561797753, 0.00949367088607595, 0.01197278911564626, 0.014084507042253521, 0.011780104712041885, 0.012237960339943343, 0.011901899495070931, 0.014281129653401798, 0.015951471579420354, 0.020984759671746775, 0.021608964709817696, 0.024409832075930882, 0.027737752161383286, 0.03170520901406076, 0.03331569561212691, 0.03782670630496717, 0.04075613158200628, 0.044431930170350555, 0.04670924226934158, 0.04893777001796934, 0.04928721032362678, 0.051446632101919104, 0.05281385281385281, 0.053685905449599454, 0.054963012250968724, 0.054358383998273196, 0.05658024170882518, 0.05822954654923278, 0.06091764150625358, 0.0621998514728938, 0.061667277362418046]}],\n",
              "                        {\"template\": {\"data\": {\"bar\": [{\"error_x\": {\"color\": \"#2a3f5f\"}, \"error_y\": {\"color\": \"#2a3f5f\"}, \"marker\": {\"line\": {\"color\": \"#E5ECF6\", \"width\": 0.5}}, \"type\": \"bar\"}], \"barpolar\": [{\"marker\": {\"line\": {\"color\": \"#E5ECF6\", \"width\": 0.5}}, \"type\": \"barpolar\"}], \"carpet\": [{\"aaxis\": {\"endlinecolor\": \"#2a3f5f\", \"gridcolor\": \"white\", \"linecolor\": \"white\", \"minorgridcolor\": \"white\", \"startlinecolor\": \"#2a3f5f\"}, \"baxis\": {\"endlinecolor\": \"#2a3f5f\", \"gridcolor\": \"white\", \"linecolor\": \"white\", \"minorgridcolor\": \"white\", \"startlinecolor\": \"#2a3f5f\"}, \"type\": \"carpet\"}], \"choropleth\": [{\"colorbar\": {\"outlinewidth\": 0, \"ticks\": \"\"}, \"type\": \"choropleth\"}], \"contour\": [{\"colorbar\": {\"outlinewidth\": 0, \"ticks\": \"\"}, \"colorscale\": [[0.0, \"#0d0887\"], [0.1111111111111111, \"#46039f\"], [0.2222222222222222, \"#7201a8\"], [0.3333333333333333, \"#9c179e\"], [0.4444444444444444, \"#bd3786\"], [0.5555555555555556, \"#d8576b\"], [0.6666666666666666, \"#ed7953\"], [0.7777777777777778, \"#fb9f3a\"], [0.8888888888888888, \"#fdca26\"], [1.0, \"#f0f921\"]], \"type\": \"contour\"}], \"contourcarpet\": [{\"colorbar\": {\"outlinewidth\": 0, \"ticks\": \"\"}, \"type\": \"contourcarpet\"}], \"heatmap\": [{\"colorbar\": {\"outlinewidth\": 0, \"ticks\": \"\"}, \"colorscale\": [[0.0, \"#0d0887\"], [0.1111111111111111, \"#46039f\"], [0.2222222222222222, \"#7201a8\"], [0.3333333333333333, \"#9c179e\"], [0.4444444444444444, \"#bd3786\"], [0.5555555555555556, \"#d8576b\"], [0.6666666666666666, \"#ed7953\"], [0.7777777777777778, \"#fb9f3a\"], [0.8888888888888888, \"#fdca26\"], [1.0, \"#f0f921\"]], \"type\": \"heatmap\"}], \"heatmapgl\": [{\"colorbar\": {\"outlinewidth\": 0, \"ticks\": \"\"}, \"colorscale\": [[0.0, \"#0d0887\"], [0.1111111111111111, \"#46039f\"], [0.2222222222222222, \"#7201a8\"], [0.3333333333333333, \"#9c179e\"], [0.4444444444444444, \"#bd3786\"], [0.5555555555555556, \"#d8576b\"], [0.6666666666666666, \"#ed7953\"], [0.7777777777777778, \"#fb9f3a\"], [0.8888888888888888, \"#fdca26\"], [1.0, \"#f0f921\"]], \"type\": \"heatmapgl\"}], \"histogram\": [{\"marker\": {\"colorbar\": {\"outlinewidth\": 0, \"ticks\": \"\"}}, \"type\": \"histogram\"}], \"histogram2d\": [{\"colorbar\": {\"outlinewidth\": 0, \"ticks\": \"\"}, \"colorscale\": [[0.0, \"#0d0887\"], [0.1111111111111111, \"#46039f\"], [0.2222222222222222, \"#7201a8\"], [0.3333333333333333, \"#9c179e\"], [0.4444444444444444, \"#bd3786\"], [0.5555555555555556, \"#d8576b\"], [0.6666666666666666, \"#ed7953\"], [0.7777777777777778, \"#fb9f3a\"], [0.8888888888888888, \"#fdca26\"], [1.0, \"#f0f921\"]], \"type\": \"histogram2d\"}], \"histogram2dcontour\": [{\"colorbar\": {\"outlinewidth\": 0, \"ticks\": \"\"}, \"colorscale\": [[0.0, \"#0d0887\"], [0.1111111111111111, \"#46039f\"], [0.2222222222222222, \"#7201a8\"], [0.3333333333333333, \"#9c179e\"], [0.4444444444444444, \"#bd3786\"], [0.5555555555555556, \"#d8576b\"], [0.6666666666666666, \"#ed7953\"], [0.7777777777777778, \"#fb9f3a\"], [0.8888888888888888, \"#fdca26\"], [1.0, \"#f0f921\"]], \"type\": \"histogram2dcontour\"}], \"mesh3d\": [{\"colorbar\": {\"outlinewidth\": 0, \"ticks\": \"\"}, \"type\": \"mesh3d\"}], \"parcoords\": [{\"line\": {\"colorbar\": {\"outlinewidth\": 0, \"ticks\": \"\"}}, \"type\": \"parcoords\"}], \"scatter\": [{\"marker\": {\"colorbar\": {\"outlinewidth\": 0, \"ticks\": \"\"}}, \"type\": \"scatter\"}], \"scatter3d\": [{\"line\": {\"colorbar\": {\"outlinewidth\": 0, \"ticks\": \"\"}}, \"marker\": {\"colorbar\": {\"outlinewidth\": 0, \"ticks\": \"\"}}, \"type\": \"scatter3d\"}], \"scattercarpet\": [{\"marker\": {\"colorbar\": {\"outlinewidth\": 0, \"ticks\": \"\"}}, \"type\": \"scattercarpet\"}], \"scattergeo\": [{\"marker\": {\"colorbar\": {\"outlinewidth\": 0, \"ticks\": \"\"}}, \"type\": \"scattergeo\"}], \"scattergl\": [{\"marker\": {\"colorbar\": {\"outlinewidth\": 0, \"ticks\": \"\"}}, \"type\": \"scattergl\"}], \"scattermapbox\": [{\"marker\": {\"colorbar\": {\"outlinewidth\": 0, \"ticks\": \"\"}}, \"type\": \"scattermapbox\"}], \"scatterpolar\": [{\"marker\": {\"colorbar\": {\"outlinewidth\": 0, \"ticks\": \"\"}}, \"type\": \"scatterpolar\"}], \"scatterpolargl\": [{\"marker\": {\"colorbar\": {\"outlinewidth\": 0, \"ticks\": \"\"}}, \"type\": \"scatterpolargl\"}], \"scatterternary\": [{\"marker\": {\"colorbar\": {\"outlinewidth\": 0, \"ticks\": \"\"}}, \"type\": \"scatterternary\"}], \"surface\": [{\"colorbar\": {\"outlinewidth\": 0, \"ticks\": \"\"}, \"colorscale\": [[0.0, \"#0d0887\"], [0.1111111111111111, \"#46039f\"], [0.2222222222222222, \"#7201a8\"], [0.3333333333333333, \"#9c179e\"], [0.4444444444444444, \"#bd3786\"], [0.5555555555555556, \"#d8576b\"], [0.6666666666666666, \"#ed7953\"], [0.7777777777777778, \"#fb9f3a\"], [0.8888888888888888, \"#fdca26\"], [1.0, \"#f0f921\"]], \"type\": \"surface\"}], \"table\": [{\"cells\": {\"fill\": {\"color\": \"#EBF0F8\"}, \"line\": {\"color\": \"white\"}}, \"header\": {\"fill\": {\"color\": \"#C8D4E3\"}, \"line\": {\"color\": \"white\"}}, \"type\": \"table\"}]}, \"layout\": {\"annotationdefaults\": {\"arrowcolor\": \"#2a3f5f\", \"arrowhead\": 0, \"arrowwidth\": 1}, \"colorscale\": {\"diverging\": [[0, \"#8e0152\"], [0.1, \"#c51b7d\"], [0.2, \"#de77ae\"], [0.3, \"#f1b6da\"], [0.4, \"#fde0ef\"], [0.5, \"#f7f7f7\"], [0.6, \"#e6f5d0\"], [0.7, \"#b8e186\"], [0.8, \"#7fbc41\"], [0.9, \"#4d9221\"], [1, \"#276419\"]], \"sequential\": [[0.0, \"#0d0887\"], [0.1111111111111111, \"#46039f\"], [0.2222222222222222, \"#7201a8\"], [0.3333333333333333, \"#9c179e\"], [0.4444444444444444, \"#bd3786\"], [0.5555555555555556, \"#d8576b\"], [0.6666666666666666, \"#ed7953\"], [0.7777777777777778, \"#fb9f3a\"], [0.8888888888888888, \"#fdca26\"], [1.0, \"#f0f921\"]], \"sequentialminus\": [[0.0, \"#0d0887\"], [0.1111111111111111, \"#46039f\"], [0.2222222222222222, \"#7201a8\"], [0.3333333333333333, \"#9c179e\"], [0.4444444444444444, \"#bd3786\"], [0.5555555555555556, \"#d8576b\"], [0.6666666666666666, \"#ed7953\"], [0.7777777777777778, \"#fb9f3a\"], [0.8888888888888888, \"#fdca26\"], [1.0, \"#f0f921\"]]}, \"colorway\": [\"#636efa\", \"#EF553B\", \"#00cc96\", \"#ab63fa\", \"#FFA15A\", \"#19d3f3\", \"#FF6692\", \"#B6E880\", \"#FF97FF\", \"#FECB52\"], \"font\": {\"color\": \"#2a3f5f\"}, \"geo\": {\"bgcolor\": \"white\", \"lakecolor\": \"white\", \"landcolor\": \"#E5ECF6\", \"showlakes\": true, \"showland\": true, \"subunitcolor\": \"white\"}, \"hoverlabel\": {\"align\": \"left\"}, \"hovermode\": \"closest\", \"mapbox\": {\"style\": \"light\"}, \"paper_bgcolor\": \"white\", \"plot_bgcolor\": \"#E5ECF6\", \"polar\": {\"angularaxis\": {\"gridcolor\": \"white\", \"linecolor\": \"white\", \"ticks\": \"\"}, \"bgcolor\": \"#E5ECF6\", \"radialaxis\": {\"gridcolor\": \"white\", \"linecolor\": \"white\", \"ticks\": \"\"}}, \"scene\": {\"xaxis\": {\"backgroundcolor\": \"#E5ECF6\", \"gridcolor\": \"white\", \"gridwidth\": 2, \"linecolor\": \"white\", \"showbackground\": true, \"ticks\": \"\", \"zerolinecolor\": \"white\"}, \"yaxis\": {\"backgroundcolor\": \"#E5ECF6\", \"gridcolor\": \"white\", \"gridwidth\": 2, \"linecolor\": \"white\", \"showbackground\": true, \"ticks\": \"\", \"zerolinecolor\": \"white\"}, \"zaxis\": {\"backgroundcolor\": \"#E5ECF6\", \"gridcolor\": \"white\", \"gridwidth\": 2, \"linecolor\": \"white\", \"showbackground\": true, \"ticks\": \"\", \"zerolinecolor\": \"white\"}}, \"shapedefaults\": {\"line\": {\"color\": \"#2a3f5f\"}}, \"ternary\": {\"aaxis\": {\"gridcolor\": \"white\", \"linecolor\": \"white\", \"ticks\": \"\"}, \"baxis\": {\"gridcolor\": \"white\", \"linecolor\": \"white\", \"ticks\": \"\"}, \"bgcolor\": \"#E5ECF6\", \"caxis\": {\"gridcolor\": \"white\", \"linecolor\": \"white\", \"ticks\": \"\"}}, \"title\": {\"x\": 0.05}, \"xaxis\": {\"automargin\": true, \"gridcolor\": \"white\", \"linecolor\": \"white\", \"ticks\": \"\", \"zerolinecolor\": \"white\", \"zerolinewidth\": 2}, \"yaxis\": {\"automargin\": true, \"gridcolor\": \"white\", \"linecolor\": \"white\", \"ticks\": \"\", \"zerolinecolor\": \"white\", \"zerolinewidth\": 2}}}, \"title\": {\"text\": \"Confirmed Rate, Negative Rate & Death Rate\"}, \"xaxis\": {\"title\": {\"text\": \"\"}}, \"yaxis\": {\"title\": {\"text\": \"\"}}},\n",
              "                        {\"responsive\": true}\n",
              "                    ).then(function(){\n",
              "                            \n",
              "var gd = document.getElementById('885af97c-df4b-4c19-a98e-ae47811a44fd');\n",
              "var x = new MutationObserver(function (mutations, observer) {{\n",
              "        var display = window.getComputedStyle(gd).display;\n",
              "        if (!display || display === 'none') {{\n",
              "            console.log([gd, 'removed!']);\n",
              "            Plotly.purge(gd);\n",
              "            observer.disconnect();\n",
              "        }}\n",
              "}});\n",
              "\n",
              "// Listen for the removal of the full notebook cells\n",
              "var notebookContainer = gd.closest('#notebook-container');\n",
              "if (notebookContainer) {{\n",
              "    x.observe(notebookContainer, {childList: true});\n",
              "}}\n",
              "\n",
              "// Listen for the clearing of the current output cell\n",
              "var outputEl = gd.closest('.output');\n",
              "if (outputEl) {{\n",
              "    x.observe(outputEl, {childList: true});\n",
              "}}\n",
              "\n",
              "                        })\n",
              "                };\n",
              "                });\n",
              "            </script>\n",
              "        </div>"
            ]
          },
          "metadata": {
            "tags": []
          }
        }
      ]
    },
    {
      "cell_type": "markdown",
      "metadata": {
        "id": "DcJH29ejrDue",
        "colab_type": "text"
      },
      "source": [
        "###### Inference from above graph: This is interesting that in the intial few days of the outbreak there are mostly postive cases, this is due to testing being limited to high potential people whle we can see that with time testing has picked up and negative and positive cases seems to be breaking even in the current scenario and negative cases are more after the complete lockdown, while death rate seems to be gently increasing "
      ]
    },
    {
      "cell_type": "code",
      "metadata": {
        "id": "K6CGDaTurDuf",
        "colab_type": "code",
        "colab": {}
      },
      "source": [
        "## Sketch Pre period also for this\n",
        "lockdown_dt= pd.to_datetime('2020-03-18').strftime('%Y-%m-%d')\n",
        "x_sel['Period']= np.where(x_sel['date'] >= lockdown_dt, 'PostLockdown', 'PreLockdown')\n",
        "\n",
        "x_sel['UberTradedStocks']= x_sel['UberVolume']* x_sel['UberClosingPrice']\n",
        "x_sel['LyftTradedStocks']= x_sel['LyftVolume'] * x_sel['LyftClosingPrice']\n"
      ],
      "execution_count": 0,
      "outputs": []
    },
    {
      "cell_type": "code",
      "metadata": {
        "id": "V39uBONqrDum",
        "colab_type": "code",
        "colab": {},
        "outputId": "a605a4d1-ccaa-4444-d460-b2dacd1847ab"
      },
      "source": [
        "time_eda= pd.to_datetime('2020-01-01').strftime('%Y-%m-%d')\n",
        "x_tmp= x_sel.copy()\n",
        "x_tmp = x_tmp[x_tmp['date']>=time_eda] \n",
        "\n",
        "fig = plt.figure(figsize= (20,8))\n",
        "plt.subplot(1,2,1)\n",
        "\n",
        "g =sns.lineplot(x=\"date\", y=\"LyftTradedStocks\",\n",
        "              hue=\"Period\",\n",
        "              data=x_tmp)\n",
        "g.set(xticks=[])\n",
        "\n",
        "plt.subplot(1,2,2)\n",
        "g =sns.lineplot(x=\"date\", y=\"UberTradedStocks\",\n",
        "              hue=\"Period\",\n",
        "              data=x_tmp)\n",
        "g.set(xticks=[])\n",
        "fig.suptitle(\"Day on Day #Traded Stockcs  of Uber | Lyft Pre v/s Post Lockdown Period\", fontsize=20)\n"
      ],
      "execution_count": 0,
      "outputs": [
        {
          "output_type": "execute_result",
          "data": {
            "text/plain": [
              "Text(0.5, 0.98, 'Day on Day #Traded Stockcs  of Uber | Lyft Pre v/s Post Lockdown Period')"
            ]
          },
          "metadata": {
            "tags": []
          },
          "execution_count": 168
        },
        {
          "output_type": "display_data",
          "data": {
            "image/png": "[encoded data removed]",
            "text/plain": [
              "<Figure size 1440x576 with 2 Axes>"
            ]
          },
          "metadata": {
            "tags": [],
            "needs_background": "light"
          }
        }
      ]
    },
    {
      "cell_type": "markdown",
      "metadata": {
        "id": "0P0AR3WrrDuu",
        "colab_type": "text"
      },
      "source": [
        "###### Inference from above graph: We can clearly see that COVID19 outbreak has very badly hit ride sharing market, traded stocks have gone down by very high rate, can be seen from the pre v/s post lockdown period "
      ]
    },
    {
      "cell_type": "code",
      "metadata": {
        "id": "dBffiA_WrDuv",
        "colab_type": "code",
        "colab": {},
        "outputId": "2cf5f187-baab-46d3-9e7e-563bc4dad6fa"
      },
      "source": [
        "df_temp= comb_df.copy()\n",
        "df_temp['Uber_pctChange'] = df_temp['UberClosingPrice'].pct_change(periods=1)\n",
        "df_temp['Lyft_pctChange'] = df_temp['LyftClosingPrice'].pct_change(periods=1)\n",
        "df_temp['Confirmed_pctChange'] = df_temp['cumpositive'].pct_change(periods=1)\n",
        "df_temp = df_temp.iloc[1:]\n",
        "# df_temp.head()\n",
        "\n",
        "fig = go.Figure()\n",
        "fig.add_trace(go.Scatter(x=df_temp['date'], y=df_temp['Confirmed_pctChange'], \n",
        "                         mode='lines+markers', name='Confirmed_pctChange'))\n",
        "\n",
        "fig.add_trace(go.Scatter(x=df_temp['date'], y=df_temp['Uber_pctChange'], \n",
        "                         mode='lines+markers', name='Uber_pctChange'))\n",
        "\n",
        "fig.add_trace(go.Scatter(x=df_temp['date'], y=df_temp['Lyft_pctChange'], \n",
        "                         mode='lines+markers', name='Lyft_pctChange'))\n",
        "\n",
        "fig.update_layout(\n",
        "        xaxis_title=\"\",\n",
        "        yaxis_title=\"\",\n",
        "        title = 'Velocity of -> Confirmed Cases , LyftClosingPrice & UberClosingPrice'\n",
        "#         title = 'CDF [Log Scale]-> Confirmed, Deaths & Negative Results',\n",
        "#         yaxis_type=\"log\"\n",
        "    )\n",
        "fig.show()"
      ],
      "execution_count": 0,
      "outputs": [
        {
          "output_type": "display_data",
          "data": {
            "application/vnd.plotly.v1+json": {
              "config": {
                "plotlyServerURL": "https://plot.ly"
              },
              "data": [
                {
                  "mode": "lines+markers",
                  "name": "Confirmed_pctChange",
                  "type": "scatter",
                  "x": [
                    "2020-03-10",
                    "2020-03-11",
                    "2020-03-12",
                    "2020-03-13",
                    "2020-03-16",
                    "2020-03-17",
                    "2020-03-18",
                    "2020-03-19",
                    "2020-03-20",
                    "2020-03-23",
                    "2020-03-24",
                    "2020-03-25",
                    "2020-03-26",
                    "2020-03-27",
                    "2020-03-30",
                    "2020-03-31",
                    "2020-04-01",
                    "2020-04-02",
                    "2020-04-03",
                    "2020-04-06",
                    "2020-04-07",
                    "2020-04-08",
                    "2020-04-09",
                    "2020-04-13",
                    "2020-04-14",
                    "2020-04-15",
                    "2020-04-16",
                    "2020-04-17",
                    "2020-04-20",
                    "2020-04-21",
                    "2020-04-22",
                    "2020-04-23",
                    "2020-04-24",
                    "2020-04-27",
                    "2020-04-28",
                    "2020-04-29",
                    "2020-04-30",
                    "2020-05-01",
                    "2020-05-04"
                  ],
                  "y": [
                    0.36363636363636354,
                    0.6000000000000001,
                    0.25,
                    0.6666666666666667,
                    2.56,
                    0.5,
                    0.5992509363295879,
                    0.7377049180327868,
                    0.19946091644204844,
                    2.195505617977528,
                    0.29219409282700415,
                    0.19782312925170076,
                    0.5620172648796002,
                    0.2834496800465387,
                    0.885099150141643,
                    0.12382784323154605,
                    0.19036157466837822,
                    0.14985396540103357,
                    0.16822977725674093,
                    0.3744773373473824,
                    0.08094426867851068,
                    0.06801603025936598,
                    0.07567932204819017,
                    0.2656828737727086,
                    0.0656509352161525,
                    0.032052772288736486,
                    0.06035477967056169,
                    0.04182322715987086,
                    0.13176239693119407,
                    0.04032385199198263,
                    0.03764598915431816,
                    0.04301882856099715,
                    0.022072427967076313,
                    0.08798778817174835,
                    0.02399539518653082,
                    0.021149522203485205,
                    0.020539461914264034,
                    0.021390284192428277,
                    0.058412410264873316
                  ]
                },
                {
                  "mode": "lines+markers",
                  "name": "Uber_pctChange",
                  "type": "scatter",
                  "x": [
                    "2020-03-10",
                    "2020-03-11",
                    "2020-03-12",
                    "2020-03-13",
                    "2020-03-16",
                    "2020-03-17",
                    "2020-03-18",
                    "2020-03-19",
                    "2020-03-20",
                    "2020-03-23",
                    "2020-03-24",
                    "2020-03-25",
                    "2020-03-26",
                    "2020-03-27",
                    "2020-03-30",
                    "2020-03-31",
                    "2020-04-01",
                    "2020-04-02",
                    "2020-04-03",
                    "2020-04-06",
                    "2020-04-07",
                    "2020-04-08",
                    "2020-04-09",
                    "2020-04-13",
                    "2020-04-14",
                    "2020-04-15",
                    "2020-04-16",
                    "2020-04-17",
                    "2020-04-20",
                    "2020-04-21",
                    "2020-04-22",
                    "2020-04-23",
                    "2020-04-24",
                    "2020-04-27",
                    "2020-04-28",
                    "2020-04-29",
                    "2020-04-30",
                    "2020-05-01",
                    "2020-05-04"
                  ],
                  "y": [
                    0.02839897053603102,
                    -0.0942353846819256,
                    -0.13833837652439018,
                    -0.00044232638468255647,
                    -0.10221234513274347,
                    -0.06801384583470449,
                    -0.21628767847699626,
                    0.3825910931174088,
                    0.040995607613469875,
                    0.05016408813877171,
                    0.1781249553571429,
                    -0.00757855276917585,
                    0.07369224613622571,
                    -0.029871976178094672,
                    0.020161252926640172,
                    0.003233920229967824,
                    -0.08954154727793695,
                    -0.0684500393391031,
                    -0.036317567567567544,
                    0.13891323400525857,
                    -0.009619084263178146,
                    0.04662008547008556,
                    0.006310318993677733,
                    0.03246030865140859,
                    -0.008574490889603381,
                    -0.012252252252252238,
                    -0.013863516964611411,
                    0.03588601421065429,
                    0.006785750000000146,
                    -0.03547357093034509,
                    0.038617100455420994,
                    0.0031869688385268713,
                    0.04094599364631124,
                    0.020006781959986508,
                    0.0013298204787235424,
                    0.04150066263278007,
                    -0.03506537981940139,
                    -0.062107730426164576,
                    -0.034166926177066737
                  ]
                },
                {
                  "mode": "lines+markers",
                  "name": "Lyft_pctChange",
                  "type": "scatter",
                  "x": [
                    "2020-03-10",
                    "2020-03-11",
                    "2020-03-12",
                    "2020-03-13",
                    "2020-03-16",
                    "2020-03-17",
                    "2020-03-18",
                    "2020-03-19",
                    "2020-03-20",
                    "2020-03-23",
                    "2020-03-24",
                    "2020-03-25",
                    "2020-03-26",
                    "2020-03-27",
                    "2020-03-30",
                    "2020-03-31",
                    "2020-04-01",
                    "2020-04-02",
                    "2020-04-03",
                    "2020-04-06",
                    "2020-04-07",
                    "2020-04-08",
                    "2020-04-09",
                    "2020-04-13",
                    "2020-04-14",
                    "2020-04-15",
                    "2020-04-16",
                    "2020-04-17",
                    "2020-04-20",
                    "2020-04-21",
                    "2020-04-22",
                    "2020-04-23",
                    "2020-04-24",
                    "2020-04-27",
                    "2020-04-28",
                    "2020-04-29",
                    "2020-04-30",
                    "2020-05-01",
                    "2020-05-04"
                  ],
                  "y": [
                    0.00243821998054794,
                    -0.11796896071659946,
                    -0.17683560841089296,
                    0.0121440959859338,
                    -0.20893665701282582,
                    -0.024058628448816566,
                    -0.13987143622722398,
                    0.28971976882989225,
                    0.02753618224462895,
                    0.0629995768688294,
                    0.19681547117136344,
                    0.032889949478564384,
                    0.0711985663256327,
                    -0.07815634341495181,
                    -0.024637681159420333,
                    -0.002600297176820199,
                    -0.12476722532588458,
                    -0.04468080851063827,
                    -0.02004458708041934,
                    0.16954545454545467,
                    0.06879129420909447,
                    0.07781814545454546,
                    0.02327938675031671,
                    0.010880316518298683,
                    -0.005218525766470972,
                    -0.06918036065573774,
                    -0.044029589433941196,
                    0.07111278817659494,
                    0.035431716546267644,
                    -0.028239202657807327,
                    0.0495726837606838,
                    -0.019869738766458034,
                    0.0621468594217347,
                    0.07384233647817084,
                    -0.04603723776223767,
                    0.040317621238996626,
                    -0.036112711799391906,
                    -0.098233378115542,
                    -0.08697851714237459
                  ]
                }
              ],
              "layout": {
                "template": {
                  "data": {
                    "bar": [
                      {
                        "error_x": {
                          "color": "#2a3f5f"
                        },
                        "error_y": {
                          "color": "#2a3f5f"
                        },
                        "marker": {
                          "line": {
                            "color": "#E5ECF6",
                            "width": 0.5
                          }
                        },
                        "type": "bar"
                      }
                    ],
                    "barpolar": [
                      {
                        "marker": {
                          "line": {
                            "color": "#E5ECF6",
                            "width": 0.5
                          }
                        },
                        "type": "barpolar"
                      }
                    ],
                    "carpet": [
                      {
                        "aaxis": {
                          "endlinecolor": "#2a3f5f",
                          "gridcolor": "white",
                          "linecolor": "white",
                          "minorgridcolor": "white",
                          "startlinecolor": "#2a3f5f"
                        },
                        "baxis": {
                          "endlinecolor": "#2a3f5f",
                          "gridcolor": "white",
                          "linecolor": "white",
                          "minorgridcolor": "white",
                          "startlinecolor": "#2a3f5f"
                        },
                        "type": "carpet"
                      }
                    ],
                    "choropleth": [
                      {
                        "colorbar": {
                          "outlinewidth": 0,
                          "ticks": ""
                        },
                        "type": "choropleth"
                      }
                    ],
                    "contour": [
                      {
                        "colorbar": {
                          "outlinewidth": 0,
                          "ticks": ""
                        },
                        "colorscale": [
                          [
                            0,
                            "#0d0887"
                          ],
                          [
                            0.1111111111111111,
                            "#46039f"
                          ],
                          [
                            0.2222222222222222,
                            "#7201a8"
                          ],
                          [
                            0.3333333333333333,
                            "#9c179e"
                          ],
                          [
                            0.4444444444444444,
                            "#bd3786"
                          ],
                          [
                            0.5555555555555556,
                            "#d8576b"
                          ],
                          [
                            0.6666666666666666,
                            "#ed7953"
                          ],
                          [
                            0.7777777777777778,
                            "#fb9f3a"
                          ],
                          [
                            0.8888888888888888,
                            "#fdca26"
                          ],
                          [
                            1,
                            "#f0f921"
                          ]
                        ],
                        "type": "contour"
                      }
                    ],
                    "contourcarpet": [
                      {
                        "colorbar": {
                          "outlinewidth": 0,
                          "ticks": ""
                        },
                        "type": "contourcarpet"
                      }
                    ],
                    "heatmap": [
                      {
                        "colorbar": {
                          "outlinewidth": 0,
                          "ticks": ""
                        },
                        "colorscale": [
                          [
                            0,
                            "#0d0887"
                          ],
                          [
                            0.1111111111111111,
                            "#46039f"
                          ],
                          [
                            0.2222222222222222,
                            "#7201a8"
                          ],
                          [
                            0.3333333333333333,
                            "#9c179e"
                          ],
                          [
                            0.4444444444444444,
                            "#bd3786"
                          ],
                          [
                            0.5555555555555556,
                            "#d8576b"
                          ],
                          [
                            0.6666666666666666,
                            "#ed7953"
                          ],
                          [
                            0.7777777777777778,
                            "#fb9f3a"
                          ],
                          [
                            0.8888888888888888,
                            "#fdca26"
                          ],
                          [
                            1,
                            "#f0f921"
                          ]
                        ],
                        "type": "heatmap"
                      }
                    ],
                    "heatmapgl": [
                      {
                        "colorbar": {
                          "outlinewidth": 0,
                          "ticks": ""
                        },
                        "colorscale": [
                          [
                            0,
                            "#0d0887"
                          ],
                          [
                            0.1111111111111111,
                            "#46039f"
                          ],
                          [
                            0.2222222222222222,
                            "#7201a8"
                          ],
                          [
                            0.3333333333333333,
                            "#9c179e"
                          ],
                          [
                            0.4444444444444444,
                            "#bd3786"
                          ],
                          [
                            0.5555555555555556,
                            "#d8576b"
                          ],
                          [
                            0.6666666666666666,
                            "#ed7953"
                          ],
                          [
                            0.7777777777777778,
                            "#fb9f3a"
                          ],
                          [
                            0.8888888888888888,
                            "#fdca26"
                          ],
                          [
                            1,
                            "#f0f921"
                          ]
                        ],
                        "type": "heatmapgl"
                      }
                    ],
                    "histogram": [
                      {
                        "marker": {
                          "colorbar": {
                            "outlinewidth": 0,
                            "ticks": ""
                          }
                        },
                        "type": "histogram"
                      }
                    ],
                    "histogram2d": [
                      {
                        "colorbar": {
                          "outlinewidth": 0,
                          "ticks": ""
                        },
                        "colorscale": [
                          [
                            0,
                            "#0d0887"
                          ],
                          [
                            0.1111111111111111,
                            "#46039f"
                          ],
                          [
                            0.2222222222222222,
                            "#7201a8"
                          ],
                          [
                            0.3333333333333333,
                            "#9c179e"
                          ],
                          [
                            0.4444444444444444,
                            "#bd3786"
                          ],
                          [
                            0.5555555555555556,
                            "#d8576b"
                          ],
                          [
                            0.6666666666666666,
                            "#ed7953"
                          ],
                          [
                            0.7777777777777778,
                            "#fb9f3a"
                          ],
                          [
                            0.8888888888888888,
                            "#fdca26"
                          ],
                          [
                            1,
                            "#f0f921"
                          ]
                        ],
                        "type": "histogram2d"
                      }
                    ],
                    "histogram2dcontour": [
                      {
                        "colorbar": {
                          "outlinewidth": 0,
                          "ticks": ""
                        },
                        "colorscale": [
                          [
                            0,
                            "#0d0887"
                          ],
                          [
                            0.1111111111111111,
                            "#46039f"
                          ],
                          [
                            0.2222222222222222,
                            "#7201a8"
                          ],
                          [
                            0.3333333333333333,
                            "#9c179e"
                          ],
                          [
                            0.4444444444444444,
                            "#bd3786"
                          ],
                          [
                            0.5555555555555556,
                            "#d8576b"
                          ],
                          [
                            0.6666666666666666,
                            "#ed7953"
                          ],
                          [
                            0.7777777777777778,
                            "#fb9f3a"
                          ],
                          [
                            0.8888888888888888,
                            "#fdca26"
                          ],
                          [
                            1,
                            "#f0f921"
                          ]
                        ],
                        "type": "histogram2dcontour"
                      }
                    ],
                    "mesh3d": [
                      {
                        "colorbar": {
                          "outlinewidth": 0,
                          "ticks": ""
                        },
                        "type": "mesh3d"
                      }
                    ],
                    "parcoords": [
                      {
                        "line": {
                          "colorbar": {
                            "outlinewidth": 0,
                            "ticks": ""
                          }
                        },
                        "type": "parcoords"
                      }
                    ],
                    "scatter": [
                      {
                        "marker": {
                          "colorbar": {
                            "outlinewidth": 0,
                            "ticks": ""
                          }
                        },
                        "type": "scatter"
                      }
                    ],
                    "scatter3d": [
                      {
                        "line": {
                          "colorbar": {
                            "outlinewidth": 0,
                            "ticks": ""
                          }
                        },
                        "marker": {
                          "colorbar": {
                            "outlinewidth": 0,
                            "ticks": ""
                          }
                        },
                        "type": "scatter3d"
                      }
                    ],
                    "scattercarpet": [
                      {
                        "marker": {
                          "colorbar": {
                            "outlinewidth": 0,
                            "ticks": ""
                          }
                        },
                        "type": "scattercarpet"
                      }
                    ],
                    "scattergeo": [
                      {
                        "marker": {
                          "colorbar": {
                            "outlinewidth": 0,
                            "ticks": ""
                          }
                        },
                        "type": "scattergeo"
                      }
                    ],
                    "scattergl": [
                      {
                        "marker": {
                          "colorbar": {
                            "outlinewidth": 0,
                            "ticks": ""
                          }
                        },
                        "type": "scattergl"
                      }
                    ],
                    "scattermapbox": [
                      {
                        "marker": {
                          "colorbar": {
                            "outlinewidth": 0,
                            "ticks": ""
                          }
                        },
                        "type": "scattermapbox"
                      }
                    ],
                    "scatterpolar": [
                      {
                        "marker": {
                          "colorbar": {
                            "outlinewidth": 0,
                            "ticks": ""
                          }
                        },
                        "type": "scatterpolar"
                      }
                    ],
                    "scatterpolargl": [
                      {
                        "marker": {
                          "colorbar": {
                            "outlinewidth": 0,
                            "ticks": ""
                          }
                        },
                        "type": "scatterpolargl"
                      }
                    ],
                    "scatterternary": [
                      {
                        "marker": {
                          "colorbar": {
                            "outlinewidth": 0,
                            "ticks": ""
                          }
                        },
                        "type": "scatterternary"
                      }
                    ],
                    "surface": [
                      {
                        "colorbar": {
                          "outlinewidth": 0,
                          "ticks": ""
                        },
                        "colorscale": [
                          [
                            0,
                            "#0d0887"
                          ],
                          [
                            0.1111111111111111,
                            "#46039f"
                          ],
                          [
                            0.2222222222222222,
                            "#7201a8"
                          ],
                          [
                            0.3333333333333333,
                            "#9c179e"
                          ],
                          [
                            0.4444444444444444,
                            "#bd3786"
                          ],
                          [
                            0.5555555555555556,
                            "#d8576b"
                          ],
                          [
                            0.6666666666666666,
                            "#ed7953"
                          ],
                          [
                            0.7777777777777778,
                            "#fb9f3a"
                          ],
                          [
                            0.8888888888888888,
                            "#fdca26"
                          ],
                          [
                            1,
                            "#f0f921"
                          ]
                        ],
                        "type": "surface"
                      }
                    ],
                    "table": [
                      {
                        "cells": {
                          "fill": {
                            "color": "#EBF0F8"
                          },
                          "line": {
                            "color": "white"
                          }
                        },
                        "header": {
                          "fill": {
                            "color": "#C8D4E3"
                          },
                          "line": {
                            "color": "white"
                          }
                        },
                        "type": "table"
                      }
                    ]
                  },
                  "layout": {
                    "annotationdefaults": {
                      "arrowcolor": "#2a3f5f",
                      "arrowhead": 0,
                      "arrowwidth": 1
                    },
                    "colorscale": {
                      "diverging": [
                        [
                          0,
                          "#8e0152"
                        ],
                        [
                          0.1,
                          "#c51b7d"
                        ],
                        [
                          0.2,
                          "#de77ae"
                        ],
                        [
                          0.3,
                          "#f1b6da"
                        ],
                        [
                          0.4,
                          "#fde0ef"
                        ],
                        [
                          0.5,
                          "#f7f7f7"
                        ],
                        [
                          0.6,
                          "#e6f5d0"
                        ],
                        [
                          0.7,
                          "#b8e186"
                        ],
                        [
                          0.8,
                          "#7fbc41"
                        ],
                        [
                          0.9,
                          "#4d9221"
                        ],
                        [
                          1,
                          "#276419"
                        ]
                      ],
                      "sequential": [
                        [
                          0,
                          "#0d0887"
                        ],
                        [
                          0.1111111111111111,
                          "#46039f"
                        ],
                        [
                          0.2222222222222222,
                          "#7201a8"
                        ],
                        [
                          0.3333333333333333,
                          "#9c179e"
                        ],
                        [
                          0.4444444444444444,
                          "#bd3786"
                        ],
                        [
                          0.5555555555555556,
                          "#d8576b"
                        ],
                        [
                          0.6666666666666666,
                          "#ed7953"
                        ],
                        [
                          0.7777777777777778,
                          "#fb9f3a"
                        ],
                        [
                          0.8888888888888888,
                          "#fdca26"
                        ],
                        [
                          1,
                          "#f0f921"
                        ]
                      ],
                      "sequentialminus": [
                        [
                          0,
                          "#0d0887"
                        ],
                        [
                          0.1111111111111111,
                          "#46039f"
                        ],
                        [
                          0.2222222222222222,
                          "#7201a8"
                        ],
                        [
                          0.3333333333333333,
                          "#9c179e"
                        ],
                        [
                          0.4444444444444444,
                          "#bd3786"
                        ],
                        [
                          0.5555555555555556,
                          "#d8576b"
                        ],
                        [
                          0.6666666666666666,
                          "#ed7953"
                        ],
                        [
                          0.7777777777777778,
                          "#fb9f3a"
                        ],
                        [
                          0.8888888888888888,
                          "#fdca26"
                        ],
                        [
                          1,
                          "#f0f921"
                        ]
                      ]
                    },
                    "colorway": [
                      "#636efa",
                      "#EF553B",
                      "#00cc96",
                      "#ab63fa",
                      "#FFA15A",
                      "#19d3f3",
                      "#FF6692",
                      "#B6E880",
                      "#FF97FF",
                      "#FECB52"
                    ],
                    "font": {
                      "color": "#2a3f5f"
                    },
                    "geo": {
                      "bgcolor": "white",
                      "lakecolor": "white",
                      "landcolor": "#E5ECF6",
                      "showlakes": true,
                      "showland": true,
                      "subunitcolor": "white"
                    },
                    "hoverlabel": {
                      "align": "left"
                    },
                    "hovermode": "closest",
                    "mapbox": {
                      "style": "light"
                    },
                    "paper_bgcolor": "white",
                    "plot_bgcolor": "#E5ECF6",
                    "polar": {
                      "angularaxis": {
                        "gridcolor": "white",
                        "linecolor": "white",
                        "ticks": ""
                      },
                      "bgcolor": "#E5ECF6",
                      "radialaxis": {
                        "gridcolor": "white",
                        "linecolor": "white",
                        "ticks": ""
                      }
                    },
                    "scene": {
                      "xaxis": {
                        "backgroundcolor": "#E5ECF6",
                        "gridcolor": "white",
                        "gridwidth": 2,
                        "linecolor": "white",
                        "showbackground": true,
                        "ticks": "",
                        "zerolinecolor": "white"
                      },
                      "yaxis": {
                        "backgroundcolor": "#E5ECF6",
                        "gridcolor": "white",
                        "gridwidth": 2,
                        "linecolor": "white",
                        "showbackground": true,
                        "ticks": "",
                        "zerolinecolor": "white"
                      },
                      "zaxis": {
                        "backgroundcolor": "#E5ECF6",
                        "gridcolor": "white",
                        "gridwidth": 2,
                        "linecolor": "white",
                        "showbackground": true,
                        "ticks": "",
                        "zerolinecolor": "white"
                      }
                    },
                    "shapedefaults": {
                      "line": {
                        "color": "#2a3f5f"
                      }
                    },
                    "ternary": {
                      "aaxis": {
                        "gridcolor": "white",
                        "linecolor": "white",
                        "ticks": ""
                      },
                      "baxis": {
                        "gridcolor": "white",
                        "linecolor": "white",
                        "ticks": ""
                      },
                      "bgcolor": "#E5ECF6",
                      "caxis": {
                        "gridcolor": "white",
                        "linecolor": "white",
                        "ticks": ""
                      }
                    },
                    "title": {
                      "x": 0.05
                    },
                    "xaxis": {
                      "automargin": true,
                      "gridcolor": "white",
                      "linecolor": "white",
                      "ticks": "",
                      "zerolinecolor": "white",
                      "zerolinewidth": 2
                    },
                    "yaxis": {
                      "automargin": true,
                      "gridcolor": "white",
                      "linecolor": "white",
                      "ticks": "",
                      "zerolinecolor": "white",
                      "zerolinewidth": 2
                    }
                  }
                },
                "title": {
                  "text": "Velocity of -> Confirmed Cases , LyftClosingPrice & UberClosingPrice"
                },
                "xaxis": {
                  "title": {
                    "text": ""
                  }
                },
                "yaxis": {
                  "title": {
                    "text": ""
                  }
                }
              }
            },
            "text/html": [
              "<div>\n",
              "        \n",
              "        \n",
              "            <div id=\"8e19b64c-9aa5-4fae-8557-846dfafb2831\" class=\"plotly-graph-div\" style=\"height:525px; width:100%;\"></div>\n",
              "            <script type=\"text/javascript\">\n",
              "                require([\"plotly\"], function(Plotly) {\n",
              "                    window.PLOTLYENV=window.PLOTLYENV || {};\n",
              "                    \n",
              "                if (document.getElementById(\"8e19b64c-9aa5-4fae-8557-846dfafb2831\")) {\n",
              "                    Plotly.newPlot(\n",
              "                        '8e19b64c-9aa5-4fae-8557-846dfafb2831',\n",
              "                        [{\"mode\": \"lines+markers\", \"name\": \"Confirmed_pctChange\", \"type\": \"scatter\", \"x\": [\"2020-03-10\", \"2020-03-11\", \"2020-03-12\", \"2020-03-13\", \"2020-03-16\", \"2020-03-17\", \"2020-03-18\", \"2020-03-19\", \"2020-03-20\", \"2020-03-23\", \"2020-03-24\", \"2020-03-25\", \"2020-03-26\", \"2020-03-27\", \"2020-03-30\", \"2020-03-31\", \"2020-04-01\", \"2020-04-02\", \"2020-04-03\", \"2020-04-06\", \"2020-04-07\", \"2020-04-08\", \"2020-04-09\", \"2020-04-13\", \"2020-04-14\", \"2020-04-15\", \"2020-04-16\", \"2020-04-17\", \"2020-04-20\", \"2020-04-21\", \"2020-04-22\", \"2020-04-23\", \"2020-04-24\", \"2020-04-27\", \"2020-04-28\", \"2020-04-29\", \"2020-04-30\", \"2020-05-01\", \"2020-05-04\"], \"y\": [0.36363636363636354, 0.6000000000000001, 0.25, 0.6666666666666667, 2.56, 0.5, 0.5992509363295879, 0.7377049180327868, 0.19946091644204844, 2.195505617977528, 0.29219409282700415, 0.19782312925170076, 0.5620172648796002, 0.2834496800465387, 0.885099150141643, 0.12382784323154605, 0.19036157466837822, 0.14985396540103357, 0.16822977725674093, 0.3744773373473824, 0.08094426867851068, 0.06801603025936598, 0.07567932204819017, 0.2656828737727086, 0.0656509352161525, 0.032052772288736486, 0.06035477967056169, 0.04182322715987086, 0.13176239693119407, 0.04032385199198263, 0.03764598915431816, 0.04301882856099715, 0.022072427967076313, 0.08798778817174835, 0.02399539518653082, 0.021149522203485205, 0.020539461914264034, 0.021390284192428277, 0.058412410264873316]}, {\"mode\": \"lines+markers\", \"name\": \"Uber_pctChange\", \"type\": \"scatter\", \"x\": [\"2020-03-10\", \"2020-03-11\", \"2020-03-12\", \"2020-03-13\", \"2020-03-16\", \"2020-03-17\", \"2020-03-18\", \"2020-03-19\", \"2020-03-20\", \"2020-03-23\", \"2020-03-24\", \"2020-03-25\", \"2020-03-26\", \"2020-03-27\", \"2020-03-30\", \"2020-03-31\", \"2020-04-01\", \"2020-04-02\", \"2020-04-03\", \"2020-04-06\", \"2020-04-07\", \"2020-04-08\", \"2020-04-09\", \"2020-04-13\", \"2020-04-14\", \"2020-04-15\", \"2020-04-16\", \"2020-04-17\", \"2020-04-20\", \"2020-04-21\", \"2020-04-22\", \"2020-04-23\", \"2020-04-24\", \"2020-04-27\", \"2020-04-28\", \"2020-04-29\", \"2020-04-30\", \"2020-05-01\", \"2020-05-04\"], \"y\": [0.02839897053603102, -0.0942353846819256, -0.13833837652439018, -0.00044232638468255647, -0.10221234513274347, -0.06801384583470449, -0.21628767847699626, 0.3825910931174088, 0.040995607613469875, 0.05016408813877171, 0.1781249553571429, -0.00757855276917585, 0.07369224613622571, -0.029871976178094672, 0.020161252926640172, 0.003233920229967824, -0.08954154727793695, -0.0684500393391031, -0.036317567567567544, 0.13891323400525857, -0.009619084263178146, 0.04662008547008556, 0.006310318993677733, 0.03246030865140859, -0.008574490889603381, -0.012252252252252238, -0.013863516964611411, 0.03588601421065429, 0.006785750000000146, -0.03547357093034509, 0.038617100455420994, 0.0031869688385268713, 0.04094599364631124, 0.020006781959986508, 0.0013298204787235424, 0.04150066263278007, -0.03506537981940139, -0.062107730426164576, -0.034166926177066737]}, {\"mode\": \"lines+markers\", \"name\": \"Lyft_pctChange\", \"type\": \"scatter\", \"x\": [\"2020-03-10\", \"2020-03-11\", \"2020-03-12\", \"2020-03-13\", \"2020-03-16\", \"2020-03-17\", \"2020-03-18\", \"2020-03-19\", \"2020-03-20\", \"2020-03-23\", \"2020-03-24\", \"2020-03-25\", \"2020-03-26\", \"2020-03-27\", \"2020-03-30\", \"2020-03-31\", \"2020-04-01\", \"2020-04-02\", \"2020-04-03\", \"2020-04-06\", \"2020-04-07\", \"2020-04-08\", \"2020-04-09\", \"2020-04-13\", \"2020-04-14\", \"2020-04-15\", \"2020-04-16\", \"2020-04-17\", \"2020-04-20\", \"2020-04-21\", \"2020-04-22\", \"2020-04-23\", \"2020-04-24\", \"2020-04-27\", \"2020-04-28\", \"2020-04-29\", \"2020-04-30\", \"2020-05-01\", \"2020-05-04\"], \"y\": [0.00243821998054794, -0.11796896071659946, -0.17683560841089296, 0.0121440959859338, -0.20893665701282582, -0.024058628448816566, -0.13987143622722398, 0.28971976882989225, 0.02753618224462895, 0.0629995768688294, 0.19681547117136344, 0.032889949478564384, 0.0711985663256327, -0.07815634341495181, -0.024637681159420333, -0.002600297176820199, -0.12476722532588458, -0.04468080851063827, -0.02004458708041934, 0.16954545454545467, 0.06879129420909447, 0.07781814545454546, 0.02327938675031671, 0.010880316518298683, -0.005218525766470972, -0.06918036065573774, -0.044029589433941196, 0.07111278817659494, 0.035431716546267644, -0.028239202657807327, 0.0495726837606838, -0.019869738766458034, 0.0621468594217347, 0.07384233647817084, -0.04603723776223767, 0.040317621238996626, -0.036112711799391906, -0.098233378115542, -0.08697851714237459]}],\n",
              "                        {\"template\": {\"data\": {\"bar\": [{\"error_x\": {\"color\": \"#2a3f5f\"}, \"error_y\": {\"color\": \"#2a3f5f\"}, \"marker\": {\"line\": {\"color\": \"#E5ECF6\", \"width\": 0.5}}, \"type\": \"bar\"}], \"barpolar\": [{\"marker\": {\"line\": {\"color\": \"#E5ECF6\", \"width\": 0.5}}, \"type\": \"barpolar\"}], \"carpet\": [{\"aaxis\": {\"endlinecolor\": \"#2a3f5f\", \"gridcolor\": \"white\", \"linecolor\": \"white\", \"minorgridcolor\": \"white\", \"startlinecolor\": \"#2a3f5f\"}, \"baxis\": {\"endlinecolor\": \"#2a3f5f\", \"gridcolor\": \"white\", \"linecolor\": \"white\", \"minorgridcolor\": \"white\", \"startlinecolor\": \"#2a3f5f\"}, \"type\": \"carpet\"}], \"choropleth\": [{\"colorbar\": {\"outlinewidth\": 0, \"ticks\": \"\"}, \"type\": \"choropleth\"}], \"contour\": [{\"colorbar\": {\"outlinewidth\": 0, \"ticks\": \"\"}, \"colorscale\": [[0.0, \"#0d0887\"], [0.1111111111111111, \"#46039f\"], [0.2222222222222222, \"#7201a8\"], [0.3333333333333333, \"#9c179e\"], [0.4444444444444444, \"#bd3786\"], [0.5555555555555556, \"#d8576b\"], [0.6666666666666666, \"#ed7953\"], [0.7777777777777778, \"#fb9f3a\"], [0.8888888888888888, \"#fdca26\"], [1.0, \"#f0f921\"]], \"type\": \"contour\"}], \"contourcarpet\": [{\"colorbar\": {\"outlinewidth\": 0, \"ticks\": \"\"}, \"type\": \"contourcarpet\"}], \"heatmap\": [{\"colorbar\": {\"outlinewidth\": 0, \"ticks\": \"\"}, \"colorscale\": [[0.0, \"#0d0887\"], [0.1111111111111111, \"#46039f\"], [0.2222222222222222, \"#7201a8\"], [0.3333333333333333, \"#9c179e\"], [0.4444444444444444, \"#bd3786\"], [0.5555555555555556, \"#d8576b\"], [0.6666666666666666, \"#ed7953\"], [0.7777777777777778, \"#fb9f3a\"], [0.8888888888888888, \"#fdca26\"], [1.0, \"#f0f921\"]], \"type\": \"heatmap\"}], \"heatmapgl\": [{\"colorbar\": {\"outlinewidth\": 0, \"ticks\": \"\"}, \"colorscale\": [[0.0, \"#0d0887\"], [0.1111111111111111, \"#46039f\"], [0.2222222222222222, \"#7201a8\"], [0.3333333333333333, \"#9c179e\"], [0.4444444444444444, \"#bd3786\"], [0.5555555555555556, \"#d8576b\"], [0.6666666666666666, \"#ed7953\"], [0.7777777777777778, \"#fb9f3a\"], [0.8888888888888888, \"#fdca26\"], [1.0, \"#f0f921\"]], \"type\": \"heatmapgl\"}], \"histogram\": [{\"marker\": {\"colorbar\": {\"outlinewidth\": 0, \"ticks\": \"\"}}, \"type\": \"histogram\"}], \"histogram2d\": [{\"colorbar\": {\"outlinewidth\": 0, \"ticks\": \"\"}, \"colorscale\": [[0.0, \"#0d0887\"], [0.1111111111111111, \"#46039f\"], [0.2222222222222222, \"#7201a8\"], [0.3333333333333333, \"#9c179e\"], [0.4444444444444444, \"#bd3786\"], [0.5555555555555556, \"#d8576b\"], [0.6666666666666666, \"#ed7953\"], [0.7777777777777778, \"#fb9f3a\"], [0.8888888888888888, \"#fdca26\"], [1.0, \"#f0f921\"]], \"type\": \"histogram2d\"}], \"histogram2dcontour\": [{\"colorbar\": {\"outlinewidth\": 0, \"ticks\": \"\"}, \"colorscale\": [[0.0, \"#0d0887\"], [0.1111111111111111, \"#46039f\"], [0.2222222222222222, \"#7201a8\"], [0.3333333333333333, \"#9c179e\"], [0.4444444444444444, \"#bd3786\"], [0.5555555555555556, \"#d8576b\"], [0.6666666666666666, \"#ed7953\"], [0.7777777777777778, \"#fb9f3a\"], [0.8888888888888888, \"#fdca26\"], [1.0, \"#f0f921\"]], \"type\": \"histogram2dcontour\"}], \"mesh3d\": [{\"colorbar\": {\"outlinewidth\": 0, \"ticks\": \"\"}, \"type\": \"mesh3d\"}], \"parcoords\": [{\"line\": {\"colorbar\": {\"outlinewidth\": 0, \"ticks\": \"\"}}, \"type\": \"parcoords\"}], \"scatter\": [{\"marker\": {\"colorbar\": {\"outlinewidth\": 0, \"ticks\": \"\"}}, \"type\": \"scatter\"}], \"scatter3d\": [{\"line\": {\"colorbar\": {\"outlinewidth\": 0, \"ticks\": \"\"}}, \"marker\": {\"colorbar\": {\"outlinewidth\": 0, \"ticks\": \"\"}}, \"type\": \"scatter3d\"}], \"scattercarpet\": [{\"marker\": {\"colorbar\": {\"outlinewidth\": 0, \"ticks\": \"\"}}, \"type\": \"scattercarpet\"}], \"scattergeo\": [{\"marker\": {\"colorbar\": {\"outlinewidth\": 0, \"ticks\": \"\"}}, \"type\": \"scattergeo\"}], \"scattergl\": [{\"marker\": {\"colorbar\": {\"outlinewidth\": 0, \"ticks\": \"\"}}, \"type\": \"scattergl\"}], \"scattermapbox\": [{\"marker\": {\"colorbar\": {\"outlinewidth\": 0, \"ticks\": \"\"}}, \"type\": \"scattermapbox\"}], \"scatterpolar\": [{\"marker\": {\"colorbar\": {\"outlinewidth\": 0, \"ticks\": \"\"}}, \"type\": \"scatterpolar\"}], \"scatterpolargl\": [{\"marker\": {\"colorbar\": {\"outlinewidth\": 0, \"ticks\": \"\"}}, \"type\": \"scatterpolargl\"}], \"scatterternary\": [{\"marker\": {\"colorbar\": {\"outlinewidth\": 0, \"ticks\": \"\"}}, \"type\": \"scatterternary\"}], \"surface\": [{\"colorbar\": {\"outlinewidth\": 0, \"ticks\": \"\"}, \"colorscale\": [[0.0, \"#0d0887\"], [0.1111111111111111, \"#46039f\"], [0.2222222222222222, \"#7201a8\"], [0.3333333333333333, \"#9c179e\"], [0.4444444444444444, \"#bd3786\"], [0.5555555555555556, \"#d8576b\"], [0.6666666666666666, \"#ed7953\"], [0.7777777777777778, \"#fb9f3a\"], [0.8888888888888888, \"#fdca26\"], [1.0, \"#f0f921\"]], \"type\": \"surface\"}], \"table\": [{\"cells\": {\"fill\": {\"color\": \"#EBF0F8\"}, \"line\": {\"color\": \"white\"}}, \"header\": {\"fill\": {\"color\": \"#C8D4E3\"}, \"line\": {\"color\": \"white\"}}, \"type\": \"table\"}]}, \"layout\": {\"annotationdefaults\": {\"arrowcolor\": \"#2a3f5f\", \"arrowhead\": 0, \"arrowwidth\": 1}, \"colorscale\": {\"diverging\": [[0, \"#8e0152\"], [0.1, \"#c51b7d\"], [0.2, \"#de77ae\"], [0.3, \"#f1b6da\"], [0.4, \"#fde0ef\"], [0.5, \"#f7f7f7\"], [0.6, \"#e6f5d0\"], [0.7, \"#b8e186\"], [0.8, \"#7fbc41\"], [0.9, \"#4d9221\"], [1, \"#276419\"]], \"sequential\": [[0.0, \"#0d0887\"], [0.1111111111111111, \"#46039f\"], [0.2222222222222222, \"#7201a8\"], [0.3333333333333333, \"#9c179e\"], [0.4444444444444444, \"#bd3786\"], [0.5555555555555556, \"#d8576b\"], [0.6666666666666666, \"#ed7953\"], [0.7777777777777778, \"#fb9f3a\"], [0.8888888888888888, \"#fdca26\"], [1.0, \"#f0f921\"]], \"sequentialminus\": [[0.0, \"#0d0887\"], [0.1111111111111111, \"#46039f\"], [0.2222222222222222, \"#7201a8\"], [0.3333333333333333, \"#9c179e\"], [0.4444444444444444, \"#bd3786\"], [0.5555555555555556, \"#d8576b\"], [0.6666666666666666, \"#ed7953\"], [0.7777777777777778, \"#fb9f3a\"], [0.8888888888888888, \"#fdca26\"], [1.0, \"#f0f921\"]]}, \"colorway\": [\"#636efa\", \"#EF553B\", \"#00cc96\", \"#ab63fa\", \"#FFA15A\", \"#19d3f3\", \"#FF6692\", \"#B6E880\", \"#FF97FF\", \"#FECB52\"], \"font\": {\"color\": \"#2a3f5f\"}, \"geo\": {\"bgcolor\": \"white\", \"lakecolor\": \"white\", \"landcolor\": \"#E5ECF6\", \"showlakes\": true, \"showland\": true, \"subunitcolor\": \"white\"}, \"hoverlabel\": {\"align\": \"left\"}, \"hovermode\": \"closest\", \"mapbox\": {\"style\": \"light\"}, \"paper_bgcolor\": \"white\", \"plot_bgcolor\": \"#E5ECF6\", \"polar\": {\"angularaxis\": {\"gridcolor\": \"white\", \"linecolor\": \"white\", \"ticks\": \"\"}, \"bgcolor\": \"#E5ECF6\", \"radialaxis\": {\"gridcolor\": \"white\", \"linecolor\": \"white\", \"ticks\": \"\"}}, \"scene\": {\"xaxis\": {\"backgroundcolor\": \"#E5ECF6\", \"gridcolor\": \"white\", \"gridwidth\": 2, \"linecolor\": \"white\", \"showbackground\": true, \"ticks\": \"\", \"zerolinecolor\": \"white\"}, \"yaxis\": {\"backgroundcolor\": \"#E5ECF6\", \"gridcolor\": \"white\", \"gridwidth\": 2, \"linecolor\": \"white\", \"showbackground\": true, \"ticks\": \"\", \"zerolinecolor\": \"white\"}, \"zaxis\": {\"backgroundcolor\": \"#E5ECF6\", \"gridcolor\": \"white\", \"gridwidth\": 2, \"linecolor\": \"white\", \"showbackground\": true, \"ticks\": \"\", \"zerolinecolor\": \"white\"}}, \"shapedefaults\": {\"line\": {\"color\": \"#2a3f5f\"}}, \"ternary\": {\"aaxis\": {\"gridcolor\": \"white\", \"linecolor\": \"white\", \"ticks\": \"\"}, \"baxis\": {\"gridcolor\": \"white\", \"linecolor\": \"white\", \"ticks\": \"\"}, \"bgcolor\": \"#E5ECF6\", \"caxis\": {\"gridcolor\": \"white\", \"linecolor\": \"white\", \"ticks\": \"\"}}, \"title\": {\"x\": 0.05}, \"xaxis\": {\"automargin\": true, \"gridcolor\": \"white\", \"linecolor\": \"white\", \"ticks\": \"\", \"zerolinecolor\": \"white\", \"zerolinewidth\": 2}, \"yaxis\": {\"automargin\": true, \"gridcolor\": \"white\", \"linecolor\": \"white\", \"ticks\": \"\", \"zerolinecolor\": \"white\", \"zerolinewidth\": 2}}}, \"title\": {\"text\": \"Velocity of -> Confirmed Cases , LyftClosingPrice & UberClosingPrice\"}, \"xaxis\": {\"title\": {\"text\": \"\"}}, \"yaxis\": {\"title\": {\"text\": \"\"}}},\n",
              "                        {\"responsive\": true}\n",
              "                    ).then(function(){\n",
              "                            \n",
              "var gd = document.getElementById('8e19b64c-9aa5-4fae-8557-846dfafb2831');\n",
              "var x = new MutationObserver(function (mutations, observer) {{\n",
              "        var display = window.getComputedStyle(gd).display;\n",
              "        if (!display || display === 'none') {{\n",
              "            console.log([gd, 'removed!']);\n",
              "            Plotly.purge(gd);\n",
              "            observer.disconnect();\n",
              "        }}\n",
              "}});\n",
              "\n",
              "// Listen for the removal of the full notebook cells\n",
              "var notebookContainer = gd.closest('#notebook-container');\n",
              "if (notebookContainer) {{\n",
              "    x.observe(notebookContainer, {childList: true});\n",
              "}}\n",
              "\n",
              "// Listen for the clearing of the current output cell\n",
              "var outputEl = gd.closest('.output');\n",
              "if (outputEl) {{\n",
              "    x.observe(outputEl, {childList: true});\n",
              "}}\n",
              "\n",
              "                        })\n",
              "                };\n",
              "                });\n",
              "            </script>\n",
              "        </div>"
            ]
          },
          "metadata": {
            "tags": []
          }
        }
      ]
    },
    {
      "cell_type": "code",
      "metadata": {
        "id": "jIqR8CIUrDu2",
        "colab_type": "code",
        "colab": {},
        "outputId": "968d4408-7830-4dda-f8b8-aa67a646a74b"
      },
      "source": [
        "#histogram\n",
        "fig = plt.figure(figsize= (20,5))\n",
        "plt.subplot(1,3,1)\n",
        "sns.distplot((df_temp['Confirmed_pctChange']))\n",
        "\n",
        "plt.subplot(1,3,2)\n",
        "sns.distplot(df_temp['Uber_pctChange'], label=\"Uber Changes\")\n",
        "\n",
        "plt.subplot(1,3,3)\n",
        "sns.distplot((df_temp['Lyft_pctChange']))\n",
        "\n",
        "\n",
        "# plt.title('Distribution of scores assigned to every house',size= 20)\n",
        "fig.suptitle(\"Histogram of Precentage Change Day on Day in Stock Prices of Uber | Lyft & Confirmed Cases\", fontsize=20)\n",
        "\n"
      ],
      "execution_count": 0,
      "outputs": [
        {
          "output_type": "execute_result",
          "data": {
            "text/plain": [
              "Text(0.5, 0.98, 'Histogram of Precentage Change Day on Day in Stock Prices of Uber | Lyft & Confirmed Cases')"
            ]
          },
          "metadata": {
            "tags": []
          },
          "execution_count": 171
        },
        {
          "output_type": "display_data",
          "data": {
            "image/png": "[encoded data removed]",
            "text/plain": [
              "<Figure size 1440x360 with 3 Axes>"
            ]
          },
          "metadata": {
            "tags": [],
            "needs_background": "light"
          }
        }
      ]
    },
    {
      "cell_type": "markdown",
      "metadata": {
        "id": "eYHPPSzYrDu8",
        "colab_type": "text"
      },
      "source": [
        "###### Inference from above graph: As the velocity in the Positive Cases increases we see that velocity in the Uber & Lyft Price decreases and when the velocity of confirm cases decreases then velocity in the Stock Prices of Uber Lyft Increases,\n",
        "###### Changes in the confirmed cases is right skewed which suggests increasing cases while for Uber & Lyft we see that its left skewed which shows a constant decline in this Stock Prices while Lyft has smooth fluctuation"
      ]
    },
    {
      "cell_type": "code",
      "metadata": {
        "id": "E85IGNHCrDu9",
        "colab_type": "code",
        "colab": {},
        "outputId": "fd732b1e-39ed-420c-f9ae-517f8e7925ff"
      },
      "source": [
        "df_temp=comb_df.copy()\n",
        "df_temp['Country_Region']= 'NJ'\n",
        "df_temp['Lat']= 39.833851\n",
        "df_temp['Long']= -74.871826\n",
        "\n",
        "df_temp = df_temp.groupby(['date', 'Country_Region','Lat','Long'])['cumpositive', 'cumdeath'].max().reset_index()\n",
        "df_temp[\"date\"] = pd.to_datetime(df_temp[\"date\"]).dt.strftime('%m/%d/%Y')\n",
        "df_temp.columns=['Last_Update','Country_Region','Lat','Long','Confirmed','Deaths']\n",
        "df_temp['Confirmed'].fillna(0, inplace=True)\n",
        "df_temp.sort_values('Confirmed', ascending=False).head()"
      ],
      "execution_count": 0,
      "outputs": [
        {
          "output_type": "execute_result",
          "data": {
            "text/html": [
              "<div>\n",
              "<style scoped>\n",
              "    .dataframe tbody tr th:only-of-type {\n",
              "        vertical-align: middle;\n",
              "    }\n",
              "\n",
              "    .dataframe tbody tr th {\n",
              "        vertical-align: top;\n",
              "    }\n",
              "\n",
              "    .dataframe thead th {\n",
              "        text-align: right;\n",
              "    }\n",
              "</style>\n",
              "<table border=\"1\" class=\"dataframe\">\n",
              "  <thead>\n",
              "    <tr style=\"text-align: right;\">\n",
              "      <th></th>\n",
              "      <th>Last_Update</th>\n",
              "      <th>Country_Region</th>\n",
              "      <th>Lat</th>\n",
              "      <th>Long</th>\n",
              "      <th>Confirmed</th>\n",
              "      <th>Deaths</th>\n",
              "    </tr>\n",
              "  </thead>\n",
              "  <tbody>\n",
              "    <tr>\n",
              "      <th>39</th>\n",
              "      <td>05/04/2020</td>\n",
              "      <td>NJ</td>\n",
              "      <td>39.833851</td>\n",
              "      <td>-74.871826</td>\n",
              "      <td>128269</td>\n",
              "      <td>7910</td>\n",
              "    </tr>\n",
              "    <tr>\n",
              "      <th>38</th>\n",
              "      <td>05/01/2020</td>\n",
              "      <td>NJ</td>\n",
              "      <td>39.833851</td>\n",
              "      <td>-74.871826</td>\n",
              "      <td>121190</td>\n",
              "      <td>7538</td>\n",
              "    </tr>\n",
              "    <tr>\n",
              "      <th>37</th>\n",
              "      <td>04/30/2020</td>\n",
              "      <td>NJ</td>\n",
              "      <td>39.833851</td>\n",
              "      <td>-74.871826</td>\n",
              "      <td>118652</td>\n",
              "      <td>7228</td>\n",
              "    </tr>\n",
              "    <tr>\n",
              "      <th>36</th>\n",
              "      <td>04/29/2020</td>\n",
              "      <td>NJ</td>\n",
              "      <td>39.833851</td>\n",
              "      <td>-74.871826</td>\n",
              "      <td>116264</td>\n",
              "      <td>6770</td>\n",
              "    </tr>\n",
              "    <tr>\n",
              "      <th>35</th>\n",
              "      <td>04/28/2020</td>\n",
              "      <td>NJ</td>\n",
              "      <td>39.833851</td>\n",
              "      <td>-74.871826</td>\n",
              "      <td>113856</td>\n",
              "      <td>6442</td>\n",
              "    </tr>\n",
              "  </tbody>\n",
              "</table>\n",
              "</div>"
            ],
            "text/plain": [
              "   Last_Update Country_Region        Lat       Long  Confirmed  Deaths\n",
              "39  05/04/2020             NJ  39.833851 -74.871826     128269    7910\n",
              "38  05/01/2020             NJ  39.833851 -74.871826     121190    7538\n",
              "37  04/30/2020             NJ  39.833851 -74.871826     118652    7228\n",
              "36  04/29/2020             NJ  39.833851 -74.871826     116264    6770\n",
              "35  04/28/2020             NJ  39.833851 -74.871826     113856    6442"
            ]
          },
          "metadata": {
            "tags": []
          },
          "execution_count": 172
        }
      ]
    },
    {
      "cell_type": "code",
      "metadata": {
        "id": "t8VoN7BzrDvD",
        "colab_type": "code",
        "colab": {},
        "outputId": "1e6575ab-5bfe-43d4-f7c5-e3ad611ccefd"
      },
      "source": [
        "fig = px.scatter_geo(df_temp,\n",
        "                     #locations=\"Country_Region\",\n",
        "                     locationmode='country names',\n",
        "                     lat='Lat', lon='Long',\n",
        "                     #hover_name=\"Country_Region\",\n",
        "                     hover_data=[\"Confirmed\", \"Deaths\"], animation_frame=\"Last_Update\",\n",
        "                     color=np.log10(df_temp[\"Confirmed\"]+1)-1, size=np.power(df_temp[\"Confirmed\"]+1, 0.3)-1,\n",
        "                     range_color= [0, max(np.log10(df_temp[\"Confirmed\"]+1))],\n",
        "                     title=\"COVID-19 Progression Animation Over Time\",\n",
        "                     color_continuous_scale=px.colors.sequential.Plasma,\n",
        "                     projection=\"natural earth\"\n",
        "                    )\n",
        "fig.update_coloraxes(colorscale=\"hot\")\n",
        "fig.update(layout_coloraxis_showscale=False)\n",
        "#fig.update_coloraxes(colorbar_title=\"Color (Confirmed Cases Log Scale)\")\n",
        "fig.show()"
      ],
      "execution_count": 0,
      "outputs": [
        {
          "output_type": "display_data",
          "data": {
            "application/vnd.plotly.v1+json": {
              "config": {
                "plotlyServerURL": "https://plot.ly"
              },
              "data": [
                {
                  "customdata": [
                    [
                      11,
                      0
                    ]
                  ],
                  "geo": "geo",
                  "hoverlabel": {
                    "namelength": 0
                  },
                  "hovertemplate": "Last_Update=03/09/2020<br>size=%{marker.size}<br>Confirmed=%{customdata[0]}<br>Deaths=%{customdata[1]}<br>Lat=%{lat}<br>Long=%{lon}<br>color=%{marker.color}",
                  "lat": [
                    39.833851
                  ],
                  "legendgroup": "",
                  "locationmode": "country names",
                  "lon": [
                    -74.871826
                  ],
                  "marker": {
                    "color": [
                      0.07918124604762489
                    ],
                    "coloraxis": "coloraxis",
                    "size": [
                      1.107435899344471
                    ],
                    "sizemode": "area",
                    "sizeref": 0.08268782637996869
                  },
                  "name": "",
                  "showlegend": false,
                  "type": "scattergeo"
                }
              ],
              "frames": [
                {
                  "data": [
                    {
                      "customdata": [
                        [
                          11,
                          0
                        ]
                      ],
                      "geo": "geo",
                      "hoverlabel": {
                        "namelength": 0
                      },
                      "hovertemplate": "Last_Update=03/09/2020<br>size=%{marker.size}<br>Confirmed=%{customdata[0]}<br>Deaths=%{customdata[1]}<br>Lat=%{lat}<br>Long=%{lon}<br>color=%{marker.color}",
                      "lat": [
                        39.833851
                      ],
                      "legendgroup": "",
                      "locationmode": "country names",
                      "lon": [
                        -74.871826
                      ],
                      "marker": {
                        "color": [
                          0.07918124604762489
                        ],
                        "coloraxis": "coloraxis",
                        "size": [
                          1.107435899344471
                        ],
                        "sizemode": "area",
                        "sizeref": 0.08268782637996869
                      },
                      "name": "",
                      "showlegend": false,
                      "type": "scattergeo"
                    }
                  ],
                  "name": "03/09/2020"
                },
                {
                  "data": [
                    {
                      "customdata": [
                        [
                          15,
                          0
                        ]
                      ],
                      "geo": "geo",
                      "hoverlabel": {
                        "namelength": 0
                      },
                      "hovertemplate": "Last_Update=03/10/2020<br>size=%{marker.size}<br>Confirmed=%{customdata[0]}<br>Deaths=%{customdata[1]}<br>Lat=%{lat}<br>Long=%{lon}<br>color=%{marker.color}",
                      "lat": [
                        39.833851
                      ],
                      "legendgroup": "",
                      "locationmode": "country names",
                      "lon": [
                        -74.871826
                      ],
                      "marker": {
                        "color": [
                          0.2041199826559248
                        ],
                        "coloraxis": "coloraxis",
                        "size": [
                          1.2973967099940698
                        ],
                        "sizemode": "area",
                        "sizeref": 0.08268782637996869
                      },
                      "name": "",
                      "showlegend": false,
                      "type": "scattergeo"
                    }
                  ],
                  "name": "03/10/2020"
                },
                {
                  "data": [
                    {
                      "customdata": [
                        [
                          24,
                          1
                        ]
                      ],
                      "geo": "geo",
                      "hoverlabel": {
                        "namelength": 0
                      },
                      "hovertemplate": "Last_Update=03/11/2020<br>size=%{marker.size}<br>Confirmed=%{customdata[0]}<br>Deaths=%{customdata[1]}<br>Lat=%{lat}<br>Long=%{lon}<br>color=%{marker.color}",
                      "lat": [
                        39.833851
                      ],
                      "legendgroup": "",
                      "locationmode": "country names",
                      "lon": [
                        -74.871826
                      ],
                      "marker": {
                        "color": [
                          0.3979400086720377
                        ],
                        "coloraxis": "coloraxis",
                        "size": [
                          1.626527804403767
                        ],
                        "sizemode": "area",
                        "sizeref": 0.08268782637996869
                      },
                      "name": "",
                      "showlegend": false,
                      "type": "scattergeo"
                    }
                  ],
                  "name": "03/11/2020"
                },
                {
                  "data": [
                    {
                      "customdata": [
                        [
                          30,
                          1
                        ]
                      ],
                      "geo": "geo",
                      "hoverlabel": {
                        "namelength": 0
                      },
                      "hovertemplate": "Last_Update=03/12/2020<br>size=%{marker.size}<br>Confirmed=%{customdata[0]}<br>Deaths=%{customdata[1]}<br>Lat=%{lat}<br>Long=%{lon}<br>color=%{marker.color}",
                      "lat": [
                        39.833851
                      ],
                      "legendgroup": "",
                      "locationmode": "country names",
                      "lon": [
                        -74.871826
                      ],
                      "marker": {
                        "color": [
                          0.49136169383427264
                        ],
                        "coloraxis": "coloraxis",
                        "size": [
                          1.8016153494371836
                        ],
                        "sizemode": "area",
                        "sizeref": 0.08268782637996869
                      },
                      "name": "",
                      "showlegend": false,
                      "type": "scattergeo"
                    }
                  ],
                  "name": "03/12/2020"
                },
                {
                  "data": [
                    {
                      "customdata": [
                        [
                          50,
                          1
                        ]
                      ],
                      "geo": "geo",
                      "hoverlabel": {
                        "namelength": 0
                      },
                      "hovertemplate": "Last_Update=03/13/2020<br>size=%{marker.size}<br>Confirmed=%{customdata[0]}<br>Deaths=%{customdata[1]}<br>Lat=%{lat}<br>Long=%{lon}<br>color=%{marker.color}",
                      "lat": [
                        39.833851
                      ],
                      "legendgroup": "",
                      "locationmode": "country names",
                      "lon": [
                        -74.871826
                      ],
                      "marker": {
                        "color": [
                          0.7075701760979363
                        ],
                        "coloraxis": "coloraxis",
                        "size": [
                          2.2529025491464565
                        ],
                        "sizemode": "area",
                        "sizeref": 0.08268782637996869
                      },
                      "name": "",
                      "showlegend": false,
                      "type": "scattergeo"
                    }
                  ],
                  "name": "03/13/2020"
                },
                {
                  "data": [
                    {
                      "customdata": [
                        [
                          178,
                          2
                        ]
                      ],
                      "geo": "geo",
                      "hoverlabel": {
                        "namelength": 0
                      },
                      "hovertemplate": "Last_Update=03/16/2020<br>size=%{marker.size}<br>Confirmed=%{customdata[0]}<br>Deaths=%{customdata[1]}<br>Lat=%{lat}<br>Long=%{lon}<br>color=%{marker.color}",
                      "lat": [
                        39.833851
                      ],
                      "legendgroup": "",
                      "locationmode": "country names",
                      "lon": [
                        -74.871826
                      ],
                      "marker": {
                        "color": [
                          1.2528530309798933
                        ],
                        "coloraxis": "coloraxis",
                        "size": [
                          3.740846668262228
                        ],
                        "sizemode": "area",
                        "sizeref": 0.08268782637996869
                      },
                      "name": "",
                      "showlegend": false,
                      "type": "scattergeo"
                    }
                  ],
                  "name": "03/16/2020"
                },
                {
                  "data": [
                    {
                      "customdata": [
                        [
                          267,
                          3
                        ]
                      ],
                      "geo": "geo",
                      "hoverlabel": {
                        "namelength": 0
                      },
                      "hovertemplate": "Last_Update=03/17/2020<br>size=%{marker.size}<br>Confirmed=%{customdata[0]}<br>Deaths=%{customdata[1]}<br>Lat=%{lat}<br>Long=%{lon}<br>color=%{marker.color}",
                      "lat": [
                        39.833851
                      ],
                      "legendgroup": "",
                      "locationmode": "country names",
                      "lon": [
                        -74.871826
                      ],
                      "marker": {
                        "color": [
                          1.428134794028789
                        ],
                        "coloraxis": "coloraxis",
                        "size": [
                          4.351067609370817
                        ],
                        "sizemode": "area",
                        "sizeref": 0.08268782637996869
                      },
                      "name": "",
                      "showlegend": false,
                      "type": "scattergeo"
                    }
                  ],
                  "name": "03/17/2020"
                },
                {
                  "data": [
                    {
                      "customdata": [
                        [
                          427,
                          5
                        ]
                      ],
                      "geo": "geo",
                      "hoverlabel": {
                        "namelength": 0
                      },
                      "hovertemplate": "Last_Update=03/18/2020<br>size=%{marker.size}<br>Confirmed=%{customdata[0]}<br>Deaths=%{customdata[1]}<br>Lat=%{lat}<br>Long=%{lon}<br>color=%{marker.color}",
                      "lat": [
                        39.833851
                      ],
                      "legendgroup": "",
                      "locationmode": "country names",
                      "lon": [
                        -74.871826
                      ],
                      "marker": {
                        "color": [
                          1.6314437690131722
                        ],
                        "coloraxis": "coloraxis",
                        "size": [
                          5.157907071383781
                        ],
                        "sizemode": "area",
                        "sizeref": 0.08268782637996869
                      },
                      "name": "",
                      "showlegend": false,
                      "type": "scattergeo"
                    }
                  ],
                  "name": "03/18/2020"
                },
                {
                  "data": [
                    {
                      "customdata": [
                        [
                          742,
                          9
                        ]
                      ],
                      "geo": "geo",
                      "hoverlabel": {
                        "namelength": 0
                      },
                      "hovertemplate": "Last_Update=03/19/2020<br>size=%{marker.size}<br>Confirmed=%{customdata[0]}<br>Deaths=%{customdata[1]}<br>Lat=%{lat}<br>Long=%{lon}<br>color=%{marker.color}",
                      "lat": [
                        39.833851
                      ],
                      "legendgroup": "",
                      "locationmode": "country names",
                      "lon": [
                        -74.871826
                      ],
                      "marker": {
                        "color": [
                          1.8709888137605755
                        ],
                        "coloraxis": "coloraxis",
                        "size": [
                          6.266020923322288
                        ],
                        "sizemode": "area",
                        "sizeref": 0.08268782637996869
                      },
                      "name": "",
                      "showlegend": false,
                      "type": "scattergeo"
                    }
                  ],
                  "name": "03/19/2020"
                },
                {
                  "data": [
                    {
                      "customdata": [
                        [
                          890,
                          11
                        ]
                      ],
                      "geo": "geo",
                      "hoverlabel": {
                        "namelength": 0
                      },
                      "hovertemplate": "Last_Update=03/20/2020<br>size=%{marker.size}<br>Confirmed=%{customdata[0]}<br>Deaths=%{customdata[1]}<br>Lat=%{lat}<br>Long=%{lon}<br>color=%{marker.color}",
                      "lat": [
                        39.833851
                      ],
                      "legendgroup": "",
                      "locationmode": "country names",
                      "lon": [
                        -74.871826
                      ],
                      "marker": {
                        "color": [
                          1.9498777040368749
                        ],
                        "coloraxis": "coloraxis",
                        "size": [
                          6.6729666612381955
                        ],
                        "sizemode": "area",
                        "sizeref": 0.08268782637996869
                      },
                      "name": "",
                      "showlegend": false,
                      "type": "scattergeo"
                    }
                  ],
                  "name": "03/20/2020"
                },
                {
                  "data": [
                    {
                      "customdata": [
                        [
                          2844,
                          27
                        ]
                      ],
                      "geo": "geo",
                      "hoverlabel": {
                        "namelength": 0
                      },
                      "hovertemplate": "Last_Update=03/23/2020<br>size=%{marker.size}<br>Confirmed=%{customdata[0]}<br>Deaths=%{customdata[1]}<br>Lat=%{lat}<br>Long=%{lon}<br>color=%{marker.color}",
                      "lat": [
                        39.833851
                      ],
                      "legendgroup": "",
                      "locationmode": "country names",
                      "lon": [
                        -74.871826
                      ],
                      "marker": {
                        "color": [
                          2.45408227073109
                        ],
                        "coloraxis": "coloraxis",
                        "size": [
                          9.869878287497992
                        ],
                        "sizemode": "area",
                        "sizeref": 0.08268782637996869
                      },
                      "name": "",
                      "showlegend": false,
                      "type": "scattergeo"
                    }
                  ],
                  "name": "03/23/2020"
                },
                {
                  "data": [
                    {
                      "customdata": [
                        [
                          3675,
                          44
                        ]
                      ],
                      "geo": "geo",
                      "hoverlabel": {
                        "namelength": 0
                      },
                      "hovertemplate": "Last_Update=03/24/2020<br>size=%{marker.size}<br>Confirmed=%{customdata[0]}<br>Deaths=%{customdata[1]}<br>Lat=%{lat}<br>Long=%{lon}<br>color=%{marker.color}",
                      "lat": [
                        39.833851
                      ],
                      "legendgroup": "",
                      "locationmode": "country names",
                      "lon": [
                        -74.871826
                      ],
                      "marker": {
                        "color": [
                          2.5653755027140734
                        ],
                        "coloraxis": "coloraxis",
                        "size": [
                          10.738501257419353
                        ],
                        "sizemode": "area",
                        "sizeref": 0.08268782637996869
                      },
                      "name": "",
                      "showlegend": false,
                      "type": "scattergeo"
                    }
                  ],
                  "name": "03/24/2020"
                },
                {
                  "data": [
                    {
                      "customdata": [
                        [
                          4402,
                          62
                        ]
                      ],
                      "geo": "geo",
                      "hoverlabel": {
                        "namelength": 0
                      },
                      "hovertemplate": "Last_Update=03/25/2020<br>size=%{marker.size}<br>Confirmed=%{customdata[0]}<br>Deaths=%{customdata[1]}<br>Lat=%{lat}<br>Long=%{lon}<br>color=%{marker.color}",
                      "lat": [
                        39.833851
                      ],
                      "legendgroup": "",
                      "locationmode": "country names",
                      "lon": [
                        -74.871826
                      ],
                      "marker": {
                        "color": [
                          2.6437486854595256
                        ],
                        "coloraxis": "coloraxis",
                        "size": [
                          11.391520669512513
                        ],
                        "sizemode": "area",
                        "sizeref": 0.08268782637996869
                      },
                      "name": "",
                      "showlegend": false,
                      "type": "scattergeo"
                    }
                  ],
                  "name": "03/25/2020"
                },
                {
                  "data": [
                    {
                      "customdata": [
                        [
                          6876,
                          81
                        ]
                      ],
                      "geo": "geo",
                      "hoverlabel": {
                        "namelength": 0
                      },
                      "hovertemplate": "Last_Update=03/26/2020<br>size=%{marker.size}<br>Confirmed=%{customdata[0]}<br>Deaths=%{customdata[1]}<br>Lat=%{lat}<br>Long=%{lon}<br>color=%{marker.color}",
                      "lat": [
                        39.833851
                      ],
                      "legendgroup": "",
                      "locationmode": "country names",
                      "lon": [
                        -74.871826
                      ],
                      "marker": {
                        "color": [
                          2.8373990243420226
                        ],
                        "coloraxis": "coloraxis",
                        "size": [
                          13.165102038135831
                        ],
                        "sizemode": "area",
                        "sizeref": 0.08268782637996869
                      },
                      "name": "",
                      "showlegend": false,
                      "type": "scattergeo"
                    }
                  ],
                  "name": "03/26/2020"
                },
                {
                  "data": [
                    {
                      "customdata": [
                        [
                          8825,
                          108
                        ]
                      ],
                      "geo": "geo",
                      "hoverlabel": {
                        "namelength": 0
                      },
                      "hovertemplate": "Last_Update=03/27/2020<br>size=%{marker.size}<br>Confirmed=%{customdata[0]}<br>Deaths=%{customdata[1]}<br>Lat=%{lat}<br>Long=%{lon}<br>color=%{marker.color}",
                      "lat": [
                        39.833851
                      ],
                      "legendgroup": "",
                      "locationmode": "country names",
                      "lon": [
                        -74.871826
                      ],
                      "marker": {
                        "color": [
                          2.9457639231111736
                        ],
                        "coloraxis": "coloraxis",
                        "size": [
                          14.266137754480356
                        ],
                        "sizemode": "area",
                        "sizeref": 0.08268782637996869
                      },
                      "name": "",
                      "showlegend": false,
                      "type": "scattergeo"
                    }
                  ],
                  "name": "03/27/2020"
                },
                {
                  "data": [
                    {
                      "customdata": [
                        [
                          16636,
                          198
                        ]
                      ],
                      "geo": "geo",
                      "hoverlabel": {
                        "namelength": 0
                      },
                      "hovertemplate": "Last_Update=03/30/2020<br>size=%{marker.size}<br>Confirmed=%{customdata[0]}<br>Deaths=%{customdata[1]}<br>Lat=%{lat}<br>Long=%{lon}<br>color=%{marker.color}",
                      "lat": [
                        39.833851
                      ],
                      "legendgroup": "",
                      "locationmode": "country names",
                      "lon": [
                        -74.871826
                      ],
                      "marker": {
                        "color": [
                          3.221075016611721
                        ],
                        "coloraxis": "coloraxis",
                        "size": [
                          17.4638602755424
                        ],
                        "sizemode": "area",
                        "sizeref": 0.08268782637996869
                      },
                      "name": "",
                      "showlegend": false,
                      "type": "scattergeo"
                    }
                  ],
                  "name": "03/30/2020"
                },
                {
                  "data": [
                    {
                      "customdata": [
                        [
                          18696,
                          267
                        ]
                      ],
                      "geo": "geo",
                      "hoverlabel": {
                        "namelength": 0
                      },
                      "hovertemplate": "Last_Update=03/31/2020<br>size=%{marker.size}<br>Confirmed=%{customdata[0]}<br>Deaths=%{customdata[1]}<br>Lat=%{lat}<br>Long=%{lon}<br>color=%{marker.color}",
                      "lat": [
                        39.833851
                      ],
                      "legendgroup": "",
                      "locationmode": "country names",
                      "lon": [
                        -74.871826
                      ],
                      "marker": {
                        "color": [
                          3.27177192803563
                        ],
                        "coloraxis": "coloraxis",
                        "size": [
                          18.121923588379232
                        ],
                        "sizemode": "area",
                        "sizeref": 0.08268782637996869
                      },
                      "name": "",
                      "showlegend": false,
                      "type": "scattergeo"
                    }
                  ],
                  "name": "03/31/2020"
                },
                {
                  "data": [
                    {
                      "customdata": [
                        [
                          22255,
                          355
                        ]
                      ],
                      "geo": "geo",
                      "hoverlabel": {
                        "namelength": 0
                      },
                      "hovertemplate": "Last_Update=04/01/2020<br>size=%{marker.size}<br>Confirmed=%{customdata[0]}<br>Deaths=%{customdata[1]}<br>Lat=%{lat}<br>Long=%{lon}<br>color=%{marker.color}",
                      "lat": [
                        39.833851
                      ],
                      "legendgroup": "",
                      "locationmode": "country names",
                      "lon": [
                        -74.871826
                      ],
                      "marker": {
                        "color": [
                          3.347447112647971
                        ],
                        "coloraxis": "coloraxis",
                        "size": [
                          19.148101674429906
                        ],
                        "sizemode": "area",
                        "sizeref": 0.08268782637996869
                      },
                      "name": "",
                      "showlegend": false,
                      "type": "scattergeo"
                    }
                  ],
                  "name": "04/01/2020"
                },
                {
                  "data": [
                    {
                      "customdata": [
                        [
                          25590,
                          537
                        ]
                      ],
                      "geo": "geo",
                      "hoverlabel": {
                        "namelength": 0
                      },
                      "hovertemplate": "Last_Update=04/02/2020<br>size=%{marker.size}<br>Confirmed=%{customdata[0]}<br>Deaths=%{customdata[1]}<br>Lat=%{lat}<br>Long=%{lon}<br>color=%{marker.color}",
                      "lat": [
                        39.833851
                      ],
                      "legendgroup": "",
                      "locationmode": "country names",
                      "lon": [
                        -74.871826
                      ],
                      "marker": {
                        "color": [
                          3.4080872568131912
                        ],
                        "coloraxis": "coloraxis",
                        "size": [
                          20.01000602965261
                        ],
                        "sizemode": "area",
                        "sizeref": 0.08268782637996869
                      },
                      "name": "",
                      "showlegend": false,
                      "type": "scattergeo"
                    }
                  ],
                  "name": "04/02/2020"
                },
                {
                  "data": [
                    {
                      "customdata": [
                        [
                          29895,
                          646
                        ]
                      ],
                      "geo": "geo",
                      "hoverlabel": {
                        "namelength": 0
                      },
                      "hovertemplate": "Last_Update=04/03/2020<br>size=%{marker.size}<br>Confirmed=%{customdata[0]}<br>Deaths=%{customdata[1]}<br>Lat=%{lat}<br>Long=%{lon}<br>color=%{marker.color}",
                      "lat": [
                        39.833851
                      ],
                      "legendgroup": "",
                      "locationmode": "country names",
                      "lon": [
                        -74.871826
                      ],
                      "marker": {
                        "color": [
                          3.475613084841581
                        ],
                        "coloraxis": "coloraxis",
                        "size": [
                          21.01323781693389
                        ],
                        "sizemode": "area",
                        "sizeref": 0.08268782637996869
                      },
                      "name": "",
                      "showlegend": false,
                      "type": "scattergeo"
                    }
                  ],
                  "name": "04/03/2020"
                },
                {
                  "data": [
                    {
                      "customdata": [
                        [
                          41090,
                          1003
                        ]
                      ],
                      "geo": "geo",
                      "hoverlabel": {
                        "namelength": 0
                      },
                      "hovertemplate": "Last_Update=04/06/2020<br>size=%{marker.size}<br>Confirmed=%{customdata[0]}<br>Deaths=%{customdata[1]}<br>Lat=%{lat}<br>Long=%{lon}<br>color=%{marker.color}",
                      "lat": [
                        39.833851
                      ],
                      "legendgroup": "",
                      "locationmode": "country names",
                      "lon": [
                        -74.871826
                      ],
                      "marker": {
                        "color": [
                          3.6137467104805943
                        ],
                        "coloraxis": "coloraxis",
                        "size": [
                          23.2172047227261
                        ],
                        "sizemode": "area",
                        "sizeref": 0.08268782637996869
                      },
                      "name": "",
                      "showlegend": false,
                      "type": "scattergeo"
                    }
                  ],
                  "name": "04/06/2020"
                },
                {
                  "data": [
                    {
                      "customdata": [
                        [
                          44416,
                          1232
                        ]
                      ],
                      "geo": "geo",
                      "hoverlabel": {
                        "namelength": 0
                      },
                      "hovertemplate": "Last_Update=04/07/2020<br>size=%{marker.size}<br>Confirmed=%{customdata[0]}<br>Deaths=%{customdata[1]}<br>Lat=%{lat}<br>Long=%{lon}<br>color=%{marker.color}",
                      "lat": [
                        39.833851
                      ],
                      "legendgroup": "",
                      "locationmode": "country names",
                      "lon": [
                        -74.871826
                      ],
                      "marker": {
                        "color": [
                          3.64754922221236
                        ],
                        "coloraxis": "coloraxis",
                        "size": [
                          23.78932872959249
                        ],
                        "sizemode": "area",
                        "sizeref": 0.08268782637996869
                      },
                      "name": "",
                      "showlegend": false,
                      "type": "scattergeo"
                    }
                  ],
                  "name": "04/07/2020"
                },
                {
                  "data": [
                    {
                      "customdata": [
                        [
                          47437,
                          1504
                        ]
                      ],
                      "geo": "geo",
                      "hoverlabel": {
                        "namelength": 0
                      },
                      "hovertemplate": "Last_Update=04/08/2020<br>size=%{marker.size}<br>Confirmed=%{customdata[0]}<br>Deaths=%{customdata[1]}<br>Lat=%{lat}<br>Long=%{lon}<br>color=%{marker.color}",
                      "lat": [
                        39.833851
                      ],
                      "legendgroup": "",
                      "locationmode": "country names",
                      "lon": [
                        -74.871826
                      ],
                      "marker": {
                        "color": [
                          3.676126370759378
                        ],
                        "coloraxis": "coloraxis",
                        "size": [
                          24.283541799160506
                        ],
                        "sizemode": "area",
                        "sizeref": 0.08268782637996869
                      },
                      "name": "",
                      "showlegend": false,
                      "type": "scattergeo"
                    }
                  ],
                  "name": "04/08/2020"
                },
                {
                  "data": [
                    {
                      "customdata": [
                        [
                          51027,
                          1700
                        ]
                      ],
                      "geo": "geo",
                      "hoverlabel": {
                        "namelength": 0
                      },
                      "hovertemplate": "Last_Update=04/09/2020<br>size=%{marker.size}<br>Confirmed=%{customdata[0]}<br>Deaths=%{customdata[1]}<br>Lat=%{lat}<br>Long=%{lon}<br>color=%{marker.color}",
                      "lat": [
                        39.833851
                      ],
                      "legendgroup": "",
                      "locationmode": "country names",
                      "lon": [
                        -74.871826
                      ],
                      "marker": {
                        "color": [
                          3.707808546854955
                        ],
                        "coloraxis": "coloraxis",
                        "size": [
                          24.842978368147122
                        ],
                        "sizemode": "area",
                        "sizeref": 0.08268782637996869
                      },
                      "name": "",
                      "showlegend": false,
                      "type": "scattergeo"
                    }
                  ],
                  "name": "04/09/2020"
                },
                {
                  "data": [
                    {
                      "customdata": [
                        [
                          64584,
                          2443
                        ]
                      ],
                      "geo": "geo",
                      "hoverlabel": {
                        "namelength": 0
                      },
                      "hovertemplate": "Last_Update=04/13/2020<br>size=%{marker.size}<br>Confirmed=%{customdata[0]}<br>Deaths=%{customdata[1]}<br>Lat=%{lat}<br>Long=%{lon}<br>color=%{marker.color}",
                      "lat": [
                        39.833851
                      ],
                      "legendgroup": "",
                      "locationmode": "country names",
                      "lon": [
                        -74.871826
                      ],
                      "marker": {
                        "color": [
                          3.810131663913607
                        ],
                        "coloraxis": "coloraxis",
                        "size": [
                          26.735723501668833
                        ],
                        "sizemode": "area",
                        "sizeref": 0.08268782637996869
                      },
                      "name": "",
                      "showlegend": false,
                      "type": "scattergeo"
                    }
                  ],
                  "name": "04/13/2020"
                },
                {
                  "data": [
                    {
                      "customdata": [
                        [
                          68824,
                          2805
                        ]
                      ],
                      "geo": "geo",
                      "hoverlabel": {
                        "namelength": 0
                      },
                      "hovertemplate": "Last_Update=04/14/2020<br>size=%{marker.size}<br>Confirmed=%{customdata[0]}<br>Deaths=%{customdata[1]}<br>Lat=%{lat}<br>Long=%{lon}<br>color=%{marker.color}",
                      "lat": [
                        39.833851
                      ],
                      "legendgroup": "",
                      "locationmode": "country names",
                      "lon": [
                        -74.871826
                      ],
                      "marker": {
                        "color": [
                          3.837746220065368
                        ],
                        "coloraxis": "coloraxis",
                        "size": [
                          27.269873556989975
                        ],
                        "sizemode": "area",
                        "sizeref": 0.08268782637996869
                      },
                      "name": "",
                      "showlegend": false,
                      "type": "scattergeo"
                    }
                  ],
                  "name": "04/14/2020"
                },
                {
                  "data": [
                    {
                      "customdata": [
                        [
                          71030,
                          3156
                        ]
                      ],
                      "geo": "geo",
                      "hoverlabel": {
                        "namelength": 0
                      },
                      "hovertemplate": "Last_Update=04/15/2020<br>size=%{marker.size}<br>Confirmed=%{customdata[0]}<br>Deaths=%{customdata[1]}<br>Lat=%{lat}<br>Long=%{lon}<br>color=%{marker.color}",
                      "lat": [
                        39.833851
                      ],
                      "legendgroup": "",
                      "locationmode": "country names",
                      "lon": [
                        -74.871826
                      ],
                      "marker": {
                        "color": [
                          3.8514479288692227
                        ],
                        "coloraxis": "coloraxis",
                        "size": [
                          27.538712649187843
                        ],
                        "sizemode": "area",
                        "sizeref": 0.08268782637996869
                      },
                      "name": "",
                      "showlegend": false,
                      "type": "scattergeo"
                    }
                  ],
                  "name": "04/15/2020"
                },
                {
                  "data": [
                    {
                      "customdata": [
                        [
                          75317,
                          3518
                        ]
                      ],
                      "geo": "geo",
                      "hoverlabel": {
                        "namelength": 0
                      },
                      "hovertemplate": "Last_Update=04/16/2020<br>size=%{marker.size}<br>Confirmed=%{customdata[0]}<br>Deaths=%{customdata[1]}<br>Lat=%{lat}<br>Long=%{lon}<br>color=%{marker.color}",
                      "lat": [
                        39.833851
                      ],
                      "legendgroup": "",
                      "locationmode": "country names",
                      "lon": [
                        -74.871826
                      ],
                      "marker": {
                        "color": [
                          3.876898779208462
                        ],
                        "coloraxis": "coloraxis",
                        "size": [
                          28.044883160024238
                        ],
                        "sizemode": "area",
                        "sizeref": 0.08268782637996869
                      },
                      "name": "",
                      "showlegend": false,
                      "type": "scattergeo"
                    }
                  ],
                  "name": "04/16/2020"
                },
                {
                  "data": [
                    {
                      "customdata": [
                        [
                          78467,
                          3840
                        ]
                      ],
                      "geo": "geo",
                      "hoverlabel": {
                        "namelength": 0
                      },
                      "hovertemplate": "Last_Update=04/17/2020<br>size=%{marker.size}<br>Confirmed=%{customdata[0]}<br>Deaths=%{customdata[1]}<br>Lat=%{lat}<br>Long=%{lon}<br>color=%{marker.color}",
                      "lat": [
                        39.833851
                      ],
                      "legendgroup": "",
                      "locationmode": "country names",
                      "lon": [
                        -74.871826
                      ],
                      "marker": {
                        "color": [
                          3.8946925834103894
                        ],
                        "coloraxis": "coloraxis",
                        "size": [
                          28.404092143251628
                        ],
                        "sizemode": "area",
                        "sizeref": 0.08268782637996869
                      },
                      "name": "",
                      "showlegend": false,
                      "type": "scattergeo"
                    }
                  ],
                  "name": "04/17/2020"
                },
                {
                  "data": [
                    {
                      "customdata": [
                        [
                          88806,
                          4377
                        ]
                      ],
                      "geo": "geo",
                      "hoverlabel": {
                        "namelength": 0
                      },
                      "hovertemplate": "Last_Update=04/20/2020<br>size=%{marker.size}<br>Confirmed=%{customdata[0]}<br>Deaths=%{customdata[1]}<br>Lat=%{lat}<br>Long=%{lon}<br>color=%{marker.color}",
                      "lat": [
                        39.833851
                      ],
                      "legendgroup": "",
                      "locationmode": "country names",
                      "lon": [
                        -74.871826
                      ],
                      "marker": {
                        "color": [
                          3.948447199354698
                        ],
                        "coloraxis": "coloraxis",
                        "size": [
                          29.516460495489603
                        ],
                        "sizemode": "area",
                        "sizeref": 0.08268782637996869
                      },
                      "name": "",
                      "showlegend": false,
                      "type": "scattergeo"
                    }
                  ],
                  "name": "04/20/2020"
                },
                {
                  "data": [
                    {
                      "customdata": [
                        [
                          92387,
                          4753
                        ]
                      ],
                      "geo": "geo",
                      "hoverlabel": {
                        "namelength": 0
                      },
                      "hovertemplate": "Last_Update=04/21/2020<br>size=%{marker.size}<br>Confirmed=%{customdata[0]}<br>Deaths=%{customdata[1]}<br>Lat=%{lat}<br>Long=%{lon}<br>color=%{marker.color}",
                      "lat": [
                        39.833851
                      ],
                      "legendgroup": "",
                      "locationmode": "country names",
                      "lon": [
                        -74.871826
                      ],
                      "marker": {
                        "color": [
                          3.965615565676563
                        ],
                        "coloraxis": "coloraxis",
                        "size": [
                          29.880524611289015
                        ],
                        "sizemode": "area",
                        "sizeref": 0.08268782637996869
                      },
                      "name": "",
                      "showlegend": false,
                      "type": "scattergeo"
                    }
                  ],
                  "name": "04/21/2020"
                },
                {
                  "data": [
                    {
                      "customdata": [
                        [
                          95865,
                          5063
                        ]
                      ],
                      "geo": "geo",
                      "hoverlabel": {
                        "namelength": 0
                      },
                      "hovertemplate": "Last_Update=04/22/2020<br>size=%{marker.size}<br>Confirmed=%{customdata[0]}<br>Deaths=%{customdata[1]}<br>Lat=%{lat}<br>Long=%{lon}<br>color=%{marker.color}",
                      "lat": [
                        39.833851
                      ],
                      "legendgroup": "",
                      "locationmode": "country names",
                      "lon": [
                        -74.871826
                      ],
                      "marker": {
                        "color": [
                          3.9816646068521564
                        ],
                        "coloraxis": "coloraxis",
                        "size": [
                          30.224779633415896
                        ],
                        "sizemode": "area",
                        "sizeref": 0.08268782637996869
                      },
                      "name": "",
                      "showlegend": false,
                      "type": "scattergeo"
                    }
                  ],
                  "name": "04/22/2020"
                },
                {
                  "data": [
                    {
                      "customdata": [
                        [
                          99989,
                          5368
                        ]
                      ],
                      "geo": "geo",
                      "hoverlabel": {
                        "namelength": 0
                      },
                      "hovertemplate": "Last_Update=04/23/2020<br>size=%{marker.size}<br>Confirmed=%{customdata[0]}<br>Deaths=%{customdata[1]}<br>Lat=%{lat}<br>Long=%{lon}<br>color=%{marker.color}",
                      "lat": [
                        39.833851
                      ],
                      "legendgroup": "",
                      "locationmode": "country names",
                      "lon": [
                        -74.871826
                      ],
                      "marker": {
                        "color": [
                          3.9999565683801928
                        ],
                        "coloraxis": "coloraxis",
                        "size": [
                          30.621827885179943
                        ],
                        "sizemode": "area",
                        "sizeref": 0.08268782637996869
                      },
                      "name": "",
                      "showlegend": false,
                      "type": "scattergeo"
                    }
                  ],
                  "name": "04/23/2020"
                },
                {
                  "data": [
                    {
                      "customdata": [
                        [
                          102196,
                          5617
                        ]
                      ],
                      "geo": "geo",
                      "hoverlabel": {
                        "namelength": 0
                      },
                      "hovertemplate": "Last_Update=04/24/2020<br>size=%{marker.size}<br>Confirmed=%{customdata[0]}<br>Deaths=%{customdata[1]}<br>Lat=%{lat}<br>Long=%{lon}<br>color=%{marker.color}",
                      "lat": [
                        39.833851
                      ],
                      "legendgroup": "",
                      "locationmode": "country names",
                      "lon": [
                        -74.871826
                      ],
                      "marker": {
                        "color": [
                          4.009438147241271
                        ],
                        "coloraxis": "coloraxis",
                        "size": [
                          30.829619294470124
                        ],
                        "sizemode": "area",
                        "sizeref": 0.08268782637996869
                      },
                      "name": "",
                      "showlegend": false,
                      "type": "scattergeo"
                    }
                  ],
                  "name": "04/24/2020"
                },
                {
                  "data": [
                    {
                      "customdata": [
                        [
                          111188,
                          6044
                        ]
                      ],
                      "geo": "geo",
                      "hoverlabel": {
                        "namelength": 0
                      },
                      "hovertemplate": "Last_Update=04/27/2020<br>size=%{marker.size}<br>Confirmed=%{customdata[0]}<br>Deaths=%{customdata[1]}<br>Lat=%{lat}<br>Long=%{lon}<br>color=%{marker.color}",
                      "lat": [
                        39.833851
                      ],
                      "legendgroup": "",
                      "locationmode": "country names",
                      "lon": [
                        -74.871826
                      ],
                      "marker": {
                        "color": [
                          4.046061824335959
                        ],
                        "coloraxis": "coloraxis",
                        "size": [
                          31.645140892013984
                        ],
                        "sizemode": "area",
                        "sizeref": 0.08268782637996869
                      },
                      "name": "",
                      "showlegend": false,
                      "type": "scattergeo"
                    }
                  ],
                  "name": "04/27/2020"
                },
                {
                  "data": [
                    {
                      "customdata": [
                        [
                          113856,
                          6442
                        ]
                      ],
                      "geo": "geo",
                      "hoverlabel": {
                        "namelength": 0
                      },
                      "hovertemplate": "Last_Update=04/28/2020<br>size=%{marker.size}<br>Confirmed=%{customdata[0]}<br>Deaths=%{customdata[1]}<br>Lat=%{lat}<br>Long=%{lon}<br>color=%{marker.color}",
                      "lat": [
                        39.833851
                      ],
                      "legendgroup": "",
                      "locationmode": "country names",
                      "lon": [
                        -74.871826
                      ],
                      "marker": {
                        "color": [
                          4.056359736469993
                        ],
                        "coloraxis": "coloraxis",
                        "size": [
                          31.878191518722097
                        ],
                        "sizemode": "area",
                        "sizeref": 0.08268782637996869
                      },
                      "name": "",
                      "showlegend": false,
                      "type": "scattergeo"
                    }
                  ],
                  "name": "04/28/2020"
                },
                {
                  "data": [
                    {
                      "customdata": [
                        [
                          116264,
                          6770
                        ]
                      ],
                      "geo": "geo",
                      "hoverlabel": {
                        "namelength": 0
                      },
                      "hovertemplate": "Last_Update=04/29/2020<br>size=%{marker.size}<br>Confirmed=%{customdata[0]}<br>Deaths=%{customdata[1]}<br>Lat=%{lat}<br>Long=%{lon}<br>color=%{marker.color}",
                      "lat": [
                        39.833851
                      ],
                      "legendgroup": "",
                      "locationmode": "country names",
                      "lon": [
                        -74.871826
                      ],
                      "marker": {
                        "color": [
                          4.065448995944613
                        ],
                        "coloraxis": "coloraxis",
                        "size": [
                          32.08527119062137
                        ],
                        "sizemode": "area",
                        "sizeref": 0.08268782637996869
                      },
                      "name": "",
                      "showlegend": false,
                      "type": "scattergeo"
                    }
                  ],
                  "name": "04/29/2020"
                },
                {
                  "data": [
                    {
                      "customdata": [
                        [
                          118652,
                          7228
                        ]
                      ],
                      "geo": "geo",
                      "hoverlabel": {
                        "namelength": 0
                      },
                      "hovertemplate": "Last_Update=04/30/2020<br>size=%{marker.size}<br>Confirmed=%{customdata[0]}<br>Deaths=%{customdata[1]}<br>Lat=%{lat}<br>Long=%{lon}<br>color=%{marker.color}",
                      "lat": [
                        39.833851
                      ],
                      "legendgroup": "",
                      "locationmode": "country names",
                      "lon": [
                        -74.871826
                      ],
                      "marker": {
                        "color": [
                          4.074278723311678
                        ],
                        "coloraxis": "coloraxis",
                        "size": [
                          32.287686831885715
                        ],
                        "sizemode": "area",
                        "sizeref": 0.08268782637996869
                      },
                      "name": "",
                      "showlegend": false,
                      "type": "scattergeo"
                    }
                  ],
                  "name": "04/30/2020"
                },
                {
                  "data": [
                    {
                      "customdata": [
                        [
                          121190,
                          7538
                        ]
                      ],
                      "geo": "geo",
                      "hoverlabel": {
                        "namelength": 0
                      },
                      "hovertemplate": "Last_Update=05/01/2020<br>size=%{marker.size}<br>Confirmed=%{customdata[0]}<br>Deaths=%{customdata[1]}<br>Lat=%{lat}<br>Long=%{lon}<br>color=%{marker.color}",
                      "lat": [
                        39.833851
                      ],
                      "legendgroup": "",
                      "locationmode": "country names",
                      "lon": [
                        -74.871826
                      ],
                      "marker": {
                        "color": [
                          4.083470369042582
                        ],
                        "coloraxis": "coloraxis",
                        "size": [
                          32.49971487933976
                        ],
                        "sizemode": "area",
                        "sizeref": 0.08268782637996869
                      },
                      "name": "",
                      "showlegend": false,
                      "type": "scattergeo"
                    }
                  ],
                  "name": "05/01/2020"
                },
                {
                  "data": [
                    {
                      "customdata": [
                        [
                          128269,
                          7910
                        ]
                      ],
                      "geo": "geo",
                      "hoverlabel": {
                        "namelength": 0
                      },
                      "hovertemplate": "Last_Update=05/04/2020<br>size=%{marker.size}<br>Confirmed=%{customdata[0]}<br>Deaths=%{customdata[1]}<br>Lat=%{lat}<br>Long=%{lon}<br>color=%{marker.color}",
                      "lat": [
                        39.833851
                      ],
                      "legendgroup": "",
                      "locationmode": "country names",
                      "lon": [
                        -74.871826
                      ],
                      "marker": {
                        "color": [
                          4.108125094738599
                        ],
                        "coloraxis": "coloraxis",
                        "size": [
                          33.07513055198748
                        ],
                        "sizemode": "area",
                        "sizeref": 0.08268782637996869
                      },
                      "name": "",
                      "showlegend": false,
                      "type": "scattergeo"
                    }
                  ],
                  "name": "05/04/2020"
                }
              ],
              "layout": {
                "coloraxis": {
                  "cmax": 5.108125094738599,
                  "cmin": 0,
                  "colorbar": {
                    "title": {
                      "text": "color"
                    }
                  },
                  "colorscale": [
                    [
                      0,
                      "rgb(0,0,0)"
                    ],
                    [
                      0.3333333333333333,
                      "rgb(230,0,0)"
                    ],
                    [
                      0.6666666666666666,
                      "rgb(255,210,0)"
                    ],
                    [
                      1,
                      "rgb(255,255,255)"
                    ]
                  ],
                  "showscale": false
                },
                "geo": {
                  "center": {},
                  "domain": {
                    "x": [
                      0,
                      0.98
                    ],
                    "y": [
                      0,
                      1
                    ]
                  },
                  "projection": {
                    "type": "natural earth"
                  }
                },
                "height": 600,
                "legend": {
                  "itemsizing": "constant",
                  "tracegroupgap": 0
                },
                "sliders": [
                  {
                    "active": 0,
                    "currentvalue": {
                      "prefix": "Last_Update="
                    },
                    "len": 0.9,
                    "pad": {
                      "b": 10,
                      "t": 60
                    },
                    "steps": [
                      {
                        "args": [
                          [
                            "03/09/2020"
                          ],
                          {
                            "frame": {
                              "duration": 0,
                              "redraw": true
                            },
                            "fromcurrent": true,
                            "mode": "immediate",
                            "transition": {
                              "duration": 0,
                              "easing": "linear"
                            }
                          }
                        ],
                        "label": "03/09/2020",
                        "method": "animate"
                      },
                      {
                        "args": [
                          [
                            "03/10/2020"
                          ],
                          {
                            "frame": {
                              "duration": 0,
                              "redraw": true
                            },
                            "fromcurrent": true,
                            "mode": "immediate",
                            "transition": {
                              "duration": 0,
                              "easing": "linear"
                            }
                          }
                        ],
                        "label": "03/10/2020",
                        "method": "animate"
                      },
                      {
                        "args": [
                          [
                            "03/11/2020"
                          ],
                          {
                            "frame": {
                              "duration": 0,
                              "redraw": true
                            },
                            "fromcurrent": true,
                            "mode": "immediate",
                            "transition": {
                              "duration": 0,
                              "easing": "linear"
                            }
                          }
                        ],
                        "label": "03/11/2020",
                        "method": "animate"
                      },
                      {
                        "args": [
                          [
                            "03/12/2020"
                          ],
                          {
                            "frame": {
                              "duration": 0,
                              "redraw": true
                            },
                            "fromcurrent": true,
                            "mode": "immediate",
                            "transition": {
                              "duration": 0,
                              "easing": "linear"
                            }
                          }
                        ],
                        "label": "03/12/2020",
                        "method": "animate"
                      },
                      {
                        "args": [
                          [
                            "03/13/2020"
                          ],
                          {
                            "frame": {
                              "duration": 0,
                              "redraw": true
                            },
                            "fromcurrent": true,
                            "mode": "immediate",
                            "transition": {
                              "duration": 0,
                              "easing": "linear"
                            }
                          }
                        ],
                        "label": "03/13/2020",
                        "method": "animate"
                      },
                      {
                        "args": [
                          [
                            "03/16/2020"
                          ],
                          {
                            "frame": {
                              "duration": 0,
                              "redraw": true
                            },
                            "fromcurrent": true,
                            "mode": "immediate",
                            "transition": {
                              "duration": 0,
                              "easing": "linear"
                            }
                          }
                        ],
                        "label": "03/16/2020",
                        "method": "animate"
                      },
                      {
                        "args": [
                          [
                            "03/17/2020"
                          ],
                          {
                            "frame": {
                              "duration": 0,
                              "redraw": true
                            },
                            "fromcurrent": true,
                            "mode": "immediate",
                            "transition": {
                              "duration": 0,
                              "easing": "linear"
                            }
                          }
                        ],
                        "label": "03/17/2020",
                        "method": "animate"
                      },
                      {
                        "args": [
                          [
                            "03/18/2020"
                          ],
                          {
                            "frame": {
                              "duration": 0,
                              "redraw": true
                            },
                            "fromcurrent": true,
                            "mode": "immediate",
                            "transition": {
                              "duration": 0,
                              "easing": "linear"
                            }
                          }
                        ],
                        "label": "03/18/2020",
                        "method": "animate"
                      },
                      {
                        "args": [
                          [
                            "03/19/2020"
                          ],
                          {
                            "frame": {
                              "duration": 0,
                              "redraw": true
                            },
                            "fromcurrent": true,
                            "mode": "immediate",
                            "transition": {
                              "duration": 0,
                              "easing": "linear"
                            }
                          }
                        ],
                        "label": "03/19/2020",
                        "method": "animate"
                      },
                      {
                        "args": [
                          [
                            "03/20/2020"
                          ],
                          {
                            "frame": {
                              "duration": 0,
                              "redraw": true
                            },
                            "fromcurrent": true,
                            "mode": "immediate",
                            "transition": {
                              "duration": 0,
                              "easing": "linear"
                            }
                          }
                        ],
                        "label": "03/20/2020",
                        "method": "animate"
                      },
                      {
                        "args": [
                          [
                            "03/23/2020"
                          ],
                          {
                            "frame": {
                              "duration": 0,
                              "redraw": true
                            },
                            "fromcurrent": true,
                            "mode": "immediate",
                            "transition": {
                              "duration": 0,
                              "easing": "linear"
                            }
                          }
                        ],
                        "label": "03/23/2020",
                        "method": "animate"
                      },
                      {
                        "args": [
                          [
                            "03/24/2020"
                          ],
                          {
                            "frame": {
                              "duration": 0,
                              "redraw": true
                            },
                            "fromcurrent": true,
                            "mode": "immediate",
                            "transition": {
                              "duration": 0,
                              "easing": "linear"
                            }
                          }
                        ],
                        "label": "03/24/2020",
                        "method": "animate"
                      },
                      {
                        "args": [
                          [
                            "03/25/2020"
                          ],
                          {
                            "frame": {
                              "duration": 0,
                              "redraw": true
                            },
                            "fromcurrent": true,
                            "mode": "immediate",
                            "transition": {
                              "duration": 0,
                              "easing": "linear"
                            }
                          }
                        ],
                        "label": "03/25/2020",
                        "method": "animate"
                      },
                      {
                        "args": [
                          [
                            "03/26/2020"
                          ],
                          {
                            "frame": {
                              "duration": 0,
                              "redraw": true
                            },
                            "fromcurrent": true,
                            "mode": "immediate",
                            "transition": {
                              "duration": 0,
                              "easing": "linear"
                            }
                          }
                        ],
                        "label": "03/26/2020",
                        "method": "animate"
                      },
                      {
                        "args": [
                          [
                            "03/27/2020"
                          ],
                          {
                            "frame": {
                              "duration": 0,
                              "redraw": true
                            },
                            "fromcurrent": true,
                            "mode": "immediate",
                            "transition": {
                              "duration": 0,
                              "easing": "linear"
                            }
                          }
                        ],
                        "label": "03/27/2020",
                        "method": "animate"
                      },
                      {
                        "args": [
                          [
                            "03/30/2020"
                          ],
                          {
                            "frame": {
                              "duration": 0,
                              "redraw": true
                            },
                            "fromcurrent": true,
                            "mode": "immediate",
                            "transition": {
                              "duration": 0,
                              "easing": "linear"
                            }
                          }
                        ],
                        "label": "03/30/2020",
                        "method": "animate"
                      },
                      {
                        "args": [
                          [
                            "03/31/2020"
                          ],
                          {
                            "frame": {
                              "duration": 0,
                              "redraw": true
                            },
                            "fromcurrent": true,
                            "mode": "immediate",
                            "transition": {
                              "duration": 0,
                              "easing": "linear"
                            }
                          }
                        ],
                        "label": "03/31/2020",
                        "method": "animate"
                      },
                      {
                        "args": [
                          [
                            "04/01/2020"
                          ],
                          {
                            "frame": {
                              "duration": 0,
                              "redraw": true
                            },
                            "fromcurrent": true,
                            "mode": "immediate",
                            "transition": {
                              "duration": 0,
                              "easing": "linear"
                            }
                          }
                        ],
                        "label": "04/01/2020",
                        "method": "animate"
                      },
                      {
                        "args": [
                          [
                            "04/02/2020"
                          ],
                          {
                            "frame": {
                              "duration": 0,
                              "redraw": true
                            },
                            "fromcurrent": true,
                            "mode": "immediate",
                            "transition": {
                              "duration": 0,
                              "easing": "linear"
                            }
                          }
                        ],
                        "label": "04/02/2020",
                        "method": "animate"
                      },
                      {
                        "args": [
                          [
                            "04/03/2020"
                          ],
                          {
                            "frame": {
                              "duration": 0,
                              "redraw": true
                            },
                            "fromcurrent": true,
                            "mode": "immediate",
                            "transition": {
                              "duration": 0,
                              "easing": "linear"
                            }
                          }
                        ],
                        "label": "04/03/2020",
                        "method": "animate"
                      },
                      {
                        "args": [
                          [
                            "04/06/2020"
                          ],
                          {
                            "frame": {
                              "duration": 0,
                              "redraw": true
                            },
                            "fromcurrent": true,
                            "mode": "immediate",
                            "transition": {
                              "duration": 0,
                              "easing": "linear"
                            }
                          }
                        ],
                        "label": "04/06/2020",
                        "method": "animate"
                      },
                      {
                        "args": [
                          [
                            "04/07/2020"
                          ],
                          {
                            "frame": {
                              "duration": 0,
                              "redraw": true
                            },
                            "fromcurrent": true,
                            "mode": "immediate",
                            "transition": {
                              "duration": 0,
                              "easing": "linear"
                            }
                          }
                        ],
                        "label": "04/07/2020",
                        "method": "animate"
                      },
                      {
                        "args": [
                          [
                            "04/08/2020"
                          ],
                          {
                            "frame": {
                              "duration": 0,
                              "redraw": true
                            },
                            "fromcurrent": true,
                            "mode": "immediate",
                            "transition": {
                              "duration": 0,
                              "easing": "linear"
                            }
                          }
                        ],
                        "label": "04/08/2020",
                        "method": "animate"
                      },
                      {
                        "args": [
                          [
                            "04/09/2020"
                          ],
                          {
                            "frame": {
                              "duration": 0,
                              "redraw": true
                            },
                            "fromcurrent": true,
                            "mode": "immediate",
                            "transition": {
                              "duration": 0,
                              "easing": "linear"
                            }
                          }
                        ],
                        "label": "04/09/2020",
                        "method": "animate"
                      },
                      {
                        "args": [
                          [
                            "04/13/2020"
                          ],
                          {
                            "frame": {
                              "duration": 0,
                              "redraw": true
                            },
                            "fromcurrent": true,
                            "mode": "immediate",
                            "transition": {
                              "duration": 0,
                              "easing": "linear"
                            }
                          }
                        ],
                        "label": "04/13/2020",
                        "method": "animate"
                      },
                      {
                        "args": [
                          [
                            "04/14/2020"
                          ],
                          {
                            "frame": {
                              "duration": 0,
                              "redraw": true
                            },
                            "fromcurrent": true,
                            "mode": "immediate",
                            "transition": {
                              "duration": 0,
                              "easing": "linear"
                            }
                          }
                        ],
                        "label": "04/14/2020",
                        "method": "animate"
                      },
                      {
                        "args": [
                          [
                            "04/15/2020"
                          ],
                          {
                            "frame": {
                              "duration": 0,
                              "redraw": true
                            },
                            "fromcurrent": true,
                            "mode": "immediate",
                            "transition": {
                              "duration": 0,
                              "easing": "linear"
                            }
                          }
                        ],
                        "label": "04/15/2020",
                        "method": "animate"
                      },
                      {
                        "args": [
                          [
                            "04/16/2020"
                          ],
                          {
                            "frame": {
                              "duration": 0,
                              "redraw": true
                            },
                            "fromcurrent": true,
                            "mode": "immediate",
                            "transition": {
                              "duration": 0,
                              "easing": "linear"
                            }
                          }
                        ],
                        "label": "04/16/2020",
                        "method": "animate"
                      },
                      {
                        "args": [
                          [
                            "04/17/2020"
                          ],
                          {
                            "frame": {
                              "duration": 0,
                              "redraw": true
                            },
                            "fromcurrent": true,
                            "mode": "immediate",
                            "transition": {
                              "duration": 0,
                              "easing": "linear"
                            }
                          }
                        ],
                        "label": "04/17/2020",
                        "method": "animate"
                      },
                      {
                        "args": [
                          [
                            "04/20/2020"
                          ],
                          {
                            "frame": {
                              "duration": 0,
                              "redraw": true
                            },
                            "fromcurrent": true,
                            "mode": "immediate",
                            "transition": {
                              "duration": 0,
                              "easing": "linear"
                            }
                          }
                        ],
                        "label": "04/20/2020",
                        "method": "animate"
                      },
                      {
                        "args": [
                          [
                            "04/21/2020"
                          ],
                          {
                            "frame": {
                              "duration": 0,
                              "redraw": true
                            },
                            "fromcurrent": true,
                            "mode": "immediate",
                            "transition": {
                              "duration": 0,
                              "easing": "linear"
                            }
                          }
                        ],
                        "label": "04/21/2020",
                        "method": "animate"
                      },
                      {
                        "args": [
                          [
                            "04/22/2020"
                          ],
                          {
                            "frame": {
                              "duration": 0,
                              "redraw": true
                            },
                            "fromcurrent": true,
                            "mode": "immediate",
                            "transition": {
                              "duration": 0,
                              "easing": "linear"
                            }
                          }
                        ],
                        "label": "04/22/2020",
                        "method": "animate"
                      },
                      {
                        "args": [
                          [
                            "04/23/2020"
                          ],
                          {
                            "frame": {
                              "duration": 0,
                              "redraw": true
                            },
                            "fromcurrent": true,
                            "mode": "immediate",
                            "transition": {
                              "duration": 0,
                              "easing": "linear"
                            }
                          }
                        ],
                        "label": "04/23/2020",
                        "method": "animate"
                      },
                      {
                        "args": [
                          [
                            "04/24/2020"
                          ],
                          {
                            "frame": {
                              "duration": 0,
                              "redraw": true
                            },
                            "fromcurrent": true,
                            "mode": "immediate",
                            "transition": {
                              "duration": 0,
                              "easing": "linear"
                            }
                          }
                        ],
                        "label": "04/24/2020",
                        "method": "animate"
                      },
                      {
                        "args": [
                          [
                            "04/27/2020"
                          ],
                          {
                            "frame": {
                              "duration": 0,
                              "redraw": true
                            },
                            "fromcurrent": true,
                            "mode": "immediate",
                            "transition": {
                              "duration": 0,
                              "easing": "linear"
                            }
                          }
                        ],
                        "label": "04/27/2020",
                        "method": "animate"
                      },
                      {
                        "args": [
                          [
                            "04/28/2020"
                          ],
                          {
                            "frame": {
                              "duration": 0,
                              "redraw": true
                            },
                            "fromcurrent": true,
                            "mode": "immediate",
                            "transition": {
                              "duration": 0,
                              "easing": "linear"
                            }
                          }
                        ],
                        "label": "04/28/2020",
                        "method": "animate"
                      },
                      {
                        "args": [
                          [
                            "04/29/2020"
                          ],
                          {
                            "frame": {
                              "duration": 0,
                              "redraw": true
                            },
                            "fromcurrent": true,
                            "mode": "immediate",
                            "transition": {
                              "duration": 0,
                              "easing": "linear"
                            }
                          }
                        ],
                        "label": "04/29/2020",
                        "method": "animate"
                      },
                      {
                        "args": [
                          [
                            "04/30/2020"
                          ],
                          {
                            "frame": {
                              "duration": 0,
                              "redraw": true
                            },
                            "fromcurrent": true,
                            "mode": "immediate",
                            "transition": {
                              "duration": 0,
                              "easing": "linear"
                            }
                          }
                        ],
                        "label": "04/30/2020",
                        "method": "animate"
                      },
                      {
                        "args": [
                          [
                            "05/01/2020"
                          ],
                          {
                            "frame": {
                              "duration": 0,
                              "redraw": true
                            },
                            "fromcurrent": true,
                            "mode": "immediate",
                            "transition": {
                              "duration": 0,
                              "easing": "linear"
                            }
                          }
                        ],
                        "label": "05/01/2020",
                        "method": "animate"
                      },
                      {
                        "args": [
                          [
                            "05/04/2020"
                          ],
                          {
                            "frame": {
                              "duration": 0,
                              "redraw": true
                            },
                            "fromcurrent": true,
                            "mode": "immediate",
                            "transition": {
                              "duration": 0,
                              "easing": "linear"
                            }
                          }
                        ],
                        "label": "05/04/2020",
                        "method": "animate"
                      }
                    ],
                    "x": 0.1,
                    "xanchor": "left",
                    "y": 0,
                    "yanchor": "top"
                  }
                ],
                "template": {
                  "data": {
                    "bar": [
                      {
                        "error_x": {
                          "color": "#2a3f5f"
                        },
                        "error_y": {
                          "color": "#2a3f5f"
                        },
                        "marker": {
                          "line": {
                            "color": "#E5ECF6",
                            "width": 0.5
                          }
                        },
                        "type": "bar"
                      }
                    ],
                    "barpolar": [
                      {
                        "marker": {
                          "line": {
                            "color": "#E5ECF6",
                            "width": 0.5
                          }
                        },
                        "type": "barpolar"
                      }
                    ],
                    "carpet": [
                      {
                        "aaxis": {
                          "endlinecolor": "#2a3f5f",
                          "gridcolor": "white",
                          "linecolor": "white",
                          "minorgridcolor": "white",
                          "startlinecolor": "#2a3f5f"
                        },
                        "baxis": {
                          "endlinecolor": "#2a3f5f",
                          "gridcolor": "white",
                          "linecolor": "white",
                          "minorgridcolor": "white",
                          "startlinecolor": "#2a3f5f"
                        },
                        "type": "carpet"
                      }
                    ],
                    "choropleth": [
                      {
                        "colorbar": {
                          "outlinewidth": 0,
                          "ticks": ""
                        },
                        "type": "choropleth"
                      }
                    ],
                    "contour": [
                      {
                        "colorbar": {
                          "outlinewidth": 0,
                          "ticks": ""
                        },
                        "colorscale": [
                          [
                            0,
                            "#0d0887"
                          ],
                          [
                            0.1111111111111111,
                            "#46039f"
                          ],
                          [
                            0.2222222222222222,
                            "#7201a8"
                          ],
                          [
                            0.3333333333333333,
                            "#9c179e"
                          ],
                          [
                            0.4444444444444444,
                            "#bd3786"
                          ],
                          [
                            0.5555555555555556,
                            "#d8576b"
                          ],
                          [
                            0.6666666666666666,
                            "#ed7953"
                          ],
                          [
                            0.7777777777777778,
                            "#fb9f3a"
                          ],
                          [
                            0.8888888888888888,
                            "#fdca26"
                          ],
                          [
                            1,
                            "#f0f921"
                          ]
                        ],
                        "type": "contour"
                      }
                    ],
                    "contourcarpet": [
                      {
                        "colorbar": {
                          "outlinewidth": 0,
                          "ticks": ""
                        },
                        "type": "contourcarpet"
                      }
                    ],
                    "heatmap": [
                      {
                        "colorbar": {
                          "outlinewidth": 0,
                          "ticks": ""
                        },
                        "colorscale": [
                          [
                            0,
                            "#0d0887"
                          ],
                          [
                            0.1111111111111111,
                            "#46039f"
                          ],
                          [
                            0.2222222222222222,
                            "#7201a8"
                          ],
                          [
                            0.3333333333333333,
                            "#9c179e"
                          ],
                          [
                            0.4444444444444444,
                            "#bd3786"
                          ],
                          [
                            0.5555555555555556,
                            "#d8576b"
                          ],
                          [
                            0.6666666666666666,
                            "#ed7953"
                          ],
                          [
                            0.7777777777777778,
                            "#fb9f3a"
                          ],
                          [
                            0.8888888888888888,
                            "#fdca26"
                          ],
                          [
                            1,
                            "#f0f921"
                          ]
                        ],
                        "type": "heatmap"
                      }
                    ],
                    "heatmapgl": [
                      {
                        "colorbar": {
                          "outlinewidth": 0,
                          "ticks": ""
                        },
                        "colorscale": [
                          [
                            0,
                            "#0d0887"
                          ],
                          [
                            0.1111111111111111,
                            "#46039f"
                          ],
                          [
                            0.2222222222222222,
                            "#7201a8"
                          ],
                          [
                            0.3333333333333333,
                            "#9c179e"
                          ],
                          [
                            0.4444444444444444,
                            "#bd3786"
                          ],
                          [
                            0.5555555555555556,
                            "#d8576b"
                          ],
                          [
                            0.6666666666666666,
                            "#ed7953"
                          ],
                          [
                            0.7777777777777778,
                            "#fb9f3a"
                          ],
                          [
                            0.8888888888888888,
                            "#fdca26"
                          ],
                          [
                            1,
                            "#f0f921"
                          ]
                        ],
                        "type": "heatmapgl"
                      }
                    ],
                    "histogram": [
                      {
                        "marker": {
                          "colorbar": {
                            "outlinewidth": 0,
                            "ticks": ""
                          }
                        },
                        "type": "histogram"
                      }
                    ],
                    "histogram2d": [
                      {
                        "colorbar": {
                          "outlinewidth": 0,
                          "ticks": ""
                        },
                        "colorscale": [
                          [
                            0,
                            "#0d0887"
                          ],
                          [
                            0.1111111111111111,
                            "#46039f"
                          ],
                          [
                            0.2222222222222222,
                            "#7201a8"
                          ],
                          [
                            0.3333333333333333,
                            "#9c179e"
                          ],
                          [
                            0.4444444444444444,
                            "#bd3786"
                          ],
                          [
                            0.5555555555555556,
                            "#d8576b"
                          ],
                          [
                            0.6666666666666666,
                            "#ed7953"
                          ],
                          [
                            0.7777777777777778,
                            "#fb9f3a"
                          ],
                          [
                            0.8888888888888888,
                            "#fdca26"
                          ],
                          [
                            1,
                            "#f0f921"
                          ]
                        ],
                        "type": "histogram2d"
                      }
                    ],
                    "histogram2dcontour": [
                      {
                        "colorbar": {
                          "outlinewidth": 0,
                          "ticks": ""
                        },
                        "colorscale": [
                          [
                            0,
                            "#0d0887"
                          ],
                          [
                            0.1111111111111111,
                            "#46039f"
                          ],
                          [
                            0.2222222222222222,
                            "#7201a8"
                          ],
                          [
                            0.3333333333333333,
                            "#9c179e"
                          ],
                          [
                            0.4444444444444444,
                            "#bd3786"
                          ],
                          [
                            0.5555555555555556,
                            "#d8576b"
                          ],
                          [
                            0.6666666666666666,
                            "#ed7953"
                          ],
                          [
                            0.7777777777777778,
                            "#fb9f3a"
                          ],
                          [
                            0.8888888888888888,
                            "#fdca26"
                          ],
                          [
                            1,
                            "#f0f921"
                          ]
                        ],
                        "type": "histogram2dcontour"
                      }
                    ],
                    "mesh3d": [
                      {
                        "colorbar": {
                          "outlinewidth": 0,
                          "ticks": ""
                        },
                        "type": "mesh3d"
                      }
                    ],
                    "parcoords": [
                      {
                        "line": {
                          "colorbar": {
                            "outlinewidth": 0,
                            "ticks": ""
                          }
                        },
                        "type": "parcoords"
                      }
                    ],
                    "scatter": [
                      {
                        "marker": {
                          "colorbar": {
                            "outlinewidth": 0,
                            "ticks": ""
                          }
                        },
                        "type": "scatter"
                      }
                    ],
                    "scatter3d": [
                      {
                        "line": {
                          "colorbar": {
                            "outlinewidth": 0,
                            "ticks": ""
                          }
                        },
                        "marker": {
                          "colorbar": {
                            "outlinewidth": 0,
                            "ticks": ""
                          }
                        },
                        "type": "scatter3d"
                      }
                    ],
                    "scattercarpet": [
                      {
                        "marker": {
                          "colorbar": {
                            "outlinewidth": 0,
                            "ticks": ""
                          }
                        },
                        "type": "scattercarpet"
                      }
                    ],
                    "scattergeo": [
                      {
                        "marker": {
                          "colorbar": {
                            "outlinewidth": 0,
                            "ticks": ""
                          }
                        },
                        "type": "scattergeo"
                      }
                    ],
                    "scattergl": [
                      {
                        "marker": {
                          "colorbar": {
                            "outlinewidth": 0,
                            "ticks": ""
                          }
                        },
                        "type": "scattergl"
                      }
                    ],
                    "scattermapbox": [
                      {
                        "marker": {
                          "colorbar": {
                            "outlinewidth": 0,
                            "ticks": ""
                          }
                        },
                        "type": "scattermapbox"
                      }
                    ],
                    "scatterpolar": [
                      {
                        "marker": {
                          "colorbar": {
                            "outlinewidth": 0,
                            "ticks": ""
                          }
                        },
                        "type": "scatterpolar"
                      }
                    ],
                    "scatterpolargl": [
                      {
                        "marker": {
                          "colorbar": {
                            "outlinewidth": 0,
                            "ticks": ""
                          }
                        },
                        "type": "scatterpolargl"
                      }
                    ],
                    "scatterternary": [
                      {
                        "marker": {
                          "colorbar": {
                            "outlinewidth": 0,
                            "ticks": ""
                          }
                        },
                        "type": "scatterternary"
                      }
                    ],
                    "surface": [
                      {
                        "colorbar": {
                          "outlinewidth": 0,
                          "ticks": ""
                        },
                        "colorscale": [
                          [
                            0,
                            "#0d0887"
                          ],
                          [
                            0.1111111111111111,
                            "#46039f"
                          ],
                          [
                            0.2222222222222222,
                            "#7201a8"
                          ],
                          [
                            0.3333333333333333,
                            "#9c179e"
                          ],
                          [
                            0.4444444444444444,
                            "#bd3786"
                          ],
                          [
                            0.5555555555555556,
                            "#d8576b"
                          ],
                          [
                            0.6666666666666666,
                            "#ed7953"
                          ],
                          [
                            0.7777777777777778,
                            "#fb9f3a"
                          ],
                          [
                            0.8888888888888888,
                            "#fdca26"
                          ],
                          [
                            1,
                            "#f0f921"
                          ]
                        ],
                        "type": "surface"
                      }
                    ],
                    "table": [
                      {
                        "cells": {
                          "fill": {
                            "color": "#EBF0F8"
                          },
                          "line": {
                            "color": "white"
                          }
                        },
                        "header": {
                          "fill": {
                            "color": "#C8D4E3"
                          },
                          "line": {
                            "color": "white"
                          }
                        },
                        "type": "table"
                      }
                    ]
                  },
                  "layout": {
                    "annotationdefaults": {
                      "arrowcolor": "#2a3f5f",
                      "arrowhead": 0,
                      "arrowwidth": 1
                    },
                    "colorscale": {
                      "diverging": [
                        [
                          0,
                          "#8e0152"
                        ],
                        [
                          0.1,
                          "#c51b7d"
                        ],
                        [
                          0.2,
                          "#de77ae"
                        ],
                        [
                          0.3,
                          "#f1b6da"
                        ],
                        [
                          0.4,
                          "#fde0ef"
                        ],
                        [
                          0.5,
                          "#f7f7f7"
                        ],
                        [
                          0.6,
                          "#e6f5d0"
                        ],
                        [
                          0.7,
                          "#b8e186"
                        ],
                        [
                          0.8,
                          "#7fbc41"
                        ],
                        [
                          0.9,
                          "#4d9221"
                        ],
                        [
                          1,
                          "#276419"
                        ]
                      ],
                      "sequential": [
                        [
                          0,
                          "#0d0887"
                        ],
                        [
                          0.1111111111111111,
                          "#46039f"
                        ],
                        [
                          0.2222222222222222,
                          "#7201a8"
                        ],
                        [
                          0.3333333333333333,
                          "#9c179e"
                        ],
                        [
                          0.4444444444444444,
                          "#bd3786"
                        ],
                        [
                          0.5555555555555556,
                          "#d8576b"
                        ],
                        [
                          0.6666666666666666,
                          "#ed7953"
                        ],
                        [
                          0.7777777777777778,
                          "#fb9f3a"
                        ],
                        [
                          0.8888888888888888,
                          "#fdca26"
                        ],
                        [
                          1,
                          "#f0f921"
                        ]
                      ],
                      "sequentialminus": [
                        [
                          0,
                          "#0d0887"
                        ],
                        [
                          0.1111111111111111,
                          "#46039f"
                        ],
                        [
                          0.2222222222222222,
                          "#7201a8"
                        ],
                        [
                          0.3333333333333333,
                          "#9c179e"
                        ],
                        [
                          0.4444444444444444,
                          "#bd3786"
                        ],
                        [
                          0.5555555555555556,
                          "#d8576b"
                        ],
                        [
                          0.6666666666666666,
                          "#ed7953"
                        ],
                        [
                          0.7777777777777778,
                          "#fb9f3a"
                        ],
                        [
                          0.8888888888888888,
                          "#fdca26"
                        ],
                        [
                          1,
                          "#f0f921"
                        ]
                      ]
                    },
                    "colorway": [
                      "#636efa",
                      "#EF553B",
                      "#00cc96",
                      "#ab63fa",
                      "#FFA15A",
                      "#19d3f3",
                      "#FF6692",
                      "#B6E880",
                      "#FF97FF",
                      "#FECB52"
                    ],
                    "font": {
                      "color": "#2a3f5f"
                    },
                    "geo": {
                      "bgcolor": "white",
                      "lakecolor": "white",
                      "landcolor": "#E5ECF6",
                      "showlakes": true,
                      "showland": true,
                      "subunitcolor": "white"
                    },
                    "hoverlabel": {
                      "align": "left"
                    },
                    "hovermode": "closest",
                    "mapbox": {
                      "style": "light"
                    },
                    "paper_bgcolor": "white",
                    "plot_bgcolor": "#E5ECF6",
                    "polar": {
                      "angularaxis": {
                        "gridcolor": "white",
                        "linecolor": "white",
                        "ticks": ""
                      },
                      "bgcolor": "#E5ECF6",
                      "radialaxis": {
                        "gridcolor": "white",
                        "linecolor": "white",
                        "ticks": ""
                      }
                    },
                    "scene": {
                      "xaxis": {
                        "backgroundcolor": "#E5ECF6",
                        "gridcolor": "white",
                        "gridwidth": 2,
                        "linecolor": "white",
                        "showbackground": true,
                        "ticks": "",
                        "zerolinecolor": "white"
                      },
                      "yaxis": {
                        "backgroundcolor": "#E5ECF6",
                        "gridcolor": "white",
                        "gridwidth": 2,
                        "linecolor": "white",
                        "showbackground": true,
                        "ticks": "",
                        "zerolinecolor": "white"
                      },
                      "zaxis": {
                        "backgroundcolor": "#E5ECF6",
                        "gridcolor": "white",
                        "gridwidth": 2,
                        "linecolor": "white",
                        "showbackground": true,
                        "ticks": "",
                        "zerolinecolor": "white"
                      }
                    },
                    "shapedefaults": {
                      "line": {
                        "color": "#2a3f5f"
                      }
                    },
                    "ternary": {
                      "aaxis": {
                        "gridcolor": "white",
                        "linecolor": "white",
                        "ticks": ""
                      },
                      "baxis": {
                        "gridcolor": "white",
                        "linecolor": "white",
                        "ticks": ""
                      },
                      "bgcolor": "#E5ECF6",
                      "caxis": {
                        "gridcolor": "white",
                        "linecolor": "white",
                        "ticks": ""
                      }
                    },
                    "title": {
                      "x": 0.05
                    },
                    "xaxis": {
                      "automargin": true,
                      "gridcolor": "white",
                      "linecolor": "white",
                      "ticks": "",
                      "zerolinecolor": "white",
                      "zerolinewidth": 2
                    },
                    "yaxis": {
                      "automargin": true,
                      "gridcolor": "white",
                      "linecolor": "white",
                      "ticks": "",
                      "zerolinecolor": "white",
                      "zerolinewidth": 2
                    }
                  }
                },
                "title": {
                  "text": "COVID-19 Progression Animation Over Time"
                },
                "updatemenus": [
                  {
                    "buttons": [
                      {
                        "args": [
                          null,
                          {
                            "frame": {
                              "duration": 500,
                              "redraw": true
                            },
                            "fromcurrent": true,
                            "mode": "immediate",
                            "transition": {
                              "duration": 500,
                              "easing": "linear"
                            }
                          }
                        ],
                        "label": "&#9654;",
                        "method": "animate"
                      },
                      {
                        "args": [
                          [
                            null
                          ],
                          {
                            "frame": {
                              "duration": 0,
                              "redraw": true
                            },
                            "fromcurrent": true,
                            "mode": "immediate",
                            "transition": {
                              "duration": 0,
                              "easing": "linear"
                            }
                          }
                        ],
                        "label": "&#9724;",
                        "method": "animate"
                      }
                    ],
                    "direction": "left",
                    "pad": {
                      "r": 10,
                      "t": 70
                    },
                    "showactive": false,
                    "type": "buttons",
                    "x": 0.1,
                    "xanchor": "right",
                    "y": 0,
                    "yanchor": "top"
                  }
                ]
              }
            },
            "text/html": [
              "<div>\n",
              "        \n",
              "        \n",
              "            <div id=\"e13694f2-c4ee-4ace-a495-07c9060bdb12\" class=\"plotly-graph-div\" style=\"height:600px; width:100%;\"></div>\n",
              "            <script type=\"text/javascript\">\n",
              "                require([\"plotly\"], function(Plotly) {\n",
              "                    window.PLOTLYENV=window.PLOTLYENV || {};\n",
              "                    \n",
              "                if (document.getElementById(\"e13694f2-c4ee-4ace-a495-07c9060bdb12\")) {\n",
              "                    Plotly.newPlot(\n",
              "                        'e13694f2-c4ee-4ace-a495-07c9060bdb12',\n",
              "                        [{\"customdata\": [[11, 0]], \"geo\": \"geo\", \"hoverlabel\": {\"namelength\": 0}, \"hovertemplate\": \"Last_Update=03/09/2020<br>size=%{marker.size}<br>Confirmed=%{customdata[0]}<br>Deaths=%{customdata[1]}<br>Lat=%{lat}<br>Long=%{lon}<br>color=%{marker.color}\", \"lat\": [39.833851], \"legendgroup\": \"\", \"locationmode\": \"country names\", \"lon\": [-74.871826], \"marker\": {\"color\": [0.07918124604762489], \"coloraxis\": \"coloraxis\", \"size\": [1.107435899344471], \"sizemode\": \"area\", \"sizeref\": 0.08268782637996869}, \"name\": \"\", \"showlegend\": false, \"type\": \"scattergeo\"}],\n",
              "                        {\"coloraxis\": {\"cmax\": 5.108125094738599, \"cmin\": 0, \"colorbar\": {\"title\": {\"text\": \"color\"}}, \"colorscale\": [[0.0, \"rgb(0,0,0)\"], [0.3333333333333333, \"rgb(230,0,0)\"], [0.6666666666666666, \"rgb(255,210,0)\"], [1.0, \"rgb(255,255,255)\"]], \"showscale\": false}, \"geo\": {\"center\": {}, \"domain\": {\"x\": [0.0, 0.98], \"y\": [0.0, 1.0]}, \"projection\": {\"type\": \"natural earth\"}}, \"height\": 600, \"legend\": {\"itemsizing\": \"constant\", \"tracegroupgap\": 0}, \"sliders\": [{\"active\": 0, \"currentvalue\": {\"prefix\": \"Last_Update=\"}, \"len\": 0.9, \"pad\": {\"b\": 10, \"t\": 60}, \"steps\": [{\"args\": [[\"03/09/2020\"], {\"frame\": {\"duration\": 0, \"redraw\": true}, \"fromcurrent\": true, \"mode\": \"immediate\", \"transition\": {\"duration\": 0, \"easing\": \"linear\"}}], \"label\": \"03/09/2020\", \"method\": \"animate\"}, {\"args\": [[\"03/10/2020\"], {\"frame\": {\"duration\": 0, \"redraw\": true}, \"fromcurrent\": true, \"mode\": \"immediate\", \"transition\": {\"duration\": 0, \"easing\": \"linear\"}}], \"label\": \"03/10/2020\", \"method\": \"animate\"}, {\"args\": [[\"03/11/2020\"], {\"frame\": {\"duration\": 0, \"redraw\": true}, \"fromcurrent\": true, \"mode\": \"immediate\", \"transition\": {\"duration\": 0, \"easing\": \"linear\"}}], \"label\": \"03/11/2020\", \"method\": \"animate\"}, {\"args\": [[\"03/12/2020\"], {\"frame\": {\"duration\": 0, \"redraw\": true}, \"fromcurrent\": true, \"mode\": \"immediate\", \"transition\": {\"duration\": 0, \"easing\": \"linear\"}}], \"label\": \"03/12/2020\", \"method\": \"animate\"}, {\"args\": [[\"03/13/2020\"], {\"frame\": {\"duration\": 0, \"redraw\": true}, \"fromcurrent\": true, \"mode\": \"immediate\", \"transition\": {\"duration\": 0, \"easing\": \"linear\"}}], \"label\": \"03/13/2020\", \"method\": \"animate\"}, {\"args\": [[\"03/16/2020\"], {\"frame\": {\"duration\": 0, \"redraw\": true}, \"fromcurrent\": true, \"mode\": \"immediate\", \"transition\": {\"duration\": 0, \"easing\": \"linear\"}}], \"label\": \"03/16/2020\", \"method\": \"animate\"}, {\"args\": [[\"03/17/2020\"], {\"frame\": {\"duration\": 0, \"redraw\": true}, \"fromcurrent\": true, \"mode\": \"immediate\", \"transition\": {\"duration\": 0, \"easing\": \"linear\"}}], \"label\": \"03/17/2020\", \"method\": \"animate\"}, {\"args\": [[\"03/18/2020\"], {\"frame\": {\"duration\": 0, \"redraw\": true}, \"fromcurrent\": true, \"mode\": \"immediate\", \"transition\": {\"duration\": 0, \"easing\": \"linear\"}}], \"label\": \"03/18/2020\", \"method\": \"animate\"}, {\"args\": [[\"03/19/2020\"], {\"frame\": {\"duration\": 0, \"redraw\": true}, \"fromcurrent\": true, \"mode\": \"immediate\", \"transition\": {\"duration\": 0, \"easing\": \"linear\"}}], \"label\": \"03/19/2020\", \"method\": \"animate\"}, {\"args\": [[\"03/20/2020\"], {\"frame\": {\"duration\": 0, \"redraw\": true}, \"fromcurrent\": true, \"mode\": \"immediate\", \"transition\": {\"duration\": 0, \"easing\": \"linear\"}}], \"label\": \"03/20/2020\", \"method\": \"animate\"}, {\"args\": [[\"03/23/2020\"], {\"frame\": {\"duration\": 0, \"redraw\": true}, \"fromcurrent\": true, \"mode\": \"immediate\", \"transition\": {\"duration\": 0, \"easing\": \"linear\"}}], \"label\": \"03/23/2020\", \"method\": \"animate\"}, {\"args\": [[\"03/24/2020\"], {\"frame\": {\"duration\": 0, \"redraw\": true}, \"fromcurrent\": true, \"mode\": \"immediate\", \"transition\": {\"duration\": 0, \"easing\": \"linear\"}}], \"label\": \"03/24/2020\", \"method\": \"animate\"}, {\"args\": [[\"03/25/2020\"], {\"frame\": {\"duration\": 0, \"redraw\": true}, \"fromcurrent\": true, \"mode\": \"immediate\", \"transition\": {\"duration\": 0, \"easing\": \"linear\"}}], \"label\": \"03/25/2020\", \"method\": \"animate\"}, {\"args\": [[\"03/26/2020\"], {\"frame\": {\"duration\": 0, \"redraw\": true}, \"fromcurrent\": true, \"mode\": \"immediate\", \"transition\": {\"duration\": 0, \"easing\": \"linear\"}}], \"label\": \"03/26/2020\", \"method\": \"animate\"}, {\"args\": [[\"03/27/2020\"], {\"frame\": {\"duration\": 0, \"redraw\": true}, \"fromcurrent\": true, \"mode\": \"immediate\", \"transition\": {\"duration\": 0, \"easing\": \"linear\"}}], \"label\": \"03/27/2020\", \"method\": \"animate\"}, {\"args\": [[\"03/30/2020\"], {\"frame\": {\"duration\": 0, \"redraw\": true}, \"fromcurrent\": true, \"mode\": \"immediate\", \"transition\": {\"duration\": 0, \"easing\": \"linear\"}}], \"label\": \"03/30/2020\", \"method\": \"animate\"}, {\"args\": [[\"03/31/2020\"], {\"frame\": {\"duration\": 0, \"redraw\": true}, \"fromcurrent\": true, \"mode\": \"immediate\", \"transition\": {\"duration\": 0, \"easing\": \"linear\"}}], \"label\": \"03/31/2020\", \"method\": \"animate\"}, {\"args\": [[\"04/01/2020\"], {\"frame\": {\"duration\": 0, \"redraw\": true}, \"fromcurrent\": true, \"mode\": \"immediate\", \"transition\": {\"duration\": 0, \"easing\": \"linear\"}}], \"label\": \"04/01/2020\", \"method\": \"animate\"}, {\"args\": [[\"04/02/2020\"], {\"frame\": {\"duration\": 0, \"redraw\": true}, \"fromcurrent\": true, \"mode\": \"immediate\", \"transition\": {\"duration\": 0, \"easing\": \"linear\"}}], \"label\": \"04/02/2020\", \"method\": \"animate\"}, {\"args\": [[\"04/03/2020\"], {\"frame\": {\"duration\": 0, \"redraw\": true}, \"fromcurrent\": true, \"mode\": \"immediate\", \"transition\": {\"duration\": 0, \"easing\": \"linear\"}}], \"label\": \"04/03/2020\", \"method\": \"animate\"}, {\"args\": [[\"04/06/2020\"], {\"frame\": {\"duration\": 0, \"redraw\": true}, \"fromcurrent\": true, \"mode\": \"immediate\", \"transition\": {\"duration\": 0, \"easing\": \"linear\"}}], \"label\": \"04/06/2020\", \"method\": \"animate\"}, {\"args\": [[\"04/07/2020\"], {\"frame\": {\"duration\": 0, \"redraw\": true}, \"fromcurrent\": true, \"mode\": \"immediate\", \"transition\": {\"duration\": 0, \"easing\": \"linear\"}}], \"label\": \"04/07/2020\", \"method\": \"animate\"}, {\"args\": [[\"04/08/2020\"], {\"frame\": {\"duration\": 0, \"redraw\": true}, \"fromcurrent\": true, \"mode\": \"immediate\", \"transition\": {\"duration\": 0, \"easing\": \"linear\"}}], \"label\": \"04/08/2020\", \"method\": \"animate\"}, {\"args\": [[\"04/09/2020\"], {\"frame\": {\"duration\": 0, \"redraw\": true}, \"fromcurrent\": true, \"mode\": \"immediate\", \"transition\": {\"duration\": 0, \"easing\": \"linear\"}}], \"label\": \"04/09/2020\", \"method\": \"animate\"}, {\"args\": [[\"04/13/2020\"], {\"frame\": {\"duration\": 0, \"redraw\": true}, \"fromcurrent\": true, \"mode\": \"immediate\", \"transition\": {\"duration\": 0, \"easing\": \"linear\"}}], \"label\": \"04/13/2020\", \"method\": \"animate\"}, {\"args\": [[\"04/14/2020\"], {\"frame\": {\"duration\": 0, \"redraw\": true}, \"fromcurrent\": true, \"mode\": \"immediate\", \"transition\": {\"duration\": 0, \"easing\": \"linear\"}}], \"label\": \"04/14/2020\", \"method\": \"animate\"}, {\"args\": [[\"04/15/2020\"], {\"frame\": {\"duration\": 0, \"redraw\": true}, \"fromcurrent\": true, \"mode\": \"immediate\", \"transition\": {\"duration\": 0, \"easing\": \"linear\"}}], \"label\": \"04/15/2020\", \"method\": \"animate\"}, {\"args\": [[\"04/16/2020\"], {\"frame\": {\"duration\": 0, \"redraw\": true}, \"fromcurrent\": true, \"mode\": \"immediate\", \"transition\": {\"duration\": 0, \"easing\": \"linear\"}}], \"label\": \"04/16/2020\", \"method\": \"animate\"}, {\"args\": [[\"04/17/2020\"], {\"frame\": {\"duration\": 0, \"redraw\": true}, \"fromcurrent\": true, \"mode\": \"immediate\", \"transition\": {\"duration\": 0, \"easing\": \"linear\"}}], \"label\": \"04/17/2020\", \"method\": \"animate\"}, {\"args\": [[\"04/20/2020\"], {\"frame\": {\"duration\": 0, \"redraw\": true}, \"fromcurrent\": true, \"mode\": \"immediate\", \"transition\": {\"duration\": 0, \"easing\": \"linear\"}}], \"label\": \"04/20/2020\", \"method\": \"animate\"}, {\"args\": [[\"04/21/2020\"], {\"frame\": {\"duration\": 0, \"redraw\": true}, \"fromcurrent\": true, \"mode\": \"immediate\", \"transition\": {\"duration\": 0, \"easing\": \"linear\"}}], \"label\": \"04/21/2020\", \"method\": \"animate\"}, {\"args\": [[\"04/22/2020\"], {\"frame\": {\"duration\": 0, \"redraw\": true}, \"fromcurrent\": true, \"mode\": \"immediate\", \"transition\": {\"duration\": 0, \"easing\": \"linear\"}}], \"label\": \"04/22/2020\", \"method\": \"animate\"}, {\"args\": [[\"04/23/2020\"], {\"frame\": {\"duration\": 0, \"redraw\": true}, \"fromcurrent\": true, \"mode\": \"immediate\", \"transition\": {\"duration\": 0, \"easing\": \"linear\"}}], \"label\": \"04/23/2020\", \"method\": \"animate\"}, {\"args\": [[\"04/24/2020\"], {\"frame\": {\"duration\": 0, \"redraw\": true}, \"fromcurrent\": true, \"mode\": \"immediate\", \"transition\": {\"duration\": 0, \"easing\": \"linear\"}}], \"label\": \"04/24/2020\", \"method\": \"animate\"}, {\"args\": [[\"04/27/2020\"], {\"frame\": {\"duration\": 0, \"redraw\": true}, \"fromcurrent\": true, \"mode\": \"immediate\", \"transition\": {\"duration\": 0, \"easing\": \"linear\"}}], \"label\": \"04/27/2020\", \"method\": \"animate\"}, {\"args\": [[\"04/28/2020\"], {\"frame\": {\"duration\": 0, \"redraw\": true}, \"fromcurrent\": true, \"mode\": \"immediate\", \"transition\": {\"duration\": 0, \"easing\": \"linear\"}}], \"label\": \"04/28/2020\", \"method\": \"animate\"}, {\"args\": [[\"04/29/2020\"], {\"frame\": {\"duration\": 0, \"redraw\": true}, \"fromcurrent\": true, \"mode\": \"immediate\", \"transition\": {\"duration\": 0, \"easing\": \"linear\"}}], \"label\": \"04/29/2020\", \"method\": \"animate\"}, {\"args\": [[\"04/30/2020\"], {\"frame\": {\"duration\": 0, \"redraw\": true}, \"fromcurrent\": true, \"mode\": \"immediate\", \"transition\": {\"duration\": 0, \"easing\": \"linear\"}}], \"label\": \"04/30/2020\", \"method\": \"animate\"}, {\"args\": [[\"05/01/2020\"], {\"frame\": {\"duration\": 0, \"redraw\": true}, \"fromcurrent\": true, \"mode\": \"immediate\", \"transition\": {\"duration\": 0, \"easing\": \"linear\"}}], \"label\": \"05/01/2020\", \"method\": \"animate\"}, {\"args\": [[\"05/04/2020\"], {\"frame\": {\"duration\": 0, \"redraw\": true}, \"fromcurrent\": true, \"mode\": \"immediate\", \"transition\": {\"duration\": 0, \"easing\": \"linear\"}}], \"label\": \"05/04/2020\", \"method\": \"animate\"}], \"x\": 0.1, \"xanchor\": \"left\", \"y\": 0, \"yanchor\": \"top\"}], \"template\": {\"data\": {\"bar\": [{\"error_x\": {\"color\": \"#2a3f5f\"}, \"error_y\": {\"color\": \"#2a3f5f\"}, \"marker\": {\"line\": {\"color\": \"#E5ECF6\", \"width\": 0.5}}, \"type\": \"bar\"}], \"barpolar\": [{\"marker\": {\"line\": {\"color\": \"#E5ECF6\", \"width\": 0.5}}, \"type\": \"barpolar\"}], \"carpet\": [{\"aaxis\": {\"endlinecolor\": \"#2a3f5f\", \"gridcolor\": \"white\", \"linecolor\": \"white\", \"minorgridcolor\": \"white\", \"startlinecolor\": \"#2a3f5f\"}, \"baxis\": {\"endlinecolor\": \"#2a3f5f\", \"gridcolor\": \"white\", \"linecolor\": \"white\", \"minorgridcolor\": \"white\", \"startlinecolor\": \"#2a3f5f\"}, \"type\": \"carpet\"}], \"choropleth\": [{\"colorbar\": {\"outlinewidth\": 0, \"ticks\": \"\"}, \"type\": \"choropleth\"}], \"contour\": [{\"colorbar\": {\"outlinewidth\": 0, \"ticks\": \"\"}, \"colorscale\": [[0.0, \"#0d0887\"], [0.1111111111111111, \"#46039f\"], [0.2222222222222222, \"#7201a8\"], [0.3333333333333333, \"#9c179e\"], [0.4444444444444444, \"#bd3786\"], [0.5555555555555556, \"#d8576b\"], [0.6666666666666666, \"#ed7953\"], [0.7777777777777778, \"#fb9f3a\"], [0.8888888888888888, \"#fdca26\"], [1.0, \"#f0f921\"]], \"type\": \"contour\"}], \"contourcarpet\": [{\"colorbar\": {\"outlinewidth\": 0, \"ticks\": \"\"}, \"type\": \"contourcarpet\"}], \"heatmap\": [{\"colorbar\": {\"outlinewidth\": 0, \"ticks\": \"\"}, \"colorscale\": [[0.0, \"#0d0887\"], [0.1111111111111111, \"#46039f\"], [0.2222222222222222, \"#7201a8\"], [0.3333333333333333, \"#9c179e\"], [0.4444444444444444, \"#bd3786\"], [0.5555555555555556, \"#d8576b\"], [0.6666666666666666, \"#ed7953\"], [0.7777777777777778, \"#fb9f3a\"], [0.8888888888888888, \"#fdca26\"], [1.0, \"#f0f921\"]], \"type\": \"heatmap\"}], \"heatmapgl\": [{\"colorbar\": {\"outlinewidth\": 0, \"ticks\": \"\"}, \"colorscale\": [[0.0, \"#0d0887\"], [0.1111111111111111, \"#46039f\"], [0.2222222222222222, \"#7201a8\"], [0.3333333333333333, \"#9c179e\"], [0.4444444444444444, \"#bd3786\"], [0.5555555555555556, \"#d8576b\"], [0.6666666666666666, \"#ed7953\"], [0.7777777777777778, \"#fb9f3a\"], [0.8888888888888888, \"#fdca26\"], [1.0, \"#f0f921\"]], \"type\": \"heatmapgl\"}], \"histogram\": [{\"marker\": {\"colorbar\": {\"outlinewidth\": 0, \"ticks\": \"\"}}, \"type\": \"histogram\"}], \"histogram2d\": [{\"colorbar\": {\"outlinewidth\": 0, \"ticks\": \"\"}, \"colorscale\": [[0.0, \"#0d0887\"], [0.1111111111111111, \"#46039f\"], [0.2222222222222222, \"#7201a8\"], [0.3333333333333333, \"#9c179e\"], [0.4444444444444444, \"#bd3786\"], [0.5555555555555556, \"#d8576b\"], [0.6666666666666666, \"#ed7953\"], [0.7777777777777778, \"#fb9f3a\"], [0.8888888888888888, \"#fdca26\"], [1.0, \"#f0f921\"]], \"type\": \"histogram2d\"}], \"histogram2dcontour\": [{\"colorbar\": {\"outlinewidth\": 0, \"ticks\": \"\"}, \"colorscale\": [[0.0, \"#0d0887\"], [0.1111111111111111, \"#46039f\"], [0.2222222222222222, \"#7201a8\"], [0.3333333333333333, \"#9c179e\"], [0.4444444444444444, \"#bd3786\"], [0.5555555555555556, \"#d8576b\"], [0.6666666666666666, \"#ed7953\"], [0.7777777777777778, \"#fb9f3a\"], [0.8888888888888888, \"#fdca26\"], [1.0, \"#f0f921\"]], \"type\": \"histogram2dcontour\"}], \"mesh3d\": [{\"colorbar\": {\"outlinewidth\": 0, \"ticks\": \"\"}, \"type\": \"mesh3d\"}], \"parcoords\": [{\"line\": {\"colorbar\": {\"outlinewidth\": 0, \"ticks\": \"\"}}, \"type\": \"parcoords\"}], \"scatter\": [{\"marker\": {\"colorbar\": {\"outlinewidth\": 0, \"ticks\": \"\"}}, \"type\": \"scatter\"}], \"scatter3d\": [{\"line\": {\"colorbar\": {\"outlinewidth\": 0, \"ticks\": \"\"}}, \"marker\": {\"colorbar\": {\"outlinewidth\": 0, \"ticks\": \"\"}}, \"type\": \"scatter3d\"}], \"scattercarpet\": [{\"marker\": {\"colorbar\": {\"outlinewidth\": 0, \"ticks\": \"\"}}, \"type\": \"scattercarpet\"}], \"scattergeo\": [{\"marker\": {\"colorbar\": {\"outlinewidth\": 0, \"ticks\": \"\"}}, \"type\": \"scattergeo\"}], \"scattergl\": [{\"marker\": {\"colorbar\": {\"outlinewidth\": 0, \"ticks\": \"\"}}, \"type\": \"scattergl\"}], \"scattermapbox\": [{\"marker\": {\"colorbar\": {\"outlinewidth\": 0, \"ticks\": \"\"}}, \"type\": \"scattermapbox\"}], \"scatterpolar\": [{\"marker\": {\"colorbar\": {\"outlinewidth\": 0, \"ticks\": \"\"}}, \"type\": \"scatterpolar\"}], \"scatterpolargl\": [{\"marker\": {\"colorbar\": {\"outlinewidth\": 0, \"ticks\": \"\"}}, \"type\": \"scatterpolargl\"}], \"scatterternary\": [{\"marker\": {\"colorbar\": {\"outlinewidth\": 0, \"ticks\": \"\"}}, \"type\": \"scatterternary\"}], \"surface\": [{\"colorbar\": {\"outlinewidth\": 0, \"ticks\": \"\"}, \"colorscale\": [[0.0, \"#0d0887\"], [0.1111111111111111, \"#46039f\"], [0.2222222222222222, \"#7201a8\"], [0.3333333333333333, \"#9c179e\"], [0.4444444444444444, \"#bd3786\"], [0.5555555555555556, \"#d8576b\"], [0.6666666666666666, \"#ed7953\"], [0.7777777777777778, \"#fb9f3a\"], [0.8888888888888888, \"#fdca26\"], [1.0, \"#f0f921\"]], \"type\": \"surface\"}], \"table\": [{\"cells\": {\"fill\": {\"color\": \"#EBF0F8\"}, \"line\": {\"color\": \"white\"}}, \"header\": {\"fill\": {\"color\": \"#C8D4E3\"}, \"line\": {\"color\": \"white\"}}, \"type\": \"table\"}]}, \"layout\": {\"annotationdefaults\": {\"arrowcolor\": \"#2a3f5f\", \"arrowhead\": 0, \"arrowwidth\": 1}, \"colorscale\": {\"diverging\": [[0, \"#8e0152\"], [0.1, \"#c51b7d\"], [0.2, \"#de77ae\"], [0.3, \"#f1b6da\"], [0.4, \"#fde0ef\"], [0.5, \"#f7f7f7\"], [0.6, \"#e6f5d0\"], [0.7, \"#b8e186\"], [0.8, \"#7fbc41\"], [0.9, \"#4d9221\"], [1, \"#276419\"]], \"sequential\": [[0.0, \"#0d0887\"], [0.1111111111111111, \"#46039f\"], [0.2222222222222222, \"#7201a8\"], [0.3333333333333333, \"#9c179e\"], [0.4444444444444444, \"#bd3786\"], [0.5555555555555556, \"#d8576b\"], [0.6666666666666666, \"#ed7953\"], [0.7777777777777778, \"#fb9f3a\"], [0.8888888888888888, \"#fdca26\"], [1.0, \"#f0f921\"]], \"sequentialminus\": [[0.0, \"#0d0887\"], [0.1111111111111111, \"#46039f\"], [0.2222222222222222, \"#7201a8\"], [0.3333333333333333, \"#9c179e\"], [0.4444444444444444, \"#bd3786\"], [0.5555555555555556, \"#d8576b\"], [0.6666666666666666, \"#ed7953\"], [0.7777777777777778, \"#fb9f3a\"], [0.8888888888888888, \"#fdca26\"], [1.0, \"#f0f921\"]]}, \"colorway\": [\"#636efa\", \"#EF553B\", \"#00cc96\", \"#ab63fa\", \"#FFA15A\", \"#19d3f3\", \"#FF6692\", \"#B6E880\", \"#FF97FF\", \"#FECB52\"], \"font\": {\"color\": \"#2a3f5f\"}, \"geo\": {\"bgcolor\": \"white\", \"lakecolor\": \"white\", \"landcolor\": \"#E5ECF6\", \"showlakes\": true, \"showland\": true, \"subunitcolor\": \"white\"}, \"hoverlabel\": {\"align\": \"left\"}, \"hovermode\": \"closest\", \"mapbox\": {\"style\": \"light\"}, \"paper_bgcolor\": \"white\", \"plot_bgcolor\": \"#E5ECF6\", \"polar\": {\"angularaxis\": {\"gridcolor\": \"white\", \"linecolor\": \"white\", \"ticks\": \"\"}, \"bgcolor\": \"#E5ECF6\", \"radialaxis\": {\"gridcolor\": \"white\", \"linecolor\": \"white\", \"ticks\": \"\"}}, \"scene\": {\"xaxis\": {\"backgroundcolor\": \"#E5ECF6\", \"gridcolor\": \"white\", \"gridwidth\": 2, \"linecolor\": \"white\", \"showbackground\": true, \"ticks\": \"\", \"zerolinecolor\": \"white\"}, \"yaxis\": {\"backgroundcolor\": \"#E5ECF6\", \"gridcolor\": \"white\", \"gridwidth\": 2, \"linecolor\": \"white\", \"showbackground\": true, \"ticks\": \"\", \"zerolinecolor\": \"white\"}, \"zaxis\": {\"backgroundcolor\": \"#E5ECF6\", \"gridcolor\": \"white\", \"gridwidth\": 2, \"linecolor\": \"white\", \"showbackground\": true, \"ticks\": \"\", \"zerolinecolor\": \"white\"}}, \"shapedefaults\": {\"line\": {\"color\": \"#2a3f5f\"}}, \"ternary\": {\"aaxis\": {\"gridcolor\": \"white\", \"linecolor\": \"white\", \"ticks\": \"\"}, \"baxis\": {\"gridcolor\": \"white\", \"linecolor\": \"white\", \"ticks\": \"\"}, \"bgcolor\": \"#E5ECF6\", \"caxis\": {\"gridcolor\": \"white\", \"linecolor\": \"white\", \"ticks\": \"\"}}, \"title\": {\"x\": 0.05}, \"xaxis\": {\"automargin\": true, \"gridcolor\": \"white\", \"linecolor\": \"white\", \"ticks\": \"\", \"zerolinecolor\": \"white\", \"zerolinewidth\": 2}, \"yaxis\": {\"automargin\": true, \"gridcolor\": \"white\", \"linecolor\": \"white\", \"ticks\": \"\", \"zerolinecolor\": \"white\", \"zerolinewidth\": 2}}}, \"title\": {\"text\": \"COVID-19 Progression Animation Over Time\"}, \"updatemenus\": [{\"buttons\": [{\"args\": [null, {\"frame\": {\"duration\": 500, \"redraw\": true}, \"fromcurrent\": true, \"mode\": \"immediate\", \"transition\": {\"duration\": 500, \"easing\": \"linear\"}}], \"label\": \"&#9654;\", \"method\": \"animate\"}, {\"args\": [[null], {\"frame\": {\"duration\": 0, \"redraw\": true}, \"fromcurrent\": true, \"mode\": \"immediate\", \"transition\": {\"duration\": 0, \"easing\": \"linear\"}}], \"label\": \"&#9724;\", \"method\": \"animate\"}], \"direction\": \"left\", \"pad\": {\"r\": 10, \"t\": 70}, \"showactive\": false, \"type\": \"buttons\", \"x\": 0.1, \"xanchor\": \"right\", \"y\": 0, \"yanchor\": \"top\"}]},\n",
              "                        {\"responsive\": true}\n",
              "                    ).then(function(){\n",
              "                            Plotly.addFrames('e13694f2-c4ee-4ace-a495-07c9060bdb12', [{\"data\": [{\"customdata\": [[11, 0]], \"geo\": \"geo\", \"hoverlabel\": {\"namelength\": 0}, \"hovertemplate\": \"Last_Update=03/09/2020<br>size=%{marker.size}<br>Confirmed=%{customdata[0]}<br>Deaths=%{customdata[1]}<br>Lat=%{lat}<br>Long=%{lon}<br>color=%{marker.color}\", \"lat\": [39.833851], \"legendgroup\": \"\", \"locationmode\": \"country names\", \"lon\": [-74.871826], \"marker\": {\"color\": [0.07918124604762489], \"coloraxis\": \"coloraxis\", \"size\": [1.107435899344471], \"sizemode\": \"area\", \"sizeref\": 0.08268782637996869}, \"name\": \"\", \"showlegend\": false, \"type\": \"scattergeo\"}], \"name\": \"03/09/2020\"}, {\"data\": [{\"customdata\": [[15, 0]], \"geo\": \"geo\", \"hoverlabel\": {\"namelength\": 0}, \"hovertemplate\": \"Last_Update=03/10/2020<br>size=%{marker.size}<br>Confirmed=%{customdata[0]}<br>Deaths=%{customdata[1]}<br>Lat=%{lat}<br>Long=%{lon}<br>color=%{marker.color}\", \"lat\": [39.833851], \"legendgroup\": \"\", \"locationmode\": \"country names\", \"lon\": [-74.871826], \"marker\": {\"color\": [0.2041199826559248], \"coloraxis\": \"coloraxis\", \"size\": [1.2973967099940698], \"sizemode\": \"area\", \"sizeref\": 0.08268782637996869}, \"name\": \"\", \"showlegend\": false, \"type\": \"scattergeo\"}], \"name\": \"03/10/2020\"}, {\"data\": [{\"customdata\": [[24, 1]], \"geo\": \"geo\", \"hoverlabel\": {\"namelength\": 0}, \"hovertemplate\": \"Last_Update=03/11/2020<br>size=%{marker.size}<br>Confirmed=%{customdata[0]}<br>Deaths=%{customdata[1]}<br>Lat=%{lat}<br>Long=%{lon}<br>color=%{marker.color}\", \"lat\": [39.833851], \"legendgroup\": \"\", \"locationmode\": \"country names\", \"lon\": [-74.871826], \"marker\": {\"color\": [0.3979400086720377], \"coloraxis\": \"coloraxis\", \"size\": [1.626527804403767], \"sizemode\": \"area\", \"sizeref\": 0.08268782637996869}, \"name\": \"\", \"showlegend\": false, \"type\": \"scattergeo\"}], \"name\": \"03/11/2020\"}, {\"data\": [{\"customdata\": [[30, 1]], \"geo\": \"geo\", \"hoverlabel\": {\"namelength\": 0}, \"hovertemplate\": \"Last_Update=03/12/2020<br>size=%{marker.size}<br>Confirmed=%{customdata[0]}<br>Deaths=%{customdata[1]}<br>Lat=%{lat}<br>Long=%{lon}<br>color=%{marker.color}\", \"lat\": [39.833851], \"legendgroup\": \"\", \"locationmode\": \"country names\", \"lon\": [-74.871826], \"marker\": {\"color\": [0.49136169383427264], \"coloraxis\": \"coloraxis\", \"size\": [1.8016153494371836], \"sizemode\": \"area\", \"sizeref\": 0.08268782637996869}, \"name\": \"\", \"showlegend\": false, \"type\": \"scattergeo\"}], \"name\": \"03/12/2020\"}, {\"data\": [{\"customdata\": [[50, 1]], \"geo\": \"geo\", \"hoverlabel\": {\"namelength\": 0}, \"hovertemplate\": \"Last_Update=03/13/2020<br>size=%{marker.size}<br>Confirmed=%{customdata[0]}<br>Deaths=%{customdata[1]}<br>Lat=%{lat}<br>Long=%{lon}<br>color=%{marker.color}\", \"lat\": [39.833851], \"legendgroup\": \"\", \"locationmode\": \"country names\", \"lon\": [-74.871826], \"marker\": {\"color\": [0.7075701760979363], \"coloraxis\": \"coloraxis\", \"size\": [2.2529025491464565], \"sizemode\": \"area\", \"sizeref\": 0.08268782637996869}, \"name\": \"\", \"showlegend\": false, \"type\": \"scattergeo\"}], \"name\": \"03/13/2020\"}, {\"data\": [{\"customdata\": [[178, 2]], \"geo\": \"geo\", \"hoverlabel\": {\"namelength\": 0}, \"hovertemplate\": \"Last_Update=03/16/2020<br>size=%{marker.size}<br>Confirmed=%{customdata[0]}<br>Deaths=%{customdata[1]}<br>Lat=%{lat}<br>Long=%{lon}<br>color=%{marker.color}\", \"lat\": [39.833851], \"legendgroup\": \"\", \"locationmode\": \"country names\", \"lon\": [-74.871826], \"marker\": {\"color\": [1.2528530309798933], \"coloraxis\": \"coloraxis\", \"size\": [3.740846668262228], \"sizemode\": \"area\", \"sizeref\": 0.08268782637996869}, \"name\": \"\", \"showlegend\": false, \"type\": \"scattergeo\"}], \"name\": \"03/16/2020\"}, {\"data\": [{\"customdata\": [[267, 3]], \"geo\": \"geo\", \"hoverlabel\": {\"namelength\": 0}, \"hovertemplate\": \"Last_Update=03/17/2020<br>size=%{marker.size}<br>Confirmed=%{customdata[0]}<br>Deaths=%{customdata[1]}<br>Lat=%{lat}<br>Long=%{lon}<br>color=%{marker.color}\", \"lat\": [39.833851], \"legendgroup\": \"\", \"locationmode\": \"country names\", \"lon\": [-74.871826], \"marker\": {\"color\": [1.428134794028789], \"coloraxis\": \"coloraxis\", \"size\": [4.351067609370817], \"sizemode\": \"area\", \"sizeref\": 0.08268782637996869}, \"name\": \"\", \"showlegend\": false, \"type\": \"scattergeo\"}], \"name\": \"03/17/2020\"}, {\"data\": [{\"customdata\": [[427, 5]], \"geo\": \"geo\", \"hoverlabel\": {\"namelength\": 0}, \"hovertemplate\": \"Last_Update=03/18/2020<br>size=%{marker.size}<br>Confirmed=%{customdata[0]}<br>Deaths=%{customdata[1]}<br>Lat=%{lat}<br>Long=%{lon}<br>color=%{marker.color}\", \"lat\": [39.833851], \"legendgroup\": \"\", \"locationmode\": \"country names\", \"lon\": [-74.871826], \"marker\": {\"color\": [1.6314437690131722], \"coloraxis\": \"coloraxis\", \"size\": [5.157907071383781], \"sizemode\": \"area\", \"sizeref\": 0.08268782637996869}, \"name\": \"\", \"showlegend\": false, \"type\": \"scattergeo\"}], \"name\": \"03/18/2020\"}, {\"data\": [{\"customdata\": [[742, 9]], \"geo\": \"geo\", \"hoverlabel\": {\"namelength\": 0}, \"hovertemplate\": \"Last_Update=03/19/2020<br>size=%{marker.size}<br>Confirmed=%{customdata[0]}<br>Deaths=%{customdata[1]}<br>Lat=%{lat}<br>Long=%{lon}<br>color=%{marker.color}\", \"lat\": [39.833851], \"legendgroup\": \"\", \"locationmode\": \"country names\", \"lon\": [-74.871826], \"marker\": {\"color\": [1.8709888137605755], \"coloraxis\": \"coloraxis\", \"size\": [6.266020923322288], \"sizemode\": \"area\", \"sizeref\": 0.08268782637996869}, \"name\": \"\", \"showlegend\": false, \"type\": \"scattergeo\"}], \"name\": \"03/19/2020\"}, {\"data\": [{\"customdata\": [[890, 11]], \"geo\": \"geo\", \"hoverlabel\": {\"namelength\": 0}, \"hovertemplate\": \"Last_Update=03/20/2020<br>size=%{marker.size}<br>Confirmed=%{customdata[0]}<br>Deaths=%{customdata[1]}<br>Lat=%{lat}<br>Long=%{lon}<br>color=%{marker.color}\", \"lat\": [39.833851], \"legendgroup\": \"\", \"locationmode\": \"country names\", \"lon\": [-74.871826], \"marker\": {\"color\": [1.9498777040368749], \"coloraxis\": \"coloraxis\", \"size\": [6.6729666612381955], \"sizemode\": \"area\", \"sizeref\": 0.08268782637996869}, \"name\": \"\", \"showlegend\": false, \"type\": \"scattergeo\"}], \"name\": \"03/20/2020\"}, {\"data\": [{\"customdata\": [[2844, 27]], \"geo\": \"geo\", \"hoverlabel\": {\"namelength\": 0}, \"hovertemplate\": \"Last_Update=03/23/2020<br>size=%{marker.size}<br>Confirmed=%{customdata[0]}<br>Deaths=%{customdata[1]}<br>Lat=%{lat}<br>Long=%{lon}<br>color=%{marker.color}\", \"lat\": [39.833851], \"legendgroup\": \"\", \"locationmode\": \"country names\", \"lon\": [-74.871826], \"marker\": {\"color\": [2.45408227073109], \"coloraxis\": \"coloraxis\", \"size\": [9.869878287497992], \"sizemode\": \"area\", \"sizeref\": 0.08268782637996869}, \"name\": \"\", \"showlegend\": false, \"type\": \"scattergeo\"}], \"name\": \"03/23/2020\"}, {\"data\": [{\"customdata\": [[3675, 44]], \"geo\": \"geo\", \"hoverlabel\": {\"namelength\": 0}, \"hovertemplate\": \"Last_Update=03/24/2020<br>size=%{marker.size}<br>Confirmed=%{customdata[0]}<br>Deaths=%{customdata[1]}<br>Lat=%{lat}<br>Long=%{lon}<br>color=%{marker.color}\", \"lat\": [39.833851], \"legendgroup\": \"\", \"locationmode\": \"country names\", \"lon\": [-74.871826], \"marker\": {\"color\": [2.5653755027140734], \"coloraxis\": \"coloraxis\", \"size\": [10.738501257419353], \"sizemode\": \"area\", \"sizeref\": 0.08268782637996869}, \"name\": \"\", \"showlegend\": false, \"type\": \"scattergeo\"}], \"name\": \"03/24/2020\"}, {\"data\": [{\"customdata\": [[4402, 62]], \"geo\": \"geo\", \"hoverlabel\": {\"namelength\": 0}, \"hovertemplate\": \"Last_Update=03/25/2020<br>size=%{marker.size}<br>Confirmed=%{customdata[0]}<br>Deaths=%{customdata[1]}<br>Lat=%{lat}<br>Long=%{lon}<br>color=%{marker.color}\", \"lat\": [39.833851], \"legendgroup\": \"\", \"locationmode\": \"country names\", \"lon\": [-74.871826], \"marker\": {\"color\": [2.6437486854595256], \"coloraxis\": \"coloraxis\", \"size\": [11.391520669512513], \"sizemode\": \"area\", \"sizeref\": 0.08268782637996869}, \"name\": \"\", \"showlegend\": false, \"type\": \"scattergeo\"}], \"name\": \"03/25/2020\"}, {\"data\": [{\"customdata\": [[6876, 81]], \"geo\": \"geo\", \"hoverlabel\": {\"namelength\": 0}, \"hovertemplate\": \"Last_Update=03/26/2020<br>size=%{marker.size}<br>Confirmed=%{customdata[0]}<br>Deaths=%{customdata[1]}<br>Lat=%{lat}<br>Long=%{lon}<br>color=%{marker.color}\", \"lat\": [39.833851], \"legendgroup\": \"\", \"locationmode\": \"country names\", \"lon\": [-74.871826], \"marker\": {\"color\": [2.8373990243420226], \"coloraxis\": \"coloraxis\", \"size\": [13.165102038135831], \"sizemode\": \"area\", \"sizeref\": 0.08268782637996869}, \"name\": \"\", \"showlegend\": false, \"type\": \"scattergeo\"}], \"name\": \"03/26/2020\"}, {\"data\": [{\"customdata\": [[8825, 108]], \"geo\": \"geo\", \"hoverlabel\": {\"namelength\": 0}, \"hovertemplate\": \"Last_Update=03/27/2020<br>size=%{marker.size}<br>Confirmed=%{customdata[0]}<br>Deaths=%{customdata[1]}<br>Lat=%{lat}<br>Long=%{lon}<br>color=%{marker.color}\", \"lat\": [39.833851], \"legendgroup\": \"\", \"locationmode\": \"country names\", \"lon\": [-74.871826], \"marker\": {\"color\": [2.9457639231111736], \"coloraxis\": \"coloraxis\", \"size\": [14.266137754480356], \"sizemode\": \"area\", \"sizeref\": 0.08268782637996869}, \"name\": \"\", \"showlegend\": false, \"type\": \"scattergeo\"}], \"name\": \"03/27/2020\"}, {\"data\": [{\"customdata\": [[16636, 198]], \"geo\": \"geo\", \"hoverlabel\": {\"namelength\": 0}, \"hovertemplate\": \"Last_Update=03/30/2020<br>size=%{marker.size}<br>Confirmed=%{customdata[0]}<br>Deaths=%{customdata[1]}<br>Lat=%{lat}<br>Long=%{lon}<br>color=%{marker.color}\", \"lat\": [39.833851], \"legendgroup\": \"\", \"locationmode\": \"country names\", \"lon\": [-74.871826], \"marker\": {\"color\": [3.221075016611721], \"coloraxis\": \"coloraxis\", \"size\": [17.4638602755424], \"sizemode\": \"area\", \"sizeref\": 0.08268782637996869}, \"name\": \"\", \"showlegend\": false, \"type\": \"scattergeo\"}], \"name\": \"03/30/2020\"}, {\"data\": [{\"customdata\": [[18696, 267]], \"geo\": \"geo\", \"hoverlabel\": {\"namelength\": 0}, \"hovertemplate\": \"Last_Update=03/31/2020<br>size=%{marker.size}<br>Confirmed=%{customdata[0]}<br>Deaths=%{customdata[1]}<br>Lat=%{lat}<br>Long=%{lon}<br>color=%{marker.color}\", \"lat\": [39.833851], \"legendgroup\": \"\", \"locationmode\": \"country names\", \"lon\": [-74.871826], \"marker\": {\"color\": [3.27177192803563], \"coloraxis\": \"coloraxis\", \"size\": [18.121923588379232], \"sizemode\": \"area\", \"sizeref\": 0.08268782637996869}, \"name\": \"\", \"showlegend\": false, \"type\": \"scattergeo\"}], \"name\": \"03/31/2020\"}, {\"data\": [{\"customdata\": [[22255, 355]], \"geo\": \"geo\", \"hoverlabel\": {\"namelength\": 0}, \"hovertemplate\": \"Last_Update=04/01/2020<br>size=%{marker.size}<br>Confirmed=%{customdata[0]}<br>Deaths=%{customdata[1]}<br>Lat=%{lat}<br>Long=%{lon}<br>color=%{marker.color}\", \"lat\": [39.833851], \"legendgroup\": \"\", \"locationmode\": \"country names\", \"lon\": [-74.871826], \"marker\": {\"color\": [3.347447112647971], \"coloraxis\": \"coloraxis\", \"size\": [19.148101674429906], \"sizemode\": \"area\", \"sizeref\": 0.08268782637996869}, \"name\": \"\", \"showlegend\": false, \"type\": \"scattergeo\"}], \"name\": \"04/01/2020\"}, {\"data\": [{\"customdata\": [[25590, 537]], \"geo\": \"geo\", \"hoverlabel\": {\"namelength\": 0}, \"hovertemplate\": \"Last_Update=04/02/2020<br>size=%{marker.size}<br>Confirmed=%{customdata[0]}<br>Deaths=%{customdata[1]}<br>Lat=%{lat}<br>Long=%{lon}<br>color=%{marker.color}\", \"lat\": [39.833851], \"legendgroup\": \"\", \"locationmode\": \"country names\", \"lon\": [-74.871826], \"marker\": {\"color\": [3.4080872568131912], \"coloraxis\": \"coloraxis\", \"size\": [20.01000602965261], \"sizemode\": \"area\", \"sizeref\": 0.08268782637996869}, \"name\": \"\", \"showlegend\": false, \"type\": \"scattergeo\"}], \"name\": \"04/02/2020\"}, {\"data\": [{\"customdata\": [[29895, 646]], \"geo\": \"geo\", \"hoverlabel\": {\"namelength\": 0}, \"hovertemplate\": \"Last_Update=04/03/2020<br>size=%{marker.size}<br>Confirmed=%{customdata[0]}<br>Deaths=%{customdata[1]}<br>Lat=%{lat}<br>Long=%{lon}<br>color=%{marker.color}\", \"lat\": [39.833851], \"legendgroup\": \"\", \"locationmode\": \"country names\", \"lon\": [-74.871826], \"marker\": {\"color\": [3.475613084841581], \"coloraxis\": \"coloraxis\", \"size\": [21.01323781693389], \"sizemode\": \"area\", \"sizeref\": 0.08268782637996869}, \"name\": \"\", \"showlegend\": false, \"type\": \"scattergeo\"}], \"name\": \"04/03/2020\"}, {\"data\": [{\"customdata\": [[41090, 1003]], \"geo\": \"geo\", \"hoverlabel\": {\"namelength\": 0}, \"hovertemplate\": \"Last_Update=04/06/2020<br>size=%{marker.size}<br>Confirmed=%{customdata[0]}<br>Deaths=%{customdata[1]}<br>Lat=%{lat}<br>Long=%{lon}<br>color=%{marker.color}\", \"lat\": [39.833851], \"legendgroup\": \"\", \"locationmode\": \"country names\", \"lon\": [-74.871826], \"marker\": {\"color\": [3.6137467104805943], \"coloraxis\": \"coloraxis\", \"size\": [23.2172047227261], \"sizemode\": \"area\", \"sizeref\": 0.08268782637996869}, \"name\": \"\", \"showlegend\": false, \"type\": \"scattergeo\"}], \"name\": \"04/06/2020\"}, {\"data\": [{\"customdata\": [[44416, 1232]], \"geo\": \"geo\", \"hoverlabel\": {\"namelength\": 0}, \"hovertemplate\": \"Last_Update=04/07/2020<br>size=%{marker.size}<br>Confirmed=%{customdata[0]}<br>Deaths=%{customdata[1]}<br>Lat=%{lat}<br>Long=%{lon}<br>color=%{marker.color}\", \"lat\": [39.833851], \"legendgroup\": \"\", \"locationmode\": \"country names\", \"lon\": [-74.871826], \"marker\": {\"color\": [3.64754922221236], \"coloraxis\": \"coloraxis\", \"size\": [23.78932872959249], \"sizemode\": \"area\", \"sizeref\": 0.08268782637996869}, \"name\": \"\", \"showlegend\": false, \"type\": \"scattergeo\"}], \"name\": \"04/07/2020\"}, {\"data\": [{\"customdata\": [[47437, 1504]], \"geo\": \"geo\", \"hoverlabel\": {\"namelength\": 0}, \"hovertemplate\": \"Last_Update=04/08/2020<br>size=%{marker.size}<br>Confirmed=%{customdata[0]}<br>Deaths=%{customdata[1]}<br>Lat=%{lat}<br>Long=%{lon}<br>color=%{marker.color}\", \"lat\": [39.833851], \"legendgroup\": \"\", \"locationmode\": \"country names\", \"lon\": [-74.871826], \"marker\": {\"color\": [3.676126370759378], \"coloraxis\": \"coloraxis\", \"size\": [24.283541799160506], \"sizemode\": \"area\", \"sizeref\": 0.08268782637996869}, \"name\": \"\", \"showlegend\": false, \"type\": \"scattergeo\"}], \"name\": \"04/08/2020\"}, {\"data\": [{\"customdata\": [[51027, 1700]], \"geo\": \"geo\", \"hoverlabel\": {\"namelength\": 0}, \"hovertemplate\": \"Last_Update=04/09/2020<br>size=%{marker.size}<br>Confirmed=%{customdata[0]}<br>Deaths=%{customdata[1]}<br>Lat=%{lat}<br>Long=%{lon}<br>color=%{marker.color}\", \"lat\": [39.833851], \"legendgroup\": \"\", \"locationmode\": \"country names\", \"lon\": [-74.871826], \"marker\": {\"color\": [3.707808546854955], \"coloraxis\": \"coloraxis\", \"size\": [24.842978368147122], \"sizemode\": \"area\", \"sizeref\": 0.08268782637996869}, \"name\": \"\", \"showlegend\": false, \"type\": \"scattergeo\"}], \"name\": \"04/09/2020\"}, {\"data\": [{\"customdata\": [[64584, 2443]], \"geo\": \"geo\", \"hoverlabel\": {\"namelength\": 0}, \"hovertemplate\": \"Last_Update=04/13/2020<br>size=%{marker.size}<br>Confirmed=%{customdata[0]}<br>Deaths=%{customdata[1]}<br>Lat=%{lat}<br>Long=%{lon}<br>color=%{marker.color}\", \"lat\": [39.833851], \"legendgroup\": \"\", \"locationmode\": \"country names\", \"lon\": [-74.871826], \"marker\": {\"color\": [3.810131663913607], \"coloraxis\": \"coloraxis\", \"size\": [26.735723501668833], \"sizemode\": \"area\", \"sizeref\": 0.08268782637996869}, \"name\": \"\", \"showlegend\": false, \"type\": \"scattergeo\"}], \"name\": \"04/13/2020\"}, {\"data\": [{\"customdata\": [[68824, 2805]], \"geo\": \"geo\", \"hoverlabel\": {\"namelength\": 0}, \"hovertemplate\": \"Last_Update=04/14/2020<br>size=%{marker.size}<br>Confirmed=%{customdata[0]}<br>Deaths=%{customdata[1]}<br>Lat=%{lat}<br>Long=%{lon}<br>color=%{marker.color}\", \"lat\": [39.833851], \"legendgroup\": \"\", \"locationmode\": \"country names\", \"lon\": [-74.871826], \"marker\": {\"color\": [3.837746220065368], \"coloraxis\": \"coloraxis\", \"size\": [27.269873556989975], \"sizemode\": \"area\", \"sizeref\": 0.08268782637996869}, \"name\": \"\", \"showlegend\": false, \"type\": \"scattergeo\"}], \"name\": \"04/14/2020\"}, {\"data\": [{\"customdata\": [[71030, 3156]], \"geo\": \"geo\", \"hoverlabel\": {\"namelength\": 0}, \"hovertemplate\": \"Last_Update=04/15/2020<br>size=%{marker.size}<br>Confirmed=%{customdata[0]}<br>Deaths=%{customdata[1]}<br>Lat=%{lat}<br>Long=%{lon}<br>color=%{marker.color}\", \"lat\": [39.833851], \"legendgroup\": \"\", \"locationmode\": \"country names\", \"lon\": [-74.871826], \"marker\": {\"color\": [3.8514479288692227], \"coloraxis\": \"coloraxis\", \"size\": [27.538712649187843], \"sizemode\": \"area\", \"sizeref\": 0.08268782637996869}, \"name\": \"\", \"showlegend\": false, \"type\": \"scattergeo\"}], \"name\": \"04/15/2020\"}, {\"data\": [{\"customdata\": [[75317, 3518]], \"geo\": \"geo\", \"hoverlabel\": {\"namelength\": 0}, \"hovertemplate\": \"Last_Update=04/16/2020<br>size=%{marker.size}<br>Confirmed=%{customdata[0]}<br>Deaths=%{customdata[1]}<br>Lat=%{lat}<br>Long=%{lon}<br>color=%{marker.color}\", \"lat\": [39.833851], \"legendgroup\": \"\", \"locationmode\": \"country names\", \"lon\": [-74.871826], \"marker\": {\"color\": [3.876898779208462], \"coloraxis\": \"coloraxis\", \"size\": [28.044883160024238], \"sizemode\": \"area\", \"sizeref\": 0.08268782637996869}, \"name\": \"\", \"showlegend\": false, \"type\": \"scattergeo\"}], \"name\": \"04/16/2020\"}, {\"data\": [{\"customdata\": [[78467, 3840]], \"geo\": \"geo\", \"hoverlabel\": {\"namelength\": 0}, \"hovertemplate\": \"Last_Update=04/17/2020<br>size=%{marker.size}<br>Confirmed=%{customdata[0]}<br>Deaths=%{customdata[1]}<br>Lat=%{lat}<br>Long=%{lon}<br>color=%{marker.color}\", \"lat\": [39.833851], \"legendgroup\": \"\", \"locationmode\": \"country names\", \"lon\": [-74.871826], \"marker\": {\"color\": [3.8946925834103894], \"coloraxis\": \"coloraxis\", \"size\": [28.404092143251628], \"sizemode\": \"area\", \"sizeref\": 0.08268782637996869}, \"name\": \"\", \"showlegend\": false, \"type\": \"scattergeo\"}], \"name\": \"04/17/2020\"}, {\"data\": [{\"customdata\": [[88806, 4377]], \"geo\": \"geo\", \"hoverlabel\": {\"namelength\": 0}, \"hovertemplate\": \"Last_Update=04/20/2020<br>size=%{marker.size}<br>Confirmed=%{customdata[0]}<br>Deaths=%{customdata[1]}<br>Lat=%{lat}<br>Long=%{lon}<br>color=%{marker.color}\", \"lat\": [39.833851], \"legendgroup\": \"\", \"locationmode\": \"country names\", \"lon\": [-74.871826], \"marker\": {\"color\": [3.948447199354698], \"coloraxis\": \"coloraxis\", \"size\": [29.516460495489603], \"sizemode\": \"area\", \"sizeref\": 0.08268782637996869}, \"name\": \"\", \"showlegend\": false, \"type\": \"scattergeo\"}], \"name\": \"04/20/2020\"}, {\"data\": [{\"customdata\": [[92387, 4753]], \"geo\": \"geo\", \"hoverlabel\": {\"namelength\": 0}, \"hovertemplate\": \"Last_Update=04/21/2020<br>size=%{marker.size}<br>Confirmed=%{customdata[0]}<br>Deaths=%{customdata[1]}<br>Lat=%{lat}<br>Long=%{lon}<br>color=%{marker.color}\", \"lat\": [39.833851], \"legendgroup\": \"\", \"locationmode\": \"country names\", \"lon\": [-74.871826], \"marker\": {\"color\": [3.965615565676563], \"coloraxis\": \"coloraxis\", \"size\": [29.880524611289015], \"sizemode\": \"area\", \"sizeref\": 0.08268782637996869}, \"name\": \"\", \"showlegend\": false, \"type\": \"scattergeo\"}], \"name\": \"04/21/2020\"}, {\"data\": [{\"customdata\": [[95865, 5063]], \"geo\": \"geo\", \"hoverlabel\": {\"namelength\": 0}, \"hovertemplate\": \"Last_Update=04/22/2020<br>size=%{marker.size}<br>Confirmed=%{customdata[0]}<br>Deaths=%{customdata[1]}<br>Lat=%{lat}<br>Long=%{lon}<br>color=%{marker.color}\", \"lat\": [39.833851], \"legendgroup\": \"\", \"locationmode\": \"country names\", \"lon\": [-74.871826], \"marker\": {\"color\": [3.9816646068521564], \"coloraxis\": \"coloraxis\", \"size\": [30.224779633415896], \"sizemode\": \"area\", \"sizeref\": 0.08268782637996869}, \"name\": \"\", \"showlegend\": false, \"type\": \"scattergeo\"}], \"name\": \"04/22/2020\"}, {\"data\": [{\"customdata\": [[99989, 5368]], \"geo\": \"geo\", \"hoverlabel\": {\"namelength\": 0}, \"hovertemplate\": \"Last_Update=04/23/2020<br>size=%{marker.size}<br>Confirmed=%{customdata[0]}<br>Deaths=%{customdata[1]}<br>Lat=%{lat}<br>Long=%{lon}<br>color=%{marker.color}\", \"lat\": [39.833851], \"legendgroup\": \"\", \"locationmode\": \"country names\", \"lon\": [-74.871826], \"marker\": {\"color\": [3.9999565683801928], \"coloraxis\": \"coloraxis\", \"size\": [30.621827885179943], \"sizemode\": \"area\", \"sizeref\": 0.08268782637996869}, \"name\": \"\", \"showlegend\": false, \"type\": \"scattergeo\"}], \"name\": \"04/23/2020\"}, {\"data\": [{\"customdata\": [[102196, 5617]], \"geo\": \"geo\", \"hoverlabel\": {\"namelength\": 0}, \"hovertemplate\": \"Last_Update=04/24/2020<br>size=%{marker.size}<br>Confirmed=%{customdata[0]}<br>Deaths=%{customdata[1]}<br>Lat=%{lat}<br>Long=%{lon}<br>color=%{marker.color}\", \"lat\": [39.833851], \"legendgroup\": \"\", \"locationmode\": \"country names\", \"lon\": [-74.871826], \"marker\": {\"color\": [4.009438147241271], \"coloraxis\": \"coloraxis\", \"size\": [30.829619294470124], \"sizemode\": \"area\", \"sizeref\": 0.08268782637996869}, \"name\": \"\", \"showlegend\": false, \"type\": \"scattergeo\"}], \"name\": \"04/24/2020\"}, {\"data\": [{\"customdata\": [[111188, 6044]], \"geo\": \"geo\", \"hoverlabel\": {\"namelength\": 0}, \"hovertemplate\": \"Last_Update=04/27/2020<br>size=%{marker.size}<br>Confirmed=%{customdata[0]}<br>Deaths=%{customdata[1]}<br>Lat=%{lat}<br>Long=%{lon}<br>color=%{marker.color}\", \"lat\": [39.833851], \"legendgroup\": \"\", \"locationmode\": \"country names\", \"lon\": [-74.871826], \"marker\": {\"color\": [4.046061824335959], \"coloraxis\": \"coloraxis\", \"size\": [31.645140892013984], \"sizemode\": \"area\", \"sizeref\": 0.08268782637996869}, \"name\": \"\", \"showlegend\": false, \"type\": \"scattergeo\"}], \"name\": \"04/27/2020\"}, {\"data\": [{\"customdata\": [[113856, 6442]], \"geo\": \"geo\", \"hoverlabel\": {\"namelength\": 0}, \"hovertemplate\": \"Last_Update=04/28/2020<br>size=%{marker.size}<br>Confirmed=%{customdata[0]}<br>Deaths=%{customdata[1]}<br>Lat=%{lat}<br>Long=%{lon}<br>color=%{marker.color}\", \"lat\": [39.833851], \"legendgroup\": \"\", \"locationmode\": \"country names\", \"lon\": [-74.871826], \"marker\": {\"color\": [4.056359736469993], \"coloraxis\": \"coloraxis\", \"size\": [31.878191518722097], \"sizemode\": \"area\", \"sizeref\": 0.08268782637996869}, \"name\": \"\", \"showlegend\": false, \"type\": \"scattergeo\"}], \"name\": \"04/28/2020\"}, {\"data\": [{\"customdata\": [[116264, 6770]], \"geo\": \"geo\", \"hoverlabel\": {\"namelength\": 0}, \"hovertemplate\": \"Last_Update=04/29/2020<br>size=%{marker.size}<br>Confirmed=%{customdata[0]}<br>Deaths=%{customdata[1]}<br>Lat=%{lat}<br>Long=%{lon}<br>color=%{marker.color}\", \"lat\": [39.833851], \"legendgroup\": \"\", \"locationmode\": \"country names\", \"lon\": [-74.871826], \"marker\": {\"color\": [4.065448995944613], \"coloraxis\": \"coloraxis\", \"size\": [32.08527119062137], \"sizemode\": \"area\", \"sizeref\": 0.08268782637996869}, \"name\": \"\", \"showlegend\": false, \"type\": \"scattergeo\"}], \"name\": \"04/29/2020\"}, {\"data\": [{\"customdata\": [[118652, 7228]], \"geo\": \"geo\", \"hoverlabel\": {\"namelength\": 0}, \"hovertemplate\": \"Last_Update=04/30/2020<br>size=%{marker.size}<br>Confirmed=%{customdata[0]}<br>Deaths=%{customdata[1]}<br>Lat=%{lat}<br>Long=%{lon}<br>color=%{marker.color}\", \"lat\": [39.833851], \"legendgroup\": \"\", \"locationmode\": \"country names\", \"lon\": [-74.871826], \"marker\": {\"color\": [4.074278723311678], \"coloraxis\": \"coloraxis\", \"size\": [32.287686831885715], \"sizemode\": \"area\", \"sizeref\": 0.08268782637996869}, \"name\": \"\", \"showlegend\": false, \"type\": \"scattergeo\"}], \"name\": \"04/30/2020\"}, {\"data\": [{\"customdata\": [[121190, 7538]], \"geo\": \"geo\", \"hoverlabel\": {\"namelength\": 0}, \"hovertemplate\": \"Last_Update=05/01/2020<br>size=%{marker.size}<br>Confirmed=%{customdata[0]}<br>Deaths=%{customdata[1]}<br>Lat=%{lat}<br>Long=%{lon}<br>color=%{marker.color}\", \"lat\": [39.833851], \"legendgroup\": \"\", \"locationmode\": \"country names\", \"lon\": [-74.871826], \"marker\": {\"color\": [4.083470369042582], \"coloraxis\": \"coloraxis\", \"size\": [32.49971487933976], \"sizemode\": \"area\", \"sizeref\": 0.08268782637996869}, \"name\": \"\", \"showlegend\": false, \"type\": \"scattergeo\"}], \"name\": \"05/01/2020\"}, {\"data\": [{\"customdata\": [[128269, 7910]], \"geo\": \"geo\", \"hoverlabel\": {\"namelength\": 0}, \"hovertemplate\": \"Last_Update=05/04/2020<br>size=%{marker.size}<br>Confirmed=%{customdata[0]}<br>Deaths=%{customdata[1]}<br>Lat=%{lat}<br>Long=%{lon}<br>color=%{marker.color}\", \"lat\": [39.833851], \"legendgroup\": \"\", \"locationmode\": \"country names\", \"lon\": [-74.871826], \"marker\": {\"color\": [4.108125094738599], \"coloraxis\": \"coloraxis\", \"size\": [33.07513055198748], \"sizemode\": \"area\", \"sizeref\": 0.08268782637996869}, \"name\": \"\", \"showlegend\": false, \"type\": \"scattergeo\"}], \"name\": \"05/04/2020\"}]);\n",
              "                        }).then(function(){\n",
              "                            \n",
              "var gd = document.getElementById('e13694f2-c4ee-4ace-a495-07c9060bdb12');\n",
              "var x = new MutationObserver(function (mutations, observer) {{\n",
              "        var display = window.getComputedStyle(gd).display;\n",
              "        if (!display || display === 'none') {{\n",
              "            console.log([gd, 'removed!']);\n",
              "            Plotly.purge(gd);\n",
              "            observer.disconnect();\n",
              "        }}\n",
              "}});\n",
              "\n",
              "// Listen for the removal of the full notebook cells\n",
              "var notebookContainer = gd.closest('#notebook-container');\n",
              "if (notebookContainer) {{\n",
              "    x.observe(notebookContainer, {childList: true});\n",
              "}}\n",
              "\n",
              "// Listen for the clearing of the current output cell\n",
              "var outputEl = gd.closest('.output');\n",
              "if (outputEl) {{\n",
              "    x.observe(outputEl, {childList: true});\n",
              "}}\n",
              "\n",
              "                        })\n",
              "                };\n",
              "                });\n",
              "            </script>\n",
              "        </div>"
            ]
          },
          "metadata": {
            "tags": []
          }
        }
      ]
    },
    {
      "cell_type": "code",
      "metadata": {
        "id": "hQsVwWnvrDvH",
        "colab_type": "code",
        "colab": {},
        "outputId": "dfb305b1-3268-4002-ca4d-c3d6f395c980"
      },
      "source": [
        "fig = px.choropleth(df_temp,\n",
        "                    locations=\"Country_Region\",\n",
        "                    locationmode=\"USA-states\",\n",
        "                    #lat='Lat', lon='Long',\n",
        "                    hover_name=\"Country_Region\",\n",
        "                    hover_data=[\"Confirmed\", \"Deaths\"], animation_frame=\"Last_Update\",\n",
        "                    color=np.log10(df_temp[\"Confirmed\"]), \n",
        "                     \n",
        "                    title=\"COVID-19 Progression Animation in New Jersey Over Time\",\n",
        "                    color_continuous_scale=px.colors.sequential.Plasma,\n",
        "                    scope=\"usa\",\n",
        "                   )\n",
        "fig.update(layout_coloraxis_showscale=False)\n",
        "fig.show()\n"
      ],
      "execution_count": 0,
      "outputs": [
        {
          "output_type": "display_data",
          "data": {
            "application/vnd.plotly.v1+json": {
              "config": {
                "plotlyServerURL": "https://plot.ly"
              },
              "data": [
                {
                  "coloraxis": "coloraxis",
                  "customdata": [
                    [
                      11,
                      0
                    ]
                  ],
                  "geo": "geo",
                  "hoverlabel": {
                    "namelength": 0
                  },
                  "hovertemplate": "<b>%{hovertext}</b><br><br>Last_Update=03/09/2020<br>Confirmed=%{customdata[0]}<br>Deaths=%{customdata[1]}<br>Country_Region=%{location}<br>color=%{z}",
                  "hovertext": [
                    "NJ"
                  ],
                  "locationmode": "USA-states",
                  "locations": [
                    "NJ"
                  ],
                  "name": "",
                  "type": "choropleth",
                  "z": [
                    1.0413926851582251
                  ]
                }
              ],
              "frames": [
                {
                  "data": [
                    {
                      "coloraxis": "coloraxis",
                      "customdata": [
                        [
                          11,
                          0
                        ]
                      ],
                      "geo": "geo",
                      "hoverlabel": {
                        "namelength": 0
                      },
                      "hovertemplate": "<b>%{hovertext}</b><br><br>Last_Update=03/09/2020<br>Confirmed=%{customdata[0]}<br>Deaths=%{customdata[1]}<br>Country_Region=%{location}<br>color=%{z}",
                      "hovertext": [
                        "NJ"
                      ],
                      "locationmode": "USA-states",
                      "locations": [
                        "NJ"
                      ],
                      "name": "",
                      "type": "choropleth",
                      "z": [
                        1.0413926851582251
                      ]
                    }
                  ],
                  "name": "03/09/2020"
                },
                {
                  "data": [
                    {
                      "coloraxis": "coloraxis",
                      "customdata": [
                        [
                          15,
                          0
                        ]
                      ],
                      "geo": "geo",
                      "hoverlabel": {
                        "namelength": 0
                      },
                      "hovertemplate": "<b>%{hovertext}</b><br><br>Last_Update=03/10/2020<br>Confirmed=%{customdata[0]}<br>Deaths=%{customdata[1]}<br>Country_Region=%{location}<br>color=%{z}",
                      "hovertext": [
                        "NJ"
                      ],
                      "locationmode": "USA-states",
                      "locations": [
                        "NJ"
                      ],
                      "name": "",
                      "type": "choropleth",
                      "z": [
                        1.1760912590556813
                      ]
                    }
                  ],
                  "name": "03/10/2020"
                },
                {
                  "data": [
                    {
                      "coloraxis": "coloraxis",
                      "customdata": [
                        [
                          24,
                          1
                        ]
                      ],
                      "geo": "geo",
                      "hoverlabel": {
                        "namelength": 0
                      },
                      "hovertemplate": "<b>%{hovertext}</b><br><br>Last_Update=03/11/2020<br>Confirmed=%{customdata[0]}<br>Deaths=%{customdata[1]}<br>Country_Region=%{location}<br>color=%{z}",
                      "hovertext": [
                        "NJ"
                      ],
                      "locationmode": "USA-states",
                      "locations": [
                        "NJ"
                      ],
                      "name": "",
                      "type": "choropleth",
                      "z": [
                        1.380211241711606
                      ]
                    }
                  ],
                  "name": "03/11/2020"
                },
                {
                  "data": [
                    {
                      "coloraxis": "coloraxis",
                      "customdata": [
                        [
                          30,
                          1
                        ]
                      ],
                      "geo": "geo",
                      "hoverlabel": {
                        "namelength": 0
                      },
                      "hovertemplate": "<b>%{hovertext}</b><br><br>Last_Update=03/12/2020<br>Confirmed=%{customdata[0]}<br>Deaths=%{customdata[1]}<br>Country_Region=%{location}<br>color=%{z}",
                      "hovertext": [
                        "NJ"
                      ],
                      "locationmode": "USA-states",
                      "locations": [
                        "NJ"
                      ],
                      "name": "",
                      "type": "choropleth",
                      "z": [
                        1.4771212547196624
                      ]
                    }
                  ],
                  "name": "03/12/2020"
                },
                {
                  "data": [
                    {
                      "coloraxis": "coloraxis",
                      "customdata": [
                        [
                          50,
                          1
                        ]
                      ],
                      "geo": "geo",
                      "hoverlabel": {
                        "namelength": 0
                      },
                      "hovertemplate": "<b>%{hovertext}</b><br><br>Last_Update=03/13/2020<br>Confirmed=%{customdata[0]}<br>Deaths=%{customdata[1]}<br>Country_Region=%{location}<br>color=%{z}",
                      "hovertext": [
                        "NJ"
                      ],
                      "locationmode": "USA-states",
                      "locations": [
                        "NJ"
                      ],
                      "name": "",
                      "type": "choropleth",
                      "z": [
                        1.6989700043360187
                      ]
                    }
                  ],
                  "name": "03/13/2020"
                },
                {
                  "data": [
                    {
                      "coloraxis": "coloraxis",
                      "customdata": [
                        [
                          178,
                          2
                        ]
                      ],
                      "geo": "geo",
                      "hoverlabel": {
                        "namelength": 0
                      },
                      "hovertemplate": "<b>%{hovertext}</b><br><br>Last_Update=03/16/2020<br>Confirmed=%{customdata[0]}<br>Deaths=%{customdata[1]}<br>Country_Region=%{location}<br>color=%{z}",
                      "hovertext": [
                        "NJ"
                      ],
                      "locationmode": "USA-states",
                      "locations": [
                        "NJ"
                      ],
                      "name": "",
                      "type": "choropleth",
                      "z": [
                        2.250420002308894
                      ]
                    }
                  ],
                  "name": "03/16/2020"
                },
                {
                  "data": [
                    {
                      "coloraxis": "coloraxis",
                      "customdata": [
                        [
                          267,
                          3
                        ]
                      ],
                      "geo": "geo",
                      "hoverlabel": {
                        "namelength": 0
                      },
                      "hovertemplate": "<b>%{hovertext}</b><br><br>Last_Update=03/17/2020<br>Confirmed=%{customdata[0]}<br>Deaths=%{customdata[1]}<br>Country_Region=%{location}<br>color=%{z}",
                      "hovertext": [
                        "NJ"
                      ],
                      "locationmode": "USA-states",
                      "locations": [
                        "NJ"
                      ],
                      "name": "",
                      "type": "choropleth",
                      "z": [
                        2.4265112613645754
                      ]
                    }
                  ],
                  "name": "03/17/2020"
                },
                {
                  "data": [
                    {
                      "coloraxis": "coloraxis",
                      "customdata": [
                        [
                          427,
                          5
                        ]
                      ],
                      "geo": "geo",
                      "hoverlabel": {
                        "namelength": 0
                      },
                      "hovertemplate": "<b>%{hovertext}</b><br><br>Last_Update=03/18/2020<br>Confirmed=%{customdata[0]}<br>Deaths=%{customdata[1]}<br>Country_Region=%{location}<br>color=%{z}",
                      "hovertext": [
                        "NJ"
                      ],
                      "locationmode": "USA-states",
                      "locations": [
                        "NJ"
                      ],
                      "name": "",
                      "type": "choropleth",
                      "z": [
                        2.630427875025024
                      ]
                    }
                  ],
                  "name": "03/18/2020"
                },
                {
                  "data": [
                    {
                      "coloraxis": "coloraxis",
                      "customdata": [
                        [
                          742,
                          9
                        ]
                      ],
                      "geo": "geo",
                      "hoverlabel": {
                        "namelength": 0
                      },
                      "hovertemplate": "<b>%{hovertext}</b><br><br>Last_Update=03/19/2020<br>Confirmed=%{customdata[0]}<br>Deaths=%{customdata[1]}<br>Country_Region=%{location}<br>color=%{z}",
                      "hovertext": [
                        "NJ"
                      ],
                      "locationmode": "USA-states",
                      "locations": [
                        "NJ"
                      ],
                      "name": "",
                      "type": "choropleth",
                      "z": [
                        2.870403905279027
                      ]
                    }
                  ],
                  "name": "03/19/2020"
                },
                {
                  "data": [
                    {
                      "coloraxis": "coloraxis",
                      "customdata": [
                        [
                          890,
                          11
                        ]
                      ],
                      "geo": "geo",
                      "hoverlabel": {
                        "namelength": 0
                      },
                      "hovertemplate": "<b>%{hovertext}</b><br><br>Last_Update=03/20/2020<br>Confirmed=%{customdata[0]}<br>Deaths=%{customdata[1]}<br>Country_Region=%{location}<br>color=%{z}",
                      "hovertext": [
                        "NJ"
                      ],
                      "locationmode": "USA-states",
                      "locations": [
                        "NJ"
                      ],
                      "name": "",
                      "type": "choropleth",
                      "z": [
                        2.949390006644913
                      ]
                    }
                  ],
                  "name": "03/20/2020"
                },
                {
                  "data": [
                    {
                      "coloraxis": "coloraxis",
                      "customdata": [
                        [
                          2844,
                          27
                        ]
                      ],
                      "geo": "geo",
                      "hoverlabel": {
                        "namelength": 0
                      },
                      "hovertemplate": "<b>%{hovertext}</b><br><br>Last_Update=03/23/2020<br>Confirmed=%{customdata[0]}<br>Deaths=%{customdata[1]}<br>Country_Region=%{location}<br>color=%{z}",
                      "hovertext": [
                        "NJ"
                      ],
                      "locationmode": "USA-states",
                      "locations": [
                        "NJ"
                      ],
                      "name": "",
                      "type": "choropleth",
                      "z": [
                        3.4539295920577286
                      ]
                    }
                  ],
                  "name": "03/23/2020"
                },
                {
                  "data": [
                    {
                      "coloraxis": "coloraxis",
                      "customdata": [
                        [
                          3675,
                          44
                        ]
                      ],
                      "geo": "geo",
                      "hoverlabel": {
                        "namelength": 0
                      },
                      "hovertemplate": "<b>%{hovertext}</b><br><br>Last_Update=03/24/2020<br>Confirmed=%{customdata[0]}<br>Deaths=%{customdata[1]}<br>Country_Region=%{location}<br>color=%{z}",
                      "hovertext": [
                        "NJ"
                      ],
                      "locationmode": "USA-states",
                      "locations": [
                        "NJ"
                      ],
                      "name": "",
                      "type": "choropleth",
                      "z": [
                        3.5652573434202135
                      ]
                    }
                  ],
                  "name": "03/24/2020"
                },
                {
                  "data": [
                    {
                      "coloraxis": "coloraxis",
                      "customdata": [
                        [
                          4402,
                          62
                        ]
                      ],
                      "geo": "geo",
                      "hoverlabel": {
                        "namelength": 0
                      },
                      "hovertemplate": "<b>%{hovertext}</b><br><br>Last_Update=03/25/2020<br>Confirmed=%{customdata[0]}<br>Deaths=%{customdata[1]}<br>Country_Region=%{location}<br>color=%{z}",
                      "hovertext": [
                        "NJ"
                      ],
                      "locationmode": "USA-states",
                      "locations": [
                        "NJ"
                      ],
                      "name": "",
                      "type": "choropleth",
                      "z": [
                        3.6436500382173294
                      ]
                    }
                  ],
                  "name": "03/25/2020"
                },
                {
                  "data": [
                    {
                      "coloraxis": "coloraxis",
                      "customdata": [
                        [
                          6876,
                          81
                        ]
                      ],
                      "geo": "geo",
                      "hoverlabel": {
                        "namelength": 0
                      },
                      "hovertemplate": "<b>%{hovertext}</b><br><br>Last_Update=03/26/2020<br>Confirmed=%{customdata[0]}<br>Deaths=%{customdata[1]}<br>Country_Region=%{location}<br>color=%{z}",
                      "hovertext": [
                        "NJ"
                      ],
                      "locationmode": "USA-states",
                      "locations": [
                        "NJ"
                      ],
                      "name": "",
                      "type": "choropleth",
                      "z": [
                        3.837335868015015
                      ]
                    }
                  ],
                  "name": "03/26/2020"
                },
                {
                  "data": [
                    {
                      "coloraxis": "coloraxis",
                      "customdata": [
                        [
                          8825,
                          108
                        ]
                      ],
                      "geo": "geo",
                      "hoverlabel": {
                        "namelength": 0
                      },
                      "hovertemplate": "<b>%{hovertext}</b><br><br>Last_Update=03/27/2020<br>Confirmed=%{customdata[0]}<br>Deaths=%{customdata[1]}<br>Country_Region=%{location}<br>color=%{z}",
                      "hovertext": [
                        "NJ"
                      ],
                      "locationmode": "USA-states",
                      "locations": [
                        "NJ"
                      ],
                      "name": "",
                      "type": "choropleth",
                      "z": [
                        3.9457147140598603
                      ]
                    }
                  ],
                  "name": "03/27/2020"
                },
                {
                  "data": [
                    {
                      "coloraxis": "coloraxis",
                      "customdata": [
                        [
                          16636,
                          198
                        ]
                      ],
                      "geo": "geo",
                      "hoverlabel": {
                        "namelength": 0
                      },
                      "hovertemplate": "<b>%{hovertext}</b><br><br>Last_Update=03/30/2020<br>Confirmed=%{customdata[0]}<br>Deaths=%{customdata[1]}<br>Country_Region=%{location}<br>color=%{z}",
                      "hovertext": [
                        "NJ"
                      ],
                      "locationmode": "USA-states",
                      "locations": [
                        "NJ"
                      ],
                      "name": "",
                      "type": "choropleth",
                      "z": [
                        4.221048911692896
                      ]
                    }
                  ],
                  "name": "03/30/2020"
                },
                {
                  "data": [
                    {
                      "coloraxis": "coloraxis",
                      "customdata": [
                        [
                          18696,
                          267
                        ]
                      ],
                      "geo": "geo",
                      "hoverlabel": {
                        "namelength": 0
                      },
                      "hovertemplate": "<b>%{hovertext}</b><br><br>Last_Update=03/31/2020<br>Confirmed=%{customdata[0]}<br>Deaths=%{customdata[1]}<br>Country_Region=%{location}<br>color=%{z}",
                      "hovertext": [
                        "NJ"
                      ],
                      "locationmode": "USA-states",
                      "locations": [
                        "NJ"
                      ],
                      "name": "",
                      "type": "choropleth",
                      "z": [
                        4.271748699384171
                      ]
                    }
                  ],
                  "name": "03/31/2020"
                },
                {
                  "data": [
                    {
                      "coloraxis": "coloraxis",
                      "customdata": [
                        [
                          22255,
                          355
                        ]
                      ],
                      "geo": "geo",
                      "hoverlabel": {
                        "namelength": 0
                      },
                      "hovertemplate": "<b>%{hovertext}</b><br><br>Last_Update=04/01/2020<br>Confirmed=%{customdata[0]}<br>Deaths=%{customdata[1]}<br>Country_Region=%{location}<br>color=%{z}",
                      "hovertext": [
                        "NJ"
                      ],
                      "locationmode": "USA-states",
                      "locations": [
                        "NJ"
                      ],
                      "name": "",
                      "type": "choropleth",
                      "z": [
                        4.347427598618541
                      ]
                    }
                  ],
                  "name": "04/01/2020"
                },
                {
                  "data": [
                    {
                      "coloraxis": "coloraxis",
                      "customdata": [
                        [
                          25590,
                          537
                        ]
                      ],
                      "geo": "geo",
                      "hoverlabel": {
                        "namelength": 0
                      },
                      "hovertemplate": "<b>%{hovertext}</b><br><br>Last_Update=04/02/2020<br>Confirmed=%{customdata[0]}<br>Deaths=%{customdata[1]}<br>Country_Region=%{location}<br>color=%{z}",
                      "hovertext": [
                        "NJ"
                      ],
                      "locationmode": "USA-states",
                      "locations": [
                        "NJ"
                      ],
                      "name": "",
                      "type": "choropleth",
                      "z": [
                        4.408070285887185
                      ]
                    }
                  ],
                  "name": "04/02/2020"
                },
                {
                  "data": [
                    {
                      "coloraxis": "coloraxis",
                      "customdata": [
                        [
                          29895,
                          646
                        ]
                      ],
                      "geo": "geo",
                      "hoverlabel": {
                        "namelength": 0
                      },
                      "hovertemplate": "<b>%{hovertext}</b><br><br>Last_Update=04/03/2020<br>Confirmed=%{customdata[0]}<br>Deaths=%{customdata[1]}<br>Country_Region=%{location}<br>color=%{z}",
                      "hovertext": [
                        "NJ"
                      ],
                      "locationmode": "USA-states",
                      "locations": [
                        "NJ"
                      ],
                      "name": "",
                      "type": "choropleth",
                      "z": [
                        4.475598557756169
                      ]
                    }
                  ],
                  "name": "04/03/2020"
                },
                {
                  "data": [
                    {
                      "coloraxis": "coloraxis",
                      "customdata": [
                        [
                          41090,
                          1003
                        ]
                      ],
                      "geo": "geo",
                      "hoverlabel": {
                        "namelength": 0
                      },
                      "hovertemplate": "<b>%{hovertext}</b><br><br>Last_Update=04/06/2020<br>Confirmed=%{customdata[0]}<br>Deaths=%{customdata[1]}<br>Country_Region=%{location}<br>color=%{z}",
                      "hovertext": [
                        "NJ"
                      ],
                      "locationmode": "USA-states",
                      "locations": [
                        "NJ"
                      ],
                      "name": "",
                      "type": "choropleth",
                      "z": [
                        4.613736141261871
                      ]
                    }
                  ],
                  "name": "04/06/2020"
                },
                {
                  "data": [
                    {
                      "coloraxis": "coloraxis",
                      "customdata": [
                        [
                          44416,
                          1232
                        ]
                      ],
                      "geo": "geo",
                      "hoverlabel": {
                        "namelength": 0
                      },
                      "hovertemplate": "<b>%{hovertext}</b><br><br>Last_Update=04/07/2020<br>Confirmed=%{customdata[0]}<br>Deaths=%{customdata[1]}<br>Country_Region=%{location}<br>color=%{z}",
                      "hovertext": [
                        "NJ"
                      ],
                      "locationmode": "USA-states",
                      "locations": [
                        "NJ"
                      ],
                      "name": "",
                      "type": "choropleth",
                      "z": [
                        4.647539444438742
                      ]
                    }
                  ],
                  "name": "04/07/2020"
                },
                {
                  "data": [
                    {
                      "coloraxis": "coloraxis",
                      "customdata": [
                        [
                          47437,
                          1504
                        ]
                      ],
                      "geo": "geo",
                      "hoverlabel": {
                        "namelength": 0
                      },
                      "hovertemplate": "<b>%{hovertext}</b><br><br>Last_Update=04/08/2020<br>Confirmed=%{customdata[0]}<br>Deaths=%{customdata[1]}<br>Country_Region=%{location}<br>color=%{z}",
                      "hovertext": [
                        "NJ"
                      ],
                      "locationmode": "USA-states",
                      "locations": [
                        "NJ"
                      ],
                      "name": "",
                      "type": "choropleth",
                      "z": [
                        4.676117215671485
                      ]
                    }
                  ],
                  "name": "04/08/2020"
                },
                {
                  "data": [
                    {
                      "coloraxis": "coloraxis",
                      "customdata": [
                        [
                          51027,
                          1700
                        ]
                      ],
                      "geo": "geo",
                      "hoverlabel": {
                        "namelength": 0
                      },
                      "hovertemplate": "<b>%{hovertext}</b><br><br>Last_Update=04/09/2020<br>Confirmed=%{customdata[0]}<br>Deaths=%{customdata[1]}<br>Country_Region=%{location}<br>color=%{z}",
                      "hovertext": [
                        "NJ"
                      ],
                      "locationmode": "USA-states",
                      "locations": [
                        "NJ"
                      ],
                      "name": "",
                      "type": "choropleth",
                      "z": [
                        4.707800035866137
                      ]
                    }
                  ],
                  "name": "04/09/2020"
                },
                {
                  "data": [
                    {
                      "coloraxis": "coloraxis",
                      "customdata": [
                        [
                          64584,
                          2443
                        ]
                      ],
                      "geo": "geo",
                      "hoverlabel": {
                        "namelength": 0
                      },
                      "hovertemplate": "<b>%{hovertext}</b><br><br>Last_Update=04/13/2020<br>Confirmed=%{customdata[0]}<br>Deaths=%{customdata[1]}<br>Country_Region=%{location}<br>color=%{z}",
                      "hovertext": [
                        "NJ"
                      ],
                      "locationmode": "USA-states",
                      "locations": [
                        "NJ"
                      ],
                      "name": "",
                      "type": "choropleth",
                      "z": [
                        4.810124939475361
                      ]
                    }
                  ],
                  "name": "04/13/2020"
                },
                {
                  "data": [
                    {
                      "coloraxis": "coloraxis",
                      "customdata": [
                        [
                          68824,
                          2805
                        ]
                      ],
                      "geo": "geo",
                      "hoverlabel": {
                        "namelength": 0
                      },
                      "hovertemplate": "<b>%{hovertext}</b><br><br>Last_Update=04/14/2020<br>Confirmed=%{customdata[0]}<br>Deaths=%{customdata[1]}<br>Country_Region=%{location}<br>color=%{z}",
                      "hovertext": [
                        "NJ"
                      ],
                      "locationmode": "USA-states",
                      "locations": [
                        "NJ"
                      ],
                      "name": "",
                      "type": "choropleth",
                      "z": [
                        4.837739909892655
                      ]
                    }
                  ],
                  "name": "04/14/2020"
                },
                {
                  "data": [
                    {
                      "coloraxis": "coloraxis",
                      "customdata": [
                        [
                          71030,
                          3156
                        ]
                      ],
                      "geo": "geo",
                      "hoverlabel": {
                        "namelength": 0
                      },
                      "hovertemplate": "<b>%{hovertext}</b><br><br>Last_Update=04/15/2020<br>Confirmed=%{customdata[0]}<br>Deaths=%{customdata[1]}<br>Country_Region=%{location}<br>color=%{z}",
                      "hovertext": [
                        "NJ"
                      ],
                      "locationmode": "USA-states",
                      "locations": [
                        "NJ"
                      ],
                      "name": "",
                      "type": "choropleth",
                      "z": [
                        4.8514418146720555
                      ]
                    }
                  ],
                  "name": "04/15/2020"
                },
                {
                  "data": [
                    {
                      "coloraxis": "coloraxis",
                      "customdata": [
                        [
                          75317,
                          3518
                        ]
                      ],
                      "geo": "geo",
                      "hoverlabel": {
                        "namelength": 0
                      },
                      "hovertemplate": "<b>%{hovertext}</b><br><br>Last_Update=04/16/2020<br>Confirmed=%{customdata[0]}<br>Deaths=%{customdata[1]}<br>Country_Region=%{location}<br>color=%{z}",
                      "hovertext": [
                        "NJ"
                      ],
                      "locationmode": "USA-states",
                      "locations": [
                        "NJ"
                      ],
                      "name": "",
                      "type": "choropleth",
                      "z": [
                        4.876893013025544
                      ]
                    }
                  ],
                  "name": "04/16/2020"
                },
                {
                  "data": [
                    {
                      "coloraxis": "coloraxis",
                      "customdata": [
                        [
                          78467,
                          3840
                        ]
                      ],
                      "geo": "geo",
                      "hoverlabel": {
                        "namelength": 0
                      },
                      "hovertemplate": "<b>%{hovertext}</b><br><br>Last_Update=04/17/2020<br>Confirmed=%{customdata[0]}<br>Deaths=%{customdata[1]}<br>Country_Region=%{location}<br>color=%{z}",
                      "hovertext": [
                        "NJ"
                      ],
                      "locationmode": "USA-states",
                      "locations": [
                        "NJ"
                      ],
                      "name": "",
                      "type": "choropleth",
                      "z": [
                        4.894687048705168
                      ]
                    }
                  ],
                  "name": "04/17/2020"
                },
                {
                  "data": [
                    {
                      "coloraxis": "coloraxis",
                      "customdata": [
                        [
                          88806,
                          4377
                        ]
                      ],
                      "geo": "geo",
                      "hoverlabel": {
                        "namelength": 0
                      },
                      "hovertemplate": "<b>%{hovertext}</b><br><br>Last_Update=04/20/2020<br>Confirmed=%{customdata[0]}<br>Deaths=%{customdata[1]}<br>Country_Region=%{location}<br>color=%{z}",
                      "hovertext": [
                        "NJ"
                      ],
                      "locationmode": "USA-states",
                      "locations": [
                        "NJ"
                      ],
                      "name": "",
                      "type": "choropleth",
                      "z": [
                        4.948442309009037
                      ]
                    }
                  ],
                  "name": "04/20/2020"
                },
                {
                  "data": [
                    {
                      "coloraxis": "coloraxis",
                      "customdata": [
                        [
                          92387,
                          4753
                        ]
                      ],
                      "geo": "geo",
                      "hoverlabel": {
                        "namelength": 0
                      },
                      "hovertemplate": "<b>%{hovertext}</b><br><br>Last_Update=04/21/2020<br>Confirmed=%{customdata[0]}<br>Deaths=%{customdata[1]}<br>Country_Region=%{location}<br>color=%{z}",
                      "hovertext": [
                        "NJ"
                      ],
                      "locationmode": "USA-states",
                      "locations": [
                        "NJ"
                      ],
                      "name": "",
                      "type": "choropleth",
                      "z": [
                        4.965610864883903
                      ]
                    }
                  ],
                  "name": "04/21/2020"
                },
                {
                  "data": [
                    {
                      "coloraxis": "coloraxis",
                      "customdata": [
                        [
                          95865,
                          5063
                        ]
                      ],
                      "geo": "geo",
                      "hoverlabel": {
                        "namelength": 0
                      },
                      "hovertemplate": "<b>%{hovertext}</b><br><br>Last_Update=04/22/2020<br>Confirmed=%{customdata[0]}<br>Deaths=%{customdata[1]}<br>Country_Region=%{location}<br>color=%{z}",
                      "hovertext": [
                        "NJ"
                      ],
                      "locationmode": "USA-states",
                      "locations": [
                        "NJ"
                      ],
                      "name": "",
                      "type": "choropleth",
                      "z": [
                        4.981660076604237
                      ]
                    }
                  ],
                  "name": "04/22/2020"
                },
                {
                  "data": [
                    {
                      "coloraxis": "coloraxis",
                      "customdata": [
                        [
                          99989,
                          5368
                        ]
                      ],
                      "geo": "geo",
                      "hoverlabel": {
                        "namelength": 0
                      },
                      "hovertemplate": "<b>%{hovertext}</b><br><br>Last_Update=04/23/2020<br>Confirmed=%{customdata[0]}<br>Deaths=%{customdata[1]}<br>Country_Region=%{location}<br>color=%{z}",
                      "hovertext": [
                        "NJ"
                      ],
                      "locationmode": "USA-states",
                      "locations": [
                        "NJ"
                      ],
                      "name": "",
                      "type": "choropleth",
                      "z": [
                        4.9999522249793165
                      ]
                    }
                  ],
                  "name": "04/23/2020"
                },
                {
                  "data": [
                    {
                      "coloraxis": "coloraxis",
                      "customdata": [
                        [
                          102196,
                          5617
                        ]
                      ],
                      "geo": "geo",
                      "hoverlabel": {
                        "namelength": 0
                      },
                      "hovertemplate": "<b>%{hovertext}</b><br><br>Last_Update=04/24/2020<br>Confirmed=%{customdata[0]}<br>Deaths=%{customdata[1]}<br>Country_Region=%{location}<br>color=%{z}",
                      "hovertext": [
                        "NJ"
                      ],
                      "locationmode": "USA-states",
                      "locations": [
                        "NJ"
                      ],
                      "name": "",
                      "type": "choropleth",
                      "z": [
                        5.009433897638966
                      ]
                    }
                  ],
                  "name": "04/24/2020"
                },
                {
                  "data": [
                    {
                      "coloraxis": "coloraxis",
                      "customdata": [
                        [
                          111188,
                          6044
                        ]
                      ],
                      "geo": "geo",
                      "hoverlabel": {
                        "namelength": 0
                      },
                      "hovertemplate": "<b>%{hovertext}</b><br><br>Last_Update=04/27/2020<br>Confirmed=%{customdata[0]}<br>Deaths=%{customdata[1]}<br>Country_Region=%{location}<br>color=%{z}",
                      "hovertext": [
                        "NJ"
                      ],
                      "locationmode": "USA-states",
                      "locations": [
                        "NJ"
                      ],
                      "name": "",
                      "type": "choropleth",
                      "z": [
                        5.0460579184061025
                      ]
                    }
                  ],
                  "name": "04/27/2020"
                },
                {
                  "data": [
                    {
                      "coloraxis": "coloraxis",
                      "customdata": [
                        [
                          113856,
                          6442
                        ]
                      ],
                      "geo": "geo",
                      "hoverlabel": {
                        "namelength": 0
                      },
                      "hovertemplate": "<b>%{hovertext}</b><br><br>Last_Update=04/28/2020<br>Confirmed=%{customdata[0]}<br>Deaths=%{customdata[1]}<br>Country_Region=%{location}<br>color=%{z}",
                      "hovertext": [
                        "NJ"
                      ],
                      "locationmode": "USA-states",
                      "locations": [
                        "NJ"
                      ],
                      "name": "",
                      "type": "choropleth",
                      "z": [
                        5.056355922067812
                      ]
                    }
                  ],
                  "name": "04/28/2020"
                },
                {
                  "data": [
                    {
                      "coloraxis": "coloraxis",
                      "customdata": [
                        [
                          116264,
                          6770
                        ]
                      ],
                      "geo": "geo",
                      "hoverlabel": {
                        "namelength": 0
                      },
                      "hovertemplate": "<b>%{hovertext}</b><br><br>Last_Update=04/29/2020<br>Confirmed=%{customdata[0]}<br>Deaths=%{customdata[1]}<br>Country_Region=%{location}<br>color=%{z}",
                      "hovertext": [
                        "NJ"
                      ],
                      "locationmode": "USA-states",
                      "locations": [
                        "NJ"
                      ],
                      "name": "",
                      "type": "choropleth",
                      "z": [
                        5.065445260544022
                      ]
                    }
                  ],
                  "name": "04/29/2020"
                },
                {
                  "data": [
                    {
                      "coloraxis": "coloraxis",
                      "customdata": [
                        [
                          118652,
                          7228
                        ]
                      ],
                      "geo": "geo",
                      "hoverlabel": {
                        "namelength": 0
                      },
                      "hovertemplate": "<b>%{hovertext}</b><br><br>Last_Update=04/30/2020<br>Confirmed=%{customdata[0]}<br>Deaths=%{customdata[1]}<br>Country_Region=%{location}<br>color=%{z}",
                      "hovertext": [
                        "NJ"
                      ],
                      "locationmode": "USA-states",
                      "locations": [
                        "NJ"
                      ],
                      "name": "",
                      "type": "choropleth",
                      "z": [
                        5.074275063089753
                      ]
                    }
                  ],
                  "name": "04/30/2020"
                },
                {
                  "data": [
                    {
                      "coloraxis": "coloraxis",
                      "customdata": [
                        [
                          121190,
                          7538
                        ]
                      ],
                      "geo": "geo",
                      "hoverlabel": {
                        "namelength": 0
                      },
                      "hovertemplate": "<b>%{hovertext}</b><br><br>Last_Update=05/01/2020<br>Confirmed=%{customdata[0]}<br>Deaths=%{customdata[1]}<br>Country_Region=%{location}<br>color=%{z}",
                      "hovertext": [
                        "NJ"
                      ],
                      "locationmode": "USA-states",
                      "locations": [
                        "NJ"
                      ],
                      "name": "",
                      "type": "choropleth",
                      "z": [
                        5.083466785473887
                      ]
                    }
                  ],
                  "name": "05/01/2020"
                },
                {
                  "data": [
                    {
                      "coloraxis": "coloraxis",
                      "customdata": [
                        [
                          128269,
                          7910
                        ]
                      ],
                      "geo": "geo",
                      "hoverlabel": {
                        "namelength": 0
                      },
                      "hovertemplate": "<b>%{hovertext}</b><br><br>Last_Update=05/04/2020<br>Confirmed=%{customdata[0]}<br>Deaths=%{customdata[1]}<br>Country_Region=%{location}<br>color=%{z}",
                      "hovertext": [
                        "NJ"
                      ],
                      "locationmode": "USA-states",
                      "locations": [
                        "NJ"
                      ],
                      "name": "",
                      "type": "choropleth",
                      "z": [
                        5.108121708941649
                      ]
                    }
                  ],
                  "name": "05/04/2020"
                }
              ],
              "layout": {
                "coloraxis": {
                  "colorbar": {
                    "title": {
                      "text": "color"
                    }
                  },
                  "colorscale": [
                    [
                      0,
                      "#0d0887"
                    ],
                    [
                      0.1111111111111111,
                      "#46039f"
                    ],
                    [
                      0.2222222222222222,
                      "#7201a8"
                    ],
                    [
                      0.3333333333333333,
                      "#9c179e"
                    ],
                    [
                      0.4444444444444444,
                      "#bd3786"
                    ],
                    [
                      0.5555555555555556,
                      "#d8576b"
                    ],
                    [
                      0.6666666666666666,
                      "#ed7953"
                    ],
                    [
                      0.7777777777777778,
                      "#fb9f3a"
                    ],
                    [
                      0.8888888888888888,
                      "#fdca26"
                    ],
                    [
                      1,
                      "#f0f921"
                    ]
                  ],
                  "showscale": false
                },
                "geo": {
                  "center": {},
                  "domain": {
                    "x": [
                      0,
                      0.98
                    ],
                    "y": [
                      0,
                      1
                    ]
                  },
                  "scope": "usa"
                },
                "height": 600,
                "legend": {
                  "tracegroupgap": 0
                },
                "sliders": [
                  {
                    "active": 0,
                    "currentvalue": {
                      "prefix": "Last_Update="
                    },
                    "len": 0.9,
                    "pad": {
                      "b": 10,
                      "t": 60
                    },
                    "steps": [
                      {
                        "args": [
                          [
                            "03/09/2020"
                          ],
                          {
                            "frame": {
                              "duration": 0,
                              "redraw": true
                            },
                            "fromcurrent": true,
                            "mode": "immediate",
                            "transition": {
                              "duration": 0,
                              "easing": "linear"
                            }
                          }
                        ],
                        "label": "03/09/2020",
                        "method": "animate"
                      },
                      {
                        "args": [
                          [
                            "03/10/2020"
                          ],
                          {
                            "frame": {
                              "duration": 0,
                              "redraw": true
                            },
                            "fromcurrent": true,
                            "mode": "immediate",
                            "transition": {
                              "duration": 0,
                              "easing": "linear"
                            }
                          }
                        ],
                        "label": "03/10/2020",
                        "method": "animate"
                      },
                      {
                        "args": [
                          [
                            "03/11/2020"
                          ],
                          {
                            "frame": {
                              "duration": 0,
                              "redraw": true
                            },
                            "fromcurrent": true,
                            "mode": "immediate",
                            "transition": {
                              "duration": 0,
                              "easing": "linear"
                            }
                          }
                        ],
                        "label": "03/11/2020",
                        "method": "animate"
                      },
                      {
                        "args": [
                          [
                            "03/12/2020"
                          ],
                          {
                            "frame": {
                              "duration": 0,
                              "redraw": true
                            },
                            "fromcurrent": true,
                            "mode": "immediate",
                            "transition": {
                              "duration": 0,
                              "easing": "linear"
                            }
                          }
                        ],
                        "label": "03/12/2020",
                        "method": "animate"
                      },
                      {
                        "args": [
                          [
                            "03/13/2020"
                          ],
                          {
                            "frame": {
                              "duration": 0,
                              "redraw": true
                            },
                            "fromcurrent": true,
                            "mode": "immediate",
                            "transition": {
                              "duration": 0,
                              "easing": "linear"
                            }
                          }
                        ],
                        "label": "03/13/2020",
                        "method": "animate"
                      },
                      {
                        "args": [
                          [
                            "03/16/2020"
                          ],
                          {
                            "frame": {
                              "duration": 0,
                              "redraw": true
                            },
                            "fromcurrent": true,
                            "mode": "immediate",
                            "transition": {
                              "duration": 0,
                              "easing": "linear"
                            }
                          }
                        ],
                        "label": "03/16/2020",
                        "method": "animate"
                      },
                      {
                        "args": [
                          [
                            "03/17/2020"
                          ],
                          {
                            "frame": {
                              "duration": 0,
                              "redraw": true
                            },
                            "fromcurrent": true,
                            "mode": "immediate",
                            "transition": {
                              "duration": 0,
                              "easing": "linear"
                            }
                          }
                        ],
                        "label": "03/17/2020",
                        "method": "animate"
                      },
                      {
                        "args": [
                          [
                            "03/18/2020"
                          ],
                          {
                            "frame": {
                              "duration": 0,
                              "redraw": true
                            },
                            "fromcurrent": true,
                            "mode": "immediate",
                            "transition": {
                              "duration": 0,
                              "easing": "linear"
                            }
                          }
                        ],
                        "label": "03/18/2020",
                        "method": "animate"
                      },
                      {
                        "args": [
                          [
                            "03/19/2020"
                          ],
                          {
                            "frame": {
                              "duration": 0,
                              "redraw": true
                            },
                            "fromcurrent": true,
                            "mode": "immediate",
                            "transition": {
                              "duration": 0,
                              "easing": "linear"
                            }
                          }
                        ],
                        "label": "03/19/2020",
                        "method": "animate"
                      },
                      {
                        "args": [
                          [
                            "03/20/2020"
                          ],
                          {
                            "frame": {
                              "duration": 0,
                              "redraw": true
                            },
                            "fromcurrent": true,
                            "mode": "immediate",
                            "transition": {
                              "duration": 0,
                              "easing": "linear"
                            }
                          }
                        ],
                        "label": "03/20/2020",
                        "method": "animate"
                      },
                      {
                        "args": [
                          [
                            "03/23/2020"
                          ],
                          {
                            "frame": {
                              "duration": 0,
                              "redraw": true
                            },
                            "fromcurrent": true,
                            "mode": "immediate",
                            "transition": {
                              "duration": 0,
                              "easing": "linear"
                            }
                          }
                        ],
                        "label": "03/23/2020",
                        "method": "animate"
                      },
                      {
                        "args": [
                          [
                            "03/24/2020"
                          ],
                          {
                            "frame": {
                              "duration": 0,
                              "redraw": true
                            },
                            "fromcurrent": true,
                            "mode": "immediate",
                            "transition": {
                              "duration": 0,
                              "easing": "linear"
                            }
                          }
                        ],
                        "label": "03/24/2020",
                        "method": "animate"
                      },
                      {
                        "args": [
                          [
                            "03/25/2020"
                          ],
                          {
                            "frame": {
                              "duration": 0,
                              "redraw": true
                            },
                            "fromcurrent": true,
                            "mode": "immediate",
                            "transition": {
                              "duration": 0,
                              "easing": "linear"
                            }
                          }
                        ],
                        "label": "03/25/2020",
                        "method": "animate"
                      },
                      {
                        "args": [
                          [
                            "03/26/2020"
                          ],
                          {
                            "frame": {
                              "duration": 0,
                              "redraw": true
                            },
                            "fromcurrent": true,
                            "mode": "immediate",
                            "transition": {
                              "duration": 0,
                              "easing": "linear"
                            }
                          }
                        ],
                        "label": "03/26/2020",
                        "method": "animate"
                      },
                      {
                        "args": [
                          [
                            "03/27/2020"
                          ],
                          {
                            "frame": {
                              "duration": 0,
                              "redraw": true
                            },
                            "fromcurrent": true,
                            "mode": "immediate",
                            "transition": {
                              "duration": 0,
                              "easing": "linear"
                            }
                          }
                        ],
                        "label": "03/27/2020",
                        "method": "animate"
                      },
                      {
                        "args": [
                          [
                            "03/30/2020"
                          ],
                          {
                            "frame": {
                              "duration": 0,
                              "redraw": true
                            },
                            "fromcurrent": true,
                            "mode": "immediate",
                            "transition": {
                              "duration": 0,
                              "easing": "linear"
                            }
                          }
                        ],
                        "label": "03/30/2020",
                        "method": "animate"
                      },
                      {
                        "args": [
                          [
                            "03/31/2020"
                          ],
                          {
                            "frame": {
                              "duration": 0,
                              "redraw": true
                            },
                            "fromcurrent": true,
                            "mode": "immediate",
                            "transition": {
                              "duration": 0,
                              "easing": "linear"
                            }
                          }
                        ],
                        "label": "03/31/2020",
                        "method": "animate"
                      },
                      {
                        "args": [
                          [
                            "04/01/2020"
                          ],
                          {
                            "frame": {
                              "duration": 0,
                              "redraw": true
                            },
                            "fromcurrent": true,
                            "mode": "immediate",
                            "transition": {
                              "duration": 0,
                              "easing": "linear"
                            }
                          }
                        ],
                        "label": "04/01/2020",
                        "method": "animate"
                      },
                      {
                        "args": [
                          [
                            "04/02/2020"
                          ],
                          {
                            "frame": {
                              "duration": 0,
                              "redraw": true
                            },
                            "fromcurrent": true,
                            "mode": "immediate",
                            "transition": {
                              "duration": 0,
                              "easing": "linear"
                            }
                          }
                        ],
                        "label": "04/02/2020",
                        "method": "animate"
                      },
                      {
                        "args": [
                          [
                            "04/03/2020"
                          ],
                          {
                            "frame": {
                              "duration": 0,
                              "redraw": true
                            },
                            "fromcurrent": true,
                            "mode": "immediate",
                            "transition": {
                              "duration": 0,
                              "easing": "linear"
                            }
                          }
                        ],
                        "label": "04/03/2020",
                        "method": "animate"
                      },
                      {
                        "args": [
                          [
                            "04/06/2020"
                          ],
                          {
                            "frame": {
                              "duration": 0,
                              "redraw": true
                            },
                            "fromcurrent": true,
                            "mode": "immediate",
                            "transition": {
                              "duration": 0,
                              "easing": "linear"
                            }
                          }
                        ],
                        "label": "04/06/2020",
                        "method": "animate"
                      },
                      {
                        "args": [
                          [
                            "04/07/2020"
                          ],
                          {
                            "frame": {
                              "duration": 0,
                              "redraw": true
                            },
                            "fromcurrent": true,
                            "mode": "immediate",
                            "transition": {
                              "duration": 0,
                              "easing": "linear"
                            }
                          }
                        ],
                        "label": "04/07/2020",
                        "method": "animate"
                      },
                      {
                        "args": [
                          [
                            "04/08/2020"
                          ],
                          {
                            "frame": {
                              "duration": 0,
                              "redraw": true
                            },
                            "fromcurrent": true,
                            "mode": "immediate",
                            "transition": {
                              "duration": 0,
                              "easing": "linear"
                            }
                          }
                        ],
                        "label": "04/08/2020",
                        "method": "animate"
                      },
                      {
                        "args": [
                          [
                            "04/09/2020"
                          ],
                          {
                            "frame": {
                              "duration": 0,
                              "redraw": true
                            },
                            "fromcurrent": true,
                            "mode": "immediate",
                            "transition": {
                              "duration": 0,
                              "easing": "linear"
                            }
                          }
                        ],
                        "label": "04/09/2020",
                        "method": "animate"
                      },
                      {
                        "args": [
                          [
                            "04/13/2020"
                          ],
                          {
                            "frame": {
                              "duration": 0,
                              "redraw": true
                            },
                            "fromcurrent": true,
                            "mode": "immediate",
                            "transition": {
                              "duration": 0,
                              "easing": "linear"
                            }
                          }
                        ],
                        "label": "04/13/2020",
                        "method": "animate"
                      },
                      {
                        "args": [
                          [
                            "04/14/2020"
                          ],
                          {
                            "frame": {
                              "duration": 0,
                              "redraw": true
                            },
                            "fromcurrent": true,
                            "mode": "immediate",
                            "transition": {
                              "duration": 0,
                              "easing": "linear"
                            }
                          }
                        ],
                        "label": "04/14/2020",
                        "method": "animate"
                      },
                      {
                        "args": [
                          [
                            "04/15/2020"
                          ],
                          {
                            "frame": {
                              "duration": 0,
                              "redraw": true
                            },
                            "fromcurrent": true,
                            "mode": "immediate",
                            "transition": {
                              "duration": 0,
                              "easing": "linear"
                            }
                          }
                        ],
                        "label": "04/15/2020",
                        "method": "animate"
                      },
                      {
                        "args": [
                          [
                            "04/16/2020"
                          ],
                          {
                            "frame": {
                              "duration": 0,
                              "redraw": true
                            },
                            "fromcurrent": true,
                            "mode": "immediate",
                            "transition": {
                              "duration": 0,
                              "easing": "linear"
                            }
                          }
                        ],
                        "label": "04/16/2020",
                        "method": "animate"
                      },
                      {
                        "args": [
                          [
                            "04/17/2020"
                          ],
                          {
                            "frame": {
                              "duration": 0,
                              "redraw": true
                            },
                            "fromcurrent": true,
                            "mode": "immediate",
                            "transition": {
                              "duration": 0,
                              "easing": "linear"
                            }
                          }
                        ],
                        "label": "04/17/2020",
                        "method": "animate"
                      },
                      {
                        "args": [
                          [
                            "04/20/2020"
                          ],
                          {
                            "frame": {
                              "duration": 0,
                              "redraw": true
                            },
                            "fromcurrent": true,
                            "mode": "immediate",
                            "transition": {
                              "duration": 0,
                              "easing": "linear"
                            }
                          }
                        ],
                        "label": "04/20/2020",
                        "method": "animate"
                      },
                      {
                        "args": [
                          [
                            "04/21/2020"
                          ],
                          {
                            "frame": {
                              "duration": 0,
                              "redraw": true
                            },
                            "fromcurrent": true,
                            "mode": "immediate",
                            "transition": {
                              "duration": 0,
                              "easing": "linear"
                            }
                          }
                        ],
                        "label": "04/21/2020",
                        "method": "animate"
                      },
                      {
                        "args": [
                          [
                            "04/22/2020"
                          ],
                          {
                            "frame": {
                              "duration": 0,
                              "redraw": true
                            },
                            "fromcurrent": true,
                            "mode": "immediate",
                            "transition": {
                              "duration": 0,
                              "easing": "linear"
                            }
                          }
                        ],
                        "label": "04/22/2020",
                        "method": "animate"
                      },
                      {
                        "args": [
                          [
                            "04/23/2020"
                          ],
                          {
                            "frame": {
                              "duration": 0,
                              "redraw": true
                            },
                            "fromcurrent": true,
                            "mode": "immediate",
                            "transition": {
                              "duration": 0,
                              "easing": "linear"
                            }
                          }
                        ],
                        "label": "04/23/2020",
                        "method": "animate"
                      },
                      {
                        "args": [
                          [
                            "04/24/2020"
                          ],
                          {
                            "frame": {
                              "duration": 0,
                              "redraw": true
                            },
                            "fromcurrent": true,
                            "mode": "immediate",
                            "transition": {
                              "duration": 0,
                              "easing": "linear"
                            }
                          }
                        ],
                        "label": "04/24/2020",
                        "method": "animate"
                      },
                      {
                        "args": [
                          [
                            "04/27/2020"
                          ],
                          {
                            "frame": {
                              "duration": 0,
                              "redraw": true
                            },
                            "fromcurrent": true,
                            "mode": "immediate",
                            "transition": {
                              "duration": 0,
                              "easing": "linear"
                            }
                          }
                        ],
                        "label": "04/27/2020",
                        "method": "animate"
                      },
                      {
                        "args": [
                          [
                            "04/28/2020"
                          ],
                          {
                            "frame": {
                              "duration": 0,
                              "redraw": true
                            },
                            "fromcurrent": true,
                            "mode": "immediate",
                            "transition": {
                              "duration": 0,
                              "easing": "linear"
                            }
                          }
                        ],
                        "label": "04/28/2020",
                        "method": "animate"
                      },
                      {
                        "args": [
                          [
                            "04/29/2020"
                          ],
                          {
                            "frame": {
                              "duration": 0,
                              "redraw": true
                            },
                            "fromcurrent": true,
                            "mode": "immediate",
                            "transition": {
                              "duration": 0,
                              "easing": "linear"
                            }
                          }
                        ],
                        "label": "04/29/2020",
                        "method": "animate"
                      },
                      {
                        "args": [
                          [
                            "04/30/2020"
                          ],
                          {
                            "frame": {
                              "duration": 0,
                              "redraw": true
                            },
                            "fromcurrent": true,
                            "mode": "immediate",
                            "transition": {
                              "duration": 0,
                              "easing": "linear"
                            }
                          }
                        ],
                        "label": "04/30/2020",
                        "method": "animate"
                      },
                      {
                        "args": [
                          [
                            "05/01/2020"
                          ],
                          {
                            "frame": {
                              "duration": 0,
                              "redraw": true
                            },
                            "fromcurrent": true,
                            "mode": "immediate",
                            "transition": {
                              "duration": 0,
                              "easing": "linear"
                            }
                          }
                        ],
                        "label": "05/01/2020",
                        "method": "animate"
                      },
                      {
                        "args": [
                          [
                            "05/04/2020"
                          ],
                          {
                            "frame": {
                              "duration": 0,
                              "redraw": true
                            },
                            "fromcurrent": true,
                            "mode": "immediate",
                            "transition": {
                              "duration": 0,
                              "easing": "linear"
                            }
                          }
                        ],
                        "label": "05/04/2020",
                        "method": "animate"
                      }
                    ],
                    "x": 0.1,
                    "xanchor": "left",
                    "y": 0,
                    "yanchor": "top"
                  }
                ],
                "template": {
                  "data": {
                    "bar": [
                      {
                        "error_x": {
                          "color": "#2a3f5f"
                        },
                        "error_y": {
                          "color": "#2a3f5f"
                        },
                        "marker": {
                          "line": {
                            "color": "#E5ECF6",
                            "width": 0.5
                          }
                        },
                        "type": "bar"
                      }
                    ],
                    "barpolar": [
                      {
                        "marker": {
                          "line": {
                            "color": "#E5ECF6",
                            "width": 0.5
                          }
                        },
                        "type": "barpolar"
                      }
                    ],
                    "carpet": [
                      {
                        "aaxis": {
                          "endlinecolor": "#2a3f5f",
                          "gridcolor": "white",
                          "linecolor": "white",
                          "minorgridcolor": "white",
                          "startlinecolor": "#2a3f5f"
                        },
                        "baxis": {
                          "endlinecolor": "#2a3f5f",
                          "gridcolor": "white",
                          "linecolor": "white",
                          "minorgridcolor": "white",
                          "startlinecolor": "#2a3f5f"
                        },
                        "type": "carpet"
                      }
                    ],
                    "choropleth": [
                      {
                        "colorbar": {
                          "outlinewidth": 0,
                          "ticks": ""
                        },
                        "type": "choropleth"
                      }
                    ],
                    "contour": [
                      {
                        "colorbar": {
                          "outlinewidth": 0,
                          "ticks": ""
                        },
                        "colorscale": [
                          [
                            0,
                            "#0d0887"
                          ],
                          [
                            0.1111111111111111,
                            "#46039f"
                          ],
                          [
                            0.2222222222222222,
                            "#7201a8"
                          ],
                          [
                            0.3333333333333333,
                            "#9c179e"
                          ],
                          [
                            0.4444444444444444,
                            "#bd3786"
                          ],
                          [
                            0.5555555555555556,
                            "#d8576b"
                          ],
                          [
                            0.6666666666666666,
                            "#ed7953"
                          ],
                          [
                            0.7777777777777778,
                            "#fb9f3a"
                          ],
                          [
                            0.8888888888888888,
                            "#fdca26"
                          ],
                          [
                            1,
                            "#f0f921"
                          ]
                        ],
                        "type": "contour"
                      }
                    ],
                    "contourcarpet": [
                      {
                        "colorbar": {
                          "outlinewidth": 0,
                          "ticks": ""
                        },
                        "type": "contourcarpet"
                      }
                    ],
                    "heatmap": [
                      {
                        "colorbar": {
                          "outlinewidth": 0,
                          "ticks": ""
                        },
                        "colorscale": [
                          [
                            0,
                            "#0d0887"
                          ],
                          [
                            0.1111111111111111,
                            "#46039f"
                          ],
                          [
                            0.2222222222222222,
                            "#7201a8"
                          ],
                          [
                            0.3333333333333333,
                            "#9c179e"
                          ],
                          [
                            0.4444444444444444,
                            "#bd3786"
                          ],
                          [
                            0.5555555555555556,
                            "#d8576b"
                          ],
                          [
                            0.6666666666666666,
                            "#ed7953"
                          ],
                          [
                            0.7777777777777778,
                            "#fb9f3a"
                          ],
                          [
                            0.8888888888888888,
                            "#fdca26"
                          ],
                          [
                            1,
                            "#f0f921"
                          ]
                        ],
                        "type": "heatmap"
                      }
                    ],
                    "heatmapgl": [
                      {
                        "colorbar": {
                          "outlinewidth": 0,
                          "ticks": ""
                        },
                        "colorscale": [
                          [
                            0,
                            "#0d0887"
                          ],
                          [
                            0.1111111111111111,
                            "#46039f"
                          ],
                          [
                            0.2222222222222222,
                            "#7201a8"
                          ],
                          [
                            0.3333333333333333,
                            "#9c179e"
                          ],
                          [
                            0.4444444444444444,
                            "#bd3786"
                          ],
                          [
                            0.5555555555555556,
                            "#d8576b"
                          ],
                          [
                            0.6666666666666666,
                            "#ed7953"
                          ],
                          [
                            0.7777777777777778,
                            "#fb9f3a"
                          ],
                          [
                            0.8888888888888888,
                            "#fdca26"
                          ],
                          [
                            1,
                            "#f0f921"
                          ]
                        ],
                        "type": "heatmapgl"
                      }
                    ],
                    "histogram": [
                      {
                        "marker": {
                          "colorbar": {
                            "outlinewidth": 0,
                            "ticks": ""
                          }
                        },
                        "type": "histogram"
                      }
                    ],
                    "histogram2d": [
                      {
                        "colorbar": {
                          "outlinewidth": 0,
                          "ticks": ""
                        },
                        "colorscale": [
                          [
                            0,
                            "#0d0887"
                          ],
                          [
                            0.1111111111111111,
                            "#46039f"
                          ],
                          [
                            0.2222222222222222,
                            "#7201a8"
                          ],
                          [
                            0.3333333333333333,
                            "#9c179e"
                          ],
                          [
                            0.4444444444444444,
                            "#bd3786"
                          ],
                          [
                            0.5555555555555556,
                            "#d8576b"
                          ],
                          [
                            0.6666666666666666,
                            "#ed7953"
                          ],
                          [
                            0.7777777777777778,
                            "#fb9f3a"
                          ],
                          [
                            0.8888888888888888,
                            "#fdca26"
                          ],
                          [
                            1,
                            "#f0f921"
                          ]
                        ],
                        "type": "histogram2d"
                      }
                    ],
                    "histogram2dcontour": [
                      {
                        "colorbar": {
                          "outlinewidth": 0,
                          "ticks": ""
                        },
                        "colorscale": [
                          [
                            0,
                            "#0d0887"
                          ],
                          [
                            0.1111111111111111,
                            "#46039f"
                          ],
                          [
                            0.2222222222222222,
                            "#7201a8"
                          ],
                          [
                            0.3333333333333333,
                            "#9c179e"
                          ],
                          [
                            0.4444444444444444,
                            "#bd3786"
                          ],
                          [
                            0.5555555555555556,
                            "#d8576b"
                          ],
                          [
                            0.6666666666666666,
                            "#ed7953"
                          ],
                          [
                            0.7777777777777778,
                            "#fb9f3a"
                          ],
                          [
                            0.8888888888888888,
                            "#fdca26"
                          ],
                          [
                            1,
                            "#f0f921"
                          ]
                        ],
                        "type": "histogram2dcontour"
                      }
                    ],
                    "mesh3d": [
                      {
                        "colorbar": {
                          "outlinewidth": 0,
                          "ticks": ""
                        },
                        "type": "mesh3d"
                      }
                    ],
                    "parcoords": [
                      {
                        "line": {
                          "colorbar": {
                            "outlinewidth": 0,
                            "ticks": ""
                          }
                        },
                        "type": "parcoords"
                      }
                    ],
                    "scatter": [
                      {
                        "marker": {
                          "colorbar": {
                            "outlinewidth": 0,
                            "ticks": ""
                          }
                        },
                        "type": "scatter"
                      }
                    ],
                    "scatter3d": [
                      {
                        "line": {
                          "colorbar": {
                            "outlinewidth": 0,
                            "ticks": ""
                          }
                        },
                        "marker": {
                          "colorbar": {
                            "outlinewidth": 0,
                            "ticks": ""
                          }
                        },
                        "type": "scatter3d"
                      }
                    ],
                    "scattercarpet": [
                      {
                        "marker": {
                          "colorbar": {
                            "outlinewidth": 0,
                            "ticks": ""
                          }
                        },
                        "type": "scattercarpet"
                      }
                    ],
                    "scattergeo": [
                      {
                        "marker": {
                          "colorbar": {
                            "outlinewidth": 0,
                            "ticks": ""
                          }
                        },
                        "type": "scattergeo"
                      }
                    ],
                    "scattergl": [
                      {
                        "marker": {
                          "colorbar": {
                            "outlinewidth": 0,
                            "ticks": ""
                          }
                        },
                        "type": "scattergl"
                      }
                    ],
                    "scattermapbox": [
                      {
                        "marker": {
                          "colorbar": {
                            "outlinewidth": 0,
                            "ticks": ""
                          }
                        },
                        "type": "scattermapbox"
                      }
                    ],
                    "scatterpolar": [
                      {
                        "marker": {
                          "colorbar": {
                            "outlinewidth": 0,
                            "ticks": ""
                          }
                        },
                        "type": "scatterpolar"
                      }
                    ],
                    "scatterpolargl": [
                      {
                        "marker": {
                          "colorbar": {
                            "outlinewidth": 0,
                            "ticks": ""
                          }
                        },
                        "type": "scatterpolargl"
                      }
                    ],
                    "scatterternary": [
                      {
                        "marker": {
                          "colorbar": {
                            "outlinewidth": 0,
                            "ticks": ""
                          }
                        },
                        "type": "scatterternary"
                      }
                    ],
                    "surface": [
                      {
                        "colorbar": {
                          "outlinewidth": 0,
                          "ticks": ""
                        },
                        "colorscale": [
                          [
                            0,
                            "#0d0887"
                          ],
                          [
                            0.1111111111111111,
                            "#46039f"
                          ],
                          [
                            0.2222222222222222,
                            "#7201a8"
                          ],
                          [
                            0.3333333333333333,
                            "#9c179e"
                          ],
                          [
                            0.4444444444444444,
                            "#bd3786"
                          ],
                          [
                            0.5555555555555556,
                            "#d8576b"
                          ],
                          [
                            0.6666666666666666,
                            "#ed7953"
                          ],
                          [
                            0.7777777777777778,
                            "#fb9f3a"
                          ],
                          [
                            0.8888888888888888,
                            "#fdca26"
                          ],
                          [
                            1,
                            "#f0f921"
                          ]
                        ],
                        "type": "surface"
                      }
                    ],
                    "table": [
                      {
                        "cells": {
                          "fill": {
                            "color": "#EBF0F8"
                          },
                          "line": {
                            "color": "white"
                          }
                        },
                        "header": {
                          "fill": {
                            "color": "#C8D4E3"
                          },
                          "line": {
                            "color": "white"
                          }
                        },
                        "type": "table"
                      }
                    ]
                  },
                  "layout": {
                    "annotationdefaults": {
                      "arrowcolor": "#2a3f5f",
                      "arrowhead": 0,
                      "arrowwidth": 1
                    },
                    "colorscale": {
                      "diverging": [
                        [
                          0,
                          "#8e0152"
                        ],
                        [
                          0.1,
                          "#c51b7d"
                        ],
                        [
                          0.2,
                          "#de77ae"
                        ],
                        [
                          0.3,
                          "#f1b6da"
                        ],
                        [
                          0.4,
                          "#fde0ef"
                        ],
                        [
                          0.5,
                          "#f7f7f7"
                        ],
                        [
                          0.6,
                          "#e6f5d0"
                        ],
                        [
                          0.7,
                          "#b8e186"
                        ],
                        [
                          0.8,
                          "#7fbc41"
                        ],
                        [
                          0.9,
                          "#4d9221"
                        ],
                        [
                          1,
                          "#276419"
                        ]
                      ],
                      "sequential": [
                        [
                          0,
                          "#0d0887"
                        ],
                        [
                          0.1111111111111111,
                          "#46039f"
                        ],
                        [
                          0.2222222222222222,
                          "#7201a8"
                        ],
                        [
                          0.3333333333333333,
                          "#9c179e"
                        ],
                        [
                          0.4444444444444444,
                          "#bd3786"
                        ],
                        [
                          0.5555555555555556,
                          "#d8576b"
                        ],
                        [
                          0.6666666666666666,
                          "#ed7953"
                        ],
                        [
                          0.7777777777777778,
                          "#fb9f3a"
                        ],
                        [
                          0.8888888888888888,
                          "#fdca26"
                        ],
                        [
                          1,
                          "#f0f921"
                        ]
                      ],
                      "sequentialminus": [
                        [
                          0,
                          "#0d0887"
                        ],
                        [
                          0.1111111111111111,
                          "#46039f"
                        ],
                        [
                          0.2222222222222222,
                          "#7201a8"
                        ],
                        [
                          0.3333333333333333,
                          "#9c179e"
                        ],
                        [
                          0.4444444444444444,
                          "#bd3786"
                        ],
                        [
                          0.5555555555555556,
                          "#d8576b"
                        ],
                        [
                          0.6666666666666666,
                          "#ed7953"
                        ],
                        [
                          0.7777777777777778,
                          "#fb9f3a"
                        ],
                        [
                          0.8888888888888888,
                          "#fdca26"
                        ],
                        [
                          1,
                          "#f0f921"
                        ]
                      ]
                    },
                    "colorway": [
                      "#636efa",
                      "#EF553B",
                      "#00cc96",
                      "#ab63fa",
                      "#FFA15A",
                      "#19d3f3",
                      "#FF6692",
                      "#B6E880",
                      "#FF97FF",
                      "#FECB52"
                    ],
                    "font": {
                      "color": "#2a3f5f"
                    },
                    "geo": {
                      "bgcolor": "white",
                      "lakecolor": "white",
                      "landcolor": "#E5ECF6",
                      "showlakes": true,
                      "showland": true,
                      "subunitcolor": "white"
                    },
                    "hoverlabel": {
                      "align": "left"
                    },
                    "hovermode": "closest",
                    "mapbox": {
                      "style": "light"
                    },
                    "paper_bgcolor": "white",
                    "plot_bgcolor": "#E5ECF6",
                    "polar": {
                      "angularaxis": {
                        "gridcolor": "white",
                        "linecolor": "white",
                        "ticks": ""
                      },
                      "bgcolor": "#E5ECF6",
                      "radialaxis": {
                        "gridcolor": "white",
                        "linecolor": "white",
                        "ticks": ""
                      }
                    },
                    "scene": {
                      "xaxis": {
                        "backgroundcolor": "#E5ECF6",
                        "gridcolor": "white",
                        "gridwidth": 2,
                        "linecolor": "white",
                        "showbackground": true,
                        "ticks": "",
                        "zerolinecolor": "white"
                      },
                      "yaxis": {
                        "backgroundcolor": "#E5ECF6",
                        "gridcolor": "white",
                        "gridwidth": 2,
                        "linecolor": "white",
                        "showbackground": true,
                        "ticks": "",
                        "zerolinecolor": "white"
                      },
                      "zaxis": {
                        "backgroundcolor": "#E5ECF6",
                        "gridcolor": "white",
                        "gridwidth": 2,
                        "linecolor": "white",
                        "showbackground": true,
                        "ticks": "",
                        "zerolinecolor": "white"
                      }
                    },
                    "shapedefaults": {
                      "line": {
                        "color": "#2a3f5f"
                      }
                    },
                    "ternary": {
                      "aaxis": {
                        "gridcolor": "white",
                        "linecolor": "white",
                        "ticks": ""
                      },
                      "baxis": {
                        "gridcolor": "white",
                        "linecolor": "white",
                        "ticks": ""
                      },
                      "bgcolor": "#E5ECF6",
                      "caxis": {
                        "gridcolor": "white",
                        "linecolor": "white",
                        "ticks": ""
                      }
                    },
                    "title": {
                      "x": 0.05
                    },
                    "xaxis": {
                      "automargin": true,
                      "gridcolor": "white",
                      "linecolor": "white",
                      "ticks": "",
                      "zerolinecolor": "white",
                      "zerolinewidth": 2
                    },
                    "yaxis": {
                      "automargin": true,
                      "gridcolor": "white",
                      "linecolor": "white",
                      "ticks": "",
                      "zerolinecolor": "white",
                      "zerolinewidth": 2
                    }
                  }
                },
                "title": {
                  "text": "COVID-19 Progression Animation in New Jersey Over Time"
                },
                "updatemenus": [
                  {
                    "buttons": [
                      {
                        "args": [
                          null,
                          {
                            "frame": {
                              "duration": 500,
                              "redraw": true
                            },
                            "fromcurrent": true,
                            "mode": "immediate",
                            "transition": {
                              "duration": 500,
                              "easing": "linear"
                            }
                          }
                        ],
                        "label": "&#9654;",
                        "method": "animate"
                      },
                      {
                        "args": [
                          [
                            null
                          ],
                          {
                            "frame": {
                              "duration": 0,
                              "redraw": true
                            },
                            "fromcurrent": true,
                            "mode": "immediate",
                            "transition": {
                              "duration": 0,
                              "easing": "linear"
                            }
                          }
                        ],
                        "label": "&#9724;",
                        "method": "animate"
                      }
                    ],
                    "direction": "left",
                    "pad": {
                      "r": 10,
                      "t": 70
                    },
                    "showactive": false,
                    "type": "buttons",
                    "x": 0.1,
                    "xanchor": "right",
                    "y": 0,
                    "yanchor": "top"
                  }
                ]
              }
            },
            "text/html": [
              "<div>\n",
              "        \n",
              "        \n",
              "            <div id=\"b910e5f7-9343-489b-ac69-fe35976cd065\" class=\"plotly-graph-div\" style=\"height:600px; width:100%;\"></div>\n",
              "            <script type=\"text/javascript\">\n",
              "                require([\"plotly\"], function(Plotly) {\n",
              "                    window.PLOTLYENV=window.PLOTLYENV || {};\n",
              "                    \n",
              "                if (document.getElementById(\"b910e5f7-9343-489b-ac69-fe35976cd065\")) {\n",
              "                    Plotly.newPlot(\n",
              "                        'b910e5f7-9343-489b-ac69-fe35976cd065',\n",
              "                        [{\"coloraxis\": \"coloraxis\", \"customdata\": [[11, 0]], \"geo\": \"geo\", \"hoverlabel\": {\"namelength\": 0}, \"hovertemplate\": \"<b>%{hovertext}</b><br><br>Last_Update=03/09/2020<br>Confirmed=%{customdata[0]}<br>Deaths=%{customdata[1]}<br>Country_Region=%{location}<br>color=%{z}\", \"hovertext\": [\"NJ\"], \"locationmode\": \"USA-states\", \"locations\": [\"NJ\"], \"name\": \"\", \"type\": \"choropleth\", \"z\": [1.0413926851582251]}],\n",
              "                        {\"coloraxis\": {\"colorbar\": {\"title\": {\"text\": \"color\"}}, \"colorscale\": [[0.0, \"#0d0887\"], [0.1111111111111111, \"#46039f\"], [0.2222222222222222, \"#7201a8\"], [0.3333333333333333, \"#9c179e\"], [0.4444444444444444, \"#bd3786\"], [0.5555555555555556, \"#d8576b\"], [0.6666666666666666, \"#ed7953\"], [0.7777777777777778, \"#fb9f3a\"], [0.8888888888888888, \"#fdca26\"], [1.0, \"#f0f921\"]], \"showscale\": false}, \"geo\": {\"center\": {}, \"domain\": {\"x\": [0.0, 0.98], \"y\": [0.0, 1.0]}, \"scope\": \"usa\"}, \"height\": 600, \"legend\": {\"tracegroupgap\": 0}, \"sliders\": [{\"active\": 0, \"currentvalue\": {\"prefix\": \"Last_Update=\"}, \"len\": 0.9, \"pad\": {\"b\": 10, \"t\": 60}, \"steps\": [{\"args\": [[\"03/09/2020\"], {\"frame\": {\"duration\": 0, \"redraw\": true}, \"fromcurrent\": true, \"mode\": \"immediate\", \"transition\": {\"duration\": 0, \"easing\": \"linear\"}}], \"label\": \"03/09/2020\", \"method\": \"animate\"}, {\"args\": [[\"03/10/2020\"], {\"frame\": {\"duration\": 0, \"redraw\": true}, \"fromcurrent\": true, \"mode\": \"immediate\", \"transition\": {\"duration\": 0, \"easing\": \"linear\"}}], \"label\": \"03/10/2020\", \"method\": \"animate\"}, {\"args\": [[\"03/11/2020\"], {\"frame\": {\"duration\": 0, \"redraw\": true}, \"fromcurrent\": true, \"mode\": \"immediate\", \"transition\": {\"duration\": 0, \"easing\": \"linear\"}}], \"label\": \"03/11/2020\", \"method\": \"animate\"}, {\"args\": [[\"03/12/2020\"], {\"frame\": {\"duration\": 0, \"redraw\": true}, \"fromcurrent\": true, \"mode\": \"immediate\", \"transition\": {\"duration\": 0, \"easing\": \"linear\"}}], \"label\": \"03/12/2020\", \"method\": \"animate\"}, {\"args\": [[\"03/13/2020\"], {\"frame\": {\"duration\": 0, \"redraw\": true}, \"fromcurrent\": true, \"mode\": \"immediate\", \"transition\": {\"duration\": 0, \"easing\": \"linear\"}}], \"label\": \"03/13/2020\", \"method\": \"animate\"}, {\"args\": [[\"03/16/2020\"], {\"frame\": {\"duration\": 0, \"redraw\": true}, \"fromcurrent\": true, \"mode\": \"immediate\", \"transition\": {\"duration\": 0, \"easing\": \"linear\"}}], \"label\": \"03/16/2020\", \"method\": \"animate\"}, {\"args\": [[\"03/17/2020\"], {\"frame\": {\"duration\": 0, \"redraw\": true}, \"fromcurrent\": true, \"mode\": \"immediate\", \"transition\": {\"duration\": 0, \"easing\": \"linear\"}}], \"label\": \"03/17/2020\", \"method\": \"animate\"}, {\"args\": [[\"03/18/2020\"], {\"frame\": {\"duration\": 0, \"redraw\": true}, \"fromcurrent\": true, \"mode\": \"immediate\", \"transition\": {\"duration\": 0, \"easing\": \"linear\"}}], \"label\": \"03/18/2020\", \"method\": \"animate\"}, {\"args\": [[\"03/19/2020\"], {\"frame\": {\"duration\": 0, \"redraw\": true}, \"fromcurrent\": true, \"mode\": \"immediate\", \"transition\": {\"duration\": 0, \"easing\": \"linear\"}}], \"label\": \"03/19/2020\", \"method\": \"animate\"}, {\"args\": [[\"03/20/2020\"], {\"frame\": {\"duration\": 0, \"redraw\": true}, \"fromcurrent\": true, \"mode\": \"immediate\", \"transition\": {\"duration\": 0, \"easing\": \"linear\"}}], \"label\": \"03/20/2020\", \"method\": \"animate\"}, {\"args\": [[\"03/23/2020\"], {\"frame\": {\"duration\": 0, \"redraw\": true}, \"fromcurrent\": true, \"mode\": \"immediate\", \"transition\": {\"duration\": 0, \"easing\": \"linear\"}}], \"label\": \"03/23/2020\", \"method\": \"animate\"}, {\"args\": [[\"03/24/2020\"], {\"frame\": {\"duration\": 0, \"redraw\": true}, \"fromcurrent\": true, \"mode\": \"immediate\", \"transition\": {\"duration\": 0, \"easing\": \"linear\"}}], \"label\": \"03/24/2020\", \"method\": \"animate\"}, {\"args\": [[\"03/25/2020\"], {\"frame\": {\"duration\": 0, \"redraw\": true}, \"fromcurrent\": true, \"mode\": \"immediate\", \"transition\": {\"duration\": 0, \"easing\": \"linear\"}}], \"label\": \"03/25/2020\", \"method\": \"animate\"}, {\"args\": [[\"03/26/2020\"], {\"frame\": {\"duration\": 0, \"redraw\": true}, \"fromcurrent\": true, \"mode\": \"immediate\", \"transition\": {\"duration\": 0, \"easing\": \"linear\"}}], \"label\": \"03/26/2020\", \"method\": \"animate\"}, {\"args\": [[\"03/27/2020\"], {\"frame\": {\"duration\": 0, \"redraw\": true}, \"fromcurrent\": true, \"mode\": \"immediate\", \"transition\": {\"duration\": 0, \"easing\": \"linear\"}}], \"label\": \"03/27/2020\", \"method\": \"animate\"}, {\"args\": [[\"03/30/2020\"], {\"frame\": {\"duration\": 0, \"redraw\": true}, \"fromcurrent\": true, \"mode\": \"immediate\", \"transition\": {\"duration\": 0, \"easing\": \"linear\"}}], \"label\": \"03/30/2020\", \"method\": \"animate\"}, {\"args\": [[\"03/31/2020\"], {\"frame\": {\"duration\": 0, \"redraw\": true}, \"fromcurrent\": true, \"mode\": \"immediate\", \"transition\": {\"duration\": 0, \"easing\": \"linear\"}}], \"label\": \"03/31/2020\", \"method\": \"animate\"}, {\"args\": [[\"04/01/2020\"], {\"frame\": {\"duration\": 0, \"redraw\": true}, \"fromcurrent\": true, \"mode\": \"immediate\", \"transition\": {\"duration\": 0, \"easing\": \"linear\"}}], \"label\": \"04/01/2020\", \"method\": \"animate\"}, {\"args\": [[\"04/02/2020\"], {\"frame\": {\"duration\": 0, \"redraw\": true}, \"fromcurrent\": true, \"mode\": \"immediate\", \"transition\": {\"duration\": 0, \"easing\": \"linear\"}}], \"label\": \"04/02/2020\", \"method\": \"animate\"}, {\"args\": [[\"04/03/2020\"], {\"frame\": {\"duration\": 0, \"redraw\": true}, \"fromcurrent\": true, \"mode\": \"immediate\", \"transition\": {\"duration\": 0, \"easing\": \"linear\"}}], \"label\": \"04/03/2020\", \"method\": \"animate\"}, {\"args\": [[\"04/06/2020\"], {\"frame\": {\"duration\": 0, \"redraw\": true}, \"fromcurrent\": true, \"mode\": \"immediate\", \"transition\": {\"duration\": 0, \"easing\": \"linear\"}}], \"label\": \"04/06/2020\", \"method\": \"animate\"}, {\"args\": [[\"04/07/2020\"], {\"frame\": {\"duration\": 0, \"redraw\": true}, \"fromcurrent\": true, \"mode\": \"immediate\", \"transition\": {\"duration\": 0, \"easing\": \"linear\"}}], \"label\": \"04/07/2020\", \"method\": \"animate\"}, {\"args\": [[\"04/08/2020\"], {\"frame\": {\"duration\": 0, \"redraw\": true}, \"fromcurrent\": true, \"mode\": \"immediate\", \"transition\": {\"duration\": 0, \"easing\": \"linear\"}}], \"label\": \"04/08/2020\", \"method\": \"animate\"}, {\"args\": [[\"04/09/2020\"], {\"frame\": {\"duration\": 0, \"redraw\": true}, \"fromcurrent\": true, \"mode\": \"immediate\", \"transition\": {\"duration\": 0, \"easing\": \"linear\"}}], \"label\": \"04/09/2020\", \"method\": \"animate\"}, {\"args\": [[\"04/13/2020\"], {\"frame\": {\"duration\": 0, \"redraw\": true}, \"fromcurrent\": true, \"mode\": \"immediate\", \"transition\": {\"duration\": 0, \"easing\": \"linear\"}}], \"label\": \"04/13/2020\", \"method\": \"animate\"}, {\"args\": [[\"04/14/2020\"], {\"frame\": {\"duration\": 0, \"redraw\": true}, \"fromcurrent\": true, \"mode\": \"immediate\", \"transition\": {\"duration\": 0, \"easing\": \"linear\"}}], \"label\": \"04/14/2020\", \"method\": \"animate\"}, {\"args\": [[\"04/15/2020\"], {\"frame\": {\"duration\": 0, \"redraw\": true}, \"fromcurrent\": true, \"mode\": \"immediate\", \"transition\": {\"duration\": 0, \"easing\": \"linear\"}}], \"label\": \"04/15/2020\", \"method\": \"animate\"}, {\"args\": [[\"04/16/2020\"], {\"frame\": {\"duration\": 0, \"redraw\": true}, \"fromcurrent\": true, \"mode\": \"immediate\", \"transition\": {\"duration\": 0, \"easing\": \"linear\"}}], \"label\": \"04/16/2020\", \"method\": \"animate\"}, {\"args\": [[\"04/17/2020\"], {\"frame\": {\"duration\": 0, \"redraw\": true}, \"fromcurrent\": true, \"mode\": \"immediate\", \"transition\": {\"duration\": 0, \"easing\": \"linear\"}}], \"label\": \"04/17/2020\", \"method\": \"animate\"}, {\"args\": [[\"04/20/2020\"], {\"frame\": {\"duration\": 0, \"redraw\": true}, \"fromcurrent\": true, \"mode\": \"immediate\", \"transition\": {\"duration\": 0, \"easing\": \"linear\"}}], \"label\": \"04/20/2020\", \"method\": \"animate\"}, {\"args\": [[\"04/21/2020\"], {\"frame\": {\"duration\": 0, \"redraw\": true}, \"fromcurrent\": true, \"mode\": \"immediate\", \"transition\": {\"duration\": 0, \"easing\": \"linear\"}}], \"label\": \"04/21/2020\", \"method\": \"animate\"}, {\"args\": [[\"04/22/2020\"], {\"frame\": {\"duration\": 0, \"redraw\": true}, \"fromcurrent\": true, \"mode\": \"immediate\", \"transition\": {\"duration\": 0, \"easing\": \"linear\"}}], \"label\": \"04/22/2020\", \"method\": \"animate\"}, {\"args\": [[\"04/23/2020\"], {\"frame\": {\"duration\": 0, \"redraw\": true}, \"fromcurrent\": true, \"mode\": \"immediate\", \"transition\": {\"duration\": 0, \"easing\": \"linear\"}}], \"label\": \"04/23/2020\", \"method\": \"animate\"}, {\"args\": [[\"04/24/2020\"], {\"frame\": {\"duration\": 0, \"redraw\": true}, \"fromcurrent\": true, \"mode\": \"immediate\", \"transition\": {\"duration\": 0, \"easing\": \"linear\"}}], \"label\": \"04/24/2020\", \"method\": \"animate\"}, {\"args\": [[\"04/27/2020\"], {\"frame\": {\"duration\": 0, \"redraw\": true}, \"fromcurrent\": true, \"mode\": \"immediate\", \"transition\": {\"duration\": 0, \"easing\": \"linear\"}}], \"label\": \"04/27/2020\", \"method\": \"animate\"}, {\"args\": [[\"04/28/2020\"], {\"frame\": {\"duration\": 0, \"redraw\": true}, \"fromcurrent\": true, \"mode\": \"immediate\", \"transition\": {\"duration\": 0, \"easing\": \"linear\"}}], \"label\": \"04/28/2020\", \"method\": \"animate\"}, {\"args\": [[\"04/29/2020\"], {\"frame\": {\"duration\": 0, \"redraw\": true}, \"fromcurrent\": true, \"mode\": \"immediate\", \"transition\": {\"duration\": 0, \"easing\": \"linear\"}}], \"label\": \"04/29/2020\", \"method\": \"animate\"}, {\"args\": [[\"04/30/2020\"], {\"frame\": {\"duration\": 0, \"redraw\": true}, \"fromcurrent\": true, \"mode\": \"immediate\", \"transition\": {\"duration\": 0, \"easing\": \"linear\"}}], \"label\": \"04/30/2020\", \"method\": \"animate\"}, {\"args\": [[\"05/01/2020\"], {\"frame\": {\"duration\": 0, \"redraw\": true}, \"fromcurrent\": true, \"mode\": \"immediate\", \"transition\": {\"duration\": 0, \"easing\": \"linear\"}}], \"label\": \"05/01/2020\", \"method\": \"animate\"}, {\"args\": [[\"05/04/2020\"], {\"frame\": {\"duration\": 0, \"redraw\": true}, \"fromcurrent\": true, \"mode\": \"immediate\", \"transition\": {\"duration\": 0, \"easing\": \"linear\"}}], \"label\": \"05/04/2020\", \"method\": \"animate\"}], \"x\": 0.1, \"xanchor\": \"left\", \"y\": 0, \"yanchor\": \"top\"}], \"template\": {\"data\": {\"bar\": [{\"error_x\": {\"color\": \"#2a3f5f\"}, \"error_y\": {\"color\": \"#2a3f5f\"}, \"marker\": {\"line\": {\"color\": \"#E5ECF6\", \"width\": 0.5}}, \"type\": \"bar\"}], \"barpolar\": [{\"marker\": {\"line\": {\"color\": \"#E5ECF6\", \"width\": 0.5}}, \"type\": \"barpolar\"}], \"carpet\": [{\"aaxis\": {\"endlinecolor\": \"#2a3f5f\", \"gridcolor\": \"white\", \"linecolor\": \"white\", \"minorgridcolor\": \"white\", \"startlinecolor\": \"#2a3f5f\"}, \"baxis\": {\"endlinecolor\": \"#2a3f5f\", \"gridcolor\": \"white\", \"linecolor\": \"white\", \"minorgridcolor\": \"white\", \"startlinecolor\": \"#2a3f5f\"}, \"type\": \"carpet\"}], \"choropleth\": [{\"colorbar\": {\"outlinewidth\": 0, \"ticks\": \"\"}, \"type\": \"choropleth\"}], \"contour\": [{\"colorbar\": {\"outlinewidth\": 0, \"ticks\": \"\"}, \"colorscale\": [[0.0, \"#0d0887\"], [0.1111111111111111, \"#46039f\"], [0.2222222222222222, \"#7201a8\"], [0.3333333333333333, \"#9c179e\"], [0.4444444444444444, \"#bd3786\"], [0.5555555555555556, \"#d8576b\"], [0.6666666666666666, \"#ed7953\"], [0.7777777777777778, \"#fb9f3a\"], [0.8888888888888888, \"#fdca26\"], [1.0, \"#f0f921\"]], \"type\": \"contour\"}], \"contourcarpet\": [{\"colorbar\": {\"outlinewidth\": 0, \"ticks\": \"\"}, \"type\": \"contourcarpet\"}], \"heatmap\": [{\"colorbar\": {\"outlinewidth\": 0, \"ticks\": \"\"}, \"colorscale\": [[0.0, \"#0d0887\"], [0.1111111111111111, \"#46039f\"], [0.2222222222222222, \"#7201a8\"], [0.3333333333333333, \"#9c179e\"], [0.4444444444444444, \"#bd3786\"], [0.5555555555555556, \"#d8576b\"], [0.6666666666666666, \"#ed7953\"], [0.7777777777777778, \"#fb9f3a\"], [0.8888888888888888, \"#fdca26\"], [1.0, \"#f0f921\"]], \"type\": \"heatmap\"}], \"heatmapgl\": [{\"colorbar\": {\"outlinewidth\": 0, \"ticks\": \"\"}, \"colorscale\": [[0.0, \"#0d0887\"], [0.1111111111111111, \"#46039f\"], [0.2222222222222222, \"#7201a8\"], [0.3333333333333333, \"#9c179e\"], [0.4444444444444444, \"#bd3786\"], [0.5555555555555556, \"#d8576b\"], [0.6666666666666666, \"#ed7953\"], [0.7777777777777778, \"#fb9f3a\"], [0.8888888888888888, \"#fdca26\"], [1.0, \"#f0f921\"]], \"type\": \"heatmapgl\"}], \"histogram\": [{\"marker\": {\"colorbar\": {\"outlinewidth\": 0, \"ticks\": \"\"}}, \"type\": \"histogram\"}], \"histogram2d\": [{\"colorbar\": {\"outlinewidth\": 0, \"ticks\": \"\"}, \"colorscale\": [[0.0, \"#0d0887\"], [0.1111111111111111, \"#46039f\"], [0.2222222222222222, \"#7201a8\"], [0.3333333333333333, \"#9c179e\"], [0.4444444444444444, \"#bd3786\"], [0.5555555555555556, \"#d8576b\"], [0.6666666666666666, \"#ed7953\"], [0.7777777777777778, \"#fb9f3a\"], [0.8888888888888888, \"#fdca26\"], [1.0, \"#f0f921\"]], \"type\": \"histogram2d\"}], \"histogram2dcontour\": [{\"colorbar\": {\"outlinewidth\": 0, \"ticks\": \"\"}, \"colorscale\": [[0.0, \"#0d0887\"], [0.1111111111111111, \"#46039f\"], [0.2222222222222222, \"#7201a8\"], [0.3333333333333333, \"#9c179e\"], [0.4444444444444444, \"#bd3786\"], [0.5555555555555556, \"#d8576b\"], [0.6666666666666666, \"#ed7953\"], [0.7777777777777778, \"#fb9f3a\"], [0.8888888888888888, \"#fdca26\"], [1.0, \"#f0f921\"]], \"type\": \"histogram2dcontour\"}], \"mesh3d\": [{\"colorbar\": {\"outlinewidth\": 0, \"ticks\": \"\"}, \"type\": \"mesh3d\"}], \"parcoords\": [{\"line\": {\"colorbar\": {\"outlinewidth\": 0, \"ticks\": \"\"}}, \"type\": \"parcoords\"}], \"scatter\": [{\"marker\": {\"colorbar\": {\"outlinewidth\": 0, \"ticks\": \"\"}}, \"type\": \"scatter\"}], \"scatter3d\": [{\"line\": {\"colorbar\": {\"outlinewidth\": 0, \"ticks\": \"\"}}, \"marker\": {\"colorbar\": {\"outlinewidth\": 0, \"ticks\": \"\"}}, \"type\": \"scatter3d\"}], \"scattercarpet\": [{\"marker\": {\"colorbar\": {\"outlinewidth\": 0, \"ticks\": \"\"}}, \"type\": \"scattercarpet\"}], \"scattergeo\": [{\"marker\": {\"colorbar\": {\"outlinewidth\": 0, \"ticks\": \"\"}}, \"type\": \"scattergeo\"}], \"scattergl\": [{\"marker\": {\"colorbar\": {\"outlinewidth\": 0, \"ticks\": \"\"}}, \"type\": \"scattergl\"}], \"scattermapbox\": [{\"marker\": {\"colorbar\": {\"outlinewidth\": 0, \"ticks\": \"\"}}, \"type\": \"scattermapbox\"}], \"scatterpolar\": [{\"marker\": {\"colorbar\": {\"outlinewidth\": 0, \"ticks\": \"\"}}, \"type\": \"scatterpolar\"}], \"scatterpolargl\": [{\"marker\": {\"colorbar\": {\"outlinewidth\": 0, \"ticks\": \"\"}}, \"type\": \"scatterpolargl\"}], \"scatterternary\": [{\"marker\": {\"colorbar\": {\"outlinewidth\": 0, \"ticks\": \"\"}}, \"type\": \"scatterternary\"}], \"surface\": [{\"colorbar\": {\"outlinewidth\": 0, \"ticks\": \"\"}, \"colorscale\": [[0.0, \"#0d0887\"], [0.1111111111111111, \"#46039f\"], [0.2222222222222222, \"#7201a8\"], [0.3333333333333333, \"#9c179e\"], [0.4444444444444444, \"#bd3786\"], [0.5555555555555556, \"#d8576b\"], [0.6666666666666666, \"#ed7953\"], [0.7777777777777778, \"#fb9f3a\"], [0.8888888888888888, \"#fdca26\"], [1.0, \"#f0f921\"]], \"type\": \"surface\"}], \"table\": [{\"cells\": {\"fill\": {\"color\": \"#EBF0F8\"}, \"line\": {\"color\": \"white\"}}, \"header\": {\"fill\": {\"color\": \"#C8D4E3\"}, \"line\": {\"color\": \"white\"}}, \"type\": \"table\"}]}, \"layout\": {\"annotationdefaults\": {\"arrowcolor\": \"#2a3f5f\", \"arrowhead\": 0, \"arrowwidth\": 1}, \"colorscale\": {\"diverging\": [[0, \"#8e0152\"], [0.1, \"#c51b7d\"], [0.2, \"#de77ae\"], [0.3, \"#f1b6da\"], [0.4, \"#fde0ef\"], [0.5, \"#f7f7f7\"], [0.6, \"#e6f5d0\"], [0.7, \"#b8e186\"], [0.8, \"#7fbc41\"], [0.9, \"#4d9221\"], [1, \"#276419\"]], \"sequential\": [[0.0, \"#0d0887\"], [0.1111111111111111, \"#46039f\"], [0.2222222222222222, \"#7201a8\"], [0.3333333333333333, \"#9c179e\"], [0.4444444444444444, \"#bd3786\"], [0.5555555555555556, \"#d8576b\"], [0.6666666666666666, \"#ed7953\"], [0.7777777777777778, \"#fb9f3a\"], [0.8888888888888888, \"#fdca26\"], [1.0, \"#f0f921\"]], \"sequentialminus\": [[0.0, \"#0d0887\"], [0.1111111111111111, \"#46039f\"], [0.2222222222222222, \"#7201a8\"], [0.3333333333333333, \"#9c179e\"], [0.4444444444444444, \"#bd3786\"], [0.5555555555555556, \"#d8576b\"], [0.6666666666666666, \"#ed7953\"], [0.7777777777777778, \"#fb9f3a\"], [0.8888888888888888, \"#fdca26\"], [1.0, \"#f0f921\"]]}, \"colorway\": [\"#636efa\", \"#EF553B\", \"#00cc96\", \"#ab63fa\", \"#FFA15A\", \"#19d3f3\", \"#FF6692\", \"#B6E880\", \"#FF97FF\", \"#FECB52\"], \"font\": {\"color\": \"#2a3f5f\"}, \"geo\": {\"bgcolor\": \"white\", \"lakecolor\": \"white\", \"landcolor\": \"#E5ECF6\", \"showlakes\": true, \"showland\": true, \"subunitcolor\": \"white\"}, \"hoverlabel\": {\"align\": \"left\"}, \"hovermode\": \"closest\", \"mapbox\": {\"style\": \"light\"}, \"paper_bgcolor\": \"white\", \"plot_bgcolor\": \"#E5ECF6\", \"polar\": {\"angularaxis\": {\"gridcolor\": \"white\", \"linecolor\": \"white\", \"ticks\": \"\"}, \"bgcolor\": \"#E5ECF6\", \"radialaxis\": {\"gridcolor\": \"white\", \"linecolor\": \"white\", \"ticks\": \"\"}}, \"scene\": {\"xaxis\": {\"backgroundcolor\": \"#E5ECF6\", \"gridcolor\": \"white\", \"gridwidth\": 2, \"linecolor\": \"white\", \"showbackground\": true, \"ticks\": \"\", \"zerolinecolor\": \"white\"}, \"yaxis\": {\"backgroundcolor\": \"#E5ECF6\", \"gridcolor\": \"white\", \"gridwidth\": 2, \"linecolor\": \"white\", \"showbackground\": true, \"ticks\": \"\", \"zerolinecolor\": \"white\"}, \"zaxis\": {\"backgroundcolor\": \"#E5ECF6\", \"gridcolor\": \"white\", \"gridwidth\": 2, \"linecolor\": \"white\", \"showbackground\": true, \"ticks\": \"\", \"zerolinecolor\": \"white\"}}, \"shapedefaults\": {\"line\": {\"color\": \"#2a3f5f\"}}, \"ternary\": {\"aaxis\": {\"gridcolor\": \"white\", \"linecolor\": \"white\", \"ticks\": \"\"}, \"baxis\": {\"gridcolor\": \"white\", \"linecolor\": \"white\", \"ticks\": \"\"}, \"bgcolor\": \"#E5ECF6\", \"caxis\": {\"gridcolor\": \"white\", \"linecolor\": \"white\", \"ticks\": \"\"}}, \"title\": {\"x\": 0.05}, \"xaxis\": {\"automargin\": true, \"gridcolor\": \"white\", \"linecolor\": \"white\", \"ticks\": \"\", \"zerolinecolor\": \"white\", \"zerolinewidth\": 2}, \"yaxis\": {\"automargin\": true, \"gridcolor\": \"white\", \"linecolor\": \"white\", \"ticks\": \"\", \"zerolinecolor\": \"white\", \"zerolinewidth\": 2}}}, \"title\": {\"text\": \"COVID-19 Progression Animation in New Jersey Over Time\"}, \"updatemenus\": [{\"buttons\": [{\"args\": [null, {\"frame\": {\"duration\": 500, \"redraw\": true}, \"fromcurrent\": true, \"mode\": \"immediate\", \"transition\": {\"duration\": 500, \"easing\": \"linear\"}}], \"label\": \"&#9654;\", \"method\": \"animate\"}, {\"args\": [[null], {\"frame\": {\"duration\": 0, \"redraw\": true}, \"fromcurrent\": true, \"mode\": \"immediate\", \"transition\": {\"duration\": 0, \"easing\": \"linear\"}}], \"label\": \"&#9724;\", \"method\": \"animate\"}], \"direction\": \"left\", \"pad\": {\"r\": 10, \"t\": 70}, \"showactive\": false, \"type\": \"buttons\", \"x\": 0.1, \"xanchor\": \"right\", \"y\": 0, \"yanchor\": \"top\"}]},\n",
              "                        {\"responsive\": true}\n",
              "                    ).then(function(){\n",
              "                            Plotly.addFrames('b910e5f7-9343-489b-ac69-fe35976cd065', [{\"data\": [{\"coloraxis\": \"coloraxis\", \"customdata\": [[11, 0]], \"geo\": \"geo\", \"hoverlabel\": {\"namelength\": 0}, \"hovertemplate\": \"<b>%{hovertext}</b><br><br>Last_Update=03/09/2020<br>Confirmed=%{customdata[0]}<br>Deaths=%{customdata[1]}<br>Country_Region=%{location}<br>color=%{z}\", \"hovertext\": [\"NJ\"], \"locationmode\": \"USA-states\", \"locations\": [\"NJ\"], \"name\": \"\", \"z\": [1.0413926851582251], \"type\": \"choropleth\"}], \"name\": \"03/09/2020\"}, {\"data\": [{\"coloraxis\": \"coloraxis\", \"customdata\": [[15, 0]], \"geo\": \"geo\", \"hoverlabel\": {\"namelength\": 0}, \"hovertemplate\": \"<b>%{hovertext}</b><br><br>Last_Update=03/10/2020<br>Confirmed=%{customdata[0]}<br>Deaths=%{customdata[1]}<br>Country_Region=%{location}<br>color=%{z}\", \"hovertext\": [\"NJ\"], \"locationmode\": \"USA-states\", \"locations\": [\"NJ\"], \"name\": \"\", \"z\": [1.1760912590556813], \"type\": \"choropleth\"}], \"name\": \"03/10/2020\"}, {\"data\": [{\"coloraxis\": \"coloraxis\", \"customdata\": [[24, 1]], \"geo\": \"geo\", \"hoverlabel\": {\"namelength\": 0}, \"hovertemplate\": \"<b>%{hovertext}</b><br><br>Last_Update=03/11/2020<br>Confirmed=%{customdata[0]}<br>Deaths=%{customdata[1]}<br>Country_Region=%{location}<br>color=%{z}\", \"hovertext\": [\"NJ\"], \"locationmode\": \"USA-states\", \"locations\": [\"NJ\"], \"name\": \"\", \"z\": [1.380211241711606], \"type\": \"choropleth\"}], \"name\": \"03/11/2020\"}, {\"data\": [{\"coloraxis\": \"coloraxis\", \"customdata\": [[30, 1]], \"geo\": \"geo\", \"hoverlabel\": {\"namelength\": 0}, \"hovertemplate\": \"<b>%{hovertext}</b><br><br>Last_Update=03/12/2020<br>Confirmed=%{customdata[0]}<br>Deaths=%{customdata[1]}<br>Country_Region=%{location}<br>color=%{z}\", \"hovertext\": [\"NJ\"], \"locationmode\": \"USA-states\", \"locations\": [\"NJ\"], \"name\": \"\", \"z\": [1.4771212547196624], \"type\": \"choropleth\"}], \"name\": \"03/12/2020\"}, {\"data\": [{\"coloraxis\": \"coloraxis\", \"customdata\": [[50, 1]], \"geo\": \"geo\", \"hoverlabel\": {\"namelength\": 0}, \"hovertemplate\": \"<b>%{hovertext}</b><br><br>Last_Update=03/13/2020<br>Confirmed=%{customdata[0]}<br>Deaths=%{customdata[1]}<br>Country_Region=%{location}<br>color=%{z}\", \"hovertext\": [\"NJ\"], \"locationmode\": \"USA-states\", \"locations\": [\"NJ\"], \"name\": \"\", \"z\": [1.6989700043360187], \"type\": \"choropleth\"}], \"name\": \"03/13/2020\"}, {\"data\": [{\"coloraxis\": \"coloraxis\", \"customdata\": [[178, 2]], \"geo\": \"geo\", \"hoverlabel\": {\"namelength\": 0}, \"hovertemplate\": \"<b>%{hovertext}</b><br><br>Last_Update=03/16/2020<br>Confirmed=%{customdata[0]}<br>Deaths=%{customdata[1]}<br>Country_Region=%{location}<br>color=%{z}\", \"hovertext\": [\"NJ\"], \"locationmode\": \"USA-states\", \"locations\": [\"NJ\"], \"name\": \"\", \"z\": [2.250420002308894], \"type\": \"choropleth\"}], \"name\": \"03/16/2020\"}, {\"data\": [{\"coloraxis\": \"coloraxis\", \"customdata\": [[267, 3]], \"geo\": \"geo\", \"hoverlabel\": {\"namelength\": 0}, \"hovertemplate\": \"<b>%{hovertext}</b><br><br>Last_Update=03/17/2020<br>Confirmed=%{customdata[0]}<br>Deaths=%{customdata[1]}<br>Country_Region=%{location}<br>color=%{z}\", \"hovertext\": [\"NJ\"], \"locationmode\": \"USA-states\", \"locations\": [\"NJ\"], \"name\": \"\", \"z\": [2.4265112613645754], \"type\": \"choropleth\"}], \"name\": \"03/17/2020\"}, {\"data\": [{\"coloraxis\": \"coloraxis\", \"customdata\": [[427, 5]], \"geo\": \"geo\", \"hoverlabel\": {\"namelength\": 0}, \"hovertemplate\": \"<b>%{hovertext}</b><br><br>Last_Update=03/18/2020<br>Confirmed=%{customdata[0]}<br>Deaths=%{customdata[1]}<br>Country_Region=%{location}<br>color=%{z}\", \"hovertext\": [\"NJ\"], \"locationmode\": \"USA-states\", \"locations\": [\"NJ\"], \"name\": \"\", \"z\": [2.630427875025024], \"type\": \"choropleth\"}], \"name\": \"03/18/2020\"}, {\"data\": [{\"coloraxis\": \"coloraxis\", \"customdata\": [[742, 9]], \"geo\": \"geo\", \"hoverlabel\": {\"namelength\": 0}, \"hovertemplate\": \"<b>%{hovertext}</b><br><br>Last_Update=03/19/2020<br>Confirmed=%{customdata[0]}<br>Deaths=%{customdata[1]}<br>Country_Region=%{location}<br>color=%{z}\", \"hovertext\": [\"NJ\"], \"locationmode\": \"USA-states\", \"locations\": [\"NJ\"], \"name\": \"\", \"z\": [2.870403905279027], \"type\": \"choropleth\"}], \"name\": \"03/19/2020\"}, {\"data\": [{\"coloraxis\": \"coloraxis\", \"customdata\": [[890, 11]], \"geo\": \"geo\", \"hoverlabel\": {\"namelength\": 0}, \"hovertemplate\": \"<b>%{hovertext}</b><br><br>Last_Update=03/20/2020<br>Confirmed=%{customdata[0]}<br>Deaths=%{customdata[1]}<br>Country_Region=%{location}<br>color=%{z}\", \"hovertext\": [\"NJ\"], \"locationmode\": \"USA-states\", \"locations\": [\"NJ\"], \"name\": \"\", \"z\": [2.949390006644913], \"type\": \"choropleth\"}], \"name\": \"03/20/2020\"}, {\"data\": [{\"coloraxis\": \"coloraxis\", \"customdata\": [[2844, 27]], \"geo\": \"geo\", \"hoverlabel\": {\"namelength\": 0}, \"hovertemplate\": \"<b>%{hovertext}</b><br><br>Last_Update=03/23/2020<br>Confirmed=%{customdata[0]}<br>Deaths=%{customdata[1]}<br>Country_Region=%{location}<br>color=%{z}\", \"hovertext\": [\"NJ\"], \"locationmode\": \"USA-states\", \"locations\": [\"NJ\"], \"name\": \"\", \"z\": [3.4539295920577286], \"type\": \"choropleth\"}], \"name\": \"03/23/2020\"}, {\"data\": [{\"coloraxis\": \"coloraxis\", \"customdata\": [[3675, 44]], \"geo\": \"geo\", \"hoverlabel\": {\"namelength\": 0}, \"hovertemplate\": \"<b>%{hovertext}</b><br><br>Last_Update=03/24/2020<br>Confirmed=%{customdata[0]}<br>Deaths=%{customdata[1]}<br>Country_Region=%{location}<br>color=%{z}\", \"hovertext\": [\"NJ\"], \"locationmode\": \"USA-states\", \"locations\": [\"NJ\"], \"name\": \"\", \"z\": [3.5652573434202135], \"type\": \"choropleth\"}], \"name\": \"03/24/2020\"}, {\"data\": [{\"coloraxis\": \"coloraxis\", \"customdata\": [[4402, 62]], \"geo\": \"geo\", \"hoverlabel\": {\"namelength\": 0}, \"hovertemplate\": \"<b>%{hovertext}</b><br><br>Last_Update=03/25/2020<br>Confirmed=%{customdata[0]}<br>Deaths=%{customdata[1]}<br>Country_Region=%{location}<br>color=%{z}\", \"hovertext\": [\"NJ\"], \"locationmode\": \"USA-states\", \"locations\": [\"NJ\"], \"name\": \"\", \"z\": [3.6436500382173294], \"type\": \"choropleth\"}], \"name\": \"03/25/2020\"}, {\"data\": [{\"coloraxis\": \"coloraxis\", \"customdata\": [[6876, 81]], \"geo\": \"geo\", \"hoverlabel\": {\"namelength\": 0}, \"hovertemplate\": \"<b>%{hovertext}</b><br><br>Last_Update=03/26/2020<br>Confirmed=%{customdata[0]}<br>Deaths=%{customdata[1]}<br>Country_Region=%{location}<br>color=%{z}\", \"hovertext\": [\"NJ\"], \"locationmode\": \"USA-states\", \"locations\": [\"NJ\"], \"name\": \"\", \"z\": [3.837335868015015], \"type\": \"choropleth\"}], \"name\": \"03/26/2020\"}, {\"data\": [{\"coloraxis\": \"coloraxis\", \"customdata\": [[8825, 108]], \"geo\": \"geo\", \"hoverlabel\": {\"namelength\": 0}, \"hovertemplate\": \"<b>%{hovertext}</b><br><br>Last_Update=03/27/2020<br>Confirmed=%{customdata[0]}<br>Deaths=%{customdata[1]}<br>Country_Region=%{location}<br>color=%{z}\", \"hovertext\": [\"NJ\"], \"locationmode\": \"USA-states\", \"locations\": [\"NJ\"], \"name\": \"\", \"z\": [3.9457147140598603], \"type\": \"choropleth\"}], \"name\": \"03/27/2020\"}, {\"data\": [{\"coloraxis\": \"coloraxis\", \"customdata\": [[16636, 198]], \"geo\": \"geo\", \"hoverlabel\": {\"namelength\": 0}, \"hovertemplate\": \"<b>%{hovertext}</b><br><br>Last_Update=03/30/2020<br>Confirmed=%{customdata[0]}<br>Deaths=%{customdata[1]}<br>Country_Region=%{location}<br>color=%{z}\", \"hovertext\": [\"NJ\"], \"locationmode\": \"USA-states\", \"locations\": [\"NJ\"], \"name\": \"\", \"z\": [4.221048911692896], \"type\": \"choropleth\"}], \"name\": \"03/30/2020\"}, {\"data\": [{\"coloraxis\": \"coloraxis\", \"customdata\": [[18696, 267]], \"geo\": \"geo\", \"hoverlabel\": {\"namelength\": 0}, \"hovertemplate\": \"<b>%{hovertext}</b><br><br>Last_Update=03/31/2020<br>Confirmed=%{customdata[0]}<br>Deaths=%{customdata[1]}<br>Country_Region=%{location}<br>color=%{z}\", \"hovertext\": [\"NJ\"], \"locationmode\": \"USA-states\", \"locations\": [\"NJ\"], \"name\": \"\", \"z\": [4.271748699384171], \"type\": \"choropleth\"}], \"name\": \"03/31/2020\"}, {\"data\": [{\"coloraxis\": \"coloraxis\", \"customdata\": [[22255, 355]], \"geo\": \"geo\", \"hoverlabel\": {\"namelength\": 0}, \"hovertemplate\": \"<b>%{hovertext}</b><br><br>Last_Update=04/01/2020<br>Confirmed=%{customdata[0]}<br>Deaths=%{customdata[1]}<br>Country_Region=%{location}<br>color=%{z}\", \"hovertext\": [\"NJ\"], \"locationmode\": \"USA-states\", \"locations\": [\"NJ\"], \"name\": \"\", \"z\": [4.347427598618541], \"type\": \"choropleth\"}], \"name\": \"04/01/2020\"}, {\"data\": [{\"coloraxis\": \"coloraxis\", \"customdata\": [[25590, 537]], \"geo\": \"geo\", \"hoverlabel\": {\"namelength\": 0}, \"hovertemplate\": \"<b>%{hovertext}</b><br><br>Last_Update=04/02/2020<br>Confirmed=%{customdata[0]}<br>Deaths=%{customdata[1]}<br>Country_Region=%{location}<br>color=%{z}\", \"hovertext\": [\"NJ\"], \"locationmode\": \"USA-states\", \"locations\": [\"NJ\"], \"name\": \"\", \"z\": [4.408070285887185], \"type\": \"choropleth\"}], \"name\": \"04/02/2020\"}, {\"data\": [{\"coloraxis\": \"coloraxis\", \"customdata\": [[29895, 646]], \"geo\": \"geo\", \"hoverlabel\": {\"namelength\": 0}, \"hovertemplate\": \"<b>%{hovertext}</b><br><br>Last_Update=04/03/2020<br>Confirmed=%{customdata[0]}<br>Deaths=%{customdata[1]}<br>Country_Region=%{location}<br>color=%{z}\", \"hovertext\": [\"NJ\"], \"locationmode\": \"USA-states\", \"locations\": [\"NJ\"], \"name\": \"\", \"z\": [4.475598557756169], \"type\": \"choropleth\"}], \"name\": \"04/03/2020\"}, {\"data\": [{\"coloraxis\": \"coloraxis\", \"customdata\": [[41090, 1003]], \"geo\": \"geo\", \"hoverlabel\": {\"namelength\": 0}, \"hovertemplate\": \"<b>%{hovertext}</b><br><br>Last_Update=04/06/2020<br>Confirmed=%{customdata[0]}<br>Deaths=%{customdata[1]}<br>Country_Region=%{location}<br>color=%{z}\", \"hovertext\": [\"NJ\"], \"locationmode\": \"USA-states\", \"locations\": [\"NJ\"], \"name\": \"\", \"z\": [4.613736141261871], \"type\": \"choropleth\"}], \"name\": \"04/06/2020\"}, {\"data\": [{\"coloraxis\": \"coloraxis\", \"customdata\": [[44416, 1232]], \"geo\": \"geo\", \"hoverlabel\": {\"namelength\": 0}, \"hovertemplate\": \"<b>%{hovertext}</b><br><br>Last_Update=04/07/2020<br>Confirmed=%{customdata[0]}<br>Deaths=%{customdata[1]}<br>Country_Region=%{location}<br>color=%{z}\", \"hovertext\": [\"NJ\"], \"locationmode\": \"USA-states\", \"locations\": [\"NJ\"], \"name\": \"\", \"z\": [4.647539444438742], \"type\": \"choropleth\"}], \"name\": \"04/07/2020\"}, {\"data\": [{\"coloraxis\": \"coloraxis\", \"customdata\": [[47437, 1504]], \"geo\": \"geo\", \"hoverlabel\": {\"namelength\": 0}, \"hovertemplate\": \"<b>%{hovertext}</b><br><br>Last_Update=04/08/2020<br>Confirmed=%{customdata[0]}<br>Deaths=%{customdata[1]}<br>Country_Region=%{location}<br>color=%{z}\", \"hovertext\": [\"NJ\"], \"locationmode\": \"USA-states\", \"locations\": [\"NJ\"], \"name\": \"\", \"z\": [4.676117215671485], \"type\": \"choropleth\"}], \"name\": \"04/08/2020\"}, {\"data\": [{\"coloraxis\": \"coloraxis\", \"customdata\": [[51027, 1700]], \"geo\": \"geo\", \"hoverlabel\": {\"namelength\": 0}, \"hovertemplate\": \"<b>%{hovertext}</b><br><br>Last_Update=04/09/2020<br>Confirmed=%{customdata[0]}<br>Deaths=%{customdata[1]}<br>Country_Region=%{location}<br>color=%{z}\", \"hovertext\": [\"NJ\"], \"locationmode\": \"USA-states\", \"locations\": [\"NJ\"], \"name\": \"\", \"z\": [4.707800035866137], \"type\": \"choropleth\"}], \"name\": \"04/09/2020\"}, {\"data\": [{\"coloraxis\": \"coloraxis\", \"customdata\": [[64584, 2443]], \"geo\": \"geo\", \"hoverlabel\": {\"namelength\": 0}, \"hovertemplate\": \"<b>%{hovertext}</b><br><br>Last_Update=04/13/2020<br>Confirmed=%{customdata[0]}<br>Deaths=%{customdata[1]}<br>Country_Region=%{location}<br>color=%{z}\", \"hovertext\": [\"NJ\"], \"locationmode\": \"USA-states\", \"locations\": [\"NJ\"], \"name\": \"\", \"z\": [4.810124939475361], \"type\": \"choropleth\"}], \"name\": \"04/13/2020\"}, {\"data\": [{\"coloraxis\": \"coloraxis\", \"customdata\": [[68824, 2805]], \"geo\": \"geo\", \"hoverlabel\": {\"namelength\": 0}, \"hovertemplate\": \"<b>%{hovertext}</b><br><br>Last_Update=04/14/2020<br>Confirmed=%{customdata[0]}<br>Deaths=%{customdata[1]}<br>Country_Region=%{location}<br>color=%{z}\", \"hovertext\": [\"NJ\"], \"locationmode\": \"USA-states\", \"locations\": [\"NJ\"], \"name\": \"\", \"z\": [4.837739909892655], \"type\": \"choropleth\"}], \"name\": \"04/14/2020\"}, {\"data\": [{\"coloraxis\": \"coloraxis\", \"customdata\": [[71030, 3156]], \"geo\": \"geo\", \"hoverlabel\": {\"namelength\": 0}, \"hovertemplate\": \"<b>%{hovertext}</b><br><br>Last_Update=04/15/2020<br>Confirmed=%{customdata[0]}<br>Deaths=%{customdata[1]}<br>Country_Region=%{location}<br>color=%{z}\", \"hovertext\": [\"NJ\"], \"locationmode\": \"USA-states\", \"locations\": [\"NJ\"], \"name\": \"\", \"z\": [4.8514418146720555], \"type\": \"choropleth\"}], \"name\": \"04/15/2020\"}, {\"data\": [{\"coloraxis\": \"coloraxis\", \"customdata\": [[75317, 3518]], \"geo\": \"geo\", \"hoverlabel\": {\"namelength\": 0}, \"hovertemplate\": \"<b>%{hovertext}</b><br><br>Last_Update=04/16/2020<br>Confirmed=%{customdata[0]}<br>Deaths=%{customdata[1]}<br>Country_Region=%{location}<br>color=%{z}\", \"hovertext\": [\"NJ\"], \"locationmode\": \"USA-states\", \"locations\": [\"NJ\"], \"name\": \"\", \"z\": [4.876893013025544], \"type\": \"choropleth\"}], \"name\": \"04/16/2020\"}, {\"data\": [{\"coloraxis\": \"coloraxis\", \"customdata\": [[78467, 3840]], \"geo\": \"geo\", \"hoverlabel\": {\"namelength\": 0}, \"hovertemplate\": \"<b>%{hovertext}</b><br><br>Last_Update=04/17/2020<br>Confirmed=%{customdata[0]}<br>Deaths=%{customdata[1]}<br>Country_Region=%{location}<br>color=%{z}\", \"hovertext\": [\"NJ\"], \"locationmode\": \"USA-states\", \"locations\": [\"NJ\"], \"name\": \"\", \"z\": [4.894687048705168], \"type\": \"choropleth\"}], \"name\": \"04/17/2020\"}, {\"data\": [{\"coloraxis\": \"coloraxis\", \"customdata\": [[88806, 4377]], \"geo\": \"geo\", \"hoverlabel\": {\"namelength\": 0}, \"hovertemplate\": \"<b>%{hovertext}</b><br><br>Last_Update=04/20/2020<br>Confirmed=%{customdata[0]}<br>Deaths=%{customdata[1]}<br>Country_Region=%{location}<br>color=%{z}\", \"hovertext\": [\"NJ\"], \"locationmode\": \"USA-states\", \"locations\": [\"NJ\"], \"name\": \"\", \"z\": [4.948442309009037], \"type\": \"choropleth\"}], \"name\": \"04/20/2020\"}, {\"data\": [{\"coloraxis\": \"coloraxis\", \"customdata\": [[92387, 4753]], \"geo\": \"geo\", \"hoverlabel\": {\"namelength\": 0}, \"hovertemplate\": \"<b>%{hovertext}</b><br><br>Last_Update=04/21/2020<br>Confirmed=%{customdata[0]}<br>Deaths=%{customdata[1]}<br>Country_Region=%{location}<br>color=%{z}\", \"hovertext\": [\"NJ\"], \"locationmode\": \"USA-states\", \"locations\": [\"NJ\"], \"name\": \"\", \"z\": [4.965610864883903], \"type\": \"choropleth\"}], \"name\": \"04/21/2020\"}, {\"data\": [{\"coloraxis\": \"coloraxis\", \"customdata\": [[95865, 5063]], \"geo\": \"geo\", \"hoverlabel\": {\"namelength\": 0}, \"hovertemplate\": \"<b>%{hovertext}</b><br><br>Last_Update=04/22/2020<br>Confirmed=%{customdata[0]}<br>Deaths=%{customdata[1]}<br>Country_Region=%{location}<br>color=%{z}\", \"hovertext\": [\"NJ\"], \"locationmode\": \"USA-states\", \"locations\": [\"NJ\"], \"name\": \"\", \"z\": [4.981660076604237], \"type\": \"choropleth\"}], \"name\": \"04/22/2020\"}, {\"data\": [{\"coloraxis\": \"coloraxis\", \"customdata\": [[99989, 5368]], \"geo\": \"geo\", \"hoverlabel\": {\"namelength\": 0}, \"hovertemplate\": \"<b>%{hovertext}</b><br><br>Last_Update=04/23/2020<br>Confirmed=%{customdata[0]}<br>Deaths=%{customdata[1]}<br>Country_Region=%{location}<br>color=%{z}\", \"hovertext\": [\"NJ\"], \"locationmode\": \"USA-states\", \"locations\": [\"NJ\"], \"name\": \"\", \"z\": [4.9999522249793165], \"type\": \"choropleth\"}], \"name\": \"04/23/2020\"}, {\"data\": [{\"coloraxis\": \"coloraxis\", \"customdata\": [[102196, 5617]], \"geo\": \"geo\", \"hoverlabel\": {\"namelength\": 0}, \"hovertemplate\": \"<b>%{hovertext}</b><br><br>Last_Update=04/24/2020<br>Confirmed=%{customdata[0]}<br>Deaths=%{customdata[1]}<br>Country_Region=%{location}<br>color=%{z}\", \"hovertext\": [\"NJ\"], \"locationmode\": \"USA-states\", \"locations\": [\"NJ\"], \"name\": \"\", \"z\": [5.009433897638966], \"type\": \"choropleth\"}], \"name\": \"04/24/2020\"}, {\"data\": [{\"coloraxis\": \"coloraxis\", \"customdata\": [[111188, 6044]], \"geo\": \"geo\", \"hoverlabel\": {\"namelength\": 0}, \"hovertemplate\": \"<b>%{hovertext}</b><br><br>Last_Update=04/27/2020<br>Confirmed=%{customdata[0]}<br>Deaths=%{customdata[1]}<br>Country_Region=%{location}<br>color=%{z}\", \"hovertext\": [\"NJ\"], \"locationmode\": \"USA-states\", \"locations\": [\"NJ\"], \"name\": \"\", \"z\": [5.0460579184061025], \"type\": \"choropleth\"}], \"name\": \"04/27/2020\"}, {\"data\": [{\"coloraxis\": \"coloraxis\", \"customdata\": [[113856, 6442]], \"geo\": \"geo\", \"hoverlabel\": {\"namelength\": 0}, \"hovertemplate\": \"<b>%{hovertext}</b><br><br>Last_Update=04/28/2020<br>Confirmed=%{customdata[0]}<br>Deaths=%{customdata[1]}<br>Country_Region=%{location}<br>color=%{z}\", \"hovertext\": [\"NJ\"], \"locationmode\": \"USA-states\", \"locations\": [\"NJ\"], \"name\": \"\", \"z\": [5.056355922067812], \"type\": \"choropleth\"}], \"name\": \"04/28/2020\"}, {\"data\": [{\"coloraxis\": \"coloraxis\", \"customdata\": [[116264, 6770]], \"geo\": \"geo\", \"hoverlabel\": {\"namelength\": 0}, \"hovertemplate\": \"<b>%{hovertext}</b><br><br>Last_Update=04/29/2020<br>Confirmed=%{customdata[0]}<br>Deaths=%{customdata[1]}<br>Country_Region=%{location}<br>color=%{z}\", \"hovertext\": [\"NJ\"], \"locationmode\": \"USA-states\", \"locations\": [\"NJ\"], \"name\": \"\", \"z\": [5.065445260544022], \"type\": \"choropleth\"}], \"name\": \"04/29/2020\"}, {\"data\": [{\"coloraxis\": \"coloraxis\", \"customdata\": [[118652, 7228]], \"geo\": \"geo\", \"hoverlabel\": {\"namelength\": 0}, \"hovertemplate\": \"<b>%{hovertext}</b><br><br>Last_Update=04/30/2020<br>Confirmed=%{customdata[0]}<br>Deaths=%{customdata[1]}<br>Country_Region=%{location}<br>color=%{z}\", \"hovertext\": [\"NJ\"], \"locationmode\": \"USA-states\", \"locations\": [\"NJ\"], \"name\": \"\", \"z\": [5.074275063089753], \"type\": \"choropleth\"}], \"name\": \"04/30/2020\"}, {\"data\": [{\"coloraxis\": \"coloraxis\", \"customdata\": [[121190, 7538]], \"geo\": \"geo\", \"hoverlabel\": {\"namelength\": 0}, \"hovertemplate\": \"<b>%{hovertext}</b><br><br>Last_Update=05/01/2020<br>Confirmed=%{customdata[0]}<br>Deaths=%{customdata[1]}<br>Country_Region=%{location}<br>color=%{z}\", \"hovertext\": [\"NJ\"], \"locationmode\": \"USA-states\", \"locations\": [\"NJ\"], \"name\": \"\", \"z\": [5.083466785473887], \"type\": \"choropleth\"}], \"name\": \"05/01/2020\"}, {\"data\": [{\"coloraxis\": \"coloraxis\", \"customdata\": [[128269, 7910]], \"geo\": \"geo\", \"hoverlabel\": {\"namelength\": 0}, \"hovertemplate\": \"<b>%{hovertext}</b><br><br>Last_Update=05/04/2020<br>Confirmed=%{customdata[0]}<br>Deaths=%{customdata[1]}<br>Country_Region=%{location}<br>color=%{z}\", \"hovertext\": [\"NJ\"], \"locationmode\": \"USA-states\", \"locations\": [\"NJ\"], \"name\": \"\", \"z\": [5.108121708941649], \"type\": \"choropleth\"}], \"name\": \"05/04/2020\"}]);\n",
              "                        }).then(function(){\n",
              "                            \n",
              "var gd = document.getElementById('b910e5f7-9343-489b-ac69-fe35976cd065');\n",
              "var x = new MutationObserver(function (mutations, observer) {{\n",
              "        var display = window.getComputedStyle(gd).display;\n",
              "        if (!display || display === 'none') {{\n",
              "            console.log([gd, 'removed!']);\n",
              "            Plotly.purge(gd);\n",
              "            observer.disconnect();\n",
              "        }}\n",
              "}});\n",
              "\n",
              "// Listen for the removal of the full notebook cells\n",
              "var notebookContainer = gd.closest('#notebook-container');\n",
              "if (notebookContainer) {{\n",
              "    x.observe(notebookContainer, {childList: true});\n",
              "}}\n",
              "\n",
              "// Listen for the clearing of the current output cell\n",
              "var outputEl = gd.closest('.output');\n",
              "if (outputEl) {{\n",
              "    x.observe(outputEl, {childList: true});\n",
              "}}\n",
              "\n",
              "                        })\n",
              "                };\n",
              "                });\n",
              "            </script>\n",
              "        </div>"
            ]
          },
          "metadata": {
            "tags": []
          }
        }
      ]
    },
    {
      "cell_type": "markdown",
      "metadata": {
        "id": "_UsfCmbyrDvN",
        "colab_type": "text"
      },
      "source": [
        "## Part 3: Required Inferences (50%)"
      ]
    },
    {
      "cell_type": "markdown",
      "metadata": {
        "id": "YRsp45nWrDvO",
        "colab_type": "text"
      },
      "source": [
        "### 3.1 Predicting the COVID19 fatality & #cases over next one week"
      ]
    },
    {
      "cell_type": "markdown",
      "metadata": {
        "id": "Nu4caNqJrDvO",
        "colab_type": "raw"
      },
      "source": [
        "Use your COVID19 dataset to predict the COVID19 fatality and #cases for the next one week. Use the following four prediction techniques: (i) AR(3), (ii) AR(5), (iii) EWMA with alpha = 0.5, and (iv) EWMA with alpha = 0.8. Make sure that your dataset allows you to verify the one week prediction. For example, use the first three weeks of data to predict the fourth week, and report the accuracy of your predictions using the actual fourth week data. Use metrics learned in class (MAPE as a % and MSE) to report accuracy numbers."
      ]
    },
    {
      "cell_type": "markdown",
      "metadata": {
        "id": "qxgW-yXprDvP",
        "colab_type": "text"
      },
      "source": [
        "#### 3.1.1 AR(3)"
      ]
    },
    {
      "cell_type": "code",
      "metadata": {
        "id": "cnmSez7frDvQ",
        "colab_type": "code",
        "colab": {}
      },
      "source": [
        ""
      ],
      "execution_count": 0,
      "outputs": []
    },
    {
      "cell_type": "code",
      "metadata": {
        "id": "ax6LohOsrDvX",
        "colab_type": "code",
        "colab": {}
      },
      "source": [
        ""
      ],
      "execution_count": 0,
      "outputs": []
    },
    {
      "cell_type": "code",
      "metadata": {
        "id": "nvUcgDLCrDvb",
        "colab_type": "code",
        "colab": {}
      },
      "source": [
        ""
      ],
      "execution_count": 0,
      "outputs": []
    },
    {
      "cell_type": "markdown",
      "metadata": {
        "id": "Qlzl8snmrDvf",
        "colab_type": "text"
      },
      "source": [
        "#### 3.1.2 AR(5)"
      ]
    },
    {
      "cell_type": "code",
      "metadata": {
        "id": "UD4Z4IInrDvg",
        "colab_type": "code",
        "colab": {}
      },
      "source": [
        ""
      ],
      "execution_count": 0,
      "outputs": []
    },
    {
      "cell_type": "code",
      "metadata": {
        "id": "vtxCc3c8rDvl",
        "colab_type": "code",
        "colab": {}
      },
      "source": [
        ""
      ],
      "execution_count": 0,
      "outputs": []
    },
    {
      "cell_type": "code",
      "metadata": {
        "id": "5rtgFjEkrDvp",
        "colab_type": "code",
        "colab": {}
      },
      "source": [
        ""
      ],
      "execution_count": 0,
      "outputs": []
    },
    {
      "cell_type": "markdown",
      "metadata": {
        "id": "k12RJGk_rDvv",
        "colab_type": "text"
      },
      "source": [
        "#### 3.1.3 EWMA with alpha = 0.5"
      ]
    },
    {
      "cell_type": "code",
      "metadata": {
        "id": "Ilg6MTUarDvx",
        "colab_type": "code",
        "colab": {}
      },
      "source": [
        ""
      ],
      "execution_count": 0,
      "outputs": []
    },
    {
      "cell_type": "code",
      "metadata": {
        "id": "_mVY0tgwrDv4",
        "colab_type": "code",
        "colab": {}
      },
      "source": [
        ""
      ],
      "execution_count": 0,
      "outputs": []
    },
    {
      "cell_type": "code",
      "metadata": {
        "id": "_n8shPkWrDv8",
        "colab_type": "code",
        "colab": {}
      },
      "source": [
        ""
      ],
      "execution_count": 0,
      "outputs": []
    },
    {
      "cell_type": "markdown",
      "metadata": {
        "id": "yOlMoV8IrDwC",
        "colab_type": "text"
      },
      "source": [
        "#### 3.1.4 EWMA with alpha = 0.8"
      ]
    },
    {
      "cell_type": "code",
      "metadata": {
        "id": "AmOxgEGTrDwD",
        "colab_type": "code",
        "colab": {}
      },
      "source": [
        ""
      ],
      "execution_count": 0,
      "outputs": []
    },
    {
      "cell_type": "code",
      "metadata": {
        "id": "RQN7UQigrDwI",
        "colab_type": "code",
        "colab": {}
      },
      "source": [
        ""
      ],
      "execution_count": 0,
      "outputs": []
    },
    {
      "cell_type": "code",
      "metadata": {
        "id": "-8aDtlswrDwN",
        "colab_type": "code",
        "colab": {}
      },
      "source": [
        ""
      ],
      "execution_count": 0,
      "outputs": []
    },
    {
      "cell_type": "code",
      "metadata": {
        "id": "crWPikrxrDwS",
        "colab_type": "code",
        "colab": {}
      },
      "source": [
        ""
      ],
      "execution_count": 0,
      "outputs": []
    },
    {
      "cell_type": "markdown",
      "metadata": {
        "id": "YNuKlpiorDwX",
        "colab_type": "text"
      },
      "source": [
        "### 3.2 Apply the Wald’s test, Z-test, and t-test to check whether the mean of COVID19 deaths and #cases are different from the first week to the last week"
      ]
    },
    {
      "cell_type": "markdown",
      "metadata": {
        "id": "oexCKiSvrDwX",
        "colab_type": "raw"
      },
      "source": [
        "Apply the Wald’s test, Z-test, and t-test (assume all are applicable) to check whether the mean of COVID19 deaths and #cases are different from the first week to the last week in your dataset. Use MLE for Wald’s test as the estimator. Note, you have to report results for deaths and #cases separately, so think of this as two inferences. After running the test and reporting the numbers, check and comment on whether the tests are applicable or not. First use one-sample tests by computing the mean of the first week data and using that as guess for last week data. Then, repeat with a two-sample version of Wald and t-tests. For t-test, use both paired and unpaired tests. Use alpha value of 0.05 for all. For t-test, the threshold to check against is tn-1, alpha/2 for two-tailed and tn-1, alpha for one-tailed, where n is the number of data points. You can find these values in online t tables, similar to z tables."
      ]
    },
    {
      "cell_type": "markdown",
      "metadata": {
        "id": "uj6dt12hEhot",
        "colab_type": "text"
      },
      "source": [
        "### Data Preprocessing"
      ]
    },
    {
      "cell_type": "code",
      "metadata": {
        "id": "A1zGkbWC1pKB",
        "colab_type": "code",
        "outputId": "b18b8b11-9073-403c-aa62-eff373223f27",
        "colab": {
          "base_uri": "https://localhost:8080/",
          "height": 164
        }
      },
      "source": [
        "covid_sel.head(2)"
      ],
      "execution_count": 0,
      "outputs": [
        {
          "output_type": "execute_result",
          "data": {
            "text/html": [
              "<div>\n",
              "<style scoped>\n",
              "    .dataframe tbody tr th:only-of-type {\n",
              "        vertical-align: middle;\n",
              "    }\n",
              "\n",
              "    .dataframe tbody tr th {\n",
              "        vertical-align: top;\n",
              "    }\n",
              "\n",
              "    .dataframe thead th {\n",
              "        text-align: right;\n",
              "    }\n",
              "</style>\n",
              "<table border=\"1\" class=\"dataframe\">\n",
              "  <thead>\n",
              "    <tr style=\"text-align: right;\">\n",
              "      <th></th>\n",
              "      <th>date</th>\n",
              "      <th>dailypositvecases</th>\n",
              "      <th>dailynegativecases</th>\n",
              "      <th>dailydeath</th>\n",
              "      <th>dailytestingdone</th>\n",
              "      <th>positiveIncrease</th>\n",
              "      <th>negativeIncrease</th>\n",
              "      <th>deathIncrease</th>\n",
              "      <th>totalTestResultsIncrease</th>\n",
              "      <th>cumpositive</th>\n",
              "      <th>cumnegative</th>\n",
              "      <th>cumdeath</th>\n",
              "      <th>cumtotalTestResults</th>\n",
              "    </tr>\n",
              "  </thead>\n",
              "  <tbody>\n",
              "    <tr>\n",
              "      <th>0</th>\n",
              "      <td>2020-05-07</td>\n",
              "      <td>68760</td>\n",
              "      <td>90580</td>\n",
              "      <td>4341</td>\n",
              "      <td>159340</td>\n",
              "      <td>1745</td>\n",
              "      <td>1993</td>\n",
              "      <td>252</td>\n",
              "      <td>3738</td>\n",
              "      <td>133635</td>\n",
              "      <td>159023</td>\n",
              "      <td>8801</td>\n",
              "      <td>292658</td>\n",
              "    </tr>\n",
              "    <tr>\n",
              "      <th>1</th>\n",
              "      <td>2020-05-06</td>\n",
              "      <td>64875</td>\n",
              "      <td>68443</td>\n",
              "      <td>4460</td>\n",
              "      <td>133318</td>\n",
              "      <td>1297</td>\n",
              "      <td>0</td>\n",
              "      <td>305</td>\n",
              "      <td>1297</td>\n",
              "      <td>131890</td>\n",
              "      <td>157030</td>\n",
              "      <td>8549</td>\n",
              "      <td>288920</td>\n",
              "    </tr>\n",
              "  </tbody>\n",
              "</table>\n",
              "</div>"
            ],
            "text/plain": [
              "         date  dailypositvecases  ...  cumdeath  cumtotalTestResults\n",
              "0  2020-05-07              68760  ...      8801               292658\n",
              "1  2020-05-06              64875  ...      8549               288920\n",
              "\n",
              "[2 rows x 13 columns]"
            ]
          },
          "metadata": {
            "tags": []
          },
          "execution_count": 30
        }
      ]
    },
    {
      "cell_type": "code",
      "metadata": {
        "id": "0gKrlNjvD1uz",
        "colab_type": "code",
        "colab": {}
      },
      "source": [
        "st_dt = pd.to_datetime('2020-03-09').strftime('%Y-%m-%d')\n",
        "# print(st_dt)\n",
        "end_dt= pd.to_datetime('2020-05-04').strftime('%Y-%m-%d')\n",
        "# print(end_dt)\n",
        "\n",
        "covid_sel_2 = covid_sel[ (covid_sel['date']>=st_dt) & (covid_sel['date']<= end_dt)] \n",
        "covid_sel_2 = covid_sel_2.sort_values('date')\n"
      ],
      "execution_count": 0,
      "outputs": []
    },
    {
      "cell_type": "code",
      "metadata": {
        "id": "U_EFTEb4vHl6",
        "colab_type": "code",
        "colab": {}
      },
      "source": [
        "covid_sel_2 = covid_sel_2.tail(14)"
      ],
      "execution_count": 0,
      "outputs": []
    },
    {
      "cell_type": "code",
      "metadata": {
        "id": "9dIscZnc1pIK",
        "colab_type": "code",
        "colab": {}
      },
      "source": [
        "\n",
        "test_df = covid_sel_2[['dailypositvecases', 'dailydeath' ,'date']] \n",
        "week_1 = test_df.head(7)\n",
        "week_1_cases = week_1['dailypositvecases'].tolist()\n",
        "w1_deaths = week_1['dailydeath'].tolist()\n",
        "\n",
        "\n",
        "\n",
        "last_week_df = test_df.tail(7)\n",
        "week_last_cases = last_week_df['dailypositvecases'].tolist()\n",
        "w_last_deaths =  last_week_df['dailydeath'].tolist()"
      ],
      "execution_count": 0,
      "outputs": []
    },
    {
      "cell_type": "markdown",
      "metadata": {
        "id": "3MCtUUt38LPd",
        "colab_type": "text"
      },
      "source": [
        "### 3.2.1 One Sample tests "
      ]
    },
    {
      "cell_type": "markdown",
      "metadata": {
        "id": "Qsmz-5mXWgfO",
        "colab_type": "text"
      },
      "source": [
        "### First Hypothesis\n",
        "\n",
        "#### H0 : Mean of COVID19 DAILY POSITIVE CASES are same for the second last week and last week \n",
        "#### HA : Mean of COVID19 DAILY POSITIVE CASES are NOT same for the second last week and last week\n",
        "\n",
        "\n",
        "---\n",
        "\n",
        "\n",
        "\n",
        "\n",
        "### Second Hypothesis\n",
        "\n",
        "#### H0: Mean of number of COVID19 deaths are same for the second last and last week \n",
        "#### HA : Mean of COVID19 deaths are NOT same for the second last week and last week"
      ]
    },
    {
      "cell_type": "markdown",
      "metadata": {
        "id": "aJQzEuGP8OXT",
        "colab_type": "text"
      },
      "source": [
        "**One sample Wald's Test**"
      ]
    },
    {
      "cell_type": "code",
      "metadata": {
        "id": "t9l1JnPm1pF_",
        "colab_type": "code",
        "outputId": "7c8c05e0-c0a5-4e26-fbcb-5d37c8df09a0",
        "colab": {
          "base_uri": "https://localhost:8080/",
          "height": 155
        }
      },
      "source": [
        "import math\n",
        "def get_parameters_mle(X):\n",
        "    # assuming Poisson Distribution\n",
        "    lambda_hat = np.mean(X)\n",
        "    se_hat = math.sqrt(lambda_hat)\n",
        "    return lambda_hat, se_hat\n",
        "\n",
        "def get_walds_statistic(theta_0,data):\n",
        "    theta_hat, se_hat = get_parameters_mle(data)\n",
        "    w_stat = (theta_hat - theta_0) / se_hat\n",
        "    return w_stat\n",
        "\n",
        "# For daily positive cases - \n",
        "theta_0_cases = np.mean(week_1_cases)\n",
        "w_stat = get_walds_statistic(theta_0_cases, week_last_cases)\n",
        "print(\"\\n\\nThe Wald's Statistic for the first hypothesis is \",w_stat )\n",
        "z_a2 = 1.96 \n",
        "if abs(w_stat) <= z_a2:\n",
        "    print(\"Accept the first Hypothesis (Daily Cases) \")\n",
        "else:\n",
        "    print(\"Reject the first Hypothesis (Daily Cases) \")\n",
        "\n",
        "# For daily deaths - \n",
        "\n",
        "theta_0_deaths = np.mean(w1_deaths)\n",
        "w_stat_2 =get_walds_statistic(theta_0_deaths, w_last_deaths)\n",
        "print(\"\\n\\nThe Wald's Statistic for the Second hypothesis is \",w_stat_2 )\n",
        "\n",
        "if abs(w_stat_2) <= z_a2:\n",
        "    print(\"Accept the second Hypothesis (Daily deaths) \")\n",
        "else:\n",
        "    print(\"Reject the second Hypothesis (Daily deaths) \")"
      ],
      "execution_count": 0,
      "outputs": [
        {
          "output_type": "stream",
          "text": [
            "\n",
            "\n",
            "The Wald's Statistic for the first hypothesis is  36.961061662245704\n",
            "Reject the first Hypothesis (Daily Cases) \n",
            "\n",
            "\n",
            "The Wald's Statistic for the Second hypothesis is  15.670344607445339\n",
            "Reject the second Hypothesis (Daily deaths) \n"
          ],
          "name": "stdout"
        }
      ]
    },
    {
      "cell_type": "markdown",
      "metadata": {
        "id": "6xplC3SRpN4X",
        "colab_type": "text"
      },
      "source": [
        "**Assumptions for one sample Wald's Test**\n",
        "\n",
        "\n",
        "1.   Estimate theta_hat is asymptotically normal\n",
        "\n",
        "**Does the test apply?**\n",
        "\n"
      ]
    },
    {
      "cell_type": "markdown",
      "metadata": {
        "id": "bggTknA0_QfB",
        "colab_type": "text"
      },
      "source": [
        "**One sample Z test**"
      ]
    },
    {
      "cell_type": "code",
      "metadata": {
        "id": "qei5hScP1pDR",
        "colab_type": "code",
        "outputId": "b6cb9a67-0398-471c-fbbd-8bbd495113bb",
        "colab": {
          "base_uri": "https://localhost:8080/",
          "height": 155
        }
      },
      "source": [
        "def get_z_statistic(mu_0, data, sigma_pop):\n",
        "    sample_mean = np.mean(data)\n",
        "    n = len(data)\n",
        "    z_stat = (sample_mean - mu_0) / (sigma_pop /math.sqrt(n))\n",
        "    return z_stat\n",
        "\n",
        "mu_0_cases = np.mean(week_1_cases)\n",
        "mu_0_deaths = np.mean(w1_deaths)\n",
        "population_cases_sigma = covid_sel['dailypositvecases'].std()\n",
        "population_deaths_sigma = covid_sel['dailydeath'].std()\n",
        "\n",
        "# For daily positive cases - \n",
        "\n",
        "z_stat = get_z_statistic(mu_0_cases, week_last_cases, population_cases_sigma)\n",
        "print(\"\\n\\nThe Z Statistic for the first hypothesis is \",z_stat )\n",
        "z_a2 = 1.96 \n",
        "if abs(z_stat) < z_a2:\n",
        "    print(\"Accept the first Hypothesis (Daily Cases) \")\n",
        "else:\n",
        "    print(\"Reject the first Hypothesis (Daily Cases) \")\n",
        "\n",
        "# For daily deaths - \n",
        "\n",
        "z_stat_2 =get_z_statistic(mu_0_deaths, w_last_deaths, population_deaths_sigma)\n",
        "print(\"\\n\\nThe Z Statistic for the Second hypothesis is \",z_stat_2 )\n",
        "\n",
        "if abs(z_stat_2) <= z_a2:\n",
        "    print(\"Accept the second Hypothesis (Daily deaths) \")\n",
        "else:\n",
        "    print(\"Reject the second Hypothesis (Daily deaths) \")"
      ],
      "execution_count": 0,
      "outputs": [
        {
          "output_type": "stream",
          "text": [
            "\n",
            "\n",
            "The Z Statistic for the first hypothesis is  1.0034904939513414\n",
            "Accept the first Hypothesis (Daily Cases) \n",
            "\n",
            "\n",
            "The Z Statistic for the Second hypothesis is  1.707520299137009\n",
            "Accept the second Hypothesis (Daily deaths) \n"
          ],
          "name": "stdout"
        }
      ]
    },
    {
      "cell_type": "markdown",
      "metadata": {
        "id": "_FHsh9yReqoe",
        "colab_type": "text"
      },
      "source": [
        "**Assumptions for one sample Z Test**\n",
        "\n",
        "\n",
        "1.   Since n is small in our case (CLT won't apply) , We can only use Z test if {X1, X2 .. Xn} are iid Nor(u, sigma square)\n",
        "2.   True standard deviation of the entire data is known \n",
        "\n",
        "**Does the test apply?**\n",
        "Z test wont work if n is small and sample is not normally distributed. \n",
        "\n",
        "From our tests from the following part we see that our sample is infact not normally distributed. \n",
        "Hence Z test will not apply. \n",
        "\n",
        "\n",
        "---\n",
        "\n",
        "\n",
        "\n",
        "---\n",
        "\n"
      ]
    },
    {
      "cell_type": "markdown",
      "metadata": {
        "id": "rEMFD80J_v-q",
        "colab_type": "text"
      },
      "source": [
        "**One sample t test**"
      ]
    },
    {
      "cell_type": "code",
      "metadata": {
        "id": "7Scx5Zos1hUq",
        "colab_type": "code",
        "outputId": "e60dfdb5-cf6b-4dda-d46d-46fb03cb3d0e",
        "colab": {
          "base_uri": "https://localhost:8080/",
          "height": 34
        }
      },
      "source": [
        "dof = len(week_last_cases) - 1\n",
        "print(dof)\n",
        "alpha = 0.05\n",
        "t_val = 2.4469"
      ],
      "execution_count": 0,
      "outputs": [
        {
          "output_type": "stream",
          "text": [
            "6\n"
          ],
          "name": "stdout"
        }
      ]
    },
    {
      "cell_type": "code",
      "metadata": {
        "id": "dLIemmH11o8s",
        "colab_type": "code",
        "outputId": "291fda42-af82-4029-d9e9-b3a94ae0d2f5",
        "colab": {
          "base_uri": "https://localhost:8080/",
          "height": 155
        }
      },
      "source": [
        "\n",
        "def get_sample_sd(D):\n",
        "\tmean = np.mean(D)\n",
        "\tsq_sum = sum([(i - mean) * (i-mean) for i in D])\n",
        "\treturn math.sqrt(sq_sum / len(D))\n",
        " \n",
        "def get_t_statistic(mu_0, data):\n",
        "    sample_std = get_sample_sd(data)\n",
        "    sample_mean = np.mean(data)\n",
        "    n = len(data)\n",
        "    w_stat = (sample_mean - mu_0) / (sample_std /math.sqrt(n))\n",
        "    return w_stat\n",
        "\n",
        "mu_0_cases = np.mean(week_1_cases)\n",
        "mu_0_deaths = np.mean(w1_deaths)\n",
        "\n",
        "\n",
        "# For daily positive cases - \n",
        "\n",
        "t_stat = get_t_statistic(mu_0_cases, week_last_cases)\n",
        "print(\"\\n\\nThe T test Statistic for the first hypothesis is \",t_stat )\n",
        "\n",
        "\n",
        "if abs(t_stat) <= t_val:\n",
        "    print(\"Accept the first Hypothesis (Daily Cases) \")\n",
        "else:\n",
        "    print(\"Reject the first Hypothesis (Daily Cases) \")\n",
        "\n",
        "# For daily deaths - \n",
        "\n",
        "t_stat_2 =get_t_statistic(mu_0_deaths, w_last_deaths)\n",
        "print(\"\\n\\nThe T test Statistic for the Second hypothesis is \",t_stat_2 )\n",
        "\n",
        "if abs(t_stat_2) < t_val:\n",
        "    print(\"Accept the second Hypothesis (Daily deaths) \")\n",
        "else:\n",
        "    print(\"Reject the second Hypothesis (Daily deaths) \")"
      ],
      "execution_count": 0,
      "outputs": [
        {
          "output_type": "stream",
          "text": [
            "\n",
            "\n",
            "The T test Statistic for the first hypothesis is  9.830213674075742\n",
            "Reject the first Hypothesis (Daily Cases) \n",
            "\n",
            "\n",
            "The T test Statistic for the Second hypothesis is  8.58209342573082\n",
            "Reject the second Hypothesis (Daily deaths) \n"
          ],
          "name": "stdout"
        }
      ]
    },
    {
      "cell_type": "markdown",
      "metadata": {
        "id": "Xv7JdroGlD4E",
        "colab_type": "text"
      },
      "source": [
        "**Assumptions - **\n",
        "\n",
        "\n",
        "1.   \n",
        "\n",
        "Applicable as it is useful when n < 30, smaller samples.\n",
        "\n"
      ]
    },
    {
      "cell_type": "markdown",
      "metadata": {
        "id": "fHMAWR9ucfx-",
        "colab_type": "text"
      },
      "source": [
        "### 3.3.2 Two Sample Wald's Test"
      ]
    },
    {
      "cell_type": "markdown",
      "metadata": {
        "colab_type": "text",
        "id": "Ht4eYNNbcqlD"
      },
      "source": [
        "#### First Hypothesis\n",
        "\n",
        "##### H0 : Mean of COVID19 DAILY POSITIVE CASES are same for the first week and last week \n",
        "##### HA : Mean of COVID19 DAILY POSITIVE CASES are NOT same for the first week and last week\n",
        "\n",
        "\n",
        "---\n",
        "\n",
        "\n",
        "\n",
        "---\n",
        "\n",
        "\n",
        "#### Second Hypothesis\n",
        "\n",
        "##### H0: Mean of number of COVID19 deaths are same for the first week and last week \n",
        "##### HA : Mean of COVID19 deaths are NOT same for the first week and last week"
      ]
    },
    {
      "cell_type": "code",
      "metadata": {
        "id": "BJlmzUkJ1o5-",
        "colab_type": "code",
        "outputId": "badd127d-e7a2-4e6b-dadc-991a9002ad5a",
        "colab": {
          "base_uri": "https://localhost:8080/",
          "height": 155
        }
      },
      "source": [
        "# Create delta \n",
        "delta_cases = [i-j for i,j in zip(week_1_cases, week_last_cases)]\n",
        "delta_deaths = [i-j for i,j in zip(w1_deaths, w_last_deaths)]\n",
        "\n",
        "\n",
        "delta_hat_cases = np.mean(week_1_cases) - np.mean(week_last_cases)\n",
        "\n",
        "se_hat_cases = math.sqrt(np.var(delta_cases))\n",
        "\n",
        "se_hat_deaths = math.sqrt(np.var(delta_deaths))\n",
        "\n",
        "delta_hat_deaths = np.mean(w1_deaths) - np.mean(w_last_deaths)\n",
        "\n",
        "w_stat_1 = delta_hat_cases / se_hat_cases\n",
        "\n",
        "w_stat_2 = delta_hat_deaths / se_hat_deaths\n",
        "\n",
        "print(\"\\n\\nThe Wald's Statistic for the first hypothesis is \",w_stat_1 )\n",
        "z_a2 = 1.96 \n",
        "if abs(w_stat_1) <= z_a2:\n",
        "    print(\"Accept the first Hypothesis (Daily Cases) \")\n",
        "else:\n",
        "    print(\"Reject the first Hypothesis (Daily Cases) \")\n",
        "\n",
        "print(\"\\n\\nThe Wald's Statistic for the first hypothesis is \",w_stat_1 )\n",
        "z_a2 = 1.96 \n",
        "if abs(w_stat_2) <= z_a2:\n",
        "    print(\"Accept the first Hypothesis (Daily Cases) \")\n",
        "else:\n",
        "    print(\"Reject the first Hypothesis (Daily Cases) \")\n"
      ],
      "execution_count": 0,
      "outputs": [
        {
          "output_type": "stream",
          "text": [
            "\n",
            "\n",
            "The Wald's Statistic for the first hypothesis is  -6.325057665298436\n",
            "Reject the first Hypothesis (Daily Cases) \n",
            "\n",
            "\n",
            "The Wald's Statistic for the first hypothesis is  -6.325057665298436\n",
            "Reject the first Hypothesis (Daily Cases) \n"
          ],
          "name": "stdout"
        }
      ]
    },
    {
      "cell_type": "markdown",
      "metadata": {
        "id": "hD4TzOiqPSz6",
        "colab_type": "text"
      },
      "source": [
        "### Two sample Paired T test "
      ]
    },
    {
      "cell_type": "code",
      "metadata": {
        "id": "hllvL1t01o0J",
        "colab_type": "code",
        "colab": {}
      },
      "source": [
        "# Create delta \n",
        "delta_cases = [i-j for i,j in zip(week_1_cases, week_last_cases)]\n",
        "delta_deaths = [i-j for i,j in zip(w1_deaths, w_last_deaths)]\n",
        "\n",
        "delta_cases_bar = np.mean(delta_cases)\n",
        "sample_dev_cases = math.sqrt(np.var(delta_cases))\n",
        "\n",
        "T = delta_cases_bar / sample_dev_cases\n",
        "\n",
        "print(\"\\n\\nThe T test Statistic for the first hypothesis is \",T )\n",
        "\n",
        "t_val = 2.4469\n",
        "\n",
        "if abs(T) <= t_val:\n",
        "    print(\"Accept the first Hypothesis (Daily Cases) \")\n",
        "else:\n",
        "    print(\"Reject the first Hypothesis (Daily Cases) \")\n",
        "\n",
        "delta_cases_deaths = np.mean(delta_deaths)\n",
        "sample_dev_death = math.sqrt(np.var(delta_deaths))\n",
        "\n",
        "T = delta_cases_deaths / sample_dev_death\n",
        "\n",
        "t_val = 2.4469\n",
        "\n",
        "if abs(T) <= t_val:\n",
        "    print(\"Accept the second Hypothesis (Daily deaths) \")\n",
        "else:\n",
        "    print(\"Reject the second Hypothesis (Daily deaths) \")\n",
        "\n"
      ],
      "execution_count": 0,
      "outputs": []
    },
    {
      "cell_type": "markdown",
      "metadata": {
        "id": "E_Gx_T9umNNS",
        "colab_type": "text"
      },
      "source": [
        "**Assumption**\n",
        "The sample D which is the element-wise difference of the two samples (last week and second last week) should be normally distributed. "
      ]
    },
    {
      "cell_type": "markdown",
      "metadata": {
        "id": "GKdIfZrePgDL",
        "colab_type": "text"
      },
      "source": [
        "### Two sample unpaired T test "
      ]
    },
    {
      "cell_type": "code",
      "metadata": {
        "id": "uroBUTfn1owv",
        "colab_type": "code",
        "outputId": "37d766c3-8020-40c4-8f3a-c97789f7e6d0",
        "colab": {
          "base_uri": "https://localhost:8080/",
          "height": 103
        }
      },
      "source": [
        "# Create delta \n",
        "delta_cases = [i-j for i,j in zip(week_1_cases, week_last_cases)]\n",
        "delta_deaths = [i-j for i,j in zip(w1_deaths, w_last_deaths)]\n",
        "\n",
        "delta_cases_bar = np.mean(delta_cases)\n",
        "\n",
        "var_x_cases = np.var(week_1_cases)\n",
        "var_y_cases = np.var(week_last_cases)\n",
        "\n",
        "T = delta_cases_bar / math.sqrt(var_x_cases / len(week_1_cases) + var_y_cases / len(week_last_cases))\n",
        "\n",
        "print(\"\\n\\nThe T test Statistic for the first hypothesis is \",T )\n",
        "\n",
        "t_val = 2.4469\n",
        "\n",
        "if abs(T) <= t_val:\n",
        "    print(\"Accept the first Hypothesis (Daily Cases) \")\n",
        "else:\n",
        "    print(\"Reject the first Hypothesis (Daily Cases) \")\n",
        "\n",
        "delta_cases_deaths = np.mean(delta_deaths)\n",
        "\n",
        "var_x_deaths = np.var(w1_deaths)\n",
        "var_y_deaths = np.var(w_last_deaths)\n",
        "\n",
        "T = delta_cases_deaths / math.sqrt(var_x_deaths / len(w1_deaths) + var_y_deaths / len(w_last_deaths))\n",
        "\n",
        "t_val = 2.4469\n",
        "\n",
        "if abs(T) <= t_val:\n",
        "    print(\"Accept the second Hypothesis (Daily deaths) \")\n",
        "else:\n",
        "    print(\"Reject the second Hypothesis (Daily deaths) \")"
      ],
      "execution_count": 0,
      "outputs": [
        {
          "output_type": "stream",
          "text": [
            "\n",
            "\n",
            "The T test Statistic for the first hypothesis is  -6.006919588888745\n",
            "Reject the first Hypothesis (Daily Cases) \n",
            "Reject the second Hypothesis (Daily deaths) \n"
          ],
          "name": "stdout"
        }
      ]
    },
    {
      "cell_type": "markdown",
      "metadata": {
        "id": "Qe7f2O4TrDxH",
        "colab_type": "text"
      },
      "source": [
        "### 3.3 Equality of distributions (distribution of first week and last week), using K-S test and Permutation test"
      ]
    },
    {
      "cell_type": "markdown",
      "metadata": {
        "id": "Y1HYEuGerDxI",
        "colab_type": "raw"
      },
      "source": [
        "Repeat inference 2 above but for equality of distributions (distribution of first week and last week), using K-S test and Permutation test. For the K-S test, use both 1-sample and 2-sample tests. For the 1-sample test, try Poisson, Geometric, and Binomial. To obtain parameters of these distributions to check against in 1-sample KS, use MME on first week’s data to obtain parameters of the distribution, and then check whether the last week’s data has the distribution with the obtained MME parameters. Use a threshold of 0.05 for both K-S test and Permutation test."
      ]
    },
    {
      "cell_type": "markdown",
      "metadata": {
        "id": "NaAmF1KZrDxJ",
        "colab_type": "text"
      },
      "source": [
        "#### 3.3.1 K-S Test"
      ]
    },
    {
      "cell_type": "code",
      "metadata": {
        "id": "FVa855oPrDxJ",
        "colab_type": "code",
        "colab": {}
      },
      "source": [
        ""
      ],
      "execution_count": 0,
      "outputs": []
    },
    {
      "cell_type": "code",
      "metadata": {
        "id": "Iu4eEtXRrDxN",
        "colab_type": "code",
        "colab": {}
      },
      "source": [
        ""
      ],
      "execution_count": 0,
      "outputs": []
    },
    {
      "cell_type": "code",
      "metadata": {
        "id": "5pE4ji36rDxS",
        "colab_type": "code",
        "colab": {}
      },
      "source": [
        ""
      ],
      "execution_count": 0,
      "outputs": []
    },
    {
      "cell_type": "markdown",
      "metadata": {
        "id": "xp83Y3sfrDxa",
        "colab_type": "text"
      },
      "source": [
        "#### 3.3.2 Permutation Test"
      ]
    },
    {
      "cell_type": "code",
      "metadata": {
        "id": "0R_9Y64UrDxb",
        "colab_type": "code",
        "colab": {}
      },
      "source": [
        ""
      ],
      "execution_count": 0,
      "outputs": []
    },
    {
      "cell_type": "code",
      "metadata": {
        "id": "xsXo_0mcrDxk",
        "colab_type": "code",
        "colab": {}
      },
      "source": [
        ""
      ],
      "execution_count": 0,
      "outputs": []
    },
    {
      "cell_type": "code",
      "metadata": {
        "id": "vPDS_2cDrDxn",
        "colab_type": "code",
        "colab": {}
      },
      "source": [
        ""
      ],
      "execution_count": 0,
      "outputs": []
    },
    {
      "cell_type": "markdown",
      "metadata": {
        "id": "5Q9h560VrDxp",
        "colab_type": "text"
      },
      "source": [
        "### 3.4 Pearson correlation for #deaths and Total Traded Stocks,  #cases and Total Traded Stocks\n"
      ]
    },
    {
      "cell_type": "markdown",
      "metadata": {
        "id": "KIcE0EAUrDxp",
        "colab_type": "raw"
      },
      "source": [
        "Report the Pearson correlation value for #deaths and your X dataset, and also for #cases and your X dataset over one month of data. Use the most relevant column in X to compare against the covid numbers."
      ]
    },
    {
      "cell_type": "code",
      "metadata": {
        "id": "VmwcihSarDxq",
        "colab_type": "code",
        "colab": {}
      },
      "source": [
        "import math\n",
        "def p_coeff(a,b):\n",
        "\n",
        "    ab_n1 = 0 \n",
        "    ab_d1 = 0 \n",
        "    ab_d2 = 0\n",
        "\n",
        "    mean_a = sum(a)/len(a)\n",
        "    mean_b = sum(b)/len(b)\n",
        "    for i, j in zip(a,b):\n",
        "        ab_n1 += (i- mean_a) * (j- mean_b)\n",
        "        ab_d1 += (i- mean_a) * (i- mean_a)\n",
        "        ab_d2 += (j- mean_b) * (j- mean_b)\n",
        "    ab = ab_n1 / (math.sqrt(ab_d1) * math.sqrt(ab_d2))\n",
        "    return ab"
      ],
      "execution_count": 0,
      "outputs": []
    },
    {
      "cell_type": "markdown",
      "metadata": {
        "id": "ZFBPou-MrDxs",
        "colab_type": "text"
      },
      "source": [
        "#### Calculating Total Traded Stocks for the Day"
      ]
    },
    {
      "cell_type": "code",
      "metadata": {
        "id": "9mZ0WFWYrDxt",
        "colab_type": "code",
        "colab": {}
      },
      "source": [
        "comb_df['UberTradedStocks']= comb_df['UberVolume']* comb_df['UberClosingPrice']\n",
        "comb_df['LyftTradedStocks']= comb_df['LyftVolume'] * comb_df['LyftClosingPrice']"
      ],
      "execution_count": 0,
      "outputs": []
    },
    {
      "cell_type": "markdown",
      "metadata": {
        "id": "mOT2sRBErDxv",
        "colab_type": "text"
      },
      "source": [
        "#### 3.4.1 Pearson correlation for #deaths and Total Traded Stocks"
      ]
    },
    {
      "cell_type": "code",
      "metadata": {
        "id": "o7lNaa-KrDxv",
        "colab_type": "code",
        "colab": {},
        "outputId": "06f5724c-7100-4c6a-8e3a-e9b0dc8f2b10"
      },
      "source": [
        "corr= p_coeff(comb_df['cumdeath'], comb_df['UberTradedStocks'])\n",
        "print('\\033[1m' + 'Pearsons correlation of #deaths and Stock Price of Uber: %.3f' % corr)\n",
        "\n",
        "corr = p_coeff(comb_df['cumdeath'], comb_df['LyftTradedStocks'])\n",
        "print('\\033[1m' + 'Pearsons correlation of #deaths and Stock Price of Lyft: %.3f' % corr)\n"
      ],
      "execution_count": 0,
      "outputs": [
        {
          "output_type": "stream",
          "text": [
            "\u001b[1mPearsons correlation of #deaths and Stock Price of Uber: -0.723\n",
            "\u001b[1mPearsons correlation of #deaths and Stock Price of Lyft: -0.406\n"
          ],
          "name": "stdout"
        }
      ]
    },
    {
      "cell_type": "markdown",
      "metadata": {
        "id": "G3t6V_M2rDxy",
        "colab_type": "text"
      },
      "source": [
        "######  Inference: We can observe a high negative linear correlation between stock prices of Uber/Lyft v/s the Deaths, this means that increase in #deaths day on day has adversely affected ride sharing company with less people moving out"
      ]
    },
    {
      "cell_type": "markdown",
      "metadata": {
        "id": "T8L6nSOrrDxy",
        "colab_type": "text"
      },
      "source": [
        "#### 3.4.2 Pearson correlation for #cases and Stock Price"
      ]
    },
    {
      "cell_type": "code",
      "metadata": {
        "id": "DjJPz6udrDxz",
        "colab_type": "code",
        "colab": {},
        "outputId": "6ceae6eb-40fe-4637-c531-80fb9a717972"
      },
      "source": [
        "corr= p_coeff(comb_df['cumpositive'],  comb_df['UberTradedStocks'])\n",
        "print('\\033[1m' + 'Pearsons correlation of #Confirmed Cases and Stock Price of Uber: %.3f' % corr)\n",
        "\n",
        "corr= p_coeff(comb_df['cumpositive'], comb_df['LyftTradedStocks'])\n",
        "print('\\033[1m' + 'Pearsons correlation of #Confirmed Cases and Stock Price of Lyft: %.3f' % corr)\n"
      ],
      "execution_count": 0,
      "outputs": [
        {
          "output_type": "stream",
          "text": [
            "\u001b[1mPearsons correlation of #Confirmed Cases and Stock Price of Uber: -0.783\n",
            "\u001b[1mPearsons correlation of #Confirmed Cases and Stock Price of Lyft: -0.478\n"
          ],
          "name": "stdout"
        }
      ]
    },
    {
      "cell_type": "markdown",
      "metadata": {
        "id": "QizrUD3crDx1",
        "colab_type": "text"
      },
      "source": [
        "######  Inference: We can observe a high negative linear correlation between stock prices of Uber/Lyft v/s the #Confirm cases, this means that increase in #Confim cases day on day has brought the city to a halt and ride sharing company stocks are going down as less and less people are moving out"
      ]
    },
    {
      "cell_type": "markdown",
      "metadata": {
        "id": "Ifd2csUyrDx2",
        "colab_type": "text"
      },
      "source": [
        "### 3.5 Posterior Distributions for daily deaths parameter estimator "
      ]
    },
    {
      "cell_type": "markdown",
      "metadata": {
        "id": "LLj3rY4HrDx2",
        "colab_type": "raw"
      },
      "source": [
        "Assume the daily deaths are Poisson distributed with parameter lambda. Assume an Exponential prior on lambda. Use first week’s data to obtain the posterior for lambda via Bayesian inference. Now, use second week’s data to obtain the new posterior, using prior as posterior after week 1. Repeat till the end of week 4. Plot all posterior distributions on one graph. Report the MAP for all posteriors."
      ]
    },
    {
      "cell_type": "markdown",
      "metadata": {
        "id": "xNfcfn8qrDx2",
        "colab_type": "text"
      },
      "source": [
        "#### 3.5.1 First week to Second week"
      ]
    },
    {
      "cell_type": "code",
      "metadata": {
        "id": "LZTUJuw2rDx3",
        "colab_type": "code",
        "colab": {}
      },
      "source": [
        ""
      ],
      "execution_count": 0,
      "outputs": []
    },
    {
      "cell_type": "code",
      "metadata": {
        "id": "r4nkp9YVrDx5",
        "colab_type": "code",
        "colab": {}
      },
      "source": [
        ""
      ],
      "execution_count": 0,
      "outputs": []
    },
    {
      "cell_type": "code",
      "metadata": {
        "id": "-gbuTWi0rDx-",
        "colab_type": "code",
        "colab": {}
      },
      "source": [
        ""
      ],
      "execution_count": 0,
      "outputs": []
    },
    {
      "cell_type": "markdown",
      "metadata": {
        "id": "43zTivwOrDyB",
        "colab_type": "text"
      },
      "source": [
        "#### 3.5.2 Second week to third week"
      ]
    },
    {
      "cell_type": "code",
      "metadata": {
        "id": "RbZtc_jkrDyC",
        "colab_type": "code",
        "colab": {}
      },
      "source": [
        ""
      ],
      "execution_count": 0,
      "outputs": []
    },
    {
      "cell_type": "code",
      "metadata": {
        "id": "pxnT3gWOrDyG",
        "colab_type": "code",
        "colab": {}
      },
      "source": [
        ""
      ],
      "execution_count": 0,
      "outputs": []
    },
    {
      "cell_type": "code",
      "metadata": {
        "id": "t1hW95jArDyJ",
        "colab_type": "code",
        "colab": {}
      },
      "source": [
        ""
      ],
      "execution_count": 0,
      "outputs": []
    },
    {
      "cell_type": "markdown",
      "metadata": {
        "id": "b9-ltziqrDyN",
        "colab_type": "text"
      },
      "source": [
        "#### 3.5.3 Third week to fourth week"
      ]
    },
    {
      "cell_type": "code",
      "metadata": {
        "id": "6zZJLIt9rDyO",
        "colab_type": "code",
        "colab": {}
      },
      "source": [
        ""
      ],
      "execution_count": 0,
      "outputs": []
    },
    {
      "cell_type": "code",
      "metadata": {
        "id": "Qluz_PgurDyR",
        "colab_type": "code",
        "colab": {}
      },
      "source": [
        ""
      ],
      "execution_count": 0,
      "outputs": []
    },
    {
      "cell_type": "code",
      "metadata": {
        "id": "kzqf-kNYrDyW",
        "colab_type": "code",
        "colab": {}
      },
      "source": [
        ""
      ],
      "execution_count": 0,
      "outputs": []
    },
    {
      "cell_type": "code",
      "metadata": {
        "id": "XLtuiZFIrDya",
        "colab_type": "code",
        "colab": {}
      },
      "source": [
        ""
      ],
      "execution_count": 0,
      "outputs": []
    },
    {
      "cell_type": "markdown",
      "metadata": {
        "id": "KxuDIz_arDye",
        "colab_type": "text"
      },
      "source": [
        "#### 3.5.4 Plot all posterior distributions on one graph"
      ]
    },
    {
      "cell_type": "code",
      "metadata": {
        "id": "oanujBaarDyf",
        "colab_type": "code",
        "colab": {}
      },
      "source": [
        ""
      ],
      "execution_count": 0,
      "outputs": []
    },
    {
      "cell_type": "code",
      "metadata": {
        "id": "AavL_rb2rDyj",
        "colab_type": "code",
        "colab": {}
      },
      "source": [
        ""
      ],
      "execution_count": 0,
      "outputs": []
    },
    {
      "cell_type": "code",
      "metadata": {
        "id": "U8_xdo4grDyr",
        "colab_type": "code",
        "colab": {}
      },
      "source": [
        ""
      ],
      "execution_count": 0,
      "outputs": []
    },
    {
      "cell_type": "markdown",
      "metadata": {
        "id": "EVtoGJOtrDyv",
        "colab_type": "text"
      },
      "source": [
        "#### 3.5.5 Report the MAP for all posteriors"
      ]
    },
    {
      "cell_type": "code",
      "metadata": {
        "id": "SRdcB2oArDyw",
        "colab_type": "code",
        "colab": {}
      },
      "source": [
        ""
      ],
      "execution_count": 0,
      "outputs": []
    },
    {
      "cell_type": "code",
      "metadata": {
        "id": "q1cf2_LbrDy1",
        "colab_type": "code",
        "colab": {}
      },
      "source": [
        ""
      ],
      "execution_count": 0,
      "outputs": []
    },
    {
      "cell_type": "code",
      "metadata": {
        "id": "7adEbjVxrDy5",
        "colab_type": "code",
        "colab": {}
      },
      "source": [
        ""
      ],
      "execution_count": 0,
      "outputs": []
    },
    {
      "cell_type": "code",
      "metadata": {
        "id": "Cu_rWOhVrDy8",
        "colab_type": "code",
        "colab": {}
      },
      "source": [
        ""
      ],
      "execution_count": 0,
      "outputs": []
    },
    {
      "cell_type": "markdown",
      "metadata": {
        "id": "P7dqF243rDy-",
        "colab_type": "text"
      },
      "source": [
        "## Part 4: Creative Inferences (30%)"
      ]
    },
    {
      "cell_type": "markdown",
      "metadata": {
        "id": "HvOyRXGHrDy_",
        "colab_type": "raw"
      },
      "source": [
        "Propose three new inferences for your dataset and solve them using tools learned in class. You will be graded on creativity/practicality of your inferences. For each inference you propose, provide a paragraph of text to explain why this inference is practical and useful. Also comment on the results of your inference, as appropriate. See “Sample inferences section below for ideas. Only use tools/tests learned in class. This will be 30% of the project grade. "
      ]
    },
    {
      "cell_type": "markdown",
      "metadata": {
        "id": "PUbEsLaSrDy_",
        "colab_type": "text"
      },
      "source": [
        "### Hypothesis1: Performing Chi-Square test to show due to Uber Lyft being functional Covid Spread Quickly and once they were shut spread went down"
      ]
    },
    {
      "cell_type": "markdown",
      "metadata": {
        "id": "DxF2BwNdrDzA",
        "colab_type": "text"
      },
      "source": [
        "Using Chi-square independence test to check if Uber Stock Prices impacted COVID19 cases"
      ]
    },
    {
      "cell_type": "markdown",
      "metadata": {
        "id": "W5ULCgWXrDzA",
        "colab_type": "text"
      },
      "source": [
        "#### Step 1: Define the Hypothesis"
      ]
    },
    {
      "cell_type": "markdown",
      "metadata": {
        "id": "JPqEOjh6rDzB",
        "colab_type": "text"
      },
      "source": [
        "###### For this we will be creating two lables for COVID19 changes in Confirmed Cases (\"Positive_pctChange\") as postive and negative , and similarly changes in Closing price for Uber (\"Uber_pctChange\") as positive and negative"
      ]
    },
    {
      "cell_type": "markdown",
      "metadata": {
        "id": "_WV4dHRfrDzC",
        "colab_type": "raw"
      },
      "source": [
        "For our example, the hypothesis are:\n",
        "H0: The Change in Confirmed Cases(Positive_pctChange) and changes in Closing price for Uber (\"Uber_pctChange\") are independent (which means they are not associated)\n",
        "H1: Change in Confirmed Cases and changes in Closing price for Uber are not independent (which means they are associated)"
      ]
    },
    {
      "cell_type": "code",
      "metadata": {
        "id": "5-K9uyJkrDzD",
        "colab_type": "code",
        "colab": {}
      },
      "source": [
        "var1= 'UberClosingPrice'\n",
        "var2= 'cumpositive'\n",
        "\n",
        "comb_df['Uber_pctChange'] = comb_df[var1].pct_change(periods=1)\n",
        "comb_df['Confirmed_pctChange'] = comb_df[var2].pct_change(periods=1)\n",
        "# comb_df['Lyft_pctChange'] = comb_df['LyftClosingPrice'].pct_change(periods=1)\n",
        "comb_df=comb_df.iloc[1:]\n",
        "\n",
        "comb_df['Uber_Slope'] = comb_df['Uber_pctChange'].pct_change(periods=1)\n",
        "comb_df['Confirmed_Slope'] = comb_df['Confirmed_pctChange'].pct_change(periods=1)\n",
        "# comb_df['Lyft_Slope'] = comb_df['Lyft_pctChange'].pct_change(periods=1)\n",
        "comb_df=comb_df.iloc[1:]"
      ],
      "execution_count": 0,
      "outputs": []
    },
    {
      "cell_type": "markdown",
      "metadata": {
        "id": "wbvH9GLNrDzH",
        "colab_type": "raw"
      },
      "source": [
        "Crating Lables for Changes in Confirm Cases and Uber's Closing Price Day On Day"
      ]
    },
    {
      "cell_type": "code",
      "metadata": {
        "id": "j_1ym67krDzI",
        "colab_type": "code",
        "colab": {}
      },
      "source": [
        "comb_df['Confirmed_Label']= np.where(comb_df['Confirmed_Slope'] >= 0, 'Positive', 'Negative')\n",
        "comb_df['Uber_Label']= np.where(comb_df['Uber_Slope'] >= 0, 'Positive', 'Negative')\n",
        "# comb_df['Lyft_Label']= np.where(comb_df['Lyft_Slope'] >= 0, 'Positive', 'Negative')\n"
      ],
      "execution_count": 0,
      "outputs": []
    },
    {
      "cell_type": "code",
      "metadata": {
        "id": "AR1jUihXrDzL",
        "colab_type": "code",
        "colab": {},
        "outputId": "72f6f59e-7892-493b-9ad8-e2b2899e4ae9"
      },
      "source": [
        "comb_df.iloc[:,20:28].head(2)"
      ],
      "execution_count": 0,
      "outputs": [
        {
          "output_type": "execute_result",
          "data": {
            "text/html": [
              "<div>\n",
              "<style scoped>\n",
              "    .dataframe tbody tr th:only-of-type {\n",
              "        vertical-align: middle;\n",
              "    }\n",
              "\n",
              "    .dataframe tbody tr th {\n",
              "        vertical-align: top;\n",
              "    }\n",
              "\n",
              "    .dataframe thead th {\n",
              "        text-align: right;\n",
              "    }\n",
              "</style>\n",
              "<table border=\"1\" class=\"dataframe\">\n",
              "  <thead>\n",
              "    <tr style=\"text-align: right;\">\n",
              "      <th></th>\n",
              "      <th>Uber_Slope</th>\n",
              "      <th>Confirmed_Slope</th>\n",
              "      <th>Confirmed_Label</th>\n",
              "      <th>Uber_Label</th>\n",
              "    </tr>\n",
              "  </thead>\n",
              "  <tbody>\n",
              "    <tr>\n",
              "      <th>40</th>\n",
              "      <td>-4.318268</td>\n",
              "      <td>0.650000</td>\n",
              "      <td>Positive</td>\n",
              "      <td>Negative</td>\n",
              "    </tr>\n",
              "    <tr>\n",
              "      <th>39</th>\n",
              "      <td>0.468009</td>\n",
              "      <td>-0.583333</td>\n",
              "      <td>Negative</td>\n",
              "      <td>Positive</td>\n",
              "    </tr>\n",
              "  </tbody>\n",
              "</table>\n",
              "</div>"
            ],
            "text/plain": [
              "    Uber_Slope  Confirmed_Slope Confirmed_Label Uber_Label\n",
              "40   -4.318268         0.650000        Positive   Negative\n",
              "39    0.468009        -0.583333        Negative   Positive"
            ]
          },
          "metadata": {
            "tags": []
          },
          "execution_count": 177
        }
      ]
    },
    {
      "cell_type": "markdown",
      "metadata": {
        "id": "n30iAnqMrDzP",
        "colab_type": "text"
      },
      "source": [
        "#### Step2: Choose a significance Level"
      ]
    },
    {
      "cell_type": "markdown",
      "metadata": {
        "id": "cClBhnmnrDzP",
        "colab_type": "raw"
      },
      "source": [
        "For the null hypothesis to be rejected the p-value should be less than the significance level.\n",
        "Lower α values are generally preferred which may be in the range of 0.01 to 0.10.\n",
        "We choose α = 0.05"
      ]
    },
    {
      "cell_type": "markdown",
      "metadata": {
        "id": "FxXe0BlHrDzQ",
        "colab_type": "text"
      },
      "source": [
        "#### Step3: Create Contingency table"
      ]
    },
    {
      "cell_type": "code",
      "metadata": {
        "id": "3SET7lQDrDzQ",
        "colab_type": "code",
        "colab": {},
        "outputId": "a14d9d3a-ee59-449d-c12e-d36128976bf1"
      },
      "source": [
        "Q=pd.crosstab(comb_df['Confirmed_Label'], comb_df['Uber_Label'], rownames=['Confirmed_Label'], colnames=['Uber_Label'])\n",
        "print(Q)\n",
        "\n",
        "Q_table = comb_df.groupby(['Confirmed_Label','Uber_Label'])['date'].count()\n",
        "Q_table = Q_table.reset_index()\n",
        "Q_table.columns = ['Confirmed_Label','Uber_Label','TotalDays']"
      ],
      "execution_count": 0,
      "outputs": [
        {
          "output_type": "stream",
          "text": [
            "Uber_Label       Negative  Positive\n",
            "Confirmed_Label                    \n",
            "Negative               14         5\n",
            "Positive               13         6\n"
          ],
          "name": "stdout"
        }
      ]
    },
    {
      "cell_type": "markdown",
      "metadata": {
        "id": "czkPPFYVrDzU",
        "colab_type": "text"
      },
      "source": [
        "#### Step4: Calculate Expected Frequency"
      ]
    },
    {
      "cell_type": "code",
      "metadata": {
        "id": "gkqyy6ZmrDzU",
        "colab_type": "code",
        "colab": {},
        "outputId": "070d4a65-2e07-4b5b-da40-c377a5e241ed"
      },
      "source": [
        "comb_df.shape\n",
        "total=  Q_table['TotalDays'].sum()\n",
        "\n",
        "per_cp= round(Q_table[(Q_table['Confirmed_Label']== 'Positive')].TotalDays.sum()/total,2)\n",
        "per_up= round(Q_table[(Q_table['Uber_Label']== 'Positive')].TotalDays.sum()/total,2)\n",
        "\n",
        "ob_cp_up= Q_table[(Q_table['Confirmed_Label']== 'Positive') & (Q_table['Uber_Label'] =='Positive')].TotalDays.sum()\n",
        "ob_cp_un= Q_table[(Q_table['Confirmed_Label']== 'Positive') & (Q_table['Uber_Label'] =='Negative')].TotalDays.sum()\n",
        "ob_cn_up= Q_table[(Q_table['Confirmed_Label']== 'Negative') & (Q_table['Uber_Label'] =='Positive')].TotalDays.sum()\n",
        "ob_cn_un= Q_table[(Q_table['Confirmed_Label']== 'Negative') & (Q_table['Uber_Label'] =='Negative')].TotalDays.sum()\n",
        "\n",
        "ex_cp_up= per_cp*per_up*total\n",
        "ex_cp_un= per_cp*(1-per_up)*total\n",
        "ex_cn_up= (1-per_cp)*per_up*total\n",
        "ex_cn_un= (1-per_cp)*(1-per_up)*total\n",
        "\n",
        "\n",
        "print(total, per_cp, per_up, ob_cp_up, ob_cp_un, ob_cn_up, ob_cn_un, ex_cp_up, ex_cp_un, ex_cn_up, ex_cn_un)"
      ],
      "execution_count": 0,
      "outputs": [
        {
          "output_type": "stream",
          "text": [
            "38 0.5 0.29 6 13 5 14 5.51 13.489999999999998 5.51 13.489999999999998\n"
          ],
          "name": "stdout"
        }
      ]
    },
    {
      "cell_type": "markdown",
      "metadata": {
        "id": "ec-UyHCxrDzX",
        "colab_type": "text"
      },
      "source": [
        "#### Step5: Calculate Chi-Square Statistic"
      ]
    },
    {
      "cell_type": "code",
      "metadata": {
        "id": "cwiR0iiVrDzY",
        "colab_type": "code",
        "colab": {}
      },
      "source": [
        "def diff_sq(Obs, Exp):\n",
        "    return ((Obs-Exp)**2)/Exp"
      ],
      "execution_count": 0,
      "outputs": []
    },
    {
      "cell_type": "code",
      "metadata": {
        "id": "J3T4eSy0rDza",
        "colab_type": "code",
        "colab": {},
        "outputId": "a1bac0f0-ee03-4a1d-8787-8e3aad0e03f6"
      },
      "source": [
        "Q= diff_sq(ob_cp_up, ex_cp_up) + diff_sq(ob_cp_un, ex_cp_un) + diff_sq(ob_cn_up, ex_cn_up) + diff_sq(ob_cn_un, ex_cn_un)\n",
        "\n",
        "print('\\033[1m' + 'Q statistics value: ' + str(Q))"
      ],
      "execution_count": 0,
      "outputs": [
        {
          "output_type": "stream",
          "text": [
            "\u001b[1mQ statistics value: 0.12785971728739043\n"
          ],
          "name": "stdout"
        }
      ]
    },
    {
      "cell_type": "markdown",
      "metadata": {
        "id": "TaiJbKIlrDzj",
        "colab_type": "text"
      },
      "source": [
        "#### Step6: Calculate degrees of freedom"
      ]
    },
    {
      "cell_type": "code",
      "metadata": {
        "id": "0HP3Bs1srDzj",
        "colab_type": "code",
        "colab": {},
        "outputId": "fc0c8d0c-77bf-4999-a1b4-1976f0b4b099"
      },
      "source": [
        "total_rows=2\n",
        "total_cols=2\n",
        "dfr = (total_rows - 1) * (total_cols - 1)\n",
        "print('\\033[1m' + 'degree of freedom: ' + str(dfr))"
      ],
      "execution_count": 0,
      "outputs": [
        {
          "output_type": "stream",
          "text": [
            "\u001b[1mdegree of freedom: 1\n"
          ],
          "name": "stdout"
        }
      ]
    },
    {
      "cell_type": "markdown",
      "metadata": {
        "id": "7wdVm8PlrDzm",
        "colab_type": "text"
      },
      "source": [
        "#### Step7: Find p-value"
      ]
    },
    {
      "cell_type": "markdown",
      "metadata": {
        "id": "mDRb2UgXrDzn",
        "colab_type": "text"
      },
      "source": [
        "calculate the p-value from this website: https://www.socscistatistics.com/pvalues/chidistribution.aspx"
      ]
    },
    {
      "cell_type": "code",
      "metadata": {
        "id": "sT_v2lLXrDzn",
        "colab_type": "code",
        "colab": {}
      },
      "source": [
        "pval=.720724"
      ],
      "execution_count": 0,
      "outputs": []
    },
    {
      "cell_type": "code",
      "metadata": {
        "id": "5E3bcvRPrDzq",
        "colab_type": "code",
        "colab": {},
        "outputId": "d5807633-fca1-4ac7-bcd3-e2c659c5a930"
      },
      "source": [
        "# select significance value\n",
        "alpha = 0.05\n",
        "# Determine whether to reject or keep your null hypothesis\n",
        "print('\\033[1m' +  'significance=%.3f, p=%.3f' % (alpha, pval))\n",
        "if pval <= alpha:\n",
        "    print('\\033[1m' +  'COVID spread due to Uber being functinal are associated (reject H0)')\n",
        "else:\n",
        "    print('\\033[1m' +  'COVID spread due to Uber being functinal are not associated(fail to reject H0)')"
      ],
      "execution_count": 0,
      "outputs": [
        {
          "output_type": "stream",
          "text": [
            "\u001b[1msignificance=0.050, p=0.721\n",
            "\u001b[1mCOVID spread due to Uber being functinal are not associated(fail to reject H0)\n"
          ],
          "name": "stdout"
        }
      ]
    },
    {
      "cell_type": "code",
      "metadata": {
        "id": "CGtWHvQ8rDzt",
        "colab_type": "code",
        "colab": {}
      },
      "source": [
        ""
      ],
      "execution_count": 0,
      "outputs": []
    },
    {
      "cell_type": "code",
      "metadata": {
        "id": "bsVpbI9JrDzw",
        "colab_type": "code",
        "colab": {}
      },
      "source": [
        ""
      ],
      "execution_count": 0,
      "outputs": []
    },
    {
      "cell_type": "code",
      "metadata": {
        "id": "PP36im_JrDzz",
        "colab_type": "code",
        "colab": {}
      },
      "source": [
        ""
      ],
      "execution_count": 0,
      "outputs": []
    },
    {
      "cell_type": "code",
      "metadata": {
        "id": "l_EBixgcrDz1",
        "colab_type": "code",
        "colab": {}
      },
      "source": [
        ""
      ],
      "execution_count": 0,
      "outputs": []
    },
    {
      "cell_type": "markdown",
      "metadata": {
        "id": "bwopce1BrDz5",
        "colab_type": "text"
      },
      "source": [
        "#### Inference1: Below are the inference for H1"
      ]
    },
    {
      "cell_type": "code",
      "metadata": {
        "id": "eWSw57KLrDz5",
        "colab_type": "code",
        "colab": {}
      },
      "source": [
        ""
      ],
      "execution_count": 0,
      "outputs": []
    },
    {
      "cell_type": "code",
      "metadata": {
        "id": "h5Nxh2EFrDz8",
        "colab_type": "code",
        "colab": {}
      },
      "source": [
        ""
      ],
      "execution_count": 0,
      "outputs": []
    },
    {
      "cell_type": "code",
      "metadata": {
        "id": "uLGVAkw8rDz_",
        "colab_type": "code",
        "colab": {}
      },
      "source": [
        ""
      ],
      "execution_count": 0,
      "outputs": []
    },
    {
      "cell_type": "code",
      "metadata": {
        "id": "kWSoAmhxrD0B",
        "colab_type": "code",
        "colab": {}
      },
      "source": [
        ""
      ],
      "execution_count": 0,
      "outputs": []
    },
    {
      "cell_type": "markdown",
      "metadata": {
        "id": "AaGAB_a8rD0E",
        "colab_type": "text"
      },
      "source": [
        "### Hypothesis2: Using K-S Test to show that COVID Positive Cases fluctuation and Uber Stock fluctuation follows the Same distribution"
      ]
    },
    {
      "cell_type": "code",
      "metadata": {
        "id": "DGmxjrG-rD0F",
        "colab_type": "code",
        "colab": {}
      },
      "source": [
        ""
      ],
      "execution_count": 0,
      "outputs": []
    },
    {
      "cell_type": "code",
      "metadata": {
        "id": "Cwi_ocOXrD0H",
        "colab_type": "code",
        "colab": {}
      },
      "source": [
        ""
      ],
      "execution_count": 0,
      "outputs": []
    },
    {
      "cell_type": "code",
      "metadata": {
        "id": "GsdK8R-orD0N",
        "colab_type": "code",
        "colab": {}
      },
      "source": [
        ""
      ],
      "execution_count": 0,
      "outputs": []
    },
    {
      "cell_type": "code",
      "metadata": {
        "id": "YoYpX-yfrD0U",
        "colab_type": "code",
        "colab": {}
      },
      "source": [
        ""
      ],
      "execution_count": 0,
      "outputs": []
    },
    {
      "cell_type": "markdown",
      "metadata": {
        "id": "EOvgT0ncrD0X",
        "colab_type": "text"
      },
      "source": [
        "#### Inference2: Below are the inference for H2"
      ]
    },
    {
      "cell_type": "code",
      "metadata": {
        "id": "FMy1KgdXrD0X",
        "colab_type": "code",
        "colab": {}
      },
      "source": [
        ""
      ],
      "execution_count": 0,
      "outputs": []
    },
    {
      "cell_type": "code",
      "metadata": {
        "id": "XhEIhmjSrD0b",
        "colab_type": "code",
        "colab": {}
      },
      "source": [
        ""
      ],
      "execution_count": 0,
      "outputs": []
    },
    {
      "cell_type": "code",
      "metadata": {
        "id": "GBv-B-Z6rD0e",
        "colab_type": "code",
        "colab": {}
      },
      "source": [
        ""
      ],
      "execution_count": 0,
      "outputs": []
    },
    {
      "cell_type": "code",
      "metadata": {
        "id": "E-MTqGGtrD0g",
        "colab_type": "code",
        "colab": {}
      },
      "source": [
        ""
      ],
      "execution_count": 0,
      "outputs": []
    },
    {
      "cell_type": "markdown",
      "metadata": {
        "id": "QO38BBNprD0i",
        "colab_type": "text"
      },
      "source": [
        "### Inference3: Linear regression to find the impact on Stock Prices of Uber +Lyft because of the severity of covid19  duration, feature as (+ve -ve death), fetching predicted covid values of (+ve -ve death) from  Part 3.1"
      ]
    },
    {
      "cell_type": "code",
      "metadata": {
        "id": "ky2NWtRTrD0j",
        "colab_type": "code",
        "colab": {}
      },
      "source": [
        ""
      ],
      "execution_count": 0,
      "outputs": []
    },
    {
      "cell_type": "code",
      "metadata": {
        "id": "vKHhkP3krD0l",
        "colab_type": "code",
        "colab": {}
      },
      "source": [
        ""
      ],
      "execution_count": 0,
      "outputs": []
    },
    {
      "cell_type": "code",
      "metadata": {
        "id": "FCkw7s4hrD0q",
        "colab_type": "code",
        "colab": {}
      },
      "source": [
        ""
      ],
      "execution_count": 0,
      "outputs": []
    },
    {
      "cell_type": "code",
      "metadata": {
        "id": "ZHpQIEb_rD0t",
        "colab_type": "code",
        "colab": {}
      },
      "source": [
        ""
      ],
      "execution_count": 0,
      "outputs": []
    },
    {
      "cell_type": "code",
      "metadata": {
        "id": "Ql0hYTgjrD0v",
        "colab_type": "code",
        "colab": {}
      },
      "source": [
        ""
      ],
      "execution_count": 0,
      "outputs": []
    },
    {
      "cell_type": "code",
      "metadata": {
        "id": "SJ2h5E0crD0x",
        "colab_type": "code",
        "colab": {}
      },
      "source": [
        ""
      ],
      "execution_count": 0,
      "outputs": []
    },
    {
      "cell_type": "code",
      "metadata": {
        "id": "mMqm0OuErD05",
        "colab_type": "code",
        "colab": {}
      },
      "source": [
        ""
      ],
      "execution_count": 0,
      "outputs": []
    },
    {
      "cell_type": "code",
      "metadata": {
        "id": "jLcS5F8-rD06",
        "colab_type": "code",
        "colab": {}
      },
      "source": [
        ""
      ],
      "execution_count": 0,
      "outputs": []
    },
    {
      "cell_type": "code",
      "metadata": {
        "id": "8onowphFrD08",
        "colab_type": "code",
        "colab": {}
      },
      "source": [
        ""
      ],
      "execution_count": 0,
      "outputs": []
    },
    {
      "cell_type": "code",
      "metadata": {
        "id": "WQ7BpLQgrD1A",
        "colab_type": "code",
        "colab": {}
      },
      "source": [
        ""
      ],
      "execution_count": 0,
      "outputs": []
    }
  ]
}